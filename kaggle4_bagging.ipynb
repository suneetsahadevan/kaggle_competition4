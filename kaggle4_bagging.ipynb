{
 "cells": [
  {
   "attachments": {},
   "cell_type": "markdown",
   "metadata": {},
   "source": [
    "# Import Modules"
   ]
  },
  {
   "cell_type": "code",
   "execution_count": 1,
   "metadata": {},
   "outputs": [],
   "source": [
    "import pandas as pd\n",
    "import numpy as np\n",
    "import matplotlib.pyplot as plt\n",
    "import seaborn as sns\n",
    "from sklearn.preprocessing import OrdinalEncoder\n",
    "from sklearn.ensemble import BaggingClassifier\n",
    "from sklearn.tree import DecisionTreeClassifier\n",
    "#from sklearn.metrics import classification_report, confusion_matrix\n",
    "#from sklearn.ensemble import GradientBoostingRegressor"
   ]
  },
  {
   "attachments": {},
   "cell_type": "markdown",
   "metadata": {},
   "source": [
    "# Import Data"
   ]
  },
  {
   "cell_type": "code",
   "execution_count": 2,
   "metadata": {},
   "outputs": [],
   "source": [
    "train = pd.read_csv('./data/train.csv')\n",
    "test = pd.read_csv('./data/test.csv')\n",
    "sample = pd.read_csv('./data/sample_submission.csv')"
   ]
  },
  {
   "attachments": {},
   "cell_type": "markdown",
   "metadata": {},
   "source": [
    "# Explore the Data"
   ]
  },
  {
   "cell_type": "code",
   "execution_count": 3,
   "metadata": {},
   "outputs": [
    {
     "name": "stdout",
     "output_type": "stream",
     "text": [
      "<class 'pandas.core.frame.DataFrame'>\n",
      "RangeIndex: 300000 entries, 0 to 299999\n",
      "Data columns (total 25 columns):\n",
      " #   Column  Non-Null Count   Dtype \n",
      "---  ------  --------------   ----- \n",
      " 0   id      300000 non-null  int64 \n",
      " 1   bin_0   300000 non-null  int64 \n",
      " 2   bin_1   300000 non-null  int64 \n",
      " 3   bin_2   300000 non-null  int64 \n",
      " 4   bin_3   300000 non-null  object\n",
      " 5   bin_4   300000 non-null  object\n",
      " 6   nom_0   300000 non-null  object\n",
      " 7   nom_1   300000 non-null  object\n",
      " 8   nom_2   300000 non-null  object\n",
      " 9   nom_3   300000 non-null  object\n",
      " 10  nom_4   300000 non-null  object\n",
      " 11  nom_5   300000 non-null  object\n",
      " 12  nom_6   300000 non-null  object\n",
      " 13  nom_7   300000 non-null  object\n",
      " 14  nom_8   300000 non-null  object\n",
      " 15  nom_9   300000 non-null  object\n",
      " 16  ord_0   300000 non-null  int64 \n",
      " 17  ord_1   300000 non-null  object\n",
      " 18  ord_2   300000 non-null  object\n",
      " 19  ord_3   300000 non-null  object\n",
      " 20  ord_4   300000 non-null  object\n",
      " 21  ord_5   300000 non-null  object\n",
      " 22  day     300000 non-null  int64 \n",
      " 23  month   300000 non-null  int64 \n",
      " 24  target  300000 non-null  int64 \n",
      "dtypes: int64(8), object(17)\n",
      "memory usage: 57.2+ MB\n"
     ]
    }
   ],
   "source": [
    "train.info()"
   ]
  },
  {
   "cell_type": "code",
   "execution_count": 4,
   "metadata": {},
   "outputs": [
    {
     "name": "stdout",
     "output_type": "stream",
     "text": [
      "bin_3 2\n",
      "bin_4 2\n",
      "nom_0 3\n",
      "nom_1 6\n",
      "nom_2 6\n",
      "nom_3 6\n",
      "nom_4 4\n",
      "nom_5 222\n",
      "nom_6 522\n",
      "nom_7 1220\n",
      "nom_8 2215\n",
      "nom_9 11981\n",
      "ord_1 5\n",
      "ord_2 6\n",
      "ord_3 15\n",
      "ord_4 26\n",
      "ord_5 192\n"
     ]
    }
   ],
   "source": [
    "for i in train.select_dtypes(\"object\").columns:\n",
    "    print (i , len(train[i].unique().tolist()))"
   ]
  },
  {
   "cell_type": "code",
   "execution_count": null,
   "metadata": {},
   "outputs": [],
   "source": [
    "for i in test.select_dtypes(\"object\").columns:\n",
    "    print (i , len(test[i].unique().tolist()))"
   ]
  },
  {
   "cell_type": "code",
   "execution_count": 5,
   "metadata": {},
   "outputs": [],
   "source": [
    "train.drop(['nom_9', 'nom_8', 'nom_7'], axis='columns', inplace=True)\n",
    "test.drop(['nom_9', 'nom_8', 'nom_7'],axis='columns', inplace=True)"
   ]
  },
  {
   "cell_type": "code",
   "execution_count": 6,
   "metadata": {},
   "outputs": [
    {
     "data": {
      "text/plain": [
       "(300000, 22)"
      ]
     },
     "execution_count": 6,
     "metadata": {},
     "output_type": "execute_result"
    }
   ],
   "source": [
    "train.shape"
   ]
  },
  {
   "cell_type": "code",
   "execution_count": 7,
   "metadata": {},
   "outputs": [
    {
     "data": {
      "text/plain": [
       "(200000, 21)"
      ]
     },
     "execution_count": 7,
     "metadata": {},
     "output_type": "execute_result"
    }
   ],
   "source": [
    "test.shape"
   ]
  },
  {
   "cell_type": "code",
   "execution_count": 8,
   "metadata": {},
   "outputs": [
    {
     "name": "stdout",
     "output_type": "stream",
     "text": [
      "bin_3 ['T', 'F']\n",
      "bin_4 ['Y', 'N']\n",
      "nom_0 ['Green', 'Blue', 'Red']\n",
      "nom_1 ['Triangle', 'Trapezoid', 'Polygon', 'Square', 'Star', 'Circle']\n",
      "nom_2 ['Snake', 'Hamster', 'Lion', 'Cat', 'Dog', 'Axolotl']\n",
      "nom_3 ['Finland', 'Russia', 'Canada', 'Costa Rica', 'China', 'India']\n",
      "nom_4 ['Bassoon', 'Piano', 'Theremin', 'Oboe']\n",
      "nom_5 ['50f116bcf', 'b3b4d25d0', '3263bdce5', 'f12246592', '5b0f5acd5', '46cab09da', 'be5592604', '72f8028dc', '4604905e7', 'ad95dc0ee', '2ff007c26', 'a35c346aa', 'dbfb714a4', 'e1558b071', '39647c92a', 'ee55b9d67', '416a8f3ab', '91bde92fa', '3aa9329e2', '568550f04', 'caf83c0b5', '908a1b9c9', 'e844a1f66', 'dbc448931', '2979f0d45', '96c73114c', 'b7bb45938', '7da3e4aec', 'be4578201', 'dc07effb0', '88917a066', 'f2d59cf51', '5d18641ff', '9347491f2', '475e79160', 'e70a6270d', '5b1a9f841', 'e0efe9d20', 'd1b1709e8', '9bb7ea2da', '6fec43dd8', '0dee9b39a', '527ded12a', '321bf770e', 'f7821e391', '0de4acd31', '185ba0a59', '4845cc770', 'bdb9fef4a', '3fef1a765', '2cc9e16b9', 'fd04a970f', '81f9d3312', '30a15b6bd', '8dcf8adfb', '83b38aa6b', '74bd42d5f', '5a94fc1d9', '4e1b529f6', '8d5d9f3db', '472efea17', '740fb99a9', '075ceb58b', '0ef5c1879', '640e1fdd5', 'a3f640358', 'c5725677e', '3b5632a0c', '534be2753', '30a530eab', '7ee26092e', 'c0534106d', '713ad10a7', '9ad6558d1', 'ef38568df', 'de04b8750', 'bd40c81f3', 'ade526ba7', '4e28ceffa', '1305d6e77', '3585ff84b', 'b0c8dba76', '33adb4760', '66669a44f', '9ba4e87a7', 'f50eb07ae', '29e7f8525', 'd9becff68', '159a7306f', 'a5c276589', '0870880f6', '92190168b', '5a466e166', 'e7d9ca356', 'd372c8993', 'b0faff28f', 'e5b29c42b', 'b97f51ac4', '778fdbe56', 'f0c1ceee4', '8266050c6', '6f70dc2df', '84b0081ad', '4464569ee', 'e85ec20b5', '91ea3e4dd', 'e6f45aa26', '488406659', '1e6cb96e8', 'f9d17bb93', '40e0157b1', 'e9f44a509', '493de6347', 'f8faea16f', '0eb46e992', '63f642dd9', '1f1702d2f', '71583d387', 'c2843dc45', '2e7f4d636', '6a2269152', '924346656', '6cd0619e0', '91a20b464', '3685a0904', '0de5598a9', '3aabfa2fc', '115a252ba', 'eb69430d6', '05950689f', '037bd73d8', '81264f81f', '19db35594', '005dd4ce3', '20b10a832', 'ddac78300', 'baab29d3d', 'bd7740b93', '524b3f349', '60a44c8f4', '8573fa81a', '35f65a9bf', '372f6d6ce', 'af088d192', 'e52fbf1c8', '49f4b29cc', 'a9ed6dfea', 'b8d451029', 'a3471b9d9', '06eeaf0aa', 'f6c524860', 'df51b96fc', '479fd7aea', 'dd500b26a', '7e9cb0f9a', 'db5e25328', '2d61990e2', '2cadfed8e', 'e428c040e', '4f7d91943', '88707c9ab', '76be0b8b1', '1bd1068d9', '0b3bec656', 'a51e7974e', '85159d577', '96c83ac09', '6c90f81cd', 'a93b89fc9', '0bdf8165a', 'da60580a8', 'f2a6d797b', '7741f57bd', '2a0e95ba1', 'ead12da87', 'e08092732', '176809a41', 'ca82ad111', '17a3709ae', '3271e5526', '4173a0252', '116f7e3e2', 'defc6dd20', 'e9c6fe0f7', '4f2b65e1e', '0870b0a5d', '552e3fdc9', '05d5943a3', '586b51342', '79923828f', '077fd9465', 'f9e5266f9', '6020a8124', '8cf6c9f74', '09a4ad97d', 'b4c8e6595', 'fa0a88fe9', '59e434d8a', '200009fc3', '59497d53c', '77b08badd', 'eb0004a0b', '34ad60330', '3283ca434', '2cac4af40', 'f802a9849', 'c08ba4f4c', '09ed0a686', '5f7065a42', 'a21564cab', '7a12c88d2', '82d1a6dbb', '9ecc58be1', 'd3079098d', '4ebe94c28', '448a66834', '46bd3558d', '91c80026f', '88f104c00', 'f710fca39', '5331f98fb', '1fd0233cd']\n",
      "nom_6 ['3ac1b8814', 'fbcb50fc1', '0922e3cb8', '50d7ad46a', '1fe17a1fd', '29a854620', '3393a0f78', '55eed5058', '3e44d44eb', '8ed6221ae', '153316f52', '6ea52a806', '1795ef28b', '628f3170f', '08b282a6c', '395941181', 'd44f7245a', '78500847e', '9448b8e3b', '9b1c3c8b7', 'be5a0f5a9', '687eaba3e', '5d7c5c023', '92f461454', 'cd8e3a0a7', 'f24d83141', '16dfb662a', 'cefab1020', '508ff88dc', '6d2cd10c5', 'ddb583aa3', '2eadb68c5', '854f72f28', '42b1cc2fd', 'fa2bf5f22', '8fec7bc42', 'fc4518443', 'bc82e0ba0', '1ad744242', '5cbbea089', '8fb440e53', 'af9278b96', '180a3d6cb', 'e10910468', '2ed5a94b0', '2a22b315e', '55a24a71b', 'c3517eaeb', 'cf82b283d', '0b10fcecc', 'a028c07af', 'd213f48ed', '5a5e620b3', 'c023e914a', '9f53d30ad', '2d9852300', '8cc791aa8', '54474e8d8', '36df19a6e', '0bcb379d8', '7dd3f58e9', '975346729', '96c110558', '8bb163a87', 'df5b440ae', 'd760c59b0', 'e3396fbd5', 'f497b97d7', 'd405aebc1', '6c0354890', '8c9d16cc3', '9e0a099c7', 'fac5eff9e', 'c9eedfbc2', '44e4c0bba', 'c8436c277', 'acf5b10dd', 'a405b7cf0', 'dfb9bd114', 'b69c236cb', 'b8caba53f', '126a4f83d', '2df6f79a2', '565a89e93', '29e27ff9d', '2268327b2', 'fb80a804f', 'a406a5f12', '3bac0bd8e', 'ea7a1aaf6', 'ec5064acb', 'f083d48ad', 'd4fd01769', 'fd9370b9e', 'a9925d0e5', '09e796196', '603232dea', 'd43e63dc9', '5194690a0', 'cf8b12b4e', 'dfb457d2a', 'a26bedd00', '3c5d81a52', '3b9693870', '96abdfa66', 'd88fca3ba', 'eeda68203', '487c32dfa', 'c135cdf77', 'd4d727716', '5755f93b2', '642fcc7be', '4c1bdbe7b', 'efa38c99d', '6d7f8c086', '7112aaf8e', 'e0664a4d3', 'aed51f2c9', '02d689659', '7d8bc814a', '70a942fc1', '2cd425e1f', '63d0e6105', 'e77244b50', '839a6bcdb', '18a901239', 'fc613f31d', '0e2f036b5', 'ae67aec36', 'f14fe8bc5', 'fc88900c4', 'fbbdfc611', '71c68195d', '718fd9453', 'c73e4dfe1', '20dc501c6', '89e65bb86', '21e2c2d57', '017eb57f0', 'dee9cf5e9', '9abb2ac1a', 'ec416c384', '0d50f61fd', '36282e811', '113deddc9', 'df184daf2', 'd166613dc', '8bd314488', '1abac47d0', 'fe0cddc2c', '5c4ee13e3', 'f461f837c', '24a1bea30', '498b2bdcb', 'ebd664cd6', 'e2559b9ab', 'b628a222c', 'dc0536549', '2bdc0a5d0', '5cabda141', 'b321e8ee3', '9218550d8', '29b650229', 'f0c4b23ef', '520806ce2', '4f849ad2d', 'e550bcc1b', '34256b89f', '309e105f1', '2f6efc190', 'df91d98af', '8bbe5580d', '3e41282ec', '77ad092c1', 'afebf0803', 'edb3cf6c8', '4e6cc8696', 'b5f4a755a', 'bb219c9ac', '1869e63b0', '32b4b12b1', 'ea64fbdeb', '40ac3fcd5', 'd9004c5c2', '4daee3baf', '9a16c7c8f', '9ceb19dd6', '063f4307d', '85885b27e', '27828c378', '7909ef46d', '8518cecf3', 'baef8ee7b', 'c103290d4', 'cae4fb7f2', '74e0be86d', '882ce2ad7', 'cebefe5b5', '0302f1ffc', '0b23e3352', 'c79a72c72', 'c75b3104a', 'e16557b2b', 'adfb4cba3', '01455237a', 'f36d9a851', '031d49dfc', 'cd225807c', 'c0f1061ee', 'dd1dbed78', '5786b10d7', 'b1faf70a1', 'f425b1c8c', '612641073', 'd76a148ab', 'c36cea1f7', '90ba6c9a6', 'b511f5bff', '6046454de', 'c06f1b9f7', '6f438920f', '6057ca561', 'b1c48d202', '65aae1692', '50e49ea04', 'db64717a3', 'db35bbdcb', '57aa15561', 'bf82c01fa', '5fa8beadb', 'e63f69ba1', '25d3a1087', '28b8e5350', 'ac8c42404', '9972df3b0', '2473094a9', 'c9a951efa', '32be571ee', '5b2d457f3', '9afd9530d', '86021cf04', 'a520e2537', '7e240024b', 'aed128d19', '66e2654cb', '0aeb8fe13', '43b8c397b', 'f134870d4', 'a6542cec0', '8fbaca82e', '4990652ec', '06835761e', 'b9f08dc06', '49bceb215', '97b6a3518', '28645754b', '338b8a987', '8817e18d1', '37868097a', '6c90b0073', 'fa3f6d36f', 'd6f8634af', '7f3c463a8', 'b300717cf', '35f33a8ca', '80b2270f0', 'bd47c2363', 'ad1b42856', '32db19124', 'e495d6f0f', 'd95501ac1', 'fa498a5ae', '2c7fb8434', '5fd7600de', '322121abf', '1ab5e5ad6', '1611d2b45', '4cb66e369', 'd70a70804', '51f28e64c', '6eaaa8418', 'eaaf53f6a', '418e9e936', '3c1c64eaa', '96d5497a4', 'd173ac7ca', '4cf47e292', 'f8c5dc0e0', 'd942d1e82', '1ea13ded7', '46c89ef8d', '966f4a973', '71534b2a8', 'f7e243b5d', 'ec97e8751', 'bc31d6a6d', 'dce959dcb', 'a19d81efe', '8082e0409', '4b967eac4', '11698a0b3', '70994b28a', 'cd2fa6d62', '15ea6e2bb', 'b48077cc4', '8f897ec3c', 'c5cf1fdc4', '73dd803d0', '2546024d1', 'a20513779', '67bb6c9d7', '3c2b12c56', '944239e54', 'b238965eb', 'b73a8ae77', '20636817e', 'd42f2b9ec', 'a566016d6', '126c2e512', 'fd2344f16', '945aa2bc5', '7d13ad097', 'bedc798e7', '81d59974c', 'a78e38dad', '339c0fa05', '23311af90', 'cd94f29d1', '708e87b0e', '12d88c9c3', 'ffc60be1c', 'd2ce6b1c7', '68dd873e4', '6a53b5f5c', '89a937a9f', '78acf1908', '1c34a67d7', '51d5f02c1', '985c40910', 'b83511180', '54efb1985', '788ba7aea', '51477cd88', '19505136a', '309707034', 'beb20ea99', 'e7a7bf2e1', 'cad70d692', '116d9fcd9', '8fd64cb59', '5fc007fd3', '95572215a', '987d29cca', '162fc2192', '7a8736321', '8a34317cb', 'e4d51bdd5', '2936160c7', '67721d105', '097ff91b3', '79a82b7c0', 'c3c8b7b13', 'd83ae1b30', '74e5a0bce', '4fa3092a4', '860bb37b4', '5d47a598c', 'eaa89fbcc', '231233ca9', '2837cf7b8', 'e7073f6a2', '1b36c0b8c', '5ff2c0a8c', '73d7ca889', '5a49dd8f6', '43744dfd9', 'b2480a857', '485fc6466', '705cb7579', '077e720aa', '8d1b72979', '27e7dbafa', 'cbb210c0a', '9a70de492', '91e1a9d16', 'aee98fa47', '0ed70b7b1', 'd5febb6ef', '1537295c3', 'f64fe5bc0', 'e19cd8107', '800577110', '7185a30dc', '3c7643929', '49d1a98ef', '1573e6c5f', 'b3e59b54a', '0958071b5', 'd086fd85e', '3aa0689eb', 'd2c8f2916', 'fc791ebea', 'b639793f9', '944531331', 'd9e884466', 'c7201df85', '3ae0ef9f1', '0ef3dda96', '21cb526c2', '1e5e03a86', 'd9e131846', '5f57e7d4f', '8ad083b20', '4abed74f5', '8c8aa1d64', 'ac3e34eff', '19231be54', 'd804d7926', '803f6cece', 'd7fb439cc', 'ed8157b96', '1f2e3f148', '1c7f1ab58', '0249d8675', '144279ac1', '3afd0489b', 'ef1f6146b', 'fe77c71bd', 'bbc311f15', '9fbd66490', '4c6d8f959', '83f07ed50', '163b28322', 'fb1301ef6', '214f24d39', '2c4223dbd', 'f17881964', '3e6a88574', '145d17afb', '8584a02f4', '6c1a5aab7', '40994d768', '527a42dc2', 'bea839b58', 'e866d44ea', 'a148d86df', '310b1a988', '3e2b4aac9', '9a20c66da', '09f69436c', '78e45cd66', '3fe2d05f7', '5e881b059', '2119a6f87', 'd9025a066', '4c183f1ef', '292dea6ab', 'f53d92c1a', 'c0e4c4487', '7cb06ca3c', '99fffb9e9', '1f40b9ca8', 'b8cf041db', '9882f1fa0', 'cc8755307', '95a263224', 'eba84389c', '39981f199', '7322ea1c9', '907d87214', '75645dad3', '2ae2bd37c', 'd39b176b6', '329124d64', 'ae49fec17', 'ec93484e7', 'baf172f58', '989a51202', '435fd233e', 'b2c93e83d', '4d5fc69ae', 'b3f15d742', 'cfc8d0828', 'fc88d723d', 'a9b4474f4', 'e78ce8c35', '9d6fa150a', '0000ee65f', '00e9c15b8', 'f81cde28d', '76ef650e6', '437d8df71', 'b436c2568', '9a92bb693', 'fe0b55cd2', '70a040495', '0b17eaec7', 'ce528707a', '77ab97a87', '906c833b2', '782664588', 'e97824431', 'b7c276ed2', '7433a98da', '2d8a0cf5a', '576b27b37', 'b7d62cb4e', '0516fa0d8', '7cd1571c9', '17e0c4fa9', 'f4689e520', '556aa5d7a', '062cd9a70', '9c5ea36f8', '3fe8e9cba', '1ff467489', '82f75f00e', '27179d6e5', '8367b78fc', '28630a5c8', '26bf5ddd9', '4dcab4fc8']\n",
      "ord_1 ['Grandmaster', 'Expert', 'Novice', 'Contributor', 'Master']\n",
      "ord_2 ['Cold', 'Hot', 'Lava Hot', 'Boiling Hot', 'Freezing', 'Warm']\n",
      "ord_3 ['h', 'a', 'i', 'j', 'g', 'e', 'd', 'b', 'k', 'f', 'l', 'n', 'o', 'c', 'm']\n",
      "ord_4 ['D', 'A', 'R', 'E', 'P', 'K', 'V', 'Q', 'Z', 'L', 'F', 'T', 'U', 'S', 'Y', 'B', 'H', 'J', 'N', 'G', 'W', 'I', 'O', 'C', 'X', 'M']\n",
      "ord_5 ['kr', 'bF', 'Jc', 'kW', 'qP', 'PZ', 'wy', 'Ed', 'qo', 'CZ', 'qX', 'su', 'dP', 'aP', 'MV', 'oC', 'RL', 'fh', 'gJ', 'Hj', 'TR', 'CL', 'Sc', 'eQ', 'kC', 'qK', 'dh', 'gM', 'Jf', 'fO', 'Eg', 'KZ', 'Vx', 'Fo', 'sV', 'eb', 'YC', 'RG', 'Ye', 'qA', 'lL', 'Qh', 'Bd', 'be', 'hT', 'lF', 'nX', 'kK', 'av', 'uS', 'Jt', 'PA', 'Er', 'Qb', 'od', 'ut', 'Dx', 'Xi', 'on', 'Dc', 'sD', 'rZ', 'Uu', 'sn', 'yc', 'Gb', 'Kq', 'dQ', 'hp', 'kL', 'je', 'CU', 'Fd', 'PQ', 'Bn', 'ex', 'hh', 'ac', 'rp', 'dE', 'oG', 'oK', 'cp', 'mm', 'vK', 'ek', 'dO', 'XI', 'CM', 'Vf', 'aO', 'qv', 'jp', 'Zq', 'Qo', 'DN', 'TZ', 'ke', 'cG', 'tP', 'ud', 'tv', 'aM', 'xy', 'lx', 'To', 'uy', 'ZS', 'vy', 'ZR', 'AP', 'GJ', 'Wv', 'ri', 'qw', 'Xh', 'FI', 'nh', 'KR', 'dB', 'BE', 'Bb', 'mc', 'MC', 'tM', 'NV', 'ih', 'IK', 'Ob', 'RP', 'dN', 'us', 'dZ', 'yN', 'Nf', 'QM', 'jV', 'sY', 'wu', 'SB', 'UO', 'Mx', 'JX', 'Ry', 'Uk', 'uJ', 'LE', 'ps', 'kE', 'MO', 'kw', 'yY', 'zU', 'bJ', 'Kf', 'ck', 'mb', 'Os', 'Ps', 'Ml', 'Ai', 'Wc', 'GD', 'll', 'aF', 'iT', 'cA', 'WE', 'Gx', 'Nk', 'OR', 'Rm', 'BA', 'eG', 'cW', 'jS', 'DH', 'hL', 'Mf', 'Yb', 'Aj', 'oH', 'Zc', 'qJ', 'eg', 'xP', 'vq', 'Id', 'pa', 'ux', 'kU', 'Cl']\n"
     ]
    }
   ],
   "source": [
    "for i in train.select_dtypes(\"object\").columns:\n",
    "    print (i , train[i].unique().tolist())"
   ]
  },
  {
   "attachments": {},
   "cell_type": "markdown",
   "metadata": {},
   "source": [
    "## Univariate Box plots"
   ]
  },
  {
   "cell_type": "code",
   "execution_count": 9,
   "metadata": {},
   "outputs": [
    {
     "data": {
      "text/plain": [
       "<AxesSubplot: >"
      ]
     },
     "execution_count": 9,
     "metadata": {},
     "output_type": "execute_result"
    },
    {
     "data": {
      "image/png": "[encoded data removed]",
      "text/plain": [
       "<Figure size 640x480 with 1 Axes>"
      ]
     },
     "metadata": {},
     "output_type": "display_data"
    }
   ],
   "source": [
    "train['bin_0'].value_counts().plot.bar()"
   ]
  },
  {
   "cell_type": "code",
   "execution_count": 10,
   "metadata": {},
   "outputs": [
    {
     "data": {
      "text/plain": [
       "<AxesSubplot: >"
      ]
     },
     "execution_count": 10,
     "metadata": {},
     "output_type": "execute_result"
    },
    {
     "data": {
      "image/png": "[encoded data removed]",
      "text/plain": [
       "<Figure size 640x480 with 1 Axes>"
      ]
     },
     "metadata": {},
     "output_type": "display_data"
    }
   ],
   "source": [
    "train['bin_1'].value_counts().plot.bar()"
   ]
  },
  {
   "cell_type": "code",
   "execution_count": 11,
   "metadata": {},
   "outputs": [
    {
     "data": {
      "text/plain": [
       "<AxesSubplot: >"
      ]
     },
     "execution_count": 11,
     "metadata": {},
     "output_type": "execute_result"
    },
    {
     "data": {
      "image/png": "[encoded data removed]",
      "text/plain": [
       "<Figure size 640x480 with 1 Axes>"
      ]
     },
     "metadata": {},
     "output_type": "display_data"
    }
   ],
   "source": [
    "train['bin_2'].value_counts().plot.bar()"
   ]
  },
  {
   "cell_type": "code",
   "execution_count": 12,
   "metadata": {},
   "outputs": [
    {
     "data": {
      "text/plain": [
       "<AxesSubplot: >"
      ]
     },
     "execution_count": 12,
     "metadata": {},
     "output_type": "execute_result"
    },
    {
     "data": {
      "image/png": "[encoded data removed]",
      "text/plain": [
       "<Figure size 640x480 with 1 Axes>"
      ]
     },
     "metadata": {},
     "output_type": "display_data"
    }
   ],
   "source": [
    "train['bin_3'].value_counts().plot.bar()"
   ]
  },
  {
   "cell_type": "code",
   "execution_count": 13,
   "metadata": {},
   "outputs": [
    {
     "data": {
      "text/plain": [
       "<AxesSubplot: >"
      ]
     },
     "execution_count": 13,
     "metadata": {},
     "output_type": "execute_result"
    },
    {
     "data": {
      "image/png": "[encoded data removed]",
      "text/plain": [
       "<Figure size 640x480 with 1 Axes>"
      ]
     },
     "metadata": {},
     "output_type": "display_data"
    }
   ],
   "source": [
    "train['bin_4'].value_counts().plot.bar()"
   ]
  },
  {
   "cell_type": "code",
   "execution_count": 14,
   "metadata": {},
   "outputs": [
    {
     "data": {
      "text/plain": [
       "<AxesSubplot: >"
      ]
     },
     "execution_count": 14,
     "metadata": {},
     "output_type": "execute_result"
    },
    {
     "data": {
      "image/png": "[encoded data removed]",
      "text/plain": [
       "<Figure size 640x480 with 1 Axes>"
      ]
     },
     "metadata": {},
     "output_type": "display_data"
    }
   ],
   "source": [
    "train['nom_0'].value_counts().plot.bar()"
   ]
  },
  {
   "cell_type": "code",
   "execution_count": 15,
   "metadata": {},
   "outputs": [
    {
     "data": {
      "text/plain": [
       "<AxesSubplot: >"
      ]
     },
     "execution_count": 15,
     "metadata": {},
     "output_type": "execute_result"
    },
    {
     "data": {
      "image/png": "[encoded data removed]",
      "text/plain": [
       "<Figure size 640x480 with 1 Axes>"
      ]
     },
     "metadata": {},
     "output_type": "display_data"
    }
   ],
   "source": [
    "train['nom_1'].value_counts().plot.bar()"
   ]
  },
  {
   "cell_type": "code",
   "execution_count": 16,
   "metadata": {},
   "outputs": [
    {
     "data": {
      "text/plain": [
       "<AxesSubplot: >"
      ]
     },
     "execution_count": 16,
     "metadata": {},
     "output_type": "execute_result"
    },
    {
     "data": {
      "image/png": "[encoded data removed]",
      "text/plain": [
       "<Figure size 640x480 with 1 Axes>"
      ]
     },
     "metadata": {},
     "output_type": "display_data"
    }
   ],
   "source": [
    "train['nom_2'].value_counts().plot.bar()"
   ]
  },
  {
   "cell_type": "code",
   "execution_count": 17,
   "metadata": {},
   "outputs": [
    {
     "data": {
      "text/plain": [
       "<AxesSubplot: >"
      ]
     },
     "execution_count": 17,
     "metadata": {},
     "output_type": "execute_result"
    },
    {
     "data": {
      "image/png": "[encoded data removed]",
      "text/plain": [
       "<Figure size 640x480 with 1 Axes>"
      ]
     },
     "metadata": {},
     "output_type": "display_data"
    }
   ],
   "source": [
    "train['nom_3'].value_counts().plot.bar()"
   ]
  },
  {
   "cell_type": "code",
   "execution_count": 18,
   "metadata": {},
   "outputs": [
    {
     "data": {
      "text/plain": [
       "<AxesSubplot: >"
      ]
     },
     "execution_count": 18,
     "metadata": {},
     "output_type": "execute_result"
    },
    {
     "data": {
      "image/png": "[encoded data removed]",
      "text/plain": [
       "<Figure size 640x480 with 1 Axes>"
      ]
     },
     "metadata": {},
     "output_type": "display_data"
    }
   ],
   "source": [
    "train['nom_4'].value_counts().plot.bar()"
   ]
  },
  {
   "cell_type": "code",
   "execution_count": 19,
   "metadata": {},
   "outputs": [
    {
     "data": {
      "text/plain": [
       "<AxesSubplot: >"
      ]
     },
     "execution_count": 19,
     "metadata": {},
     "output_type": "execute_result"
    },
    {
     "data": {
      "image/png": "[encoded data removed]",
      "text/plain": [
       "<Figure size 640x480 with 1 Axes>"
      ]
     },
     "metadata": {},
     "output_type": "display_data"
    }
   ],
   "source": [
    "train['ord_0'].value_counts().plot.bar()"
   ]
  },
  {
   "cell_type": "code",
   "execution_count": 20,
   "metadata": {},
   "outputs": [
    {
     "data": {
      "text/plain": [
       "<AxesSubplot: >"
      ]
     },
     "execution_count": 20,
     "metadata": {},
     "output_type": "execute_result"
    },
    {
     "data": {
      "image/png": "[encoded data removed]",
      "text/plain": [
       "<Figure size 640x480 with 1 Axes>"
      ]
     },
     "metadata": {},
     "output_type": "display_data"
    }
   ],
   "source": [
    "train['ord_1'].value_counts().plot.bar()"
   ]
  },
  {
   "cell_type": "code",
   "execution_count": 21,
   "metadata": {},
   "outputs": [
    {
     "data": {
      "text/plain": [
       "<AxesSubplot: >"
      ]
     },
     "execution_count": 21,
     "metadata": {},
     "output_type": "execute_result"
    },
    {
     "data": {
      "image/png": "[encoded data removed]",
      "text/plain": [
       "<Figure size 640x480 with 1 Axes>"
      ]
     },
     "metadata": {},
     "output_type": "display_data"
    }
   ],
   "source": [
    "train['ord_2'].value_counts().plot.bar()"
   ]
  },
  {
   "cell_type": "code",
   "execution_count": 22,
   "metadata": {},
   "outputs": [
    {
     "data": {
      "text/plain": [
       "<AxesSubplot: >"
      ]
     },
     "execution_count": 22,
     "metadata": {},
     "output_type": "execute_result"
    },
    {
     "data": {
      "image/png": "[encoded data removed]",
      "text/plain": [
       "<Figure size 640x480 with 1 Axes>"
      ]
     },
     "metadata": {},
     "output_type": "display_data"
    }
   ],
   "source": [
    "train['ord_3'].value_counts().plot.bar()"
   ]
  },
  {
   "cell_type": "code",
   "execution_count": 23,
   "metadata": {},
   "outputs": [
    {
     "data": {
      "text/plain": [
       "<AxesSubplot: >"
      ]
     },
     "execution_count": 23,
     "metadata": {},
     "output_type": "execute_result"
    },
    {
     "data": {
      "image/png": "[encoded data removed]",
      "text/plain": [
       "<Figure size 640x480 with 1 Axes>"
      ]
     },
     "metadata": {},
     "output_type": "display_data"
    }
   ],
   "source": [
    "train['ord_4'].value_counts().plot.bar()"
   ]
  },
  {
   "cell_type": "code",
   "execution_count": 24,
   "metadata": {},
   "outputs": [
    {
     "data": {
      "text/plain": [
       "<AxesSubplot: >"
      ]
     },
     "execution_count": 24,
     "metadata": {},
     "output_type": "execute_result"
    },
    {
     "data": {
      "image/png": "[encoded data removed]",
      "text/plain": [
       "<Figure size 640x480 with 1 Axes>"
      ]
     },
     "metadata": {},
     "output_type": "display_data"
    }
   ],
   "source": [
    "train['ord_5'].value_counts().plot.bar()"
   ]
  },
  {
   "cell_type": "code",
   "execution_count": 25,
   "metadata": {},
   "outputs": [
    {
     "data": {
      "text/plain": [
       "<AxesSubplot: >"
      ]
     },
     "execution_count": 25,
     "metadata": {},
     "output_type": "execute_result"
    },
    {
     "data": {
      "image/png": "[encoded data removed]",
      "text/plain": [
       "<Figure size 640x480 with 1 Axes>"
      ]
     },
     "metadata": {},
     "output_type": "display_data"
    }
   ],
   "source": [
    "train['day'].value_counts().plot.bar()"
   ]
  },
  {
   "cell_type": "code",
   "execution_count": 26,
   "metadata": {},
   "outputs": [
    {
     "data": {
      "text/plain": [
       "<AxesSubplot: >"
      ]
     },
     "execution_count": 26,
     "metadata": {},
     "output_type": "execute_result"
    },
    {
     "data": {
      "image/png": "[encoded data removed]",
      "text/plain": [
       "<Figure size 640x480 with 1 Axes>"
      ]
     },
     "metadata": {},
     "output_type": "display_data"
    }
   ],
   "source": [
    "train['month'].value_counts().plot.bar()"
   ]
  },
  {
   "attachments": {},
   "cell_type": "markdown",
   "metadata": {},
   "source": [
    "# Corrections to the data"
   ]
  },
  {
   "attachments": {},
   "cell_type": "markdown",
   "metadata": {},
   "source": [
    "## bin_3 column changed from T/F to 1 / 0"
   ]
  },
  {
   "cell_type": "code",
   "execution_count": 29,
   "metadata": {},
   "outputs": [],
   "source": [
    "train.bin_3.replace({'T':1 , 'F': 0}, inplace=True)"
   ]
  },
  {
   "cell_type": "code",
   "execution_count": 30,
   "metadata": {},
   "outputs": [],
   "source": [
    "test.bin_3.replace({'T':1 , 'F': 0}, inplace=True)"
   ]
  },
  {
   "attachments": {},
   "cell_type": "markdown",
   "metadata": {},
   "source": [
    "## bin_4 changed from Y/N to 1/0"
   ]
  },
  {
   "cell_type": "code",
   "execution_count": 31,
   "metadata": {},
   "outputs": [],
   "source": [
    "train.bin_4.replace({'Y':1 , 'N': 0}, inplace=True)"
   ]
  },
  {
   "cell_type": "code",
   "execution_count": 32,
   "metadata": {},
   "outputs": [],
   "source": [
    "test.bin_4.replace({'Y':1 , 'N': 0}, inplace=True)"
   ]
  },
  {
   "cell_type": "code",
   "execution_count": 33,
   "metadata": {},
   "outputs": [
    {
     "data": {
      "text/html": [
       "<div>\n",
       "<style scoped>\n",
       "    .dataframe tbody tr th:only-of-type {\n",
       "        vertical-align: middle;\n",
       "    }\n",
       "\n",
       "    .dataframe tbody tr th {\n",
       "        vertical-align: top;\n",
       "    }\n",
       "\n",
       "    .dataframe thead th {\n",
       "        text-align: right;\n",
       "    }\n",
       "</style>\n",
       "<table border=\"1\" class=\"dataframe\">\n",
       "  <thead>\n",
       "    <tr style=\"text-align: right;\">\n",
       "      <th></th>\n",
       "      <th>id</th>\n",
       "      <th>bin_0</th>\n",
       "      <th>bin_1</th>\n",
       "      <th>bin_2</th>\n",
       "      <th>bin_3</th>\n",
       "      <th>bin_4</th>\n",
       "      <th>nom_0</th>\n",
       "      <th>nom_1</th>\n",
       "      <th>nom_2</th>\n",
       "      <th>nom_3</th>\n",
       "      <th>...</th>\n",
       "      <th>nom_6</th>\n",
       "      <th>ord_0</th>\n",
       "      <th>ord_1</th>\n",
       "      <th>ord_2</th>\n",
       "      <th>ord_3</th>\n",
       "      <th>ord_4</th>\n",
       "      <th>ord_5</th>\n",
       "      <th>day</th>\n",
       "      <th>month</th>\n",
       "      <th>target</th>\n",
       "    </tr>\n",
       "  </thead>\n",
       "  <tbody>\n",
       "    <tr>\n",
       "      <th>0</th>\n",
       "      <td>0</td>\n",
       "      <td>0</td>\n",
       "      <td>0</td>\n",
       "      <td>0</td>\n",
       "      <td>1</td>\n",
       "      <td>1</td>\n",
       "      <td>Green</td>\n",
       "      <td>Triangle</td>\n",
       "      <td>Snake</td>\n",
       "      <td>Finland</td>\n",
       "      <td>...</td>\n",
       "      <td>3ac1b8814</td>\n",
       "      <td>2</td>\n",
       "      <td>Grandmaster</td>\n",
       "      <td>Cold</td>\n",
       "      <td>h</td>\n",
       "      <td>D</td>\n",
       "      <td>kr</td>\n",
       "      <td>2</td>\n",
       "      <td>2</td>\n",
       "      <td>0</td>\n",
       "    </tr>\n",
       "    <tr>\n",
       "      <th>1</th>\n",
       "      <td>1</td>\n",
       "      <td>0</td>\n",
       "      <td>1</td>\n",
       "      <td>0</td>\n",
       "      <td>1</td>\n",
       "      <td>1</td>\n",
       "      <td>Green</td>\n",
       "      <td>Trapezoid</td>\n",
       "      <td>Hamster</td>\n",
       "      <td>Russia</td>\n",
       "      <td>...</td>\n",
       "      <td>fbcb50fc1</td>\n",
       "      <td>1</td>\n",
       "      <td>Grandmaster</td>\n",
       "      <td>Hot</td>\n",
       "      <td>a</td>\n",
       "      <td>A</td>\n",
       "      <td>bF</td>\n",
       "      <td>7</td>\n",
       "      <td>8</td>\n",
       "      <td>0</td>\n",
       "    </tr>\n",
       "    <tr>\n",
       "      <th>2</th>\n",
       "      <td>2</td>\n",
       "      <td>0</td>\n",
       "      <td>0</td>\n",
       "      <td>0</td>\n",
       "      <td>0</td>\n",
       "      <td>1</td>\n",
       "      <td>Blue</td>\n",
       "      <td>Trapezoid</td>\n",
       "      <td>Lion</td>\n",
       "      <td>Russia</td>\n",
       "      <td>...</td>\n",
       "      <td>0922e3cb8</td>\n",
       "      <td>1</td>\n",
       "      <td>Expert</td>\n",
       "      <td>Lava Hot</td>\n",
       "      <td>h</td>\n",
       "      <td>R</td>\n",
       "      <td>Jc</td>\n",
       "      <td>7</td>\n",
       "      <td>2</td>\n",
       "      <td>0</td>\n",
       "    </tr>\n",
       "    <tr>\n",
       "      <th>3</th>\n",
       "      <td>3</td>\n",
       "      <td>0</td>\n",
       "      <td>1</td>\n",
       "      <td>0</td>\n",
       "      <td>0</td>\n",
       "      <td>1</td>\n",
       "      <td>Red</td>\n",
       "      <td>Trapezoid</td>\n",
       "      <td>Snake</td>\n",
       "      <td>Canada</td>\n",
       "      <td>...</td>\n",
       "      <td>50d7ad46a</td>\n",
       "      <td>1</td>\n",
       "      <td>Grandmaster</td>\n",
       "      <td>Boiling Hot</td>\n",
       "      <td>i</td>\n",
       "      <td>D</td>\n",
       "      <td>kW</td>\n",
       "      <td>2</td>\n",
       "      <td>1</td>\n",
       "      <td>1</td>\n",
       "    </tr>\n",
       "    <tr>\n",
       "      <th>4</th>\n",
       "      <td>4</td>\n",
       "      <td>0</td>\n",
       "      <td>0</td>\n",
       "      <td>0</td>\n",
       "      <td>0</td>\n",
       "      <td>0</td>\n",
       "      <td>Red</td>\n",
       "      <td>Trapezoid</td>\n",
       "      <td>Lion</td>\n",
       "      <td>Canada</td>\n",
       "      <td>...</td>\n",
       "      <td>1fe17a1fd</td>\n",
       "      <td>1</td>\n",
       "      <td>Grandmaster</td>\n",
       "      <td>Freezing</td>\n",
       "      <td>a</td>\n",
       "      <td>R</td>\n",
       "      <td>qP</td>\n",
       "      <td>7</td>\n",
       "      <td>8</td>\n",
       "      <td>0</td>\n",
       "    </tr>\n",
       "  </tbody>\n",
       "</table>\n",
       "<p>5 rows × 22 columns</p>\n",
       "</div>"
      ],
      "text/plain": [
       "   id  bin_0  bin_1  bin_2  bin_3  bin_4  nom_0      nom_1    nom_2    nom_3  \\\n",
       "0   0      0      0      0      1      1  Green   Triangle    Snake  Finland   \n",
       "1   1      0      1      0      1      1  Green  Trapezoid  Hamster   Russia   \n",
       "2   2      0      0      0      0      1   Blue  Trapezoid     Lion   Russia   \n",
       "3   3      0      1      0      0      1    Red  Trapezoid    Snake   Canada   \n",
       "4   4      0      0      0      0      0    Red  Trapezoid     Lion   Canada   \n",
       "\n",
       "   ...      nom_6 ord_0        ord_1        ord_2 ord_3 ord_4 ord_5 day month  \\\n",
       "0  ...  3ac1b8814     2  Grandmaster         Cold     h     D    kr   2     2   \n",
       "1  ...  fbcb50fc1     1  Grandmaster          Hot     a     A    bF   7     8   \n",
       "2  ...  0922e3cb8     1       Expert     Lava Hot     h     R    Jc   7     2   \n",
       "3  ...  50d7ad46a     1  Grandmaster  Boiling Hot     i     D    kW   2     1   \n",
       "4  ...  1fe17a1fd     1  Grandmaster     Freezing     a     R    qP   7     8   \n",
       "\n",
       "   target  \n",
       "0       0  \n",
       "1       0  \n",
       "2       0  \n",
       "3       1  \n",
       "4       0  \n",
       "\n",
       "[5 rows x 22 columns]"
      ]
     },
     "execution_count": 33,
     "metadata": {},
     "output_type": "execute_result"
    }
   ],
   "source": [
    "train.head()"
   ]
  },
  {
   "cell_type": "code",
   "execution_count": 34,
   "metadata": {},
   "outputs": [
    {
     "data": {
      "text/html": [
       "<div>\n",
       "<style scoped>\n",
       "    .dataframe tbody tr th:only-of-type {\n",
       "        vertical-align: middle;\n",
       "    }\n",
       "\n",
       "    .dataframe tbody tr th {\n",
       "        vertical-align: top;\n",
       "    }\n",
       "\n",
       "    .dataframe thead th {\n",
       "        text-align: right;\n",
       "    }\n",
       "</style>\n",
       "<table border=\"1\" class=\"dataframe\">\n",
       "  <thead>\n",
       "    <tr style=\"text-align: right;\">\n",
       "      <th></th>\n",
       "      <th>id</th>\n",
       "      <th>bin_0</th>\n",
       "      <th>bin_1</th>\n",
       "      <th>bin_2</th>\n",
       "      <th>bin_3</th>\n",
       "      <th>bin_4</th>\n",
       "      <th>nom_0</th>\n",
       "      <th>nom_1</th>\n",
       "      <th>nom_2</th>\n",
       "      <th>nom_3</th>\n",
       "      <th>...</th>\n",
       "      <th>nom_5</th>\n",
       "      <th>nom_6</th>\n",
       "      <th>ord_0</th>\n",
       "      <th>ord_1</th>\n",
       "      <th>ord_2</th>\n",
       "      <th>ord_3</th>\n",
       "      <th>ord_4</th>\n",
       "      <th>ord_5</th>\n",
       "      <th>day</th>\n",
       "      <th>month</th>\n",
       "    </tr>\n",
       "  </thead>\n",
       "  <tbody>\n",
       "    <tr>\n",
       "      <th>0</th>\n",
       "      <td>300000</td>\n",
       "      <td>0</td>\n",
       "      <td>0</td>\n",
       "      <td>1</td>\n",
       "      <td>1</td>\n",
       "      <td>1</td>\n",
       "      <td>Blue</td>\n",
       "      <td>Triangle</td>\n",
       "      <td>Axolotl</td>\n",
       "      <td>Finland</td>\n",
       "      <td>...</td>\n",
       "      <td>0870b0a5d</td>\n",
       "      <td>9ceb19dd6</td>\n",
       "      <td>2</td>\n",
       "      <td>Novice</td>\n",
       "      <td>Warm</td>\n",
       "      <td>j</td>\n",
       "      <td>P</td>\n",
       "      <td>be</td>\n",
       "      <td>5</td>\n",
       "      <td>11</td>\n",
       "    </tr>\n",
       "    <tr>\n",
       "      <th>1</th>\n",
       "      <td>300001</td>\n",
       "      <td>0</td>\n",
       "      <td>0</td>\n",
       "      <td>0</td>\n",
       "      <td>1</td>\n",
       "      <td>0</td>\n",
       "      <td>Red</td>\n",
       "      <td>Square</td>\n",
       "      <td>Lion</td>\n",
       "      <td>Canada</td>\n",
       "      <td>...</td>\n",
       "      <td>a5c276589</td>\n",
       "      <td>1ad744242</td>\n",
       "      <td>1</td>\n",
       "      <td>Master</td>\n",
       "      <td>Lava Hot</td>\n",
       "      <td>l</td>\n",
       "      <td>A</td>\n",
       "      <td>RP</td>\n",
       "      <td>7</td>\n",
       "      <td>5</td>\n",
       "    </tr>\n",
       "    <tr>\n",
       "      <th>2</th>\n",
       "      <td>300002</td>\n",
       "      <td>1</td>\n",
       "      <td>0</td>\n",
       "      <td>1</td>\n",
       "      <td>0</td>\n",
       "      <td>1</td>\n",
       "      <td>Blue</td>\n",
       "      <td>Square</td>\n",
       "      <td>Dog</td>\n",
       "      <td>China</td>\n",
       "      <td>...</td>\n",
       "      <td>568550f04</td>\n",
       "      <td>1fe17a1fd</td>\n",
       "      <td>2</td>\n",
       "      <td>Expert</td>\n",
       "      <td>Freezing</td>\n",
       "      <td>a</td>\n",
       "      <td>G</td>\n",
       "      <td>tP</td>\n",
       "      <td>1</td>\n",
       "      <td>12</td>\n",
       "    </tr>\n",
       "    <tr>\n",
       "      <th>3</th>\n",
       "      <td>300003</td>\n",
       "      <td>0</td>\n",
       "      <td>0</td>\n",
       "      <td>1</td>\n",
       "      <td>1</td>\n",
       "      <td>1</td>\n",
       "      <td>Red</td>\n",
       "      <td>Star</td>\n",
       "      <td>Cat</td>\n",
       "      <td>China</td>\n",
       "      <td>...</td>\n",
       "      <td>c5725677e</td>\n",
       "      <td>a6542cec0</td>\n",
       "      <td>1</td>\n",
       "      <td>Contributor</td>\n",
       "      <td>Lava Hot</td>\n",
       "      <td>b</td>\n",
       "      <td>Q</td>\n",
       "      <td>ke</td>\n",
       "      <td>2</td>\n",
       "      <td>3</td>\n",
       "    </tr>\n",
       "    <tr>\n",
       "      <th>4</th>\n",
       "      <td>300004</td>\n",
       "      <td>0</td>\n",
       "      <td>1</td>\n",
       "      <td>1</td>\n",
       "      <td>0</td>\n",
       "      <td>0</td>\n",
       "      <td>Red</td>\n",
       "      <td>Trapezoid</td>\n",
       "      <td>Dog</td>\n",
       "      <td>China</td>\n",
       "      <td>...</td>\n",
       "      <td>e70a6270d</td>\n",
       "      <td>97b6a3518</td>\n",
       "      <td>3</td>\n",
       "      <td>Grandmaster</td>\n",
       "      <td>Lava Hot</td>\n",
       "      <td>l</td>\n",
       "      <td>W</td>\n",
       "      <td>qK</td>\n",
       "      <td>4</td>\n",
       "      <td>11</td>\n",
       "    </tr>\n",
       "  </tbody>\n",
       "</table>\n",
       "<p>5 rows × 21 columns</p>\n",
       "</div>"
      ],
      "text/plain": [
       "       id  bin_0  bin_1  bin_2  bin_3  bin_4 nom_0      nom_1    nom_2  \\\n",
       "0  300000      0      0      1      1      1  Blue   Triangle  Axolotl   \n",
       "1  300001      0      0      0      1      0   Red     Square     Lion   \n",
       "2  300002      1      0      1      0      1  Blue     Square      Dog   \n",
       "3  300003      0      0      1      1      1   Red       Star      Cat   \n",
       "4  300004      0      1      1      0      0   Red  Trapezoid      Dog   \n",
       "\n",
       "     nom_3  ...      nom_5      nom_6 ord_0        ord_1     ord_2 ord_3  \\\n",
       "0  Finland  ...  0870b0a5d  9ceb19dd6     2       Novice      Warm     j   \n",
       "1   Canada  ...  a5c276589  1ad744242     1       Master  Lava Hot     l   \n",
       "2    China  ...  568550f04  1fe17a1fd     2       Expert  Freezing     a   \n",
       "3    China  ...  c5725677e  a6542cec0     1  Contributor  Lava Hot     b   \n",
       "4    China  ...  e70a6270d  97b6a3518     3  Grandmaster  Lava Hot     l   \n",
       "\n",
       "  ord_4 ord_5 day  month  \n",
       "0     P    be   5     11  \n",
       "1     A    RP   7      5  \n",
       "2     G    tP   1     12  \n",
       "3     Q    ke   2      3  \n",
       "4     W    qK   4     11  \n",
       "\n",
       "[5 rows x 21 columns]"
      ]
     },
     "execution_count": 34,
     "metadata": {},
     "output_type": "execute_result"
    }
   ],
   "source": [
    "test.head()"
   ]
  },
  {
   "cell_type": "code",
   "execution_count": 22,
   "metadata": {},
   "outputs": [
    {
     "data": {
      "text/plain": [
       "[2, 7, 5, 4, 3, 1, 6]"
      ]
     },
     "execution_count": 22,
     "metadata": {},
     "output_type": "execute_result"
    }
   ],
   "source": [
    "train.day.unique().tolist()"
   ]
  },
  {
   "cell_type": "code",
   "execution_count": 23,
   "metadata": {},
   "outputs": [
    {
     "data": {
      "text/plain": [
       "[2, 8, 1, 4, 10, 3, 7, 9, 12, 11, 5, 6]"
      ]
     },
     "execution_count": 23,
     "metadata": {},
     "output_type": "execute_result"
    }
   ],
   "source": [
    "train.month.unique().tolist()"
   ]
  },
  {
   "attachments": {},
   "cell_type": "markdown",
   "metadata": {},
   "source": [
    "## Get dummies for nominal columns"
   ]
  },
  {
   "cell_type": "code",
   "execution_count": 35,
   "metadata": {},
   "outputs": [],
   "source": [
    "nom_train = train[[\"nom_0\", \"nom_1\" , \"nom_2\", \"nom_3\" , \"nom_4\", \"nom_5\" , \"nom_6\"]]"
   ]
  },
  {
   "cell_type": "code",
   "execution_count": 36,
   "metadata": {},
   "outputs": [],
   "source": [
    "nom_train = pd.get_dummies(nom_train)"
   ]
  },
  {
   "cell_type": "code",
   "execution_count": 37,
   "metadata": {},
   "outputs": [
    {
     "data": {
      "text/plain": [
       "(300000, 769)"
      ]
     },
     "execution_count": 37,
     "metadata": {},
     "output_type": "execute_result"
    }
   ],
   "source": [
    "nom_train.shape"
   ]
  },
  {
   "cell_type": "code",
   "execution_count": 38,
   "metadata": {},
   "outputs": [],
   "source": [
    "nom_test = test[[\"nom_0\", \"nom_1\" , \"nom_2\", \"nom_3\" , \"nom_4\", \"nom_5\" , \"nom_6\"]]\n",
    "nom_test = pd.get_dummies(nom_test)"
   ]
  },
  {
   "cell_type": "code",
   "execution_count": 39,
   "metadata": {},
   "outputs": [
    {
     "data": {
      "text/plain": [
       "(200000, 769)"
      ]
     },
     "execution_count": 39,
     "metadata": {},
     "output_type": "execute_result"
    }
   ],
   "source": [
    "nom_test.shape"
   ]
  },
  {
   "attachments": {},
   "cell_type": "markdown",
   "metadata": {},
   "source": [
    "## Ordinal Columns Treatment"
   ]
  },
  {
   "cell_type": "code",
   "execution_count": 40,
   "metadata": {},
   "outputs": [],
   "source": [
    "ord_train = train[[\"ord_0\", \"ord_1\" , \"ord_2\" , \"ord_3\" , \"ord_4\" , \"ord_5\"]]"
   ]
  },
  {
   "cell_type": "code",
   "execution_count": 41,
   "metadata": {},
   "outputs": [],
   "source": [
    "ord_test = test[[\"ord_0\", \"ord_1\" , \"ord_2\" , \"ord_3\" , \"ord_4\" , \"ord_5\"]]"
   ]
  },
  {
   "cell_type": "code",
   "execution_count": 42,
   "metadata": {},
   "outputs": [
    {
     "data": {
      "text/plain": [
       "['Grandmaster', 'Expert', 'Novice', 'Contributor', 'Master']"
      ]
     },
     "execution_count": 42,
     "metadata": {},
     "output_type": "execute_result"
    }
   ],
   "source": [
    "train.ord_1.unique().tolist()"
   ]
  },
  {
   "cell_type": "code",
   "execution_count": 43,
   "metadata": {},
   "outputs": [],
   "source": [
    "enc_ord1 = OrdinalEncoder(categories=[['Novice', 'Contributor' , 'Expert' , 'Master' , 'Grandmaster']])"
   ]
  },
  {
   "cell_type": "code",
   "execution_count": 44,
   "metadata": {},
   "outputs": [
    {
     "data": {
      "text/plain": [
       "OrdinalEncoder(categories=[['Novice', 'Contributor', 'Expert', 'Master',\n",
       "                            'Grandmaster']])"
      ]
     },
     "execution_count": 44,
     "metadata": {},
     "output_type": "execute_result"
    }
   ],
   "source": [
    "enc_ord1.fit(train[[\"ord_1\"]])"
   ]
  },
  {
   "cell_type": "code",
   "execution_count": 45,
   "metadata": {},
   "outputs": [],
   "source": [
    "train[\"ord_1\"] = enc_ord1.transform(train[['ord_1']])"
   ]
  },
  {
   "cell_type": "code",
   "execution_count": 46,
   "metadata": {},
   "outputs": [],
   "source": [
    "enc_ord1.fit(test[[\"ord_1\"]])\n",
    "test[\"ord_1\"] = enc_ord1.transform(test[['ord_1']])"
   ]
  },
  {
   "cell_type": "code",
   "execution_count": 47,
   "metadata": {},
   "outputs": [
    {
     "data": {
      "text/plain": [
       "['Cold', 'Hot', 'Lava Hot', 'Boiling Hot', 'Freezing', 'Warm']"
      ]
     },
     "execution_count": 47,
     "metadata": {},
     "output_type": "execute_result"
    }
   ],
   "source": [
    "train.ord_2.unique().tolist()"
   ]
  },
  {
   "cell_type": "code",
   "execution_count": 48,
   "metadata": {},
   "outputs": [],
   "source": [
    "enc_ord2 = OrdinalEncoder(categories=[['Freezing', 'Cold' , 'Warm' , 'Hot' , 'Boiling Hot' , 'Lava Hot']])"
   ]
  },
  {
   "cell_type": "code",
   "execution_count": 49,
   "metadata": {},
   "outputs": [
    {
     "data": {
      "text/plain": [
       "OrdinalEncoder(categories=[['Freezing', 'Cold', 'Warm', 'Hot', 'Boiling Hot',\n",
       "                            'Lava Hot']])"
      ]
     },
     "execution_count": 49,
     "metadata": {},
     "output_type": "execute_result"
    }
   ],
   "source": [
    "enc_ord2.fit(train[[\"ord_2\"]])"
   ]
  },
  {
   "cell_type": "code",
   "execution_count": 50,
   "metadata": {},
   "outputs": [],
   "source": [
    "train[\"ord_2\"] = enc_ord2.transform(train[['ord_2']])"
   ]
  },
  {
   "cell_type": "code",
   "execution_count": 51,
   "metadata": {},
   "outputs": [],
   "source": [
    "enc_ord2.fit(test[[\"ord_2\"]])\n",
    "test[\"ord_2\"] = enc_ord2.transform(test[['ord_2']])"
   ]
  },
  {
   "cell_type": "code",
   "execution_count": 52,
   "metadata": {},
   "outputs": [],
   "source": [
    "enc_ord3 = OrdinalEncoder()"
   ]
  },
  {
   "cell_type": "code",
   "execution_count": 53,
   "metadata": {},
   "outputs": [
    {
     "data": {
      "text/plain": [
       "OrdinalEncoder()"
      ]
     },
     "execution_count": 53,
     "metadata": {},
     "output_type": "execute_result"
    }
   ],
   "source": [
    "enc_ord3.fit(train[['ord_3']])"
   ]
  },
  {
   "cell_type": "code",
   "execution_count": 54,
   "metadata": {},
   "outputs": [],
   "source": [
    "train['ord_3'] = enc_ord3.transform(train[['ord_3']])"
   ]
  },
  {
   "cell_type": "code",
   "execution_count": 55,
   "metadata": {},
   "outputs": [],
   "source": [
    "enc_ord3.fit(test[['ord_3']])\n",
    "test['ord_3'] = enc_ord3.transform(test[['ord_3']])"
   ]
  },
  {
   "cell_type": "code",
   "execution_count": 56,
   "metadata": {},
   "outputs": [],
   "source": [
    "enc_ord4 = OrdinalEncoder()"
   ]
  },
  {
   "cell_type": "code",
   "execution_count": 57,
   "metadata": {},
   "outputs": [
    {
     "data": {
      "text/plain": [
       "OrdinalEncoder()"
      ]
     },
     "execution_count": 57,
     "metadata": {},
     "output_type": "execute_result"
    }
   ],
   "source": [
    "enc_ord4.fit(train[['ord_4']])"
   ]
  },
  {
   "cell_type": "code",
   "execution_count": 58,
   "metadata": {},
   "outputs": [],
   "source": [
    "train['ord_4'] = enc_ord4.transform(train[['ord_4']])"
   ]
  },
  {
   "cell_type": "code",
   "execution_count": 59,
   "metadata": {},
   "outputs": [],
   "source": [
    "enc_ord4.fit(test[['ord_4']])\n",
    "test['ord_4'] = enc_ord4.transform(test[['ord_4']])"
   ]
  },
  {
   "cell_type": "code",
   "execution_count": 60,
   "metadata": {},
   "outputs": [],
   "source": [
    "enc_ord5 = OrdinalEncoder()"
   ]
  },
  {
   "cell_type": "code",
   "execution_count": 61,
   "metadata": {},
   "outputs": [
    {
     "data": {
      "text/plain": [
       "OrdinalEncoder()"
      ]
     },
     "execution_count": 61,
     "metadata": {},
     "output_type": "execute_result"
    }
   ],
   "source": [
    "enc_ord5.fit(train[['ord_5']])"
   ]
  },
  {
   "cell_type": "code",
   "execution_count": 62,
   "metadata": {},
   "outputs": [],
   "source": [
    "train['ord_5'] = enc_ord5.transform(train[['ord_5']])"
   ]
  },
  {
   "cell_type": "code",
   "execution_count": 63,
   "metadata": {},
   "outputs": [],
   "source": [
    "enc_ord5.fit(test[['ord_5']])\n",
    "test['ord_5'] = enc_ord5.transform(test[['ord_5']])"
   ]
  },
  {
   "cell_type": "code",
   "execution_count": 64,
   "metadata": {},
   "outputs": [],
   "source": [
    "train_new = pd.merge(train , nom_train, left_index=True, right_index=True)"
   ]
  },
  {
   "cell_type": "code",
   "execution_count": 65,
   "metadata": {},
   "outputs": [],
   "source": [
    "test_new = pd.merge(test , nom_test, left_index=True, right_index=True)"
   ]
  },
  {
   "cell_type": "code",
   "execution_count": 66,
   "metadata": {},
   "outputs": [
    {
     "data": {
      "text/plain": [
       "(300000, 791)"
      ]
     },
     "execution_count": 66,
     "metadata": {},
     "output_type": "execute_result"
    }
   ],
   "source": [
    "train_new.shape"
   ]
  },
  {
   "cell_type": "code",
   "execution_count": 67,
   "metadata": {},
   "outputs": [],
   "source": [
    "train_new.drop([\"nom_0\", \"nom_1\", \"nom_2\" , \"nom_3\" , \"nom_4\", \"nom_5\", \"nom_6\"], axis='columns', inplace=True)"
   ]
  },
  {
   "cell_type": "code",
   "execution_count": 68,
   "metadata": {},
   "outputs": [],
   "source": [
    "test_new.drop([\"nom_0\", \"nom_1\", \"nom_2\" , \"nom_3\" , \"nom_4\", \"nom_5\", \"nom_6\"], axis='columns', inplace=True)"
   ]
  },
  {
   "cell_type": "code",
   "execution_count": 56,
   "metadata": {},
   "outputs": [
    {
     "data": {
      "text/html": [
       "<div>\n",
       "<style scoped>\n",
       "    .dataframe tbody tr th:only-of-type {\n",
       "        vertical-align: middle;\n",
       "    }\n",
       "\n",
       "    .dataframe tbody tr th {\n",
       "        vertical-align: top;\n",
       "    }\n",
       "\n",
       "    .dataframe thead th {\n",
       "        text-align: right;\n",
       "    }\n",
       "</style>\n",
       "<table border=\"1\" class=\"dataframe\">\n",
       "  <thead>\n",
       "    <tr style=\"text-align: right;\">\n",
       "      <th></th>\n",
       "      <th>id</th>\n",
       "      <th>bin_0</th>\n",
       "      <th>bin_1</th>\n",
       "      <th>bin_2</th>\n",
       "      <th>bin_3</th>\n",
       "      <th>bin_4</th>\n",
       "      <th>ord_0</th>\n",
       "      <th>ord_1</th>\n",
       "      <th>ord_2</th>\n",
       "      <th>ord_3</th>\n",
       "      <th>...</th>\n",
       "      <th>nom_6_fc613f31d</th>\n",
       "      <th>nom_6_fc791ebea</th>\n",
       "      <th>nom_6_fc88900c4</th>\n",
       "      <th>nom_6_fc88d723d</th>\n",
       "      <th>nom_6_fd2344f16</th>\n",
       "      <th>nom_6_fd9370b9e</th>\n",
       "      <th>nom_6_fe0b55cd2</th>\n",
       "      <th>nom_6_fe0cddc2c</th>\n",
       "      <th>nom_6_fe77c71bd</th>\n",
       "      <th>nom_6_ffc60be1c</th>\n",
       "    </tr>\n",
       "  </thead>\n",
       "  <tbody>\n",
       "    <tr>\n",
       "      <th>count</th>\n",
       "      <td>300000.000000</td>\n",
       "      <td>300000.000000</td>\n",
       "      <td>300000.000000</td>\n",
       "      <td>300000.000000</td>\n",
       "      <td>300000.000000</td>\n",
       "      <td>300000.000000</td>\n",
       "      <td>300000.000000</td>\n",
       "      <td>300000.000000</td>\n",
       "      <td>300000.000000</td>\n",
       "      <td>300000.000000</td>\n",
       "      <td>...</td>\n",
       "      <td>300000.000000</td>\n",
       "      <td>300000.000000</td>\n",
       "      <td>300000.000000</td>\n",
       "      <td>300000.000000</td>\n",
       "      <td>300000.000000</td>\n",
       "      <td>300000.000000</td>\n",
       "      <td>300000.000000</td>\n",
       "      <td>300000.000000</td>\n",
       "      <td>300000.000000</td>\n",
       "      <td>300000.000000</td>\n",
       "    </tr>\n",
       "    <tr>\n",
       "      <th>mean</th>\n",
       "      <td>149999.500000</td>\n",
       "      <td>0.127503</td>\n",
       "      <td>0.256607</td>\n",
       "      <td>0.383223</td>\n",
       "      <td>0.511783</td>\n",
       "      <td>0.638777</td>\n",
       "      <td>1.479567</td>\n",
       "      <td>1.622907</td>\n",
       "      <td>2.339350</td>\n",
       "      <td>6.609097</td>\n",
       "      <td>...</td>\n",
       "      <td>0.000680</td>\n",
       "      <td>0.001127</td>\n",
       "      <td>0.002690</td>\n",
       "      <td>0.000977</td>\n",
       "      <td>0.001347</td>\n",
       "      <td>0.002883</td>\n",
       "      <td>0.000227</td>\n",
       "      <td>0.001153</td>\n",
       "      <td>0.000800</td>\n",
       "      <td>0.001930</td>\n",
       "    </tr>\n",
       "    <tr>\n",
       "      <th>std</th>\n",
       "      <td>86602.684716</td>\n",
       "      <td>0.333537</td>\n",
       "      <td>0.436761</td>\n",
       "      <td>0.486173</td>\n",
       "      <td>0.499862</td>\n",
       "      <td>0.480356</td>\n",
       "      <td>0.712524</td>\n",
       "      <td>1.677608</td>\n",
       "      <td>2.031744</td>\n",
       "      <td>3.829374</td>\n",
       "      <td>...</td>\n",
       "      <td>0.026068</td>\n",
       "      <td>0.033547</td>\n",
       "      <td>0.051795</td>\n",
       "      <td>0.031236</td>\n",
       "      <td>0.036672</td>\n",
       "      <td>0.053619</td>\n",
       "      <td>0.015054</td>\n",
       "      <td>0.033941</td>\n",
       "      <td>0.028273</td>\n",
       "      <td>0.043889</td>\n",
       "    </tr>\n",
       "    <tr>\n",
       "      <th>min</th>\n",
       "      <td>0.000000</td>\n",
       "      <td>0.000000</td>\n",
       "      <td>0.000000</td>\n",
       "      <td>0.000000</td>\n",
       "      <td>0.000000</td>\n",
       "      <td>0.000000</td>\n",
       "      <td>1.000000</td>\n",
       "      <td>0.000000</td>\n",
       "      <td>0.000000</td>\n",
       "      <td>0.000000</td>\n",
       "      <td>...</td>\n",
       "      <td>0.000000</td>\n",
       "      <td>0.000000</td>\n",
       "      <td>0.000000</td>\n",
       "      <td>0.000000</td>\n",
       "      <td>0.000000</td>\n",
       "      <td>0.000000</td>\n",
       "      <td>0.000000</td>\n",
       "      <td>0.000000</td>\n",
       "      <td>0.000000</td>\n",
       "      <td>0.000000</td>\n",
       "    </tr>\n",
       "    <tr>\n",
       "      <th>25%</th>\n",
       "      <td>74999.750000</td>\n",
       "      <td>0.000000</td>\n",
       "      <td>0.000000</td>\n",
       "      <td>0.000000</td>\n",
       "      <td>0.000000</td>\n",
       "      <td>0.000000</td>\n",
       "      <td>1.000000</td>\n",
       "      <td>0.000000</td>\n",
       "      <td>0.000000</td>\n",
       "      <td>4.000000</td>\n",
       "      <td>...</td>\n",
       "      <td>0.000000</td>\n",
       "      <td>0.000000</td>\n",
       "      <td>0.000000</td>\n",
       "      <td>0.000000</td>\n",
       "      <td>0.000000</td>\n",
       "      <td>0.000000</td>\n",
       "      <td>0.000000</td>\n",
       "      <td>0.000000</td>\n",
       "      <td>0.000000</td>\n",
       "      <td>0.000000</td>\n",
       "    </tr>\n",
       "    <tr>\n",
       "      <th>50%</th>\n",
       "      <td>149999.500000</td>\n",
       "      <td>0.000000</td>\n",
       "      <td>0.000000</td>\n",
       "      <td>0.000000</td>\n",
       "      <td>1.000000</td>\n",
       "      <td>1.000000</td>\n",
       "      <td>1.000000</td>\n",
       "      <td>1.000000</td>\n",
       "      <td>2.000000</td>\n",
       "      <td>7.000000</td>\n",
       "      <td>...</td>\n",
       "      <td>0.000000</td>\n",
       "      <td>0.000000</td>\n",
       "      <td>0.000000</td>\n",
       "      <td>0.000000</td>\n",
       "      <td>0.000000</td>\n",
       "      <td>0.000000</td>\n",
       "      <td>0.000000</td>\n",
       "      <td>0.000000</td>\n",
       "      <td>0.000000</td>\n",
       "      <td>0.000000</td>\n",
       "    </tr>\n",
       "    <tr>\n",
       "      <th>75%</th>\n",
       "      <td>224999.250000</td>\n",
       "      <td>0.000000</td>\n",
       "      <td>1.000000</td>\n",
       "      <td>1.000000</td>\n",
       "      <td>1.000000</td>\n",
       "      <td>1.000000</td>\n",
       "      <td>2.000000</td>\n",
       "      <td>4.000000</td>\n",
       "      <td>4.000000</td>\n",
       "      <td>10.000000</td>\n",
       "      <td>...</td>\n",
       "      <td>0.000000</td>\n",
       "      <td>0.000000</td>\n",
       "      <td>0.000000</td>\n",
       "      <td>0.000000</td>\n",
       "      <td>0.000000</td>\n",
       "      <td>0.000000</td>\n",
       "      <td>0.000000</td>\n",
       "      <td>0.000000</td>\n",
       "      <td>0.000000</td>\n",
       "      <td>0.000000</td>\n",
       "    </tr>\n",
       "    <tr>\n",
       "      <th>max</th>\n",
       "      <td>299999.000000</td>\n",
       "      <td>1.000000</td>\n",
       "      <td>1.000000</td>\n",
       "      <td>1.000000</td>\n",
       "      <td>1.000000</td>\n",
       "      <td>1.000000</td>\n",
       "      <td>3.000000</td>\n",
       "      <td>4.000000</td>\n",
       "      <td>5.000000</td>\n",
       "      <td>14.000000</td>\n",
       "      <td>...</td>\n",
       "      <td>1.000000</td>\n",
       "      <td>1.000000</td>\n",
       "      <td>1.000000</td>\n",
       "      <td>1.000000</td>\n",
       "      <td>1.000000</td>\n",
       "      <td>1.000000</td>\n",
       "      <td>1.000000</td>\n",
       "      <td>1.000000</td>\n",
       "      <td>1.000000</td>\n",
       "      <td>1.000000</td>\n",
       "    </tr>\n",
       "  </tbody>\n",
       "</table>\n",
       "<p>8 rows × 784 columns</p>\n",
       "</div>"
      ],
      "text/plain": [
       "                  id          bin_0          bin_1          bin_2  \\\n",
       "count  300000.000000  300000.000000  300000.000000  300000.000000   \n",
       "mean   149999.500000       0.127503       0.256607       0.383223   \n",
       "std     86602.684716       0.333537       0.436761       0.486173   \n",
       "min         0.000000       0.000000       0.000000       0.000000   \n",
       "25%     74999.750000       0.000000       0.000000       0.000000   \n",
       "50%    149999.500000       0.000000       0.000000       0.000000   \n",
       "75%    224999.250000       0.000000       1.000000       1.000000   \n",
       "max    299999.000000       1.000000       1.000000       1.000000   \n",
       "\n",
       "               bin_3          bin_4          ord_0          ord_1  \\\n",
       "count  300000.000000  300000.000000  300000.000000  300000.000000   \n",
       "mean        0.511783       0.638777       1.479567       1.622907   \n",
       "std         0.499862       0.480356       0.712524       1.677608   \n",
       "min         0.000000       0.000000       1.000000       0.000000   \n",
       "25%         0.000000       0.000000       1.000000       0.000000   \n",
       "50%         1.000000       1.000000       1.000000       1.000000   \n",
       "75%         1.000000       1.000000       2.000000       4.000000   \n",
       "max         1.000000       1.000000       3.000000       4.000000   \n",
       "\n",
       "               ord_2          ord_3  ...  nom_6_fc613f31d  nom_6_fc791ebea  \\\n",
       "count  300000.000000  300000.000000  ...    300000.000000    300000.000000   \n",
       "mean        2.339350       6.609097  ...         0.000680         0.001127   \n",
       "std         2.031744       3.829374  ...         0.026068         0.033547   \n",
       "min         0.000000       0.000000  ...         0.000000         0.000000   \n",
       "25%         0.000000       4.000000  ...         0.000000         0.000000   \n",
       "50%         2.000000       7.000000  ...         0.000000         0.000000   \n",
       "75%         4.000000      10.000000  ...         0.000000         0.000000   \n",
       "max         5.000000      14.000000  ...         1.000000         1.000000   \n",
       "\n",
       "       nom_6_fc88900c4  nom_6_fc88d723d  nom_6_fd2344f16  nom_6_fd9370b9e  \\\n",
       "count    300000.000000    300000.000000    300000.000000    300000.000000   \n",
       "mean          0.002690         0.000977         0.001347         0.002883   \n",
       "std           0.051795         0.031236         0.036672         0.053619   \n",
       "min           0.000000         0.000000         0.000000         0.000000   \n",
       "25%           0.000000         0.000000         0.000000         0.000000   \n",
       "50%           0.000000         0.000000         0.000000         0.000000   \n",
       "75%           0.000000         0.000000         0.000000         0.000000   \n",
       "max           1.000000         1.000000         1.000000         1.000000   \n",
       "\n",
       "       nom_6_fe0b55cd2  nom_6_fe0cddc2c  nom_6_fe77c71bd  nom_6_ffc60be1c  \n",
       "count    300000.000000    300000.000000    300000.000000    300000.000000  \n",
       "mean          0.000227         0.001153         0.000800         0.001930  \n",
       "std           0.015054         0.033941         0.028273         0.043889  \n",
       "min           0.000000         0.000000         0.000000         0.000000  \n",
       "25%           0.000000         0.000000         0.000000         0.000000  \n",
       "50%           0.000000         0.000000         0.000000         0.000000  \n",
       "75%           0.000000         0.000000         0.000000         0.000000  \n",
       "max           1.000000         1.000000         1.000000         1.000000  \n",
       "\n",
       "[8 rows x 784 columns]"
      ]
     },
     "execution_count": 56,
     "metadata": {},
     "output_type": "execute_result"
    }
   ],
   "source": [
    "train_new.describe()"
   ]
  },
  {
   "cell_type": "code",
   "execution_count": 69,
   "metadata": {},
   "outputs": [],
   "source": [
    "x = train_new.drop(['id' , 'target'], axis = 'columns')"
   ]
  },
  {
   "cell_type": "code",
   "execution_count": 70,
   "metadata": {},
   "outputs": [],
   "source": [
    "y = train_new['target']"
   ]
  },
  {
   "attachments": {},
   "cell_type": "markdown",
   "metadata": {},
   "source": [
    "# Model Building -- Bagging Classifier"
   ]
  },
  {
   "cell_type": "code",
   "execution_count": 71,
   "metadata": {},
   "outputs": [],
   "source": [
    "model = BaggingClassifier(oob_score = True ,n_jobs=-1, n_estimators= 100, random_state= 400,\n",
    "                            base_estimator=DecisionTreeClassifier())"
   ]
  },
  {
   "cell_type": "code",
   "execution_count": 72,
   "metadata": {},
   "outputs": [
    {
     "ename": "MemoryError",
     "evalue": "Unable to allocate 1.75 GiB for an array with shape (782, 300000) and data type float64",
     "output_type": "error",
     "traceback": [
      "\u001b[1;31m---------------------------------------------------------------------------\u001b[0m",
      "\u001b[1;31m_RemoteTraceback\u001b[0m                          Traceback (most recent call last)",
      "\u001b[1;31m_RemoteTraceback\u001b[0m: \n\"\"\"\nTraceback (most recent call last):\n  File \"c:\\Users\\sunee\\anaconda3\\lib\\site-packages\\joblib\\externals\\loky\\process_executor.py\", line 436, in _process_worker\n    r = call_item()\n  File \"c:\\Users\\sunee\\anaconda3\\lib\\site-packages\\joblib\\externals\\loky\\process_executor.py\", line 288, in __call__\n    return self.fn(*self.args, **self.kwargs)\n  File \"c:\\Users\\sunee\\anaconda3\\lib\\site-packages\\joblib\\_parallel_backends.py\", line 595, in __call__\n    return self.func(*args, **kwargs)\n  File \"c:\\Users\\sunee\\anaconda3\\lib\\site-packages\\joblib\\parallel.py\", line 263, in __call__\n    return [func(*args, **kwargs)\n  File \"c:\\Users\\sunee\\anaconda3\\lib\\site-packages\\joblib\\parallel.py\", line 263, in <listcomp>\n    return [func(*args, **kwargs)\n  File \"c:\\Users\\sunee\\anaconda3\\lib\\site-packages\\sklearn\\utils\\fixes.py\", line 216, in __call__\n    return self.function(*args, **kwargs)\n  File \"c:\\Users\\sunee\\anaconda3\\lib\\site-packages\\sklearn\\ensemble\\_bagging.py\", line 123, in _parallel_build_estimators\n    estimator.fit(X[:, features], y, sample_weight=curr_sample_weight)\n  File \"c:\\Users\\sunee\\anaconda3\\lib\\site-packages\\numpy\\core\\memmap.py\", line 334, in __getitem__\n    res = super().__getitem__(index)\nnumpy.core._exceptions._ArrayMemoryError: Unable to allocate 1.75 GiB for an array with shape (782, 300000) and data type float64\n\"\"\"",
      "\nThe above exception was the direct cause of the following exception:\n",
      "\u001b[1;31mMemoryError\u001b[0m                               Traceback (most recent call last)",
      "Cell \u001b[1;32mIn[72], line 1\u001b[0m\n\u001b[1;32m----> 1\u001b[0m model\u001b[39m.\u001b[39;49mfit(x,y)\n",
      "File \u001b[1;32mc:\\Users\\sunee\\anaconda3\\lib\\site-packages\\sklearn\\ensemble\\_bagging.py:269\u001b[0m, in \u001b[0;36mBaseBagging.fit\u001b[1;34m(self, X, y, sample_weight)\u001b[0m\n\u001b[0;32m    260\u001b[0m \u001b[39m# Convert data (X is required to be 2d and indexable)\u001b[39;00m\n\u001b[0;32m    261\u001b[0m X, y \u001b[39m=\u001b[39m \u001b[39mself\u001b[39m\u001b[39m.\u001b[39m_validate_data(\n\u001b[0;32m    262\u001b[0m     X,\n\u001b[0;32m    263\u001b[0m     y,\n\u001b[1;32m   (...)\u001b[0m\n\u001b[0;32m    267\u001b[0m     multi_output\u001b[39m=\u001b[39m\u001b[39mTrue\u001b[39;00m,\n\u001b[0;32m    268\u001b[0m )\n\u001b[1;32m--> 269\u001b[0m \u001b[39mreturn\u001b[39;00m \u001b[39mself\u001b[39;49m\u001b[39m.\u001b[39;49m_fit(X, y, \u001b[39mself\u001b[39;49m\u001b[39m.\u001b[39;49mmax_samples, sample_weight\u001b[39m=\u001b[39;49msample_weight)\n",
      "File \u001b[1;32mc:\\Users\\sunee\\anaconda3\\lib\\site-packages\\sklearn\\ensemble\\_bagging.py:394\u001b[0m, in \u001b[0;36mBaseBagging._fit\u001b[1;34m(self, X, y, max_samples, max_depth, sample_weight)\u001b[0m\n\u001b[0;32m    391\u001b[0m seeds \u001b[39m=\u001b[39m random_state\u001b[39m.\u001b[39mrandint(MAX_INT, size\u001b[39m=\u001b[39mn_more_estimators)\n\u001b[0;32m    392\u001b[0m \u001b[39mself\u001b[39m\u001b[39m.\u001b[39m_seeds \u001b[39m=\u001b[39m seeds\n\u001b[1;32m--> 394\u001b[0m all_results \u001b[39m=\u001b[39m Parallel(\n\u001b[0;32m    395\u001b[0m     n_jobs\u001b[39m=\u001b[39;49mn_jobs, verbose\u001b[39m=\u001b[39;49m\u001b[39mself\u001b[39;49m\u001b[39m.\u001b[39;49mverbose, \u001b[39m*\u001b[39;49m\u001b[39m*\u001b[39;49m\u001b[39mself\u001b[39;49m\u001b[39m.\u001b[39;49m_parallel_args()\n\u001b[0;32m    396\u001b[0m )(\n\u001b[0;32m    397\u001b[0m     delayed(_parallel_build_estimators)(\n\u001b[0;32m    398\u001b[0m         n_estimators[i],\n\u001b[0;32m    399\u001b[0m         \u001b[39mself\u001b[39;49m,\n\u001b[0;32m    400\u001b[0m         X,\n\u001b[0;32m    401\u001b[0m         y,\n\u001b[0;32m    402\u001b[0m         sample_weight,\n\u001b[0;32m    403\u001b[0m         seeds[starts[i] : starts[i \u001b[39m+\u001b[39;49m \u001b[39m1\u001b[39;49m]],\n\u001b[0;32m    404\u001b[0m         total_n_estimators,\n\u001b[0;32m    405\u001b[0m         verbose\u001b[39m=\u001b[39;49m\u001b[39mself\u001b[39;49m\u001b[39m.\u001b[39;49mverbose,\n\u001b[0;32m    406\u001b[0m     )\n\u001b[0;32m    407\u001b[0m     \u001b[39mfor\u001b[39;49;00m i \u001b[39min\u001b[39;49;00m \u001b[39mrange\u001b[39;49m(n_jobs)\n\u001b[0;32m    408\u001b[0m )\n\u001b[0;32m    410\u001b[0m \u001b[39m# Reduce\u001b[39;00m\n\u001b[0;32m    411\u001b[0m \u001b[39mself\u001b[39m\u001b[39m.\u001b[39mestimators_ \u001b[39m+\u001b[39m\u001b[39m=\u001b[39m \u001b[39mlist\u001b[39m(\n\u001b[0;32m    412\u001b[0m     itertools\u001b[39m.\u001b[39mchain\u001b[39m.\u001b[39mfrom_iterable(t[\u001b[39m0\u001b[39m] \u001b[39mfor\u001b[39;00m t \u001b[39min\u001b[39;00m all_results)\n\u001b[0;32m    413\u001b[0m )\n",
      "File \u001b[1;32mc:\\Users\\sunee\\anaconda3\\lib\\site-packages\\joblib\\parallel.py:1061\u001b[0m, in \u001b[0;36mParallel.__call__\u001b[1;34m(self, iterable)\u001b[0m\n\u001b[0;32m   1058\u001b[0m     \u001b[39mself\u001b[39m\u001b[39m.\u001b[39m_iterating \u001b[39m=\u001b[39m \u001b[39mFalse\u001b[39;00m\n\u001b[0;32m   1060\u001b[0m \u001b[39mwith\u001b[39;00m \u001b[39mself\u001b[39m\u001b[39m.\u001b[39m_backend\u001b[39m.\u001b[39mretrieval_context():\n\u001b[1;32m-> 1061\u001b[0m     \u001b[39mself\u001b[39;49m\u001b[39m.\u001b[39;49mretrieve()\n\u001b[0;32m   1062\u001b[0m \u001b[39m# Make sure that we get a last message telling us we are done\u001b[39;00m\n\u001b[0;32m   1063\u001b[0m elapsed_time \u001b[39m=\u001b[39m time\u001b[39m.\u001b[39mtime() \u001b[39m-\u001b[39m \u001b[39mself\u001b[39m\u001b[39m.\u001b[39m_start_time\n",
      "File \u001b[1;32mc:\\Users\\sunee\\anaconda3\\lib\\site-packages\\joblib\\parallel.py:938\u001b[0m, in \u001b[0;36mParallel.retrieve\u001b[1;34m(self)\u001b[0m\n\u001b[0;32m    936\u001b[0m \u001b[39mtry\u001b[39;00m:\n\u001b[0;32m    937\u001b[0m     \u001b[39mif\u001b[39;00m \u001b[39mgetattr\u001b[39m(\u001b[39mself\u001b[39m\u001b[39m.\u001b[39m_backend, \u001b[39m'\u001b[39m\u001b[39msupports_timeout\u001b[39m\u001b[39m'\u001b[39m, \u001b[39mFalse\u001b[39;00m):\n\u001b[1;32m--> 938\u001b[0m         \u001b[39mself\u001b[39m\u001b[39m.\u001b[39m_output\u001b[39m.\u001b[39mextend(job\u001b[39m.\u001b[39;49mget(timeout\u001b[39m=\u001b[39;49m\u001b[39mself\u001b[39;49m\u001b[39m.\u001b[39;49mtimeout))\n\u001b[0;32m    939\u001b[0m     \u001b[39melse\u001b[39;00m:\n\u001b[0;32m    940\u001b[0m         \u001b[39mself\u001b[39m\u001b[39m.\u001b[39m_output\u001b[39m.\u001b[39mextend(job\u001b[39m.\u001b[39mget())\n",
      "File \u001b[1;32mc:\\Users\\sunee\\anaconda3\\lib\\site-packages\\joblib\\_parallel_backends.py:542\u001b[0m, in \u001b[0;36mLokyBackend.wrap_future_result\u001b[1;34m(future, timeout)\u001b[0m\n\u001b[0;32m    539\u001b[0m \u001b[39m\"\"\"Wrapper for Future.result to implement the same behaviour as\u001b[39;00m\n\u001b[0;32m    540\u001b[0m \u001b[39mAsyncResults.get from multiprocessing.\"\"\"\u001b[39;00m\n\u001b[0;32m    541\u001b[0m \u001b[39mtry\u001b[39;00m:\n\u001b[1;32m--> 542\u001b[0m     \u001b[39mreturn\u001b[39;00m future\u001b[39m.\u001b[39;49mresult(timeout\u001b[39m=\u001b[39;49mtimeout)\n\u001b[0;32m    543\u001b[0m \u001b[39mexcept\u001b[39;00m CfTimeoutError \u001b[39mas\u001b[39;00m e:\n\u001b[0;32m    544\u001b[0m     \u001b[39mraise\u001b[39;00m \u001b[39mTimeoutError\u001b[39;00m \u001b[39mfrom\u001b[39;00m \u001b[39me\u001b[39;00m\n",
      "File \u001b[1;32mc:\\Users\\sunee\\anaconda3\\lib\\concurrent\\futures\\_base.py:439\u001b[0m, in \u001b[0;36mFuture.result\u001b[1;34m(self, timeout)\u001b[0m\n\u001b[0;32m    437\u001b[0m     \u001b[39mraise\u001b[39;00m CancelledError()\n\u001b[0;32m    438\u001b[0m \u001b[39melif\u001b[39;00m \u001b[39mself\u001b[39m\u001b[39m.\u001b[39m_state \u001b[39m==\u001b[39m FINISHED:\n\u001b[1;32m--> 439\u001b[0m     \u001b[39mreturn\u001b[39;00m \u001b[39mself\u001b[39;49m\u001b[39m.\u001b[39;49m__get_result()\n\u001b[0;32m    441\u001b[0m \u001b[39mself\u001b[39m\u001b[39m.\u001b[39m_condition\u001b[39m.\u001b[39mwait(timeout)\n\u001b[0;32m    443\u001b[0m \u001b[39mif\u001b[39;00m \u001b[39mself\u001b[39m\u001b[39m.\u001b[39m_state \u001b[39min\u001b[39;00m [CANCELLED, CANCELLED_AND_NOTIFIED]:\n",
      "File \u001b[1;32mc:\\Users\\sunee\\anaconda3\\lib\\concurrent\\futures\\_base.py:391\u001b[0m, in \u001b[0;36mFuture.__get_result\u001b[1;34m(self)\u001b[0m\n\u001b[0;32m    389\u001b[0m \u001b[39mif\u001b[39;00m \u001b[39mself\u001b[39m\u001b[39m.\u001b[39m_exception:\n\u001b[0;32m    390\u001b[0m     \u001b[39mtry\u001b[39;00m:\n\u001b[1;32m--> 391\u001b[0m         \u001b[39mraise\u001b[39;00m \u001b[39mself\u001b[39m\u001b[39m.\u001b[39m_exception\n\u001b[0;32m    392\u001b[0m     \u001b[39mfinally\u001b[39;00m:\n\u001b[0;32m    393\u001b[0m         \u001b[39m# Break a reference cycle with the exception in self._exception\u001b[39;00m\n\u001b[0;32m    394\u001b[0m         \u001b[39mself\u001b[39m \u001b[39m=\u001b[39m \u001b[39mNone\u001b[39;00m\n",
      "\u001b[1;31mMemoryError\u001b[0m: Unable to allocate 1.75 GiB for an array with shape (782, 300000) and data type float64"
     ]
    }
   ],
   "source": [
    "model.fit(x,y)"
   ]
  },
  {
   "cell_type": "code",
   "execution_count": 75,
   "metadata": {},
   "outputs": [
    {
     "data": {
      "text/plain": [
       "array([0, 0, 0, ..., 0, 1, 0], dtype=int64)"
      ]
     },
     "execution_count": 75,
     "metadata": {},
     "output_type": "execute_result"
    }
   ],
   "source": [
    "model.oob_score_"
   ]
  },
  {
   "cell_type": "code",
   "execution_count": 86,
   "metadata": {},
   "outputs": [
    {
     "data": {
      "text/plain": [
       "0.7609933333333333"
      ]
     },
     "execution_count": 86,
     "metadata": {},
     "output_type": "execute_result"
    }
   ],
   "source": [
    "model.score(x,y)"
   ]
  },
  {
   "cell_type": "code",
   "execution_count": 87,
   "metadata": {},
   "outputs": [],
   "source": [
    "test_x = test_new.drop(['id'], axis = 'columns')\n",
    "ids = test_new['id']"
   ]
  },
  {
   "cell_type": "code",
   "execution_count": 82,
   "metadata": {},
   "outputs": [],
   "source": [
    "x.drop(['nom_7_3460d7c4b'], axis='columns', inplace=True)"
   ]
  },
  {
   "cell_type": "code",
   "execution_count": 88,
   "metadata": {},
   "outputs": [],
   "source": [
    "result = model.predict(test_x)"
   ]
  },
  {
   "cell_type": "code",
   "execution_count": 89,
   "metadata": {},
   "outputs": [],
   "source": [
    "result = pd.DataFrame(result, columns=['target'])"
   ]
  },
  {
   "cell_type": "code",
   "execution_count": 90,
   "metadata": {},
   "outputs": [
    {
     "data": {
      "text/html": [
       "<div>\n",
       "<style scoped>\n",
       "    .dataframe tbody tr th:only-of-type {\n",
       "        vertical-align: middle;\n",
       "    }\n",
       "\n",
       "    .dataframe tbody tr th {\n",
       "        vertical-align: top;\n",
       "    }\n",
       "\n",
       "    .dataframe thead th {\n",
       "        text-align: right;\n",
       "    }\n",
       "</style>\n",
       "<table border=\"1\" class=\"dataframe\">\n",
       "  <thead>\n",
       "    <tr style=\"text-align: right;\">\n",
       "      <th></th>\n",
       "      <th>id</th>\n",
       "      <th>target</th>\n",
       "    </tr>\n",
       "  </thead>\n",
       "  <tbody>\n",
       "    <tr>\n",
       "      <th>0</th>\n",
       "      <td>300000</td>\n",
       "      <td>0</td>\n",
       "    </tr>\n",
       "    <tr>\n",
       "      <th>1</th>\n",
       "      <td>300001</td>\n",
       "      <td>1</td>\n",
       "    </tr>\n",
       "    <tr>\n",
       "      <th>2</th>\n",
       "      <td>300002</td>\n",
       "      <td>0</td>\n",
       "    </tr>\n",
       "    <tr>\n",
       "      <th>3</th>\n",
       "      <td>300003</td>\n",
       "      <td>0</td>\n",
       "    </tr>\n",
       "    <tr>\n",
       "      <th>4</th>\n",
       "      <td>300004</td>\n",
       "      <td>1</td>\n",
       "    </tr>\n",
       "    <tr>\n",
       "      <th>...</th>\n",
       "      <td>...</td>\n",
       "      <td>...</td>\n",
       "    </tr>\n",
       "    <tr>\n",
       "      <th>199995</th>\n",
       "      <td>499995</td>\n",
       "      <td>0</td>\n",
       "    </tr>\n",
       "    <tr>\n",
       "      <th>199996</th>\n",
       "      <td>499996</td>\n",
       "      <td>0</td>\n",
       "    </tr>\n",
       "    <tr>\n",
       "      <th>199997</th>\n",
       "      <td>499997</td>\n",
       "      <td>0</td>\n",
       "    </tr>\n",
       "    <tr>\n",
       "      <th>199998</th>\n",
       "      <td>499998</td>\n",
       "      <td>1</td>\n",
       "    </tr>\n",
       "    <tr>\n",
       "      <th>199999</th>\n",
       "      <td>499999</td>\n",
       "      <td>0</td>\n",
       "    </tr>\n",
       "  </tbody>\n",
       "</table>\n",
       "<p>200000 rows × 2 columns</p>\n",
       "</div>"
      ],
      "text/plain": [
       "            id  target\n",
       "0       300000       0\n",
       "1       300001       1\n",
       "2       300002       0\n",
       "3       300003       0\n",
       "4       300004       1\n",
       "...        ...     ...\n",
       "199995  499995       0\n",
       "199996  499996       0\n",
       "199997  499997       0\n",
       "199998  499998       1\n",
       "199999  499999       0\n",
       "\n",
       "[200000 rows x 2 columns]"
      ]
     },
     "execution_count": 90,
     "metadata": {},
     "output_type": "execute_result"
    }
   ],
   "source": [
    "result1 = pd.merge(ids, result, left_index=True, right_index=True)\n",
    "result1"
   ]
  },
  {
   "cell_type": "code",
   "execution_count": 91,
   "metadata": {},
   "outputs": [],
   "source": [
    "result1.to_csv('./data/submission.csv', index=False)"
   ]
  }
 ],
 "metadata": {
  "kernelspec": {
   "display_name": "base",
   "language": "python",
   "name": "python3"
  },
  "language_info": {
   "codemirror_mode": {
    "name": "ipython",
    "version": 3
   },
   "file_extension": ".py",
   "mimetype": "text/x-python",
   "name": "python",
   "nbconvert_exporter": "python",
   "pygments_lexer": "ipython3",
   "version": "3.9.15 (main, Nov 24 2022, 14:39:17) [MSC v.1916 64 bit (AMD64)]"
  },
  "orig_nbformat": 4,
  "vscode": {
   "interpreter": {
    "hash": "7497a13003811730c0c84960e2001d2d4749441de9d551a5070987f9a6bc4334"
   }
  }
 },
 "nbformat": 4,
 "nbformat_minor": 2
}
