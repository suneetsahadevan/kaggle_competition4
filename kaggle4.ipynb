{
 "cells": [
  {
   "attachments": {},
   "cell_type": "markdown",
   "metadata": {},
   "source": [
    "# Import Modules"
   ]
  },
  {
   "cell_type": "code",
   "execution_count": 1,
   "metadata": {},
   "outputs": [],
   "source": [
    "import pandas as pd\n",
    "import numpy as np\n",
    "import matplotlib.pyplot as plt\n",
    "import seaborn as sns\n",
    "from sklearn.preprocessing import OrdinalEncoder\n",
    "from sklearn.linear_model import LogisticRegression\n",
    "from sklearn.ensemble import RandomForestClassifier\n",
    "#from sklearn.metrics import classification_report, confusion_matrix\n",
    "#from sklearn.ensemble import GradientBoostingRegressor"
   ]
  },
  {
   "attachments": {},
   "cell_type": "markdown",
   "metadata": {},
   "source": [
    "# Import Data"
   ]
  },
  {
   "cell_type": "code",
   "execution_count": 2,
   "metadata": {},
   "outputs": [],
   "source": [
    "train = pd.read_csv('./data/train.csv')\n",
    "test = pd.read_csv('./data/test.csv')\n",
    "sample = pd.read_csv('./data/sample_submission.csv')"
   ]
  },
  {
   "attachments": {},
   "cell_type": "markdown",
   "metadata": {},
   "source": [
    "# Explore the Data"
   ]
  },
  {
   "cell_type": "code",
   "execution_count": 3,
   "metadata": {},
   "outputs": [
    {
     "name": "stdout",
     "output_type": "stream",
     "text": [
      "<class 'pandas.core.frame.DataFrame'>\n",
      "RangeIndex: 300000 entries, 0 to 299999\n",
      "Data columns (total 25 columns):\n",
      " #   Column  Non-Null Count   Dtype \n",
      "---  ------  --------------   ----- \n",
      " 0   id      300000 non-null  int64 \n",
      " 1   bin_0   300000 non-null  int64 \n",
      " 2   bin_1   300000 non-null  int64 \n",
      " 3   bin_2   300000 non-null  int64 \n",
      " 4   bin_3   300000 non-null  object\n",
      " 5   bin_4   300000 non-null  object\n",
      " 6   nom_0   300000 non-null  object\n",
      " 7   nom_1   300000 non-null  object\n",
      " 8   nom_2   300000 non-null  object\n",
      " 9   nom_3   300000 non-null  object\n",
      " 10  nom_4   300000 non-null  object\n",
      " 11  nom_5   300000 non-null  object\n",
      " 12  nom_6   300000 non-null  object\n",
      " 13  nom_7   300000 non-null  object\n",
      " 14  nom_8   300000 non-null  object\n",
      " 15  nom_9   300000 non-null  object\n",
      " 16  ord_0   300000 non-null  int64 \n",
      " 17  ord_1   300000 non-null  object\n",
      " 18  ord_2   300000 non-null  object\n",
      " 19  ord_3   300000 non-null  object\n",
      " 20  ord_4   300000 non-null  object\n",
      " 21  ord_5   300000 non-null  object\n",
      " 22  day     300000 non-null  int64 \n",
      " 23  month   300000 non-null  int64 \n",
      " 24  target  300000 non-null  int64 \n",
      "dtypes: int64(8), object(17)\n",
      "memory usage: 57.2+ MB\n"
     ]
    }
   ],
   "source": [
    "train.info()"
   ]
  },
  {
   "cell_type": "code",
   "execution_count": 4,
   "metadata": {},
   "outputs": [
    {
     "name": "stdout",
     "output_type": "stream",
     "text": [
      "bin_3 ['T', 'F']\n",
      "bin_4 ['Y', 'N']\n",
      "nom_0 ['Green', 'Blue', 'Red']\n",
      "nom_1 ['Triangle', 'Trapezoid', 'Polygon', 'Square', 'Star', 'Circle']\n",
      "nom_2 ['Snake', 'Hamster', 'Lion', 'Cat', 'Dog', 'Axolotl']\n",
      "nom_3 ['Finland', 'Russia', 'Canada', 'Costa Rica', 'China', 'India']\n",
      "nom_4 ['Bassoon', 'Piano', 'Theremin', 'Oboe']\n",
      "nom_5 ['50f116bcf', 'b3b4d25d0', '3263bdce5', 'f12246592', '5b0f5acd5', '46cab09da', 'be5592604', '72f8028dc', '4604905e7', 'ad95dc0ee', '2ff007c26', 'a35c346aa', 'dbfb714a4', 'e1558b071', '39647c92a', 'ee55b9d67', '416a8f3ab', '91bde92fa', '3aa9329e2', '568550f04', 'caf83c0b5', '908a1b9c9', 'e844a1f66', 'dbc448931', '2979f0d45', '96c73114c', 'b7bb45938', '7da3e4aec', 'be4578201', 'dc07effb0', '88917a066', 'f2d59cf51', '5d18641ff', '9347491f2', '475e79160', 'e70a6270d', '5b1a9f841', 'e0efe9d20', 'd1b1709e8', '9bb7ea2da', '6fec43dd8', '0dee9b39a', '527ded12a', '321bf770e', 'f7821e391', '0de4acd31', '185ba0a59', '4845cc770', 'bdb9fef4a', '3fef1a765', '2cc9e16b9', 'fd04a970f', '81f9d3312', '30a15b6bd', '8dcf8adfb', '83b38aa6b', '74bd42d5f', '5a94fc1d9', '4e1b529f6', '8d5d9f3db', '472efea17', '740fb99a9', '075ceb58b', '0ef5c1879', '640e1fdd5', 'a3f640358', 'c5725677e', '3b5632a0c', '534be2753', '30a530eab', '7ee26092e', 'c0534106d', '713ad10a7', '9ad6558d1', 'ef38568df', 'de04b8750', 'bd40c81f3', 'ade526ba7', '4e28ceffa', '1305d6e77', '3585ff84b', 'b0c8dba76', '33adb4760', '66669a44f', '9ba4e87a7', 'f50eb07ae', '29e7f8525', 'd9becff68', '159a7306f', 'a5c276589', '0870880f6', '92190168b', '5a466e166', 'e7d9ca356', 'd372c8993', 'b0faff28f', 'e5b29c42b', 'b97f51ac4', '778fdbe56', 'f0c1ceee4', '8266050c6', '6f70dc2df', '84b0081ad', '4464569ee', 'e85ec20b5', '91ea3e4dd', 'e6f45aa26', '488406659', '1e6cb96e8', 'f9d17bb93', '40e0157b1', 'e9f44a509', '493de6347', 'f8faea16f', '0eb46e992', '63f642dd9', '1f1702d2f', '71583d387', 'c2843dc45', '2e7f4d636', '6a2269152', '924346656', '6cd0619e0', '91a20b464', '3685a0904', '0de5598a9', '3aabfa2fc', '115a252ba', 'eb69430d6', '05950689f', '037bd73d8', '81264f81f', '19db35594', '005dd4ce3', '20b10a832', 'ddac78300', 'baab29d3d', 'bd7740b93', '524b3f349', '60a44c8f4', '8573fa81a', '35f65a9bf', '372f6d6ce', 'af088d192', 'e52fbf1c8', '49f4b29cc', 'a9ed6dfea', 'b8d451029', 'a3471b9d9', '06eeaf0aa', 'f6c524860', 'df51b96fc', '479fd7aea', 'dd500b26a', '7e9cb0f9a', 'db5e25328', '2d61990e2', '2cadfed8e', 'e428c040e', '4f7d91943', '88707c9ab', '76be0b8b1', '1bd1068d9', '0b3bec656', 'a51e7974e', '85159d577', '96c83ac09', '6c90f81cd', 'a93b89fc9', '0bdf8165a', 'da60580a8', 'f2a6d797b', '7741f57bd', '2a0e95ba1', 'ead12da87', 'e08092732', '176809a41', 'ca82ad111', '17a3709ae', '3271e5526', '4173a0252', '116f7e3e2', 'defc6dd20', 'e9c6fe0f7', '4f2b65e1e', '0870b0a5d', '552e3fdc9', '05d5943a3', '586b51342', '79923828f', '077fd9465', 'f9e5266f9', '6020a8124', '8cf6c9f74', '09a4ad97d', 'b4c8e6595', 'fa0a88fe9', '59e434d8a', '200009fc3', '59497d53c', '77b08badd', 'eb0004a0b', '34ad60330', '3283ca434', '2cac4af40', 'f802a9849', 'c08ba4f4c', '09ed0a686', '5f7065a42', 'a21564cab', '7a12c88d2', '82d1a6dbb', '9ecc58be1', 'd3079098d', '4ebe94c28', '448a66834', '46bd3558d', '91c80026f', '88f104c00', 'f710fca39', '5331f98fb', '1fd0233cd']\n",
      "nom_6 ['3ac1b8814', 'fbcb50fc1', '0922e3cb8', '50d7ad46a', '1fe17a1fd', '29a854620', '3393a0f78', '55eed5058', '3e44d44eb', '8ed6221ae', '153316f52', '6ea52a806', '1795ef28b', '628f3170f', '08b282a6c', '395941181', 'd44f7245a', '78500847e', '9448b8e3b', '9b1c3c8b7', 'be5a0f5a9', '687eaba3e', '5d7c5c023', '92f461454', 'cd8e3a0a7', 'f24d83141', '16dfb662a', 'cefab1020', '508ff88dc', '6d2cd10c5', 'ddb583aa3', '2eadb68c5', '854f72f28', '42b1cc2fd', 'fa2bf5f22', '8fec7bc42', 'fc4518443', 'bc82e0ba0', '1ad744242', '5cbbea089', '8fb440e53', 'af9278b96', '180a3d6cb', 'e10910468', '2ed5a94b0', '2a22b315e', '55a24a71b', 'c3517eaeb', 'cf82b283d', '0b10fcecc', 'a028c07af', 'd213f48ed', '5a5e620b3', 'c023e914a', '9f53d30ad', '2d9852300', '8cc791aa8', '54474e8d8', '36df19a6e', '0bcb379d8', '7dd3f58e9', '975346729', '96c110558', '8bb163a87', 'df5b440ae', 'd760c59b0', 'e3396fbd5', 'f497b97d7', 'd405aebc1', '6c0354890', '8c9d16cc3', '9e0a099c7', 'fac5eff9e', 'c9eedfbc2', '44e4c0bba', 'c8436c277', 'acf5b10dd', 'a405b7cf0', 'dfb9bd114', 'b69c236cb', 'b8caba53f', '126a4f83d', '2df6f79a2', '565a89e93', '29e27ff9d', '2268327b2', 'fb80a804f', 'a406a5f12', '3bac0bd8e', 'ea7a1aaf6', 'ec5064acb', 'f083d48ad', 'd4fd01769', 'fd9370b9e', 'a9925d0e5', '09e796196', '603232dea', 'd43e63dc9', '5194690a0', 'cf8b12b4e', 'dfb457d2a', 'a26bedd00', '3c5d81a52', '3b9693870', '96abdfa66', 'd88fca3ba', 'eeda68203', '487c32dfa', 'c135cdf77', 'd4d727716', '5755f93b2', '642fcc7be', '4c1bdbe7b', 'efa38c99d', '6d7f8c086', '7112aaf8e', 'e0664a4d3', 'aed51f2c9', '02d689659', '7d8bc814a', '70a942fc1', '2cd425e1f', '63d0e6105', 'e77244b50', '839a6bcdb', '18a901239', 'fc613f31d', '0e2f036b5', 'ae67aec36', 'f14fe8bc5', 'fc88900c4', 'fbbdfc611', '71c68195d', '718fd9453', 'c73e4dfe1', '20dc501c6', '89e65bb86', '21e2c2d57', '017eb57f0', 'dee9cf5e9', '9abb2ac1a', 'ec416c384', '0d50f61fd', '36282e811', '113deddc9', 'df184daf2', 'd166613dc', '8bd314488', '1abac47d0', 'fe0cddc2c', '5c4ee13e3', 'f461f837c', '24a1bea30', '498b2bdcb', 'ebd664cd6', 'e2559b9ab', 'b628a222c', 'dc0536549', '2bdc0a5d0', '5cabda141', 'b321e8ee3', '9218550d8', '29b650229', 'f0c4b23ef', '520806ce2', '4f849ad2d', 'e550bcc1b', '34256b89f', '309e105f1', '2f6efc190', 'df91d98af', '8bbe5580d', '3e41282ec', '77ad092c1', 'afebf0803', 'edb3cf6c8', '4e6cc8696', 'b5f4a755a', 'bb219c9ac', '1869e63b0', '32b4b12b1', 'ea64fbdeb', '40ac3fcd5', 'd9004c5c2', '4daee3baf', '9a16c7c8f', '9ceb19dd6', '063f4307d', '85885b27e', '27828c378', '7909ef46d', '8518cecf3', 'baef8ee7b', 'c103290d4', 'cae4fb7f2', '74e0be86d', '882ce2ad7', 'cebefe5b5', '0302f1ffc', '0b23e3352', 'c79a72c72', 'c75b3104a', 'e16557b2b', 'adfb4cba3', '01455237a', 'f36d9a851', '031d49dfc', 'cd225807c', 'c0f1061ee', 'dd1dbed78', '5786b10d7', 'b1faf70a1', 'f425b1c8c', '612641073', 'd76a148ab', 'c36cea1f7', '90ba6c9a6', 'b511f5bff', '6046454de', 'c06f1b9f7', '6f438920f', '6057ca561', 'b1c48d202', '65aae1692', '50e49ea04', 'db64717a3', 'db35bbdcb', '57aa15561', 'bf82c01fa', '5fa8beadb', 'e63f69ba1', '25d3a1087', '28b8e5350', 'ac8c42404', '9972df3b0', '2473094a9', 'c9a951efa', '32be571ee', '5b2d457f3', '9afd9530d', '86021cf04', 'a520e2537', '7e240024b', 'aed128d19', '66e2654cb', '0aeb8fe13', '43b8c397b', 'f134870d4', 'a6542cec0', '8fbaca82e', '4990652ec', '06835761e', 'b9f08dc06', '49bceb215', '97b6a3518', '28645754b', '338b8a987', '8817e18d1', '37868097a', '6c90b0073', 'fa3f6d36f', 'd6f8634af', '7f3c463a8', 'b300717cf', '35f33a8ca', '80b2270f0', 'bd47c2363', 'ad1b42856', '32db19124', 'e495d6f0f', 'd95501ac1', 'fa498a5ae', '2c7fb8434', '5fd7600de', '322121abf', '1ab5e5ad6', '1611d2b45', '4cb66e369', 'd70a70804', '51f28e64c', '6eaaa8418', 'eaaf53f6a', '418e9e936', '3c1c64eaa', '96d5497a4', 'd173ac7ca', '4cf47e292', 'f8c5dc0e0', 'd942d1e82', '1ea13ded7', '46c89ef8d', '966f4a973', '71534b2a8', 'f7e243b5d', 'ec97e8751', 'bc31d6a6d', 'dce959dcb', 'a19d81efe', '8082e0409', '4b967eac4', '11698a0b3', '70994b28a', 'cd2fa6d62', '15ea6e2bb', 'b48077cc4', '8f897ec3c', 'c5cf1fdc4', '73dd803d0', '2546024d1', 'a20513779', '67bb6c9d7', '3c2b12c56', '944239e54', 'b238965eb', 'b73a8ae77', '20636817e', 'd42f2b9ec', 'a566016d6', '126c2e512', 'fd2344f16', '945aa2bc5', '7d13ad097', 'bedc798e7', '81d59974c', 'a78e38dad', '339c0fa05', '23311af90', 'cd94f29d1', '708e87b0e', '12d88c9c3', 'ffc60be1c', 'd2ce6b1c7', '68dd873e4', '6a53b5f5c', '89a937a9f', '78acf1908', '1c34a67d7', '51d5f02c1', '985c40910', 'b83511180', '54efb1985', '788ba7aea', '51477cd88', '19505136a', '309707034', 'beb20ea99', 'e7a7bf2e1', 'cad70d692', '116d9fcd9', '8fd64cb59', '5fc007fd3', '95572215a', '987d29cca', '162fc2192', '7a8736321', '8a34317cb', 'e4d51bdd5', '2936160c7', '67721d105', '097ff91b3', '79a82b7c0', 'c3c8b7b13', 'd83ae1b30', '74e5a0bce', '4fa3092a4', '860bb37b4', '5d47a598c', 'eaa89fbcc', '231233ca9', '2837cf7b8', 'e7073f6a2', '1b36c0b8c', '5ff2c0a8c', '73d7ca889', '5a49dd8f6', '43744dfd9', 'b2480a857', '485fc6466', '705cb7579', '077e720aa', '8d1b72979', '27e7dbafa', 'cbb210c0a', '9a70de492', '91e1a9d16', 'aee98fa47', '0ed70b7b1', 'd5febb6ef', '1537295c3', 'f64fe5bc0', 'e19cd8107', '800577110', '7185a30dc', '3c7643929', '49d1a98ef', '1573e6c5f', 'b3e59b54a', '0958071b5', 'd086fd85e', '3aa0689eb', 'd2c8f2916', 'fc791ebea', 'b639793f9', '944531331', 'd9e884466', 'c7201df85', '3ae0ef9f1', '0ef3dda96', '21cb526c2', '1e5e03a86', 'd9e131846', '5f57e7d4f', '8ad083b20', '4abed74f5', '8c8aa1d64', 'ac3e34eff', '19231be54', 'd804d7926', '803f6cece', 'd7fb439cc', 'ed8157b96', '1f2e3f148', '1c7f1ab58', '0249d8675', '144279ac1', '3afd0489b', 'ef1f6146b', 'fe77c71bd', 'bbc311f15', '9fbd66490', '4c6d8f959', '83f07ed50', '163b28322', 'fb1301ef6', '214f24d39', '2c4223dbd', 'f17881964', '3e6a88574', '145d17afb', '8584a02f4', '6c1a5aab7', '40994d768', '527a42dc2', 'bea839b58', 'e866d44ea', 'a148d86df', '310b1a988', '3e2b4aac9', '9a20c66da', '09f69436c', '78e45cd66', '3fe2d05f7', '5e881b059', '2119a6f87', 'd9025a066', '4c183f1ef', '292dea6ab', 'f53d92c1a', 'c0e4c4487', '7cb06ca3c', '99fffb9e9', '1f40b9ca8', 'b8cf041db', '9882f1fa0', 'cc8755307', '95a263224', 'eba84389c', '39981f199', '7322ea1c9', '907d87214', '75645dad3', '2ae2bd37c', 'd39b176b6', '329124d64', 'ae49fec17', 'ec93484e7', 'baf172f58', '989a51202', '435fd233e', 'b2c93e83d', '4d5fc69ae', 'b3f15d742', 'cfc8d0828', 'fc88d723d', 'a9b4474f4', 'e78ce8c35', '9d6fa150a', '0000ee65f', '00e9c15b8', 'f81cde28d', '76ef650e6', '437d8df71', 'b436c2568', '9a92bb693', 'fe0b55cd2', '70a040495', '0b17eaec7', 'ce528707a', '77ab97a87', '906c833b2', '782664588', 'e97824431', 'b7c276ed2', '7433a98da', '2d8a0cf5a', '576b27b37', 'b7d62cb4e', '0516fa0d8', '7cd1571c9', '17e0c4fa9', 'f4689e520', '556aa5d7a', '062cd9a70', '9c5ea36f8', '3fe8e9cba', '1ff467489', '82f75f00e', '27179d6e5', '8367b78fc', '28630a5c8', '26bf5ddd9', '4dcab4fc8']\n",
      "nom_7 ['68f6ad3e9', '3b6dd5612', 'a6a36f527', 'ec69236eb', '04ddac2be', 'ff5b35098', 'c6587685d', '2dd9daf45', '3f0057c9b', '4fbfe4a84', 'b23e16a87', 'd31f87228', '89f4255e4', '5a99b7d9f', '5ee5d882b', '00994f749', '91c26901a', 'd2d8eabdb', '5c843e08f', '22ff79d81', '68d88988b', '564a11aa1', '6206e88a7', '9ef0dc3ff', '0efe70958', '833708746', '6e0e3ec45', 'bb5a78030', '23adfa078', 'd2fddb57a', 'fcceb793d', '519829759', '37c413570', '9d6653dde', 'af5c8eb4f', '6af6214b1', 'e28b7e991', '7c033aaf1', '37d630065', 'fb6716e80', 'b9b8becf9', 'e0570ce05', '15c34fdba', 'c79fbc620', '12e6161c9', '7763f2131', 'c55ec51a8', '9b3244d01', '81d9a641a', '2d8e816e2', '4b9f6c617', '68943cad3', '687237f4d', 'b0304151b', '70d3cd098', 'd9bd2ddab', '9059d843f', '925c555e6', 'fcf2b8dce', 'eb50b1f32', 'd62ddb2cc', 'f7088f803', 'b7ae7dc82', '3c452e60d', 'e47776758', 'e94478990', 'e5e25d2c6', '9ec27039d', 'f68715780', '9627ac285', '27c719804', '9fce91b1e', 'a4592b8a2', '5f5b6e957', 'a0be4f3da', 'db47ba6d3', 'bc38729ef', '1bc3c85ad', 'd9e7595bb', '711ee2d57', 'da3b970aa', '7f1dc7d07', '0944f3afc', '137922383', '1c3f27dd8', '0bcd0782c', '03c02132c', '2c89fa25b', 'd59d731b6', 'c4c73c899', 'fb41d6f9d', 'e8e8b6747', '092130a59', '9aaac4deb', 'd7326ea7a', 'c2091c1eb', 'acedff31e', '7edab3598', 'ce310f731', '36d85d658', 'be2582710', 'ef19d40b7', 'f92e1c054', '3ee51a8c5', '009a419af', '6f3940b72', 'aa148acce', 'f8d54b1e6', '4a7761d5f', '4ccc9f448', '04a6f404e', '35d07cd61', '080f75dce', 'ab8964e52', 'b1e0ffc10', '47e644472', '24ffacfdc', '17b83802f', 'bc9fd0175', '55c29cb32', '212cf5255', '21a9b0580', 'f81532d6e', '96dacbb81', '909d5dccd', 'fb36575c6', 'fca1988e7', 'd863df6ca', '352282217', '4f938941b', '014c66968', 'f8a8c1204', '8145adbe4', '415af688c', 'e284f6804', 'bb4e2bb0f', '1cd2547ac', '3482f1d44', '3066a4c4f', 'f068c45b3', '3a114adea', 'bbaf3de19', '4a0ff1117', '2092f3420', '027b6d692', '9662106a7', 'd2a21ad4e', '68edef966', 'bf899de6f', 'bd9e34dc3', '0d07ef795', '45818230a', '45fd460a6', '81fb45795', '333b05914', 'c4465b0df', 'd79621729', '59de9c26a', 'f14ea9b76', '8ed1c6155', '70363b2e8', '09b286318', '47780f68a', '765a78e3e', '384a8e15d', '31de4f0dc', 'f1bd2fbf3', '1740266ee', '23cd7a725', '85360f187', 'a2ff76df0', '6c0aa2fd9', '59fe57a1b', '66dd9dc34', '2fb072e38', 'e700486e7', 'a56be00d1', 'c9c278e4c', '724d38d98', 'c7a066345', '1e141d08e', 'c7858e014', 'c425897ff', '487b56d27', '5897a17c6', 'ba636104c', '968004140', '741721971', '0ae0f174d', '370b29add', '5e43e6e8e', 'f4ae29b7d', 'a380cef14', 'fdbaa2c22', '6f86d86b7', '91cd074b1', '34b3a61c3', '9f6272571', '1db7d5172', '4f60079ba', '3212ff699', '759cf06d7', 'b0aeeaef9', 'b09ebe1d6', '88ca34db7', '516654c4e', 'f654b0e9b', '594f72875', '7d4494d3b', '24de1f87d', 'fd9dd89aa', '202a9d22a', 'fca9f7eb7', '6684bc03d', 'b9b5e2958', 'c75a7f5f8', 'd34f13683', 'aad1364b6', 'd96e5093d', '1726041fb', '5b7119a76', '530f8ecc3', '5c1388f32', '06398415b', 'bf4479f1c', '2bd9e23c6', '69c5ba518', 'd12022685', 'f16ff4894', 'b3b7c8b11', 'd62be8908', 'd7d3d1589', '8c2d2f775', 'cab0b4ca9', '5b6f81645', '1710fcc5e', '7cb99e265', '7c71e775e', '12b92841d', '29295065b', '13b9cdf40', '3b3e2fcd8', '5387ed7d2', '695001688', 'ecf835ab7', '31a7192b6', 'd82d4d997', '7a8c327a2', '5fee1e1d2', '58c1a650c', '3fa1d9901', 'bba91045f', 'c991c5808', '040a5f112', 'bc46b66a9', 'c90ea1419', '5a4aec916', 'caa9fe3d5', '0208e33dd', 'a9fc363fb', '467a8a887', 'c3112515d', 'a85d5428c', 'cdc34b4e5', 'f359cfaa7', 'd22846583', '7161622d8', 'e29db1304', '90b02da35', '30ec40df0', '18ae18b53', '62e1f324e', '5e99c492c', '83c9b6ebc', 'c04e1ba14', '80233d0ed', '83822ba17', '2a0b3f539', '6fb8423f1', '24e9bf7d4', '91473c44a', '76f770ea1', 'd95b64413', '5e112a249', '0074c698f', '2c8ad6197', 'fda0c1499', 'fa4714646', '47b9df131', '15dc42a6e', 'a693ffb11', 'd7f80706c', 'bde924c27', 'f41956813', 'ce4d37a74', '1877cffb3', 'f53ce6da5', '74912d804', 'ba9901303', 'f2935290e', '8783b512a', 'd538e2731', '7df20ed82', '9736432c1', '310cb1765', 'a62d99593', '2b017b873', '01d5ecc45', '097b0f4ce', '125315092', 'e3306fc68', '27e0c7992', 'ffa3210ac', '7a56979e7', '4ca8c6fdb', '8cae1caeb', '01e22241a', '50b84bf39', '967f2aceb', '47ee18c56', 'c01dd4885', '953b7e9c6', 'e97321a57', '5649e0c27', '50c82cec6', '47aaaab79', '0e2c0dc76', '33c193609', '9d7167a13', 'dadcfe5b8', 'c4455f4a8', '76bd486f8', 'c344f4362', '763f2f8ea', '82aff5c5a', '38acaf52e', '038b187fe', 'dd9e53e35', '62882755e', '752efcc5b', 'cbcab7826', 'e2d4e02e1', '4dcf33683', 'f8c2142c2', '2c9ffeaae', '38fa49974', 'a40ac269e', 'c9ed7172b', '12869d632', '2923091c6', '18a6a6e60', 'a493a33b1', 'ff5db7584', 'da8e9448f', 'fc879d4aa', '876d3cbbc', '94584c607', 'b6a49ddd1', 'd7e3d9212', 'c320b0509', '53a5521c5', 'b042166d5', '1c619215d', 'c9d67c6a2', '62bf0bc9d', 'efd11be19', '853d8bd3a', '1d9ecee83', 'e8dad647e', 'bb0bdaca6', 'ad8263c35', 'a5406a31a', '6049b08a6', '0f32c2778', 'b80d2db07', 'a52645fc7', 'b387cc032', '450f606f6', '77ddefe89', '90470cf2d', 'c6344321c', '6b00c2ac6', 'f6ce51725', '462a26c79', '6448d1faf', '72f31fc38', 'beb450614', '058d689da', 'f037a1bfd', '5aed00b2c', '923b05bc7', '389eb023f', 'a6b411798', 'db8d9e064', '50831f351', '0c32434c5', '677329fb6', 'ba9dfc87e', 'ec387fa89', '30e376986', '2d2ebbd66', '535aa4776', '5a907135e', 'dce6c541c', '1361751be', '39506500f', '1d8c23baa', 'eeba65bef', '4ad6364f1', '5a109570a', 'fe27cc23d', 'b0fad10d7', 'b8240e94d', '0c1cfb224', '50438e214', '128b3573c', '3642c70d4', '4323c4ab0', 'b99bdfec2', 'e569f492e', 'e4309571f', 'ae21240f5', '14a99ac1e', '8ed464eb9', 'cc13561c3', '7d964ca6f', 'a386cd732', '185418d90', '0ad84f641', '88ac1cfb2', 'c7830529f', '5aeb59996', '1434bf43e', '9906abd19', 'c399f2457', '0138d9abe', 'f65b8f5ca', 'd3abce837', '6249769ec', '4899ad162', '80c2eca0f', '5720c852a', 'c6dfa929a', '8ca39b82b', '944df579c', '479b4bade', '77567e835', 'd590d385d', '0f2c0307f', 'bfcd16c3e', '1c20a27b8', 'cdff51f56', '85495b390', 'e44a8642a', '4609df5db', '95bcba86f', '8ced116b7', '66418d6ec', 'fa7ec9ef0', '7c097f770', '1a386ffce', '0592e1a75', 'ff8d529ff', '38ea9e8af', '211e63f08', '4d6f50082', '67010221f', 'a42386065', '386662e4a', 'f2461066e', '2c0bba8aa', 'f760c0b42', '27d6df03f', '6065c72b8', '539701869', '0e0637b46', 'a2507f97d', 'f0c830981', '740deb371', '9766a7a46', '04c9b2e28', 'e4af09e22', 'f9e28a0b9', '86a8e4ca0', '358eb1d99', 'a1e0839a7', 'c54e44b99', 'accc230d5', '3e809722a', '98f7467d7', '30c63bd0c', '9d8f82dba', '17cc0943c', '745eba2aa', 'df0980add', '31c0ce565', 'c92eb0903', 'f2691d592', '07bba85ec', 'd1586e0e0', 'e137ece0a', 'e5f135612', '97ed2b47a', 'a8b006b27', 'bc3632840', '11853d9d8', '74037d078', '71a28e371', '1fcf153b3', '863e068a7', '3c109f946', '517602e52', '8b3344cb5', '3dfde7f8f', '17d7c7e77', '41a47efcb', '779c45830', '8846ce1f0', '0406d6252', '2de101b87', '805d37bb5', '570758f56', '9ff342e6e', 'fc4c33777', 'd75bd1f4b', 'b48349b5b', 'd264f6367', '386eb705f', 'f174961df', 'ecb2421a4', 'a88395028', 'c893d29eb', '37211ac72', 'be75a496b', '859ac0521', '2d36d7ff3', '7e3f745fc', '7c84bf21f', 'bce324061', '78ddd9718', '2d6fa1af1', '700924d38', '9f99947e2', '57a3529fa', '7b22090e2', 'a92cf03ee', 'ae1edb14c', '6008addf2', '71777c678', '591491a89', 'faffef3a9', 'd54f42570', '6d5bc098a', '022401886', '43e62e1ef', '5dc3e05e9', '4177c067d', 'c44ee82e9', 'd10553e7e', '451f749a5', '6790972e7', '91a780da9', 'c41dd2bb6', '6c09a9fe7', '5de3bf599', '6face96c8', 'c17f0bea5', '8c4ce64a1', '5d6e63dfc', '0e9e2ce06', '26160167b', '6aee14e09', 'bd5f24b8a', '14bd3d56c', '969b883a6', '5cf3ef747', '81ed7dfc3', '9992c71bf', 'da44926f5', '168469b34', '39fc2a6db', '1cefd8217', '3b679e531', 'abbb92347', 'ff1165b7a', '3e5f076e2', '8e8048598', '6ded0aa57', '568715fbe', '01d32ba52', 'fb05522b9', '8d1bc56fe', 'bfa59895f', 'fef807a3e', 'd4adff695', 'c228ac4d5', '56a4667ea', '6571760c2', 'b5171b9c1', 'd02a6b0ba', '1f4a6de2e', '9249f342f', 'c0a98f200', 'f6ddab67f', 'b50676891', 'af5b23f9e', 'fcd030cc2', '897724aa8', 'b14b61f97', '62dd25545', 'd6325d953', 'e14d5f3eb', 'bc05442e1', '43dd0371c', '494b2cc84', '659c782a1', 'b7a8563c3', '234fb5608', '22831fffe', 'def702c19', '1811d1f7b', '140119499', '2b6ded08b', '226e2276b', 'f66675c18', '58ebd42dd', '66e4ca8cd', '4addee130', 'e0ad1326d', 'd9d1ced86', 'e4f712b17', 'dc0795ce0', '110d26959', '021629b02', '8bed400a3', '912e598df', '3b7dd14fd', '34acd7fa4', '194a64005', '09394408f', 'f1bb0a256', '34c59d8cc', '8dc67ac8e', '21e5e9342', 'ce6de97e2', '5deca33b5', 'b976fa2c2', '2488ac2fa', '962fb7d1e', '3764af040', '40f84f6de', '566b1e0e4', 'f22620213', '744164411', '431f39daf', 'c0f0163d0', '0f6dcae96', '51b8fed92', '346c81c8f', 'b4c14dea3', 'c385a4e29', 'ff6b6817e', '868792854', '490ee11a2', 'da7ad33d9', '8595ab4ff', 'f98009f60', '82598a462', '077a10d72', 'e19103252', 'ac36811a4', 'e78ec50b4', 'a4f2b4b24', '2428baa29', '51a515fb3', 'd1602b0e3', '73cc0c412', '163c27422', '5c064b2bf', '4b0c6346b', '7ad3e362c', '5ba122e87', 'be90beeea', 'e3fd0c213', 'fbc1f9611', '99e773789', 'ac06d8690', '8fa0da83a', 'ab3200fa5', '4d2e91ec4', '6e5bb6d78', '5ad7da858', 'e1ea45053', '820b8f489', 'c44e2e27f', 'e5ff2a65e', '1a4e9144f', '03338a71c', '30192f1f3', 'edc312c0e', 'bf79bfda3', 'b04ce2508', '4cd460e06', '03759a488', '23b77929a', '816e4cca3', '8071abe2c', '48e1b555b', '27e8d4511', '7df1399cb', '89072e3be', 'c1cc0b554', 'd18fe040f', '450f97c17', '0d10d8f0e', '6538834b5', '42505868e', '24668c22c', 'b2a7c23b8', 'a8409f08b', '9727c464c', 'dbe124244', '90615d10f', '562dfb0f6', '135f7a68a', '7e2380e4f', '35308d2c7', 'e65a0c3c5', '26b8375fd', '600ee60bd', 'c6fd15643', 'ae526f847', '04d283376', '8275c0030', '71cb5c19f', 'f8140ebfd', '0108b635e', '6e8857554', '92875bfea', 'efe59a830', 'edde75180', '408379fa9', 'a77ce02b3', '642c18d6b', 'a6f3a3931', '67f408ae3', '73f17961b', '85b1489f1', '7c9350d1d', '2981119ba', '2a944c174', 'd67c73fce', 'cda68a782', '9e8e8793d', 'ac085e17a', 'b5087df8b', '0c8f6917a', '7eac0e255', 'fa311a2a3', 'a95d13114', '7f27e0bf6', 'be1ab8f53', '8a4275eb9', 'ec54fcb5c', 'a09faf01e', '4fbeb8dbf', 'b19f989eb', '4ab76406a', '69ce5c647', '36ef0491a', '0378e418b', '008f05158', '4afdae539', '75a4ba9a0', '59886fdb2', 'a84a7c934', 'd4f49cb0e', 'e494c08d6', 'fa32a2d23', '3f95dca80', '7cd96b620', '21f8837a1', 'a8f53c631', 'a2faee373', '1c2bd266e', '7c6d738f8', '345e8dab0', '04b3d90f2', '3506befc5', 'fcba988a0', 'b6fa7faab', 'caa9caf90', '40aa45ee8', '97e8e820e', '969a8b888', '56a0dc1f7', 'd4821d013', 'ca1133a6d', '483bee302', 'db871c626', '89d2f6fa1', '39ddbcf5d', '85f85b684', '0ad56da4e', '0b5777c67', 'f31a506ec', '6923be193', '5aaac585c', 'bb836a6ec', '9647e18ac', '8ff9e8ddf', '0171f9241', 'd3bb8adbd', '419e8b37b', 'e6bd86830', 'af991d8c3', '6844c03f1', '514c654d0', '7fee82768', 'c46d256c2', '1a5ba32f1', 'dfc3aa518', 'edc7ffe95', '6b4d0cc44', '1c6544394', '5d0dfceaf', '53c650cbf', '2e3adf627', 'b47acf119', '0fa8e8e91', '6f8de956d', 'cbb61d00c', '62b53f140', 'e2662c6c7', '37ebe7955', '39ba044de', '36db0443e', '63b0bc9d3', 'fe7e29ba1', '8476604f7', '4080d5eaa', '3e7c8c60e', '1cde40c7a', 'f2ad3e302', 'd8ed36706', 'e8d8ed94a', 'd9042b3dd', 'd1781bc7c', '93e0f9684', '467dc6b44', 'f5804b8e6', '920b9ec8b', 'e0aa2bf61', '613fad776', 'f9d8e6fbc', '53e58096b', 'a66d57bb7', 'f477d5857', '57fb024d4', '91d923041', 'c4a8e37bb', 'ed1a5c70c', '9809d6078', 'b0714c1a4', '643c15528', '828862a90', '0335c705e', 'cbca7331d', 'e669192b9', 'c1227b3f1', 'bce7d2952', 'e7619f99d', '581294e27', 'ca18098bc', '1ee531eb3', 'a354255c4', '15cd3ca69', 'd7a376f1b', 'a6c58827f', 'f2c5f0f26', 'ced4fd70a', '97bea5d7c', '2a7678647', '4bcf3e6f1', 'b40974389', 'bebb3afec', '6473ea04d', '673d3c1c0', '1f0a92e59', 'bffc9bceb', '2d3cb7b79', '212e00b86', 'cc340823c', 'c1cbba46b', '51bfb741c', '8e40d2880', 'bc6829ee3', '577bb50e9', 'd640f9971', 'a11ffef62', '4dca91a1b', '502e9a4f1', '4a79709cd', 'a48a6d284', '43a3f1dd4', 'ccb907da7', '01b8304ae', '042524d7d', 'cf2c53040', '60f4e2593', '7954f458b', 'd1902273e', '22b37c7a3', '359c30fe3', 'daf851ceb', 'a14a75e39', 'ac35c8d4b', 'c89888c18', '8cb79f2da', 'e95b0eacb', '2e02d4b69', '4f3416383', '972c5a6bc', 'a4d748277', '0ff0bc946', '69180a2f8', '5d135b62f', '94943a12c', '4d396df50', '7e36feeb9', '4a18e6d6b', '51f3e394c', '2c8e13a9f', 'f21bcfb47', 'c889a5937', '61022a02d', 'e4ae98c29', '6348d0544', '055e2ceaa', 'dae034a7f', '594f7042d', '65496f7bc', '3c4c7c16c', '52f5c8187', '8e03db5e1', 'd998d31f1', '94bd02ef5', '4fd193763', 'd829788bf', '042de6edb', 'c50b8657f', 'e7a605132', '90f43deca', '803e96716', 'f1aec6b64', '6fb987c3e', 'c1009ae3b', 'a1bf112de', '1aacd0bd9', '5b6f1bac6', 'f393c224a', 'b089d5143', '44964769b', 'ab40bb225', '438ece065', 'c073efb40', '255667eca', 'd20d94a2b', 'e1bdff4c4', 'da43ab6c2', 'c840fdc53', 'fab17b425', '47d9c2688', '652234e54', 'c603d9c1a', 'ec0d9b6e3', 'b87acaaed', 'd08e95edb', 'ffec80a6a', '016867538', '33255a8da', 'f911cbe30', 'cafe9ae53', '3fc00f7c8', 'd79956ebd', '32ec9c00b', 'ded54c928', '8a08dfb68', 'c297ebda6', '1f096b2be', '1be616f08', 'e53c2bd92', 'cb9bbed08', '344623c9c', '99afe26fe', '6a8e2f6fe', 'a08464096', 'ad0ac1ea7', '33149546e', 'f09f9c3a9', '90e044eae', 'c8ae4ea14', '4e8370f42', '1c5f1ab58', 'c44dcf0d4', 'e2be53f4a', 'c65870db3', 'afc659a2f', 'eb7f63824', '33d450a91', 'be87e7dad', '12d5f6772', 'd99b8ba06', '517c8cdc9', '30eb6faad', 'e58a026bb', '82b2195f7', 'ed6f22581', '6553e7c45', 'cb5d42426', '62e6637f1', 'd2d19e1a7', '16101497f', '4fe3a7e40', '83286a11f', '753293dc0', '9615948a4', 'a58b84c81', 'c0981047a', '584948ec6', '4f4f19f34', '184f1e150', 'b05853f24', 'e561794ca', '4efc5361f', '56ed74b9a', 'aa090f2c6', '4419b238b', '24beb3378', '3c6ba1277', 'c0f017507', 'f8a8acc8d', '585fabdc0', '99a4414f3', 'c1739946d', 'e7ca9f823', '024eb1d4c', 'a79b90d91', '9564909ff', 'a26b59c24', '994b3019c', 'a94100b59', 'fa5ca239e', '61f32d775', 'ffe76496e', 'cee060674', '532fc2d2e', 'c3a05d1e3', 'f6f9bfc77', '9168277a6', 'ead3f8d51', 'cb5a41416', 'af2a1f476', 'f0194bee4', '92be37205', '774b35e04', 'f9a2ec016', '18b5db61b', '668df2789', 'cd6ed34ba', 'eb28ddf49', 'd888dabd2', '832c8ee31', '73f44eb49', '42992de9c', '4ba71e861', 'b13742276', '4dc20a594', 'b8a9ee852', '6c65355af', 'be5254982', 'd593bd66e', '90a1ccdf7', 'd44d10b4c', 'a165a6509', 'b6471dd44', '95631f5c2', '52c1a7d76', '572296c24', '3cc956438', 'a2c2c7874', 'bf6088f9f', 'dafcbebd7', 'cbf14e5c1', '8097b1a29', '880957c19', '1511a4ba7', '5b6795b73', '069dabb39', 'a7c736bfd', '5465eb545', '3a4504c06', 'dacc0d3ee', '94050b5d1', 'dea92485d', '565399ad3', '0c03941f3', '56b96de46', '4743a283e', '0777c8b7c', 'd435a8690', '87a44376f', 'd240afdff', 'b34fc1d43', '313c2d4b2', '30c5eb4c1', 'c2759379b', 'dff007d71', 'dac8c3dcc', 'de8010023', 'cf603fd75', '377c48f57', '824e477d1', 'f865d9ec5', 'd8180614b', '9fa324a89', 'f16d217c6', 'ae04b2089', 'd09ce80cb', '7c8273635', 'd038b6293', '2938f346d', '9d46d5612', '54b422a9f', '6cf9b4396', '83f97eebe', '05754af28', '7db2eaa71', '4ee9b55a7', '5783c289c', 'e14cde7ef', '1ee0fe875', '667093fa6', 'ba0dcd511', '2b5df4f24', '695517907', 'a7720ac6e', '6ee6a56bf', '4623277d0', '32b5710ac', '6228cae48', '965be99eb', 'ac83c06ee', '88739322e', 'a5b4569d7', '2e7a6bd7b', 'bb8e9193e', '095d69ddc', '321ba5126', 'ce69dff3b', 'a8435ea56', '831b0cf23', '9cc26955a', '1dcd3d68e', '73236f791', '77a8ff594', '63ac5ddef', '32487ff99', '9c8a0bf52', '342a7cdf6', '01d49b4e1', '06cd3d7c6', '669190904', 'ef5910ca3', '45a291eae', '3193c6338', '6b07ca3fa', 'c6aad2fd5', '4d9bb93cb', 'ca56fd6ef', 'f70988daa', 'b68c2446b', '55de0acbc', '2e1bf3838', 'a208938b0', 'acc3850c7', 'cc11c2667', '93803e42d', '8e61561e6', 'e957f975c', 'f415463b7', '3fa4c5655', '8cfe22d7e', '1cf5b7dd7', 'dcc36a057', '87d1b8344', '4d23651c1', '9461b8daf', '8a259d00a', 'd23ee321f', '83e252ebc', '4fb098f41', '55b25caf1', '212279bf0', 'ddcd60df1', 'b900d40f1', '0237e9859', 'cb16bbc3a', 'c5632b657', '30a0fec63', 'cd5c7ef44', '987433007', '446df0c98', '9aa2ce8f0', '61b4a186a', 'f718e6e9c', '831aee9ec', '7aaa810eb', '74a1b69b1', '3460d7c4b']\n",
      "nom_8 ['c389000ab', '4cd920251', 'de9c9f684', '4ade6ab69', 'cb43ab175', 'b7e6f8e6f', '06f5ae149', '98addc2c9', 'a2d110837', '2c15d0173', '59bd5621f', 'dcf843eef', '7e01eda84', '6e6d08b6f', 'b80b1b531', '8a8ccfe81', '078133e43', '19a7677f3', 'e588cff32', 'dd3966979', '0767e6fee', '2d2b020a7', '057155a1d', 'da4a7c11d', '0c4a1890e', 'ecfac8f2a', '03bd793ce', '166ddd303', 'b864d65df', '537b5f5ab', '6a9a988ae', 'b9023027b', 'd28926816', '7274a5560', '1e48caa58', '34b21e6f3', 'f2289fb5f', '31e7314d6', 'c877ec971', '9a5657ef9', '6da888acf', 'daa1f22dc', '29f201d51', '5d7806f53', '6d782795c', 'de61586f8', '4d79f2810', '0a14ed13e', 'a92c09204', 'a0689cd0e', '8175453f0', 'bb215fb49', '7ca6ba5f6', '472f79626', '9c979aa1a', 'f73a61c87', 'ce7bd7d9a', '5fa7f4334', '9b69d293b', '10a85618e', '6091ae118', '4d996c30b', 'c699c36c7', '5fc70d251', '36ba00e4b', '9402eebe9', 'a89fae205', 'ae2e8eb47', '47dddf1b9', 'fce16bcb2', 'f94576c59', '06aecce86', '5013e2094', '93d5fa073', '4d43ad72b', '62a7a5998', 'ea03f42aa', '2d10dbc79', '64b9cc0ba', '3cec7c3f5', 'c2f66dc3f', '1acbefae5', '00405ddc2', '2e2f8320b', '7e0338e4e', '4d22a9abe', 'ebafa5e20', 'c5e72a6bf', 'f91f3b1ee', '842d0e1fa', '76c3740a6', '112d80fd7', '6ee0c7b3e', '14d9f495f', 'abd59f78f', '265b7da28', '6cecf2c6c', 'b295087fb', 'f5d51064b', 'dac367de2', '4de9ccc2f', '543402bac', 'a2eb56495', '1b0746630', 'eaf3831ea', 'c8a8c9912', '0bda6bd36', '7c8dba46f', '636af9ac0', 'b14330b87', 'fd3382dd3', '8a504f188', 'c9180665d', '6fc24b5ca', '19d90bd44', '02575b3b3', '8fbf74c31', 'd51a928ca', 'bbbc9dc68', 'd34944b63', '0a7ccad0b', '3032ce76e', 'c23895153', '34cba6dfb', 'bb2c599dd', '48ef2bd73', '15091badf', '264d5619f', 'b36a6282f', '6c60695de', 'fa838f0f7', '34ccf9b13', '0be3d6175', '1e0d7f004', 'f1ed0bc45', 'e2b580e70', '3025495cf', '63572f4db', '5c6a74efd', '8c46d93f3', 'c2d7fbae0', '5127124be', 'c3f6d6a89', '66413f5c4', 'f15e34799', '6adf330a1', 'f3b896901', '3d7700f42', 'e33c9683a', 'd01423561', 'e9f3f8733', '0ec45f250', '4b1543a82', '8030601ca', '6b972b4e6', 'c09a0e552', '12f99703b', '1a4009324', 'd1cc480eb', 'c946d9ec7', 'eb9a2b2d7', '0a18dc483', '9ca6eb700', '37f5af3c4', 'c028d33aa', '678bfb662', '558203f08', 'f7be66f88', 'f8984e6eb', '5f9ac896d', 'b7f127f12', '2d9718918', 'd87e62538', '6196dcb02', '3320ed3a6', '68fce9db2', '3cdbb21be', '068ae176d', '19bcc3b69', 'db3352558', 'c6312c571', '7ea9334a0', '463a9480c', '7b3d59ea8', '950a1d8c0', '7df27c899', '5e2b7ec61', '5e41b5542', '139b4f695', '7641286a3', '8238d2c23', '35f11fb6b', 'd45643422', 'e27ed45e9', '6874814be', 'bf65759ac', '85a94c95a', '32987295f', 'bb103b1d8', 'bc2b3468f', 'e87251003', '2c906f303', '3ebd2c505', '1ef6c89ef', '6c61f47ce', '355dfde23', '17b88fbdb', '60f23b85b', '6055c51de', '4bbe95f85', '5eb32eb38', 'df68e43f2', '087606369', 'e479ccef0', 'ec329560c', '7c0228662', '905ab519b', '141536e9f', '6d2a862e0', '6127dc462', 'ad38d6c0d', '99c9bebdf', 'e9d87009b', '96eb028f0', 'a101b24c2', '289126ec7', 'a5d155d6c', '27edab94e', '2389ebd9c', '1c142e92a', '46ae3059c', 'ad9ef63f8', 'b42c08fd7', '5b991c729', 'e27d4b326', 'fc8a592bb', '047da626d', 'b5dd3e5be', '0e87f6993', 'a9e540ca1', 'd3bcd5e12', '76ba8e118', '4b96c35d7', '5807fe22a', '71c01376f', '5f4046b89', '940770e63', 'a7d83e43a', 'ef666ab49', 'c9165c84a', 'a142509f1', 'c41696165', '3d650bab5', '938b6d859', '87e4cd335', 'd0ead99a4', '59ea7317d', '4949bdfb3', 'dddd242ad', '89d396920', '6abe4c429', '4b7ec4f76', '69fd1ead9', '158a32205', '9b768b691', '5b94f9f33', '09c0c3498', '9531f3760', 'e0dd41013', 'a846ab3ac', 'f711028cf', '12128339c', 'a1f7b04e6', 'ff7aa8438', '72679c3c8', '5680b6782', 'cc19213ad', '32e87c9d3', 'e6afc0613', '67c393e7e', 'ddc0d2426', 'a7c105119', 'f0aebad14', '1952abaa1', '6e3242852', '42c269f3d', '89a61e164', 'bd9834dfd', 'fdcd0dada', '5264eaa95', 'dbc89694c', '9c24b321d', '9e4b23160', 'a619cc437', '40e778f41', '994b30371', 'c72b78ad7', '19d1a424d', 'a50522f2b', 'a96775d37', 'e53380e2c', '70c7a41f7', 'd0cb271f6', '65aa42eeb', '1cc45142a', 'dc72aa69c', 'ee05c0cc1', 'ac664dc2f', '2e9b9ce68', 'e9e0e972d', '9ff6898e5', 'f656ebcb9', 'e8ed352ca', '9bfb829f7', '11cc9bf56', '43a1f406a', '1344ee64d', '1707513a6', '1584fa610', 'ae43387f4', 'a0bce49a5', '2fbd97ec3', '922e1d4f0', 'ef5e2cc56', '87a54b79f', '0a1df5c66', '3427141f5', '70f2de86d', 'f66552355', '4eef4ae9e', '9ed47e9be', '18a5af70f', '1d74cabd7', '219a8ad5a', '005f66bb5', '582c2acac', '7b5236e42', '330650bb5', '5d3e459b7', '3f4efcece', '20b649769', 'a59606637', 'b85e996e0', '1484cacf0', 'd4618f3ec', '27dc32aaa', '5be7f09e6', 'ae273a05e', 'e597a8791', '9776894d5', 'd17e00f8f', '1b9c7e71f', 'bcd17ff67', '85c93d16b', '5559ae433', 'b250508a3', 'e6836709f', '3c8785222', '626b55cbd', 'b098eb48e', 'db543c764', 'cd6548ef6', '551be7857', '9b6150ff9', '90353fead', '22870eef4', '94f7e841b', '7bd5180a7', '75163958b', '4c08b154b', '998aa0f7a', '82becc8e8', 'fa3bdf705', '589fc12f1', '206c7e0ed', '6f8225245', '1778df329', '7fc4ec511', '789ba99c6', 'aa08275e7', 'c68e5326c', '0503fc10d', 'fd50f2be5', 'f5098af69', 'd45223a7d', '03398d68f', '8080eac12', '15721f3b0', 'f0eb17acf', 'd114dd2be', '09ca9c02e', '3de6ba2b0', 'f4f3e1b9e', 'e43f2e990', '3bf48a756', 'd200e225e', '5a993c839', 'da8be1022', '74c5e44dc', 'c5faa8377', '12f905248', '71ae710ad', '4535346a3', '776d8d7e5', '5e66d0561', '70647ecaa', '06e189096', '5d19204f1', 'd2ae52e99', 'f214034f5', '4f7dd803c', 'e87174322', 'a60ab3f5e', 'f3a3db6c1', '81f379d0f', '21ec960fb', '4247366c9', '57313c784', '957702b99', 'b2daa8b10', '98c1fdf98', '89323f730', '235c5f246', 'b25cfb005', 'f83347fe9', '9624c3a0b', '791a94382', 'b81808e2c', 'd74bb7861', '20a3054f7', '9d892d494', '899ab2d86', '9e98f297e', 'ba901f5b6', '1387972a9', '91a817ae6', 'a30b8dd9c', '2b4c61b8a', '94aa94c11', '788af5805', '7d834bac9', '8970fa137', '182a1fd8c', '83e1edf48', 'bd7a542d2', '03fae7523', '8d2ebf5f4', 'a2547a850', '1b9339c49', 'c0c8cacf3', '5884acfdf', '6c4a99ba4', 'cbc479489', '994e995cc', 'f564a8936', '6f6516b35', '5213ff772', '54f40f107', '05a31d528', '3deb88358', 'b0800a9ed', '0db689f6e', 'ba9467f18', 'a0018feb8', '0d3534b3d', '1b45dc4ac', '6359c25ce', '803fe8c71', 'daea02933', 'c9a1187a9', 'a04ad6ab5', '37e441470', 'bc8d00b60', '66f267ea5', 'aa375a783', 'c6d5fb7a3', '9c584d3a4', '550e90c2e', '7970b8a44', '952eab76f', 'c3938ecbe', '9333b6802', 'c4d34418e', '6759eb160', 'a435ca0db', '1086ce405', '40be78f45', '17d59b19a', '6bb6ec224', '0904e4be3', '1ceaac569', 'fce7ef505', '69e64b2c5', 'c495ce400', '61cf9f43b', 'ebd3cc4cb', 'f11f759db', 'a444afb06', '7dcf21bc6', '571cd4367', '9ada12c9b', 'edd67eb51', '178ac6030', 'ba0354bd3', '577940917', '4fcda6418', '63472819d', '8cf909bcf', 'e6b71769e', 'b83cb4503', '9f2e41c74', '29a8870be', '2d6f6f9c2', '1a932b6e2', '11dad1176', '84ee00413', '73ecef642', '5ae4e72ca', 'edfc6cc92', '2579eba88', '606ac930b', '8ef446af1', '64bc8329f', '74cb85799', '168c04dad', 'cfd8b1264', '9856af09e', 'a8d9f702e', '9073c9269', '9d117320c', '669cade8b', 'baff3d9e9', 'fdb381caa', '8c56294de', '92e5d0d61', 'c47c38880', '3b8d1624a', '6fbef8e0b', '995326e81', 'aeaaf2bfe', 'ae1b11ffd', '1623ef693', '9cd92895d', 'ab963d91c', '56304bd77', 'f4aa5e97b', '52f1e2beb', '2fc5662a4', '5eef6599e', '773107788', '1ac0db361', '3c01da44a', 'f83d31113', '384b0bc0c', 'd9e7bda6e', 'a2eb06773', '1ad530ea7', '9dd5cc1e7', 'fa4b4656d', '7befd1525', 'bc28bbcdb', '4f3a4cca9', 'cae70a043', 'eda76fee3', '040f926fa', '5bc1bd9ce', '709c8de19', '709a5ffd4', '01b962964', 'b3dbbae17', '423abc773', '4ea576eb6', '72f104db7', 'fa79eefba', '41c90490e', '04729bec5', 'af18b263c', '144d2efbd', '77903bd74', 'f88ba51b4', 'ea374ba40', '6c16496e3', '052027e6d', 'd6d8298c8', '44bc5c1e3', '0f10e03a2', '2192087a7', '72af83565', '71281d730', 'a2c055f58', 'c0b86a256', 'e6b8a118f', '225f5bdfc', '59bc00371', '98ad14ee4', '0b5e21a98', '6437b4ddf', '6ac58798e', 'c2dfecfea', 'ba3e7ea1a', '8e4102fa6', 'afbb3506a', '968c80c89', 'e32fd31bc', '49cfc8bab', '18cf0e061', 'c42f562d9', '66ea5fe47', 'adab14930', 'd176969eb', 'e89889a70', 'ca722a0c7', '824e859b3', '6509dd268', 'cd91fa17f', 'aab566067', '552b3a516', 'df8d8c987', '1470798e4', '089a759d4', '9967fa8ed', '4d8586f58', '55568cfab', 'be9dabb16', 'eff80ac44', 'd69adef8b', '2945cb4e9', 'f1de422cc', '95d7a429a', '45cd8080a', '7811c5ce4', '081d24029', 'cf61d0c57', '6f08eb834', '0012ac11d', '4e93545bd', '6a6755a75', '4f875f2d9', '9a053d45e', '120c4a79b', '46637170c', 'c822d0d5a', 'f0aa7e838', '6f85744aa', '8e211ed49', 'dcfc4407a', 'ba851e117', '50d48251c', '5e23fecc8', '592780592', '4a3dace70', '8b3d947bf', '117173d83', '86c2f295b', 'bb795cbb6', '9b4f60f30', 'f576761d8', '322e03b73', '81782d94a', '06b4f0f6a', '24570db3d', 'f83a849b6', '6250a03c7', '0fa761198', '360508b3e', '9251228dc', '126681784', '456af94a1', 'ccee5b87d', '2fb537aa8', '6e4113602', '995b9fe3c', 'c75847d5a', '26745ea84', 'c9645e2a3', 'd40e0503f', '1a4b42ed5', 'e08e0a8d1', '3c6bf8a86', '223ebba50', 'e667da576', '5367fc43d', '37695f3d4', 'dd5f011b4', '512a3c56c', 'e657de750', 'a05a24fc3', '2fb498287', 'b99b10c75', '6f709e184', 'b9ce5df8a', '93506034a', '3678eb151', 'b0b8706f3', 'cd482b564', '18718e2cb', 'a64e33f1e', '42cec36e5', '5f157aeee', '2189cc4c5', '49de2ef9f', '5ea193ffb', '95a7324ed', '3d55ec04a', '6148c0a26', '4c3e09313', '9393e31f0', '41b7948fd', '0517f0852', '82b475f6b', '072ac6d53', '22b85e2c0', 'da8834a38', 'f230bd736', 'ebc6cb63d', '904a490c3', '8d7f0977f', 'b6972d6ec', '354890188', '2ec937b3d', '9c42c85ca', '09a1b9d6c', 'eab74765e', 'ad97c3d39', '9bcdb10cf', '8a237031f', 'd0f293c7b', 'ca9c9cb0b', 'b85e951f2', '3915fff41', 'da1fdbf74', '584f12ea1', '9e623b2c4', 'db8b6ab4c', '451537556', '1984d519a', '8657e6376', '0107394b0', 'bee621d96', '764cafe90', '5eea532bf', '887c72412', '5a3ec6aff', '127af6795', '78ff9de4e', 'a586bc6d4', '0cf0b3e18', '45c570da7', '801927581', 'db2e017c6', 'e40e75916', '2a291d6ec', '478dceafe', '5df6f3306', '02974ce39', 'f14a3142c', '079e91baa', 'aae2d73a0', '8d95b374b', '57bf7b0a5', 'a05cfe94b', '99d245d48', 'f4af9c06a', 'ff7f535a6', 'bb61db96a', '1108bcd6c', '6eff2552f', '4b06ec734', '92347baee', '736160127', 'edb9a61dc', 'd8f7e41e9', 'd31a35718', '3f6ebe243', 'f0c4b003b', '3ad9f2e75', '52706d814', 'c829bef5b', 'ae1eb0585', 'a5dfc507b', '3f840a916', '444baaa5f', 'ed4b0b59b', '5c4b26f03', 'cb0df1398', 'e580cbc96', '9bc6f3867', '203ed591a', '09bf3131d', '7f32eeaba', '4bbdadc09', '1f820c7ce', 'b321d0ca8', '2f9c8b8e2', '47d1240dc', '90dab3dd3', '3db9a3f93', '11a1fe9b2', '00680a186', 'fbe321dda', '1e32a822f', '497cd3de8', 'f43b97d8b', '4cba61aed', '17ba84114', '283996563', '161a079dc', 'a348247ca', 'a7bf5387a', 'ab238a6f5', 'a96b3ac8e', '64edf3032', 'fe942ef5d', 'b2630ca94', '71746632f', 'c1665c372', 'bbb7024e6', '99485dbbc', '62f3d9529', '51be79e62', '60e558ac2', '78fce34c7', '7739b63e5', 'b98d3e95c', 'f0949758d', 'c42d909bf', '31a10fcfc', '64d19f1b9', 'e5fcb5ae0', '7d97eba78', 'ac6f71e3b', '06f9521a6', 'e5236bb77', 'd4ff22472', '99d1a5eed', '2287c2995', 'df8999dfb', 'd0ef7c409', '299ac7761', '17c65fc15', '259aba49b', 'eabc1ee54', 'd5aa42caa', '725517260', '6bf92fa24', 'fad6a4f9b', '9c37df751', '7b41ec332', '4449af3c5', '2447d128b', '02d46a6a3', 'd266ff644', 'b2cf4b19d', 'ee32cf729', '0f3836e8e', '0a1aa9839', '6eecea4fb', '47dd84286', 'b4becbd10', '29375e700', '8199c1e16', '1557e8a19', 'dcea59284', '07a517154', '4b36cae4e', '4d70170c4', '48bf5e7e6', '48f96e651', '8dcd0897c', 'c6cbd79ec', 'd091d16ed', '09b25b0ac', 'b03e2a689', '120d118ae', 'e601670bb', 'd9e105c14', 'c9b8d19b3', '6844c9a87', 'a6bdcf2f0', 'eca31f6ec', '5ab5c0eaa', 'ba639d49c', '8a9cb6fd2', '985600bbd', 'ea6fef1af', '635a85b33', 'c2a416ba2', '1c9788deb', '580cf0199', '37763aa51', '18da2956d', 'ea0bd617f', '66ffd419e', 'e41140984', '33bee2ff6', '53b8dd95c', '435ae631f', '7517f74f0', 'f7cbf993a', 'e5044ae49', '7179cd921', '0aa51702e', 'a8b517dc5', '83772ea47', 'f3890a06a', '710fbc590', '47938793d', 'fc1e6675f', '942531094', '5fb9d556e', 'bfb87ea35', '3f045b21c', 'b5d640dcd', 'da5245562', '21b4be473', 'fe06b6fa8', '1aa8ca97f', '8feab4393', 'ba0908512', 'e1f545f9d', 'd6b5a53d9', '5756bc9bd', 'a45a197b6', '89a7f6d26', '4a718b609', '88b0e9829', '4fa49b569', '5a0b5fd52', 'fec4a738d', '93d22524a', '15c80c8e3', '12b0ea3e2', 'efce9b8fe', 'afa40c23d', 'd38282f94', 'a5351b253', '29217b709', 'ceb00b79c', '72221799b', 'f61c43465', '9a57ee5d5', '034a71378', 'ae8e1d415', '32a22810c', '7f3001f8f', '6b44feed9', 'dc4415f93', 'a513613c0', '38a1f319a', 'e689178b4', 'c26e5ca98', '44f544f0f', 'c289f3add', '407ee1590', '02f3394da', 'a32a3ef83', '29e1d2686', '0d73d1384', '6a484e7c5', 'c239a5ba7', 'e5c6d159d', '1440a7319', '09a3f3a37', '16ebbbb31', 'fd0041a98', 'eae7eef3b', '2f8bd0da6', 'afea2dab3', 'e48171ccd', 'bf1dcdc12', '738693437', 'd9985175e', 'a33cb0ef7', 'd3c158775', '84968f3e5', '1251aedb1', '2d8fccf5c', '3691833c1', '61c93b713', '0b86ed30a', '33162eaf5', 'a66e862c4', '644658db0', '3d349775c', '7f22f819d', 'ef1a084ff', '9177167a4', 'eac634872', '5930392c8', 'b907d7706', '5f0c17eab', 'edd26d8a3', '4e8174c3e', '9e394f78f', 'ca6f562f9', 'ebcbb23bd', '38113ad1f', '8c7708261', '3dd3ebfae', '0505079cc', 'd051d0fc8', 'a33b399b1', 'c74b05c9a', '333f46907', '957446f7b', '21e3acad4', '421db44c2', 'f7234f3a4', '4329a8c91', '07194a5d9', '2b81d4497', '566842188', 'f372c8ace', '3bd05fe23', '74824e3f5', '56deb938a', 'ed88ce35d', '57f7ced2c', 'ebbbc91f3', 'b780a20ef', '9b37c72c4', '714157447', 'a3d6900b2', '63469725e', '56c4210cd', '0bef7c48b', 'a7f44c669', 'fde889468', '07fd63014', 'dab340800', 'b8d8d9935', 'fe593b910', '80507d7e7', '3a84d1033', '017fc2f26', '43b80ca3a', 'c79ed7e75', 'dda02ff87', 'df232de17', '38a61d827', '13bca5ef4', 'ec5e9f1a4', '77fd0858a', '322c52e98', '407222a23', '8c98ff8ed', 'd82636a8b', '79367122e', '02f0e0a12', 'ea4f842b4', 'e4f60e3eb', 'c86f89a21', '16236d6d1', '796b43ff8', '60ecfa5db', 'ce77e535e', '196f7d880', '9774d480d', '014347053', '8614b6af1', '18cad4b91', '15a93c1b4', 'fc2f6a473', 'f4e2b7052', '6840e280c', '67c4cb25e', 'baf4e8214', '2db30d69b', 'b05a3f627', '723211bec', 'bca196117', '1dc87a5c6', '3870a4517', '3b34e4268', '547f1c638', '8990f4a8a', 'd9e5d2eb7', 'c720f85ca', '41cce7e6e', '4be1e9557', '391a6acb7', 'adfe1ada0', 'd7875ced9', '172d56f86', '6abca5b75', 'e3adda312', 'f8cbd3521', '614a86c6f', '6e23e1067', 'ebfe6b3b5', 'bacc1709e', 'f76b52d02', 'c13d3ebdf', '305760111', '4a8566032', 'ce84bfa6a', '5ae4c2d72', '398527cd3', '8028054b7', '7b558b353', '8865c52d5', '3f1f498a0', 'b8d4be70f', 'd5aa67a68', 'f3cbabf23', '07832c0f5', 'd20454f08', '5bf5f09ce', '045f81ebb', '07802123c', '3a2de46f1', '72f9294c0', 'c4f837d94', '25d6d251f', '3fef71834', 'cea2817a5', 'd7e1019fd', 'f93f7e202', '64335b5e6', 'f60eb679f', 'a371e684b', 'cfbd87ed0', 'e8f1201dc', '869614aaf', '1a2f9e277', 'f83129387', 'b8428a89a', '5e2dfdc4e', 'a666f7dc4', 'f38d73a27', '844af8687', 'aec710735', '053b5acae', '872ca76eb', '76bee6d06', '4c8ff3633', '0598d7501', 'd9f58518e', '5674ac2b7', '3a8fba905', '159c9a35f', '166afba00', '806aa6603', 'c0649fb92', '4682c2b81', '0cea32104', '60fcfdfd2', 'babfaeb99', '19ca0fedb', '4d7256d7f', 'a4ba24658', 'b36ea7c20', '000ae3bea', '8f86bfe80', 'b8a606ee1', 'a97d2ec1d', '1f28b4c79', 'fa61d49cc', '8c798dfeb', 'd302eb66b', '2c7e0ab24', '87458941e', '5183fd2a9', '9faa5dded', '7c8cb257f', 'b759e21f0', '89c47ed2d', '8290bbc2b', '7cefd81e8', 'cc11548b7', 'a08b306db', '61bcb6582', '663007ea1', '8623282d2', '8eafdaaba', '1a5d33f00', '65cbea482', 'af928f054', '30c9c4d3a', '79eab8768', '01dfa4ee9', '3408599ff', 'feb99cbd9', 'be9a0ca50', '78558606a', '6800e5697', 'c86146f17', '67166bba9', 'cf75e38ae', 'bedd321af', 'b07c708aa', '6508cf2a5', 'f736ea577', 'e6e22d99b', 'e7ace3433', '4b03e3a23', 'c148f1638', '473965e06', 'dcbd31128', '0194a0e30', 'b19bb1c28', 'c62fe8387', '97486ec87', 'd249a507d', 'ed21c9a5c', '1caff0cc7', '5dffe5052', '97dbfb7e6', '52d0584f0', '8067177f4', '4bdd3928f', 'cc8afa79e', 'ed1d52ddc', '8bec21059', '0dbfc3a3f', '98caa50a7', '8df3db541', 'c040b0b11', '60f5c4953', '20a61d808', 'f022708f4', '9b311dcac', '9d7806fd9', '21f18f1d1', '17fe8590c', '934184f74', '3bbd9cd3d', '9db1f7a0c', '17e6191eb', '07f83e288', 'be5418e47', 'c17775b6f', '274ff362e', 'fe6b03253', '5d6ffc57d', 'f4063d3dc', '0ca061a36', '3ea7a5a62', 'a6f95d115', '9b1194ba8', 'c46c6451c', '66c666931', 'f3bf907a3', 'c92172a08', 'c36389e22', 'cc4c9e90c', '251520f28', '1e9e6552b', 'c585fc552', '49036d705', '70a52ed95', '2f5ca690f', '33193b0ef', '4969a95f0', '9d501a934', '1605fa342', '5aa5bf1db', 'b09068d3c', '069fd41b7', '70e87ab25', '1765b7667', 'edc54486c', '26a23df3e', '04f5d0c3e', '8a2663908', 'd24281bc6', '6a0697e2a', '6694a971d', '0b96d446f', '6533b95a8', '1c6ab243e', '595e18408', '4f930a37c', 'c26d962e8', '1ec0d0bc6', '7431726cf', 'e07bd60a7', '319a6e737', 'b98fc9df3', '8a7d9fe75', 'b2291d197', '53bc2d0cd', '8a51d32dd', 'dcb92c5f2', '65bc4aedd', 'd01a8f4a7', '1f114e3a3', '397dd0274', '63472fe67', 'dd0abe423', '8ca5c3d68', '22bdcae27', '5acc27e5f', '05827b658', '76980b0e1', '6e7be47e5', '08b4c6446', '9353bbdcb', '9aa5b1499', '9d2458685', 'd1316ead6', 'f8c4fd6d0', '8b594ffcf', '537d3703e', '674bde1f8', '9207ecfa5', 'f9f86b01d', 'cdf4381f3', '97c2074c4', '86c759c41', 'a54b28890', 'ae63df23a', '4ded1a348', '6f0b0c42a', 'b70f8e80e', '406459a0b', 'eb6259cb7', '31b8dad7a', '190a56e5e', '832015b8d', '3532dd238', '56650d3cc', 'dab3adf54', '19425753f', 'f01e81da7', '5a54ba48e', '0e1d98ab8', 'c97dae701', 'd2801db5b', '6bef24212', 'b886d6c1c', '1b5175745', '25fd1f892', 'cc9104f31', '4b722f145', '331722260', '208fbe9c8', 'd4c4281cc', '9c093c194', '4ecf0802b', 'ac918f7b5', '0bcd301f4', '90ad7d3b5', 'bcc7e3908', 'b7e2bd965', 'f05f0d0b5', '2c9a93282', '7c13df9a8', 'b9dd3a8d5', '1ef0c04bc', 'ca0cab425', '5854804c0', '9c30d4222', '05b3ebf52', 'cb7bc371f', '91c3125ab', 'bfcf448a6', '3f5dc9fa4', '2708074e3', '1abfd700c', 'c378a1cd1', '0bc179521', '63bc33024', 'ea4915654', '2ed07a37f', '52e48b54f', 'cbbffa79b', '1f1db0595', '677a0c809', 'dd3e3a265', '4a9563818', '5f5955990', '1dab43b44', '0db39daca', 'cc1b2c95e', '5d5e04d11', '561d08b37', '4316cb034', 'fa85164d0', '85a8d5c75', 'b360b0a31', '865bd3250', '0c1c426ff', 'fe7f8452c', '5bb1b28f2', 'e4ae1fa52', '70b6f717d', '34eba611a', 'b9388117c', 'bca945ef3', '598e7011a', '33cc4c6c7', '144f0ef40', '520f0e7b7', '06b7e7cb3', 'e5f3dfb3d', '565af9a17', 'd2e0f889f', 'f5a2e72fa', '2d3382ac9', '5a583a649', '582a610f4', '11e051b41', 'd976513dc', 'fbd2354a7', '7ab016da7', '60fe0a34e', 'a8e43e4e8', '732554be4', '69098cdce', '758f518c5', '8b7aab9f1', '57756e6aa', 'fa7d6fb87', '3b658bf85', '9a8f20867', '9499c0bf0', '3af8482ec', '36231af84', '7551a1761', 'c9d273937', 'f58eea518', '828ea97f7', '12930d58b', 'eaa0cdac0', '87f68ba07', '8bfcdd07f', '613f20100', '3943bacec', '6266933e6', '516f7d3e1', '627529fd9', '075c68fbd', '1b812569c', '0d3b018fe', '40081d075', '1557532cf', 'b15c8a0ca', '3afee81d9', 'd9ee86c45', '3899f3fc9', '3fe3bb4e4', '2042108a3', '239a441d9', '97806e735', 'ae06e29df', '4a41ca5ac', '498258984', 'b876871ee', 'f97fba09c', '81e95f44d', '0965792cd', '023143418', 'dc6d514cb', 'df8bbb20d', 'b3663a25d', 'e37c55b57', 'e3923c01a', '16ba64de8', '1dc8069e1', '0605519a1', 'b7035ddd0', '7656f99ff', '5c0e98422', 'e7788ed07', 'ca49ac882', '6baf64175', 'b2ee5c1ba', '340607b49', '50d48ad21', 'afec4b889', '48c5ba713', 'c26c86885', 'aa16fa307', '8a82aed00', 'da6766e40', '1e8a3fd5b', 'df81b8761', 'ef029c3fd', '7ae53b7f9', '52202c1a0', '798b2eee2', '270ab7c50', '04bc6fba2', '0242e99a1', '8ea4640c5', '15cecf367', 'd8c52dca1', 'd3be2159d', '41f1ca6a1', 'e7ed9ec87', '24469b3f7', 'cd5429c0d', '232367a6e', '1a2fd4686', '54789a43e', '58ee6ef3c', '2e585b16b', 'ea392401b', 'c5083bc55', '94476bffe', '92c95746a', '1f2af5b88', '9e10cdd8e', 'bc28a14cf', '90fb1c278', 'f65f29676', '327192ea8', '0be925697', '4bb29623e', 'a18243851', '8df619092', '9d6ef839d', 'bcd94d848', '972061613', '06d21cb44', 'cb6b287ca', 'feb50e76d', '54a3846d8', 'af6fa6876', '21cce4453', '78c6b892c', 'a23c53c30', '612ab9e04', 'e8ceda996', 'bbfffb3a2', '6706bb896', 'ce2e1fd64', '6d4125901', '04115e576', '0eb63a23f', '47e5aac89', '9ed6677db', '6de035aa5', 'b013aba7a', '9b05fba81', '0916922d0', 'b4ed5f261', '79ddf3be2', 'beacd1432', '62efd529a', 'b91d24c00', 'b13166170', 'f8407e5b6', '590a92a3f', '91365a656', 'f302d9a14', '674157f4e', '9bcbcfe73', '99b33644d', '66e446170', 'd5d2c1cc0', 'c56e646f7', '8b565b2d3', 'a6ae56854', 'bcdc4924e', '5049c0d85', 'de5cabf44', 'ca4d3a2d0', '13acbf9a6', 'edbd3d8cb', 'efb91e4dd', '9334c05b1', '3b72edebf', '311c36da6', '6bb693f33', '4e2d34150', '30424aedf', 'a5ccc01bb', 'e2a815f34', '0423bd7c4', 'b2699410c', 'f84705157', '6e0314081', 'e7a540f00', 'b247a3609', '696f53296', '95a0ec044', 'ec3cc552f', '6c7939160', 'c9dba1070', '0c52b42f2', '090cab3a3', '32026b755', '0580dfba5', '9e08b22f1', '0874302d8', 'bf0cade0d', 'b3309192a', '8a2042d38', '68e0cda56', '2fb528fb8', 'd00612fe7', 'ab98ca6bd', '0b6ec68ff', '7dd63315d', '5009da0ad', 'd2f3c1440', 'f07edf7b2', 'ffee920d7', 'ace996dcb', '4e55b14d0', '41f9b6082', '3c5595174', '4ef214489', '0d34cd0f8', '7a9c53c4b', '70a20c50f', 'da376ec8c', 'aa8602b7f', '6de8876b5', '3326ada36', '4a54418e6', 'd9b30e440', 'c2f10c23a', 'a52b7d8ec', '9e782d2cb', '2b4ca4eac', '9332a4ea7', '579970a7a', '49474de39', '882baa989', '1222b1a2b', '5904c2d88', '1c4e05d9d', '7c8dcb3c2', '8138de78c', '123450b5d', '6a28d5243', '0326b5809', 'cd579b4ac', 'c109ff3ff', 'e93f30c2f', '49e27b861', 'cf5d1c448', '33818a734', 'f5093ec51', 'd0beb8257', '59c4825f9', '5eab5bce1', 'dc9f5c70f', 'd73f1e10a', '80a5c3441', '749256603', '46c7e8a5b', '2d585d017', '3305a4be8', '21ec5c2ed', '18e704db3', '2fb0adf23', 'd05a1fd03', '41992ba92', '2eadd99ab', '7344a58b6', 'f372e2a22', '1a45ccf64', '84db01df8', '18db03d49', 'f434490ad', 'a4cfdd598', '1511f8a17', '83d9f009a', '88cd711b1', '6e56056b6', 'de8b99bd9', 'fe6571c3a', 'e24779844', '612d3a513', '51161eeb4', '07c094416', '7ad2c439c', '21cc4964d', 'b8d8c140b', '410a83384', 'dbdd6692a', 'a598669d2', 'd14631ea2', 'c260ab330', 'd66af2508', 'e6f1d5fc2', '521ae4196', '7a7666fa2', '88b9ab6d5', '41f89ed41', '45b3fece5', '6d43443d4', '18bec6f9f', 'bbeda41da', '34c421560', '9d931cf72', '39b91df2e', '106424365', '3ec8769a6', '4fbb167ac', 'a7a4a203d', '3c1ae13dc', '89b54a23f', '7dc2c4539', '2aa7183f7', '064aa7d49', '67480ba24', '0afef3ea2', '8f69abedb', '382cf7e87', 'caac6b6aa', 'c459b4739', 'eb1b8cea2', 'c9370520b', 'ce837ff7c', 'da2432384', '9d3e856d5', 'b557b53fa', 'baa48f18e', 'bc6cd367c', '719361513', '612fcaf56', '01a7b34ec', '36533a93e', '174a4adbe', 'ee08d3f06', '4ed3cff23', '4d6a4a0f5', '5a3ccde82', '52b50477d', '1bf9aa606', 'cf2454969', '5772c7c71', '1bb1614b5', '2efa1834c', '9d1999cf6', '60091745b', '897e41097', 'ad9e455c9', 'dacb01e71', '211c0ee88', 'efe02a3fe', '87bee866f', 'ec0fe23eb', '5abc69ff6', '1b5476deb', 'b0c0e9443', '1f0e04fd1', 'f1e152a0e', 'cf46756be', 'c874a058e', 'bf379c287', '23931700e', 'ffda98522', 'ba983394b', 'a496705ad', '0dba53ec0', '19919ff9d', '99fccaa71', '859dc3ec4', '33f6dd946', 'e482967f3', '46246e06f', '8a57c4bb1', '4527f8641', '06b35ce2b', 'f1192c12f', 'c506c2080', 'cfe0e3d59', '27cc6ec6e', 'b35f308e6', 'd5e5d555c', 'b6dbdc48a', '1f71a5eee', '39a2133ee', 'b4d1a4592', 'a9d35cede', '20855d5b6', '916c5e101', '95c34f918', '0708b0f81', '90ee6dde0', '44b6f060a', 'c4e5456b9', 'c2a10ff81', '5cd969470', '7afddc9a3', '520ba42f6', 'f0e3277d2', '982822150', '7119cfebd', '2b45a10bd', 'f05f58ba6', 'c5230ce1d', 'e36074083', '9eea7b841', '65d596201', 'ea0d16148', 'dbc05cc3f', 'fcf8c2866', 'f665558e4', '1162dfd0e', 'a619930eb', '542d752e9', 'b29a4b8cb', '236a73b56', '616226a4a', '5b5c13311', 'aea7778ed', '8b1d41c58', '8fe134687', 'e00f8ad1f', '618c9e0b2', 'e1e15bb6b', '0f0da48b8', '4469bb7fa', 'ed53b4f11', '6c94b98a9', '91aed34e5', '2930ef981', 'bc4de41e5', 'e13fc9abb', 'd9d98d4ae', 'd9e50c0c2', 'ea2eba649', '7cabcf8f7', 'dc726f517', 'ffffab6a3', '5e76e2c03', '929e25ee4', '7f9e64f9a', '63d65920a', 'bf30347cf', '9a02ccb2f', '5bb71a0e2', '2778e2ad4', 'eb2dc547b', '4b998df1a', '5d3ad5dcc', 'b50cadffc', 'b5ee71542', '41010ea65', '721bc6d6b', 'fd83fa0a7', 'c52fbca22', 'f976db04c', 'dcf46fee1', '5e3c2d513', '38c43201c', 'f10e42d5f', 'd5b52c3c3', 'fb57de2cb', 'c58736b2b', 'f74048224', 'f88cab1f0', '3765ba02f', 'fd1d99b7f', 'a9caec75d', '8cc3caea1', '6d286ebed', '90401e1f5', '6f561a634', '14fea6768', '7430aa74d', 'ad1f8262c', 'e0d257420', '06366367b', '91fc741a6', '903befb8b', '5f1d256d0', 'cac06173c', '6fce5168d', 'b08446fe0', '52ce93caf', 'b2cb6a561', '7ffb27f1b', 'ff529a30a', 'e01785493', 'b5303e9b5', '8ca532821', '34a829c1c', '8e268c498', 'd7d0e2ac6', '76f852130', 'f4f35f941', 'cf75ff816', 'b508e37fb', '52556e0dd', '2b32f61e5', '10088ccc0', '04c77de6c', '0e333d0d4', '8bc8daebd', '203943741', '8287f20f7', '19d80b0b0', '4834fb230', 'dde2bf409', 'ddf5ee9f9', 'd2da78c9e', 'f7b623cb1', '829ae71a7', '142e4b92c', 'e4a85f363', '022131130', '802f05fb1', 'ac84b337f', '8063f1d85', '4413b16c8', '86acca86f', '71227d3bc', '50372f890', 'f00c48c4c', '10b94d8e0', '934216a65', 'c1a9f7f7f', '90516b379', '802d6605a', '1bb78b74b', '728daff7e', '522b9f280', '59413233a', 'ea19101e5', 'cca1c3bc9', 'b90051dbf', 'c158e37ba', '67c03cd4e', '960c7d0b2', 'bd4bec619', '78b8fb62f', '6ffab11f7', '040f00f57', '42c1314da', '8daca4bad', '40b8df5b6', '25cfc0d91', '7b3c49f78', '3d33f0abd', '80be47228', '50389c332', 'aa195f372', 'e0a84321e', 'fe605ee3a', '72b748e2c', '4b2e38807', '60bf10a44', 'd78456e3e', 'd3639183a', '705cb4caa', '1020bb688', '2041981b1', 'c6287237e', '778e7e6f2', 'dee8a6be0', '6c630eec0', '2a3a0e335', 'c9d0177ab', '7dcd884f2', '1d3889dcb', 'd604dbdd9', '8041788c0', '8312ef826', '02dd68b90', '4688b82d7', '9d570e787', 'd8c357805', '16082fc72', 'a697ee388', '5a941f089', '6f21ecc48', '1ad199969', 'c8f505f52', 'dd1ea2a9b', '3df23e3f7', 'fe19199bd', 'd76867166', '7cde41266', 'c323d28a0', '0a9b55656', '523fcbcd3', 'b50556b0f', 'e0734b0c9', '30079b695', 'd469000ca', 'c4ebe850c', 'b27f4235d', '3c59fee11', 'a0a93d9a5', '69ae11dd3', '1d869e3d5', 'cf045c728', 'c35122b27', '551f34cac', '00435b4d7', '30827346a', '72a38d8ef', '3bcf4ac76', 'd40b11a75', 'ee2aa5f80', '2baf4db76', '796e31552', 'eb4d2c5b9', '9cf915892', '48f3995e3', '41245927c', '86d2cb86d', 'fd1ccb145', 'ddf712d11', '98d044c58', '7c72c8040', '2ee516f1f', 'ba5bf50d8', 'a11ef516f', '6e162e4cf', 'ae021111f', '46eb1f2d5', 'c02f9ab4b', '43fce0d9f', '8f34a4d05', '13497b85f', '82469804a', '7fde31dc1', '2137bfaa7', '86a2783b8', '129c2c018', 'd47ebf6da', 'a52eca20d', '432f57652', '71214b899', '0abbcc098', 'e0da94a47', '08e4d64aa', '0b6f592c5', '2b80d01c3', '4de383b1f', 'fcc1d382f', '878c58f3b', 'dcd7bad00', '29df6c27e', '1a51294a9', '19d68b691', '0dec61873', 'ee9f2459d', 'cce1a867b', 'cfbbbf9c0', 'f3b254c8d', 'bb7c39795', '41070dcbb', '70c236aef', '264e251b9', '19c6cda47', 'f761e800c', 'a69a4df25', 'ce1c52e78', '427f02ea9', '3e6566577', 'f9505f474', 'f4a5261d7', '4005b1694', 'e416d02e6', '5f6de94e1', 'c0a130cc5', 'bbfac060a', '530ef1024', '6a0c3c099', 'c82c6f5ff', 'b1ebfd817', '65b669fa9', 'f7cad2941', 'a5b3fb68e', '513da5242', '9e9fb0b6d', '9e688bea2', '2113a9e62', '2ed48a17e', '6bbb3fdf3', '9b37d329d', '9fc723129', '1c6108211', '002ae26fa', '7b082c8a0', '01b9086f7', '061a69204', '83eabad2b', '28d09cf93', '44698933c', '434bf9bcf', '954484ec3', '233e9e3a7', '110ab8f08', 'f20e2d126', 'f8e6120d6', '54a0e922c', 'fee1b2e12', '4a3ab78c6', '5b933d68c', 'ac51b9975', '007e93327', '4f2f21333', '0f7b08b20', '92b8d0a72', 'c9480d8f9', 'e0fca312d', '80b77ed0e', '7fea00623', '2cd2d60cb', '17660694b', 'd9646f552', '6ed2936dd', 'dce8d8f7d', '5ede5cc10', 'ef5c18e97', 'a08cf48e2', '739a051e1', '4257b9124', '7508f4ef1', '44c24137e', 'fc0eb2887', '4f72a76e6', 'c3ae45839', '420463b67', '0178ac593', '92e4f3a2d', '3cc13c08e', '2912d0fbb', '44d3bd578', '8bab687d9', 'fa897d135', 'cd4799710', 'fae860f79', 'd2f94bb73', 'a0b5dfcaf', 'f9a27be50', '884d799c4', '5105d5efb', '9c7cad136', '1884e8810', 'a24a3dc76', '7838ab2f6', '663d4428b', '5aaaf39f8', 'c5ffda93b', '87e98d79a', '220dff62d', 'ed24a1258', 'e12bc5609', '82570c498', 'b562d24f0', 'd3cff93be', 'e3525bf8b', '343055897', 'a0c7fc6a0', '7bd075be5', '5ee7980c8', 'f9fc16c9c', '0d05c62c9', 'bed34b329', '7da6b788a', 'f0593717e', '7b51ea0e7', '505d7b280', 'b51f9bd5e', '1c3349adc', '50c5e4877', '83f90bc0e', '4bf5f77f6', 'c5ddeedd1', '0ed6cb759', 'b0127e5d2', '91cde2ad9', '1aae3a568', 'f7d45aa79', 'c58eb9e31', '938a25af0', 'd561e366f', '682207821', '6c7292479', '6ece40b2f', 'ba6617f70', '8f9ee6701', '48867677f', '6c3d71b11', 'c5a3abfcf', 'f96bfd71f', '2211f918c', 'f2c33c911', '9cd71190a', '694e2d9b6', 'eb5a18e2f', '5f40f1c5f', '6aa08d9aa', '9b42db39e', '79102e69b', 'e9ac8b496', '1942cd98b', 'eddf51759', 'd7b62c86f', '34109cc81', '19b18225b', 'c99b41681', '785f7ad9b', '392b7cb4b', '85990b088', '2a4274c22', '80791187d', '0373f1461', '6b0538847', 'e2c6ec26d', '923719fa5', 'f9e36af9c', '31612394c', 'c9e4c877a', '4433a7da3', '4b30750de', '0a6c32ff4', '9ae60926f', '83a266f13', 'cd254c17c', '5361d3b53', 'e4d784581', '44f729e5a']\n",
      "nom_9 ['2f4cb3d51', 'f83c56c21', 'ae6800dd0', '8270f0d71', 'b164b72a7', '51e27c16d', '7e3d79a0d', 'feb72ecc2', '34a7273bf', '0ece7a511', '7f5e74721', '01dd99dc0', 'e82ec9b46', 'cba64770e', '3c915f463', 'd445baa4d', '21ef6824e', '332ab0429', '2533756c6', 'a1f8ae96a', '31240cd0f', '6397e6ac7', '4988ea648', '89f8bc6ed', '7f8796416', '50cd6c1fd', '9b0d8a2f3', 'e19545794', '6c7322f23', '5b3d8a29d', '7091158c4', '87b995b59', '017ec7dc7', '27560dd68', '91abed250', '3e1d307ac', 'fd12e4f13', '782e0d27d', 'dba72b647', '4d73bbea8', 'aac5e6ef0', '35c121c88', '0d0f52250', 'f13abffbe', '64b5f4997', '83ee04764', '7ab24fae6', 'bed934832', 'd45e84f94', '8898fd72f', 'ac541abb1', 'd73f97a6f', 'ba877ef51', '08d00ab50', '4326aaf90', 'c2bdcc981', '5cd6c613c', '3c4365da8', '75193d88a', '8dd7b712c', 'f910f1301', '6c35bec50', 'efb7015c0', 'c200aec2a', 'd60674abc', 'cb7d3029c', '3767f816e', '676136f5e', '9ee2c8b58', 'a26cd976c', '26a5be54c', 'c220983f1', 'd1cddf499', '86d4e8a7d', '18b5cbbc7', 'a9d63b72c', '9da45dbca', '47ff1430e', '4351e49c3', '4466b1160', '2452cca09', '8f578f412', '521930b44', 'e2a7022b6', '0c0bae2b3', 'bb2f0e618', '493ed719e', '51edec159', '0783ebdcb', '9dc708e2d', '41df37a52', '8a730c339', '3b05d2cd6', '0924bd9ab', 'd9c39b26a', 'd5758e0c9', 'db6b6d53f', '53486bd3e', '3cb920ed5', '95345e0f7', '55aebe10f', '7b14a2b9d', 'f7ccd55c9', 'be3bf2347', '3f3b2b9b9', '71b8004c5', 'f73bcd6c6', 'cf1354237', '65cf86020', '9fab706ab', 'daee68360', '001e2ba03', 'deb38e612', '0148bf087', '276525ee0', '4de471828', 'c2ff464db', '6404774ab', '80cf5687e', '1625ee58d', '076c03d92', 'ee997e1c2', '18f3b0358', 'c0596de85', '96f06661e', '0bb2de046', '032eb51e9', '918cd70e2', '12d8e2b86', 'da49c238e', '2f2d66e15', '9ee16c1da', '08f1f310d', '44acc9af3', '7590069bf', '957ea6a64', '5e27bf261', 'c5fa302b5', '1cb6ae4a6', '4f6b8c0a1', '437bc69a0', '0824f64c5', 'abb81c1f3', 'd7f5f79d5', '8409caa2b', '070a2aa28', '0ccac7ef7', '029d3d7c6', '32428ce3c', '1bf37240f', 'a4fade98a', '4a75ee299', '49d9b1fa8', '51489f58c', 'ef68b5367', '544df2857', '3aecf5f0b', '460999a3b', 'a9e87d557', 'c7d528871', '7e0262237', 'f1f881e1c', '8cb359c68', 'ba0bd4602', '901cfcc6c', '6cbec026d', '276367107', '1df628517', '79026b66a', 'fc9058a05', '72c4b707d', '28abc0433', '49bb20e0d', '3389ec8c8', '3bdc7d50d', 'ce6539136', '09ced9939', 'abd88224b', 'b1c9e4047', '44078254c', 'f540d9987', '43c7347c2', '70c857a60', 'e6192b4d7', 'ae7f7036e', 'e8a18c72d', '4b6f8e855', 'aa7f29b41', 'b6fe1220d', '2126a5dda', 'b9fb74f65', 'cea091b6a', 'd3200932c', 'f4283614e', 'd23a3846c', '140493228', '4ca31c9fe', '2599425e9', 'c27e99de1', '6281ebd35', '5d49ea0b7', 'f5ab485a8', '2c4b71fd6', '51581df26', '5517aa6e8', 'c2c560cd4', '12b054aa2', 'f45a95ca3', '0bea11f8d', '280f21d68', '2adbc74ae', '226f13e27', '1ad346cfc', 'bcb21cf46', '5b2453cee', '6cb68a436', '8690f9588', '733c66b96', '13a69f18f', 'bd863b61f', '42ae959b2', 'a9704afbe', '37c2b80b0', '6a223b1a0', '67b4698ac', '63bb5eb22', '6c03553f9', 'd8f639673', 'd626506f9', '30d1d0cc5', '55bed39d9', 'c1ad140e0', '17fde4af8', 'a778015ec', '3b8558f21', 'a61a67f79', '4d7772740', '825dd25d7', '2d610f52c', '85e951af4', '08f9fd483', 'c0c4d23f2', '1db51b1a1', 'a58018e98', '132d01b99', '52f354514', '8c2d294f6', 'd05463242', 'ed5f2bf65', '573026c9c', '7404124f7', '4f6e5ad4e', '5ddd26653', 'b96c5e924', '8988250d8', '392467fdc', '5765166b4', '8fb3a3272', 'b7404c1e0', '15f472ad7', '932ede7a3', '557cc5d14', '3807016a0', '34bc0b300', '51c006823', '5f04125d3', '164844815', 'ec99284d7', '7a8459b81', 'ceeb57b7e', 'b9c218099', '6129e3c81', 'c95dd88d7', '3d3eee32d', '9f0110647', '8a08a8782', '8022f9312', '8c4842749', '0d483ea49', '98bbe18e2', '7650da40c', 'ed60e5353', '04c44a0d6', 'a16b1d8cd', 'fefabaf8b', '03c62e68b', 'ad994da83', 'd3c3db0c1', '8691e6429', '6cf0cb7ce', 'b3f565f6e', 'c88c10a63', '1617f3103', 'd77f8f9fa', '5e508a41a', '360fb7cd8', 'dbc8fb63f', 'c6550895a', '430677d1d', 'a70280052', '2846d79cd', 'c3382acf4', '324725131', 'a5949374d', 'b29127fef', 'f6bdc473a', '208947c17', '95639ffa9', '6563efc2d', 'd0cf04324', '1d26e04e1', '2e89cd6fe', 'd02ffda8d', '4bcd85985', 'aaefb93ff', 'e06eec279', '24dcae1f9', '7523243e8', '6579d31a6', '4004b4fae', '5d483ecfa', 'b138889e0', '581de94cb', 'b728b9646', '0623cb068', '306d87cc1', 'a8e695393', 'd3a97a6c9', '1c8cbae48', '5d5486aae', 'dafef22a5', '9b076f400', '834414ba2', '93d7445b2', '9cf4186f8', 'a7e9c373a', '16eb8ae07', '77c10ec02', 'b1725c193', '85b715e9e', 'f94107ded', '583e0c53c', '6131d8e6d', '1edcaac98', '3f05211ac', '3c2ac6197', 'a8c5463fa', '4474b83ff', '3ac1438af', 'c76d1a95b', '1f146ef81', 'c5ae732d8', '1aeeada7e', '9db28cc6a', 'f30806bbe', 'e7dd344a8', '4ed87ff36', 'db5f5e8c1', '4faf5f918', '1cfb5b70f', 'f2592de6c', 'b448dbb88', '210979cb5', 'b7527cbcc', 'adbfe1549', 'dd069f94e', '29061a0eb', '2da8c4eb5', 'e33c07021', 'e9f535d02', '4ac497d58', '29d86d935', 'ddb6e2cc4', 'bce434c81', '4c7bbd009', 'e17a5a906', 'b85dd273e', '336fc8cee', '23bc7322c', 'cd52acef5', 'c19929e95', '4c3a02417', 'e0872cf9e', 'a82fb3f7d', '4f8c60b6d', '20f0a490a', 'dd6f57c92', 'e924e84d5', '5404ccfc3', '4741666f1', 'c6164aded', '30a9b1e47', 'd7c084d13', '5096ea7ea', '8fcf80d5e', '213c78891', '38f0ed9f7', 'f80865d14', 'ce3eeb1f4', '4099c9765', '7d68c3eba', 'b2f30aa43', 'a028d1d9a', 'af3354181', '94331888c', 'b5569598f', 'afe7317d4', '1c5ade30a', '69ea23e67', '85b25ad01', '1a5b3243a', '5eba5bd41', 'e5090ee71', '0a3f628c4', '89586c738', '2f3e52798', '15a68a077', 'd30b8f290', 'ba28e4d02', 'f2fc20245', 'a1d23b123', '584ccd44e', '7cc700a30', '8ee8c873b', '8df02cfc0', '6d047f52e', 'c97275e1a', 'a421d226c', '16243c191', '614348d35', '688e3290a', '398904757', '124c478cb', '6900b9141', '8055610e2', 'cefef5fc8', '4eac12279', 'd8c56bdc5', 'b366e5e88', '0dc59ddae', 'c2bcf37a4', '63a2774d3', 'cdaee099f', '800b71b2c', 'a9f6b38ab', '579c86625', '78c8a28a1', 'b69168ea6', '0027afb6f', '93f5f3b32', '60ca15762', '02b60e27f', '3158f8b4d', '323e6884a', 'd31d35b36', '919a42a41', '6a5f3c6ed', 'a8aeb4e86', '0c7a195d6', 'fed4005c2', '55318e1ef', '4ed61c21d', 'f800d24fc', '5e7111cb3', 'e46bdea50', 'fcc37aed9', 'edc156bb2', '1f3fbfb98', '98eef06b4', 'c5acadd91', '644d0161c', 'c8665a2f1', 'e28cdbcc2', '0b371d5bc', '3dfde0219', 'e46b19ef6', '75a8cfa03', '1b9d7e23e', 'ee8dda622', '520a781f0', 'd3ded8ed9', '8ca261e9d', 'eb7ab314d', '5fd69b4fc', '9553ea139', '73a32480a', '59add3990', 'ec3eed7c5', 'ba06560b8', '25acc955a', 'c4b6a1da6', '88baf3d59', '608491057', '8923a846a', '581b96306', 'c5ad6bf46', 'e55787173', '7ccb0a31a', '7b75a07de', '5731280f6', '14716668a', '412ef254d', '6429d10be', 'd337670ff', '0405bf6ab', '5a2e32b63', '51794c014', '194b3242d', '87e266681', '7ee50e075', 'd3778da9c', 'e5cc17930', 'f4987acee', '1469863b4', '5675df85b', 'fab377af6', '39dcb81e9', 'eebafb847', 'cb0109d07', '465497dc7', 'cd178e7fc', 'ebf6d58d0', '81e7acca7', '2d771ce75', '78b280802', 'cac58748f', '7fe46e676', 'c36a0b7a2', '47aed12b5', '6d14b2b0d', '4cd1a5839', 'fa8d22195', '9b951b1ea', 'a03cc8c1f', 'ff3ff6768', '38c4cb5fc', '5ca73bbbc', '7ac56cc25', '4e7692ced', 'b427ae3a8', 'a0002ede1', 'b884ff4b2', '2767eb573', 'ed449f23d', '6799ea063', '5b3eab6fe', '47491a8fc', 'f646ce597', 'ae5ca8cca', '9e100f0d7', 'b699103be', 'e9f6442aa', 'd7afe62ec', '876de1ca0', '679a4d856', 'f860b8f1e', '2fe2bd056', '114597dd2', '9c4c58b08', 'cba4ed1ee', 'dece387a4', '1ac542e0d', 'c7ba4e1a4', '96fa3233a', '6d6b63e7d', '15a194917', 'e95830634', '20e5a9550', 'c56f59466', '68ba37ccd', 'cec62accd', 'b032d8e14', '0c9dd0087', '1fd9636d7', 'ab5f3eee8', '8e988571a', '7f1c3219c', '1d8a88a90', 'da6e07358', 'aaf5b4187', '81fdcb7c3', '23b7bea04', 'f994ccb83', '238cb3e6d', '847bff3d9', '535828bad', '68b2f2ff5', '8cd6886ad', '866b1cf8d', '0b93b668e', 'b63abc594', 'e563c37ce', '5445d125f', '787aa8407', '9ba407912', 'd38707767', 'd3b828699', '465ffb0fb', 'f517a1f9a', 'b8a9650e6', 'c02d836a1', '357645a27', '8f17e29ef', '0f75f8eaa', '616c30018', '3209f3332', '613fd2ceb', 'e43bb4805', 'cdbb9cd88', '644bcddc9', 'ce1cc26dd', 'bc0b1c828', 'bf946d043', '69902590d', 'ba6801410', '1d7366295', '1dd5e08ae', '642de1d02', 'b3d341bac', '4a74c96d4', '22c955ba4', '77d12c273', '178056a55', 'e8c6584a9', '1a41e3ccc', '2260f20bc', '746029b4d', '2dea55ae2', 'a9c3b1a1e', 'e98d80815', 'e1084bbbc', '90a6ab0e1', 'aeef47679', '70d6ccdd8', 'bbae3c52c', '1814f6020', '1582c0806', '306169878', '0a1d259b0', '89539e0fa', '4567c63c0', '3b9e7739c', '09feacf2e', '65a77bbd8', '09dcde5af', '1be4a6a69', '9392f912d', '3d05fa76c', 'cb8b9d2cd', '5022a2afb', 'e23de3efd', '606e6d5e3', 'b6152994e', '086a8d37e', '65699769c', '31f4e88fc', '0921eee77', '39d21357f', '732ef6871', '8f74ce33c', '45b66919e', 'fef70c08b', '202789290', '7be800d91', 'ef98d5e8b', '68f5c7b0f', '0f0440d09', '61bb9e43d', '624a32e57', '27844d4c7', 'f0868d00b', '42bf1e5f7', 'ac23f2a38', '76c405d4f', '25258710f', 'cd20cd3a4', 'e6751f54c', '750935104', '57b41cf49', '911bd0a6a', 'b5a112bf2', 'd975e47d1', '11dcec3f1', '871ef141c', 'cdfec2cb1', 'b237c2552', '75e1bb13c', '989d40c0f', '74000bee2', '9e132bf81', 'c964a7037', '4009ffc06', '0b4b2662b', 'a1083e30a', 'b25d4337d', '330bfa4f3', '6495c40f9', '5bde6630a', '743d8df9a', '38f1f6ea6', 'b0248f236', '15de8f661', '5be8d66b2', '401c2455c', 'eaa2fed47', '7baca9297', '0c10121a2', 'b5f30b40b', '60d6840a3', '4e1b2c19f', '245bce63b', '11c4738cf', '23dd843f0', '3205392d0', 'b70d32149', 'f838af6b9', 'b6e641fb5', '25b6eef9c', '2704ef3b8', '326e70a8c', 'e7dc16f7e', '16d233754', '9e4c99a0d', '8275027b7', 'c7bc471db', 'a451d30cc', 'b5df85fd6', '443727061', 'bd567cd55', '04ee2825d', 'fa00b37b2', 'd552e5e03', '9985551b5', 'c1ff010e8', '8fe76101f', '26e51923f', 'af454196b', '4b9fe1ed6', '017939e7b', 'c066a1119', '058e89912', 'de88fdd95', 'a9df6c498', '4d834bc73', 'd10527c59', 'c64a3cae3', '24e51899c', '113d887c2', '3f2a6b542', '6ab6898ab', 'f86a685d5', 'dc883e80e', '3ced1535d', 'e43681655', '8136e86a2', '42fcffe95', '1393b8aa9', 'd1096c9a9', 'cf167b748', '6b78169ba', '641d512ff', 'db9d03a25', 'cdb4b4db5', '56fd534cd', '2cb3e36ad', '112ae5e2c', '0f47af64a', 'eb3890574', '050297a25', '4f2985f56', '06ea0ece4', 'f1409ed0a', '39515531e', '9c581a38e', 'cbd0d31d5', 'd0326c181', '423801297', '2d119b624', 'de7699a4a', 'e98ea9851', '2257000b0', 'd21fe1728', 'c10872f96', 'c9bae0116', '619ff05b2', '83097f7b4', '9f77e4fc6', 'fd6343bd2', '8195596d3', 'ded9b1aae', '740fab3ce', 'c7b9fd244', 'e95389f2b', '3af4050be', 'fe19b0673', '26d8149f6', '2d9fb98f3', '4d63cfc6a', '27d932e0a', 'ca5bfe426', 'daf344d55', 'f6d49b652', '30a93b8b6', 'de3d0a268', 'b27257562', 'bf650ac99', '65dd87c7d', 'aad8c29a8', '888039373', 'e6517df10', '880dfe705', 'b52a81205', '37a8dd691', '4b8e1dec5', '6ec7f8dce', '2989fd6f9', 'd92b5781a', 'f8ea9cf0e', '044e6d68e', '44ffd907d', '9f2dec0b7', 'd23a429d1', '673c268c5', '4fb36ac9b', '97616a1ac', '5508a2640', 'b34ee501d', '3f700a73b', '2a5675e23', '54113ab64', '17a6152ce', '2f565e4b4', 'ae10ce7e5', '150b71a03', 'edfce87c8', 'e4fac61e0', 'b6fb15cf9', 'cd94603bd', '00dfe9127', 'e293ab32a', 'c3d48166f', '6b4f66abc', '983e3dc77', '47765fe60', '07aa92c28', '8d1eb8eb0', '6391a7ea7', '57bf14892', 'dfc36aaad', '25ae6594e', 'f78cdbe0d', '6a3a8d725', '7987034f7', '87d61ce51', 'baab8e49b', '3590d0ca6', '507bfe839', '01bfea306', '7d435e4f6', '2ed0fa574', '513996f8e', '2d143cb9e', '00f5f64af', 'e55e0f422', 'af9f2e644', 'f5e0c0d01', '3b71b824e', '781c432c1', 'af9a0d3fc', '0f93c9868', 'f597cac9a', '2e947f252', '458667ded', '5d8794958', 'e87175fc7', '2e2562e11', '1550e247b', '7bbdbf675', '7842f5a96', '464a765b7', '14b414a41', 'cbe16c9fe', 'aa17340ed', 'f0a4c96e2', '0726b0a73', 'c2f264e9f', 'ae25fba9a', '7ed179f2a', '9db9b0408', '1d5e08295', '59659f600', '46103563f', 'c8f5abb72', '09f1162b9', 'b08e679fb', '4ab1e5e0e', 'c077a694b', '40cd11628', '1ea94ef04', '9e4b32d7e', '594b646c6', '53836b722', '9d969761b', 'e76ef59f0', '08292591c', 'be93072e4', 'a8d62e37a', 'ca1f813f4', 'b89f991b7', '0479d08a3', '27a228369', 'a5dc144e1', 'eb7ceafae', 'e14d38f18', '06e879dc6', '2767d007b', '27c2b9712', '87e427854', '0f0c41574', 'b7167e779', '4c1e8702a', '3ab6ea7ca', 'a9960b948', '6bcf5b2b3', '46658ecf3', '30a167b94', '27c271936', '1d2a282ab', '6aa7f3ed3', 'e25ef4e29', 'd001123b9', '8a2514e7c', '4b127b1d1', '210eaafb3', '946067ce0', 'f6c8b58dc', 'e8a4f304c', '35b614816', '787b1daed', 'd3e30d5ca', '7624c2523', 'b51b5c674', '12cf7c2ee', 'c65639434', '81353277b', '672b9c640', '1a8886330', '264293b18', 'df8ae97cb', '7e26c7952', 'b51490b03', 'cfa7536e9', 'a08252ae1', '3ab6699bc', 'ad1af2b45', 'a7eee00bb', '922553a18', 'f65396dbe', 'e3015db2b', 'd4527f549', 'd52baf236', 'a429e63b6', 'f5aa060db', '7d9835dab', '000c15b20', '7aa6797b8', 'b62e1dd2f', '3c37f6eb4', '661a0a4a4', '86295d489', '360932674', '2f7925df7', '1fbd68795', 'fae52d8b2', 'cf9d313e8', '3f1187452', '68be7e533', 'e8a1ec004', '939b35e9c', '5a10dcf65', '4840a3260', '312347adf', 'bdceeec1d', '27bc1e875', '4822f387b', 'e04144549', '7027bace6', 'daf6e0af4', 'e605d00c1', '171e78c8b', 'e557f5e7b', '66b4b754c', '67ed25437', '29416a6af', '00850b8ad', '3600757c9', '7120c6b03', 'c44609f5a', '7c13a3ce8', '209d2c493', '2c5185016', 'ca295a4ea', 'a4f249497', '77cdfb2cb', 'f15b4db73', '8f0a27342', '7ab1f73ee', '1bdc1d94e', '0a793c9dc', 'b178c3f71', 'bc907d536', '72ed9da8c', '944e6d65e', '2eafd33c5', '706faa133', 'cc03183bf', 'b8c2db7cb', 'fc31a4204', '9f40a3f3a', '536a0ad8e', '2f423506a', '4c59ba502', '421ea02a5', '474fa4ad3', '2e7a831ab', 'da6678dd7', 'ac21b4479', '83eae8f77', '1eef23b14', 'a9a10722d', 'ed6cee289', '1365bfbac', 'b043b3d84', '07e3abcbe', 'ef0a86323', '15267588b', 'c68b759a9', '5a05e985f', '706d731d0', 'c8dd88f72', 'a8a73a00a', 'bc328d761', 'e616005e5', '560a61df6', '858fce1e7', '691f62f55', '22a0e25f8', '87a4fd8ca', '996aff165', 'c25d9931c', '1e03f5703', 'dcf6a47d7', '051b841f5', 'fe6a4efaf', 'f89fab41b', '6eab7b06f', 'ebee40aef', 'ecfae844c', 'b8939922a', '5a61c4095', '14cfa12df', 'f2fb8ff79', 'ae4cd26f1', '54e7cda22', '2d0956106', 'e0b0476d3', '5389c6f6a', '31fbf0e61', '8833eb01d', '6ba058d5d', 'e6d161828', '28f8684a2', 'c1ce5a6ac', 'd167001b0', 'bcd89e963', 'fb11c7034', '884edfe4e', '8b0132577', 'a5ebc861a', 'e74b831a1', '74d2b50b6', '6eef10df0', '79cba2131', '85cabe4c1', '4fda89736', '7a2ce9a6a', 'e65547067', 'dcdf53c00', '78e7a24e8', 'e11c315c9', '25232431b', '3066aa6fb', '95923ba34', 'f74b56199', 'ddffa7cff', 'ced4152e0', '2668255cf', 'f0055e85c', 'bede99080', '34e4c5175', '35e8ac209', 'f5ae5f9fe', 'f7845e7a4', '3ec31b3c0', 'ed2bdad78', '244f3d156', 'fd208e5c1', 'daaeee7fb', '35374c0f7', 'ea8412e32', '173e3661e', '72769ecb5', 'd724fbbfc', '9cda6d24e', 'c390b0f2a', '7eab725fe', 'd2fafac01', 'f43b6639b', '74fc0f8b9', '8bb08e70d', '104d16700', '3ebb988aa', '1227d29f3', '098dd10f4', '0e2bfc354', '2ec53d6a9', '3e88dd2a0', '8c8a56f3d', '1a1878844', '8fb56befb', '44e54e5ed', 'd74c46b25', '75919939c', '39940fa79', '9c1cb968f', 'd65d3a5ac', 'bb2f99e3d', 'a097e6b7d', 'c31765416', 'bbf0fd504', '0754a3444', '7b16fbe9a', '84d3c60bb', 'bcecf7c23', 'e389fcad0', '7837530c5', '6c0dab20d', '4df5b461c', '673879e1b', '7a4905f85', '54ee7d6de', '4af80cbc9', 'f2d6ba224', 'aa6a31d6f', '28248c941', 'c3fd8114c', '20ae3cd84', 'da4fb14fb', 'c223c0904', 'caf46b0c7', '452d268f6', '844cf9b20', 'b6bb569c7', '9c58f3be5', '428d5bad6', '091b124a6', '7c654936d', '0d6d240e7', 'ff61809a0', '454a73725', 'd32de6b92', 'a3a41e8f2', '733f279d2', '17853cc20', '0f5c14cb7', '538ab9f52', '5c5a243de', '66cb1f126', '493b6a2d8', '5162d0c5b', '3a04b6c17', '01cfc8958', 'ac762920d', '75d2de5c4', 'bdb7db170', '3037885aa', '9afa2d9f2', '0e0577160', 'af920cd89', 'e97817737', 'cf5bbde92', 'b22e596ed', '4a41289b7', '0e81e50c2', '9ce4120ec', '8dfacc710', 'd6f990e6a', '4e8428c03', 'd0481d60e', '638a4d434', '5a16756cf', '4e81734d7', '8553a9ed5', '8d16003c8', '001062bf6', '5133166b0', '7fa681ea4', '587299f6d', 'f519f7ec5', 'f464fbc4b', '00989ef04', '2aa4eb9ad', 'ba3f4c324', '42ee49463', '5a2461910', '7d4f814a4', '7188e7e3e', '706841aba', '025b091c0', '3d38c9b0b', '9ad7156ae', '5d72ca5db', '223325778', '4642e6897', 'a778bea28', 'df4017556', '34432c6f9', 'b378028f4', 'dc3cb07a4', 'bd164696f', 'ca7ddfae9', 'c4bfbb125', 'b165bd7ec', 'f7c7943df', '9a4207c92', 'c6444b847', '17577e4da', 'aa47dd92b', 'dc86a862d', '466d25288', '185eec21e', 'fbfa5e40c', 'c54660949', 'e874d9dae', '7f2b7ad04', '1f3593f24', 'd05f9f89b', '29ccc606e', 'dfaf616eb', '69797d133', 'c1324082f', 'fbdaa1666', 'fe1a20bb5', '71eb526a0', 'e774adf5c', '86633edbb', '350aa92e0', '9d769b9fa', '59e08e8f8', '735d929d8', 'd1180bc29', '2fc029e58', 'caa16a9bf', 'a542319ea', 'b2c2c6b8b', 'dadc8e275', '4ac8f3ae1', 'efe409072', 'c636fdc0b', '270e0a787', '69316521a', '458ead51e', '712ccfc7b', 'd25cf57c0', '02df1aefa', '44a415799', '59e172071', 'a9487c60b', 'd9221f211', 'dce3fdaff', '8e0450be1', '79d829b83', '6adba3b85', '47755ab14', 'de9aef680', 'e69e4725b', 'fb95d34ec', '295dc5c43', 'dd30a7225', '3ed31f2e2', 'b25573b75', '42385088b', '95ee08ed1', '47f02a065', '2e91f0554', 'bc05ed12f', 'f4946f46b', '43f095c4c', '95cf2b1a5', '7f5b1c170', 'fa69bd007', 'e0ee041a5', 'ef8c523a7', 'f4f10c959', '8542caf23', '04b1fae9e', 'b31a6425e', '2587e4eb4', 'b57c033f1', 'cb5c591ad', 'f05469405', '62773c430', '76c06109a', '2fec2bcc2', '62da0da08', 'd30bc7231', 'ad5bfe8fd', '6e49dc7cf', '52b04a79c', 'e119f14c8', '434a9207a', '4d994c0cd', '9b0f5a687', '952d7fc03', '8eb1c6300', '7bff1cb40', 'f7d1d010d', '35e0f0c9a', '45579b8b1', 'ef2c58152', 'bc1d77eea', 'a1fed290d', 'caa05ba28', 'b3f091a5d', '0e9a0ce6e', '46e961406', '4cbdd80a9', 'affc1a52c', '161630c8d', 'dd497e490', 'db2bece16', 'b7baac3c6', '103f52530', '22e8abea7', 'b45218c9e', '551ce3be9', '1ff989601', '652c963d7', '2fe44b326', '54dc42abc', 'd25732caf', '04d7c83bc', '1b1bb98b8', '544681d2b', '3c627fc58', 'b06cd55a2', '727f03ac3', '8f7779e65', 'cb8096c98', '1bdc1d8ed', 'f48d63698', 'a0954566d', '94ab7067e', '1891e5457', '81368c258', '209682892', '670a916fb', '063f46bf5', '354aece77', 'f78ebd08a', '4f4a17f34', '074342760', '7ef605404', '95e83124e', '43bb80280', 'c268f48bd', 'f7ae1386b', '71611627e', '7c8cf939d', '104347ca7', 'b0420b01d', '564d47a33', '9321f24c2', '474b96ed5', '90de4b8f8', 'b5de3dcc4', '8c787aa6a', '324f669a2', 'c74c0c68b', '0a9b129e1', 'd6d5efb23', 'fec587b08', '1cc0e6d2a', '51d94d996', 'f7215e4d9', '5eeca43ea', '00d1b82f6', '2efc0ce6e', '8eeafbc72', 'c6aa5e1c8', 'f1d53e20f', 'ecc651b7d', '9dd4fb55e', '82da671ad', '9b4435d65', '97c1677cc', 'b2afd76a3', '7f8cc02cd', '38b51e7a0', 'b7cd4ac46', 'c98390e74', 'ef3cbbc20', '83e5d34f8', 'a6e3148bb', 'a58daac2c', '36ea6b583', '7800005e9', 'eb692738c', '51ef3941f', '1e757094c', 'ce9fc53de', 'd79a07645', '72d8a0d3b', 'e63c4866c', 'e990b1adc', '68cdcfe96', 'f66ad2043', 'bf8728333', '2e86c16d4', '8e0e13570', '4c92c97c5', '69f93ae6f', '621cbda12', 'bc74dd1ab', '0ff2dfdb1', '379073177', '62da91550', '217d3377c', '869700459', 'db8867819', 'a299efc1c', 'a9319a0d5', 'f1a9cd730', '36ab0df57', '50c692c47', '570d8d972', '7671a0571', '1112c9773', '0888a8e39', '15f97f3a8', '4cb1c7ab4', '4a5a4f2b1', '75719a56a', '64cf81768', '48f945ecd', '7e92ccb87', '0a3cc5da7', 'd56bd7a64', '8cd4f6443', '4874f2f86', '86da91342', 'd1d9522ac', 'eb3d7ce7e', '1fcdbb6ac', '71d1c406a', '8c589c4c9', '3f27d8052', 'e44c9a9cc', '07e539fcc', '187cae031', 'fe208e10e', 'bb72deb38', 'ab8d1a23e', '06ee45f4a', '65f818fa4', '64aa60847', 'f346d6b27', 'bbceed7c8', '66097fcbc', '5ef8bb55a', '058a8df97', '954fc1655', '95dfb421b', '8760e4122', '55af05078', 'ad5fbb2c8', 'd6a3ca507', 'd09774418', '3c05c7aea', '5ea4604af', 'a3e6bfe3a', 'd06090d26', 'f1a7923b1', '4796e7b76', '2b415c02e', '42ed011c9', 'd44768443', '654cdb18b', '87a12babf', 'd9e1854a1', 'a6219e964', '5476f86b3', 'e5e720744', '3a639f3c8', 'fa4bca9bc', '17c1cd689', 'c064a7240', '65e31f004', '14024a750', 'cc51d4212', 'a59c32bfb', 'f0ca30ac1', '3cd193139', '8a6a1c597', '62c74a2e2', '1e9ebdd12', '0156a9e01', '29aaa0e8f', 'e27fe30cf', '829de2f97', '820b5b35b', '8c51842bc', 'f15623083', 'c7ee5edda', '022861733', '9ba7ca243', '1dde1cc03', '701a78b0d', '20a41ce31', '6f77b7e40', 'e347b3b46', '46764ab3e', '65ec9c262', '271d6bb19', '64f44d6dd', '20c1fc25a', 'b8d20124a', '7a1ba261b', 'acac62b2e', 'aeb3bfcc9', 'bc86c834c', 'baed25c05', '24d0f1098', '7896324ce', 'e110bb5e8', 'fab080ba5', '1256b598a', '4a01b84b0', '181e3a2fc', '0c89de65d', '83e86ee98', '3b8243a9f', 'c55533419', '1f29f646d', 'df57e1504', 'db7407e00', 'c19b4d222', 'dd30a91c9', 'b526aa652', '6b55ab403', '0737f9c20', 'f909d3e6a', 'c77d1b6a1', '71fdd8e9c', 'a4929f87b', 'dc9fd26c6', '286d02453', 'f61c99554', '900852b2f', '8d67eba6e', 'a6d406921', '5a71b8a20', '7a01ee510', 'bc2326de4', '7a5658ba1', 'e8b47e344', '86dc8556c', '7d495251c', '9fa66feed', '896ec0249', 'bd85b0719', 'e07393fce', 'e0c6f8d0c', '9bb6ccfd2', '4f3d4d167', '450d20abd', '59ac86e3b', 'f61fe5e51', 'ef2cdaf7b', 'f528933e6', '242e5cb6b', '1466b6a89', 'ae5b757e2', '8e2323050', '36b5efb6a', '85969442b', 'b214b865b', 'a5635a276', 'e976df9a5', '39386c39f', '5b62f806e', '868d1d088', '32fc1c6a2', '60fa9c474', '09f0f90de', 'fda315644', '6b1cea7ed', '570ed612d', 'e77de7512', '6a78d995c', '8de839c68', '0e5b0c429', '3f087f8a7', 'e94f65c50', 'be5c7123b', '981fa0f74', '6f46d2f36', 'd0ab0edd6', '3a6619c0b', '760b14156', 'd67c741be', 'ef1558c24', '43ca73657', 'e22f7c603', 'c9336bd15', 'c493c5bc3', 'c56e65a40', '21496cda1', '88497d048', '335a156ba', '369ee33a3', 'f0c035757', '5aa47f3c0', 'b447fc476', 'c1c53caa3', '96ce228a8', '67c2fb95c', '112e932d6', 'fc464d704', 'ec40cd6e8', '83d018d90', 'f4e1f7fef', '25afb2841', 'cb02ba3e7', 'c13457cdc', 'eb58ff2cd', '85f40f057', 'ba12075ba', 'c8f276479', '1801a2c08', 'e3f26c425', '1f76005eb', '352d7c0cb', 'a961608da', '1f560f974', 'e6a791e94', '8183b010e', '64ec48440', '6512e6e59', '2dfcda2e4', '30c195bbc', '6e8ae00d1', '8173ee7db', '1df226afb', 'ff9efcf8c', '5213501ec', '7a15dce91', 'ef5d10767', '191fb13ac', '233381a6c', 'b6b0a3ab0', '063e99626', 'cf08da50f', 'c644ac1b0', '9ccd1e1be', '7155019df', '29a89e48d', '297abad9c', '1dedc469b', 'e424b3c1b', '139f842a2', '8da719fdd', 'ca041d4ef', '593fffce7', '579abef26', '014979ecc', 'c10c2ced0', 'e25353375', '1a689dff9', 'a28d07431', '7208160cf', '84ebdb3e4', 'd1920d30a', '40e1bf207', '9464c14f2', '718e32ffd', 'c6bd94cef', 'eccc1cc3b', '545bf9366', '4ee23c575', '6931d2757', 'bfc4b2251', 'aa1796b81', 'bc29fa4d8', 'acc31291f', '3c9f3586a', '4d776e62d', '9dcec2bdb', '54d8d12d7', '27f56ba8e', '04695adda', '47a262cc2', 'c75fb0c8e', '6cdb9af99', 'e1b87a2e7', 'f9eacfe4a', 'b001f46f4', '658530128', '84ffb1969', '61a4ff84c', '72817ba3d', '9e5eff378', 'a0e4207b7', 'c4e148b66', 'ab9892c11', '71544a458', '1fe8d1966', '458de7842', '5e2828dde', 'ae8f37296', '1676392aa', '1385082a5', 'f95293f5c', '12ac6f429', 'b3212827e', 'd954c01b9', 'c18e40fde', '47d328064', '197b8e6e1', '2b30ddd3d', 'd2b0f89e9', '009746351', 'bc1f4f616', '027095702', '520a9bd27', 'ed42a4940', '348516d12', 'a42a30564', '1b2db1d94', '1eb2a6420', '18d81c0e2', '49066667d', '22981380b', 'e5b87742b', 'a515b93c8', 'e88412b02', '411e40369', '551d0c9d9', '4198514cc', 'aee648015', 'b54c56cfd', 'c92ab591c', 'fd51d65bf', '05be0a334', '5a1cff017', 'f8a83a2e2', '69d4070af', 'c2ada31ca', '5594f10ad', '93b8ae200', 'd101ce130', '0066765f0', 'da01fe28d', '2adef65f1', '794d59da4', '3d7db0d96', '81fd593b8', 'ffac03704', '65e8543e5', 'b5f0724aa', '1ae4f6ee7', '47d43fbfb', 'ece314e96', '1d89a0532', 'c3d835199', '054564da5', '778a34edf', '02e15ec3e', '10095cd60', '6f671233b', 'c747a2ab9', '274fd29af', 'caea1ad4c', 'c4f72e38f', '067241cdd', '0f8bb0635', 'aee0b9e67', 'f08a3497b', 'b86f09c17', 'ca1f70e92', '15b864395', '6c0aaa391', 'b5509c053', '7588a06b1', 'a80a52106', '234dea393', '2d0157e20', 'c845b7516', '2db20e89d', '0c6871768', 'cb1163056', '8945d173a', 'c59e44911', '37e9d6719', 'c388c5477', '846eae9ff', '9108ba5f6', 'c93f2c9dd', 'd0432e629', '08224a20b', 'f0e34a036', '8d53ab722', '2127fafca', '89fc7eb79', 'c8b60080a', '64daadce8', '7bb5dd559', '46aaf996d', '58eb9308d', '2539fb93d', 'c81596e99', 'cabe6b752', '4903dc012', '4b78a65a9', '5e66425d2', '7a6674f00', 'd75053e59', 'b9e649c71', '8a02cec15', 'b5b0d04dd', '490543f68', '19f4460a1', '8b32e7e19', '7a0c0d40f', '7c883a96c', '852888f56', '611e10021', 'b1867d321', '1f1cc717e', '97dc59723', '912eb6e42', '15b9f23e2', 'f679e3d11', '871b3652a', '12cfaf461', '8a797bbe5', '396268c63', '20180b79e', '85391ffa1', 'fffd6e64c', 'ea758f61b', '953ad2a3b', '429f4cd70', '540018428', '1408c28bd', '311cf4371', '3d9392edc', 'c0cb3d0b4', '2db14626d', '10a323c36', 'a35486729', '4d2e9b690', '2b5fe7487', '3f59ea7fb', '51da80b44', '1fabc647b', 'd0c7f3f0c', '6f9d29566', 'de78f47db', 'c0dc1fe45', '9de9c9eac', '3adafebbf', '44eb14fb0', '2916e09cb', '13bba7b68', '44a998544', 'a9224fc66', 'ccc85d4a7', 'a4dd89308', 'ec4999e23', 'd80fd7ca1', 'daef52fc0', '43ff2454e', '01d6c3dae', 'ce5909b93', '4caa6d432', '192c61219', '478189852', 'e35b0d3d8', 'f9aa18b02', '2b6b90741', '443253a7d', 'b8c195d14', '7675d3671', '7bfc9c79d', 'ede351934', '2eeb88041', 'b3b650c35', 'dfc77e4ec', '795a68eb4', 'e54d49dd6', '65a05ab1c', 'c37cc6937', '9231235d5', 'cc7b9f229', 'abdc790b4', '61985f017', '1c734e862', '97c5ebfaa', '3612da42c', 'd06d13d49', 'c889494f5', '6fda251fa', '5904e00ee', '62dd66449', '2aa35f17b', 'cc7de29ab', '44aa78478', '38dc68d0c', '5a621e413', 'c3aac7de7', '932dce239', '7b5cdde69', '8c9c0e0e0', '1c5b8b683', '3ad5e3d89', '73b11a5f9', '284c23ec5', '55ccbcda1', '953c934ae', 'a8642ba56', '35c542596', '807a9f53a', '8c36a8679', 'ebe5becf3', '965c12299', 'a827ae00f', '8c3d9a2b1', '65f75afda', '943b2cc56', 'd43f19e32', '8e26e2005', '963862ba0', '69a49ca83', 'e0febc115', 'de5a74778', 'e49105dd9', 'd73801486', '6c3599b74', '1a965c09e', '8e424e006', 'b58415d80', '41a45a4fb', '682c7d882', '0a29d2401', 'b91304c45', '72f62be8f', 'a9b7bfbf4', 'ff0be0f4a', '3d647944d', '0080acbb1', '257c0b36f', 'c953ed5f6', 'db12a3f94', '36f5176f3', 'f17ed53d5', '7d43106ff', '94bf16f87', 'b6dc65f10', 'e45983ef6', '526c19813', '901814654', '4a5d0154c', '5c3ea219a', '9547f1d4d', '3085b1d40', '525db37f8', '25aa6f3b5', '24c20b41e', '75085af0b', '5150556aa', '60d6c5385', '1a819ef77', '948070168', '468af308d', 'ad88cffca', '4dcc779eb', 'd5eb4fe43', 'af2ce5e24', '494abb962', '002df90de', 'f06417a37', '3a5ea97f8', '0350a3ad5', '5b35b0455', 'a7de84453', 'e278164d4', '564046b7e', '6d76114d6', '0ea1c6e92', '5c58623d1', '2ada60240', '91a7b5612', '636e062ed', 'abf83367c', 'c4e25f270', '5c7782c61', '4b6d710d8', '58a13ba33', '6dfac0823', 'be922ade1', '567e097f1', '17e739765', 'df4f94fa9', 'cb94550ea', '52fdca249', 'be90613b6', 'a702ded3a', '6305a7326', 'f1e067aed', '59b56f356', '7bd9afb5e', '94d6876e2', '5880aa6cc', '2bf5df371', '8d622e6f2', '40872f767', '74843bae5', 'e6f405b61', 'ff0ac7839', 'abd70d126', '603cadb13', '1fc925f18', '95baaeab2', 'ebec32f1a', '1d99c2a6b', '745cb35a7', '2bd4f366b', 'a185532ab', '4d89d1a16', 'bb8278fa8', '1025d783e', 'e85d43bd6', 'afecee992', '84e77b11a', '4abb5d2e6', '7e33de7f5', 'a1afe91df', 'a6f30d2a5', '80d7c9430', '60ecb06e4', 'd59ce1c46', 'f7a57ea29', 'eb31cc16d', '943ca4428', '4ea303596', '5988d9704', 'ab9dd3f6b', 'e0adf4d43', '0362a237f', '0a8263a17', '013ffa101', 'e678e4724', '7b33873f4', 'f64239f7d', 'af8a46ff2', '731441aab', '50b4b4080', 'e40fe2314', 'f21edef76', '6be0404f5', '4b3450cca', '53f3af0e9', '622caf632', '3f33cb582', 'a31b4580c', '841df72a2', '9c67f9f5c', '416ab4cf7', '968b0e0a4', 'f65176013', 'c30013d5c', '4b49ffd5a', 'af0acb8dd', '460931882', '12c6d5150', '4ad5d67e5', 'dab0036f7', '135ec3897', '487d1f462', 'e35015401', 'a1d1bdad7', '701626b1b', '98d2f9372', '033028c0b', 'ea046c339', 'c58f3bf02', 'dd727d46c', '57ea17178', 'b23bb90c6', '393d214b9', '8d0df6d52', 'd181413e9', '8beef317e', '17a3541e3', '55b54234d', '4bc442b52', '54123f865', '131d5ec71', '59870b01e', '134ce8919', 'f30e6bf63', '5a0f3a2c8', '0c4094bcb', '3ab7c575b', 'a010945cf', '8ba5377df', 'e6fb30239', '8a5ee7c52', 'd07ed0d7a', '8aa1988ee', '4fc19f5ff', 'cd169dec3', 'f3b79a78c', '8b3414899', '11ca62cb0', '8651800fa', '48b41ed66', 'aacbcf59e', '7cd4bc268', '35b44a970', '679808bb3', '614e40802', 'f5d05b9f3', '368e46089', '7300e98c5', 'cb9575b7b', '3181c050f', '68c629456', 'e30065dae', '24532cd48', '26d13086c', 'f344b0486', 'dc1479144', '54f58e361', 'd0d301002', '03a9e4930', '5180efe3b', '96929a04d', 'd0315697b', '23c53f8c7', 'adcb79e8e', 'e890cc9ed', 'b958a2001', '7d05ddedf', 'b448eafaa', '5cf59aa4e', '77ebcb89e', 'd7180ee07', 'f59f46dbd', 'ad80c6bb0', 'b5318cc42', '9e560079d', '3ca5c17d0', '8f5118331', 'f52e9bddb', '6c10a17a3', '4558357dd', 'cd295c0f0', '61fa9158c', 'd5b48f37e', '23b06b412', '077e5a3e6', '75c9ccaa3', '3b4864da8', 'b37f33d00', '2c84c245d', 'a727e2822', '953eb2651', 'd90652166', '4dd7db6b7', '11c6c1cb5', '1a7ec6006', 'b837529f3', 'a38c00e48', '299c72df8', '263bed53b', '9beb42d5e', 'd792319e8', 'bdaaa69ad', '5498d8837', 'b527c5e41', '997298a64', '608d33a06', '92eabcbb5', 'ade5b3ae5', 'bd3f13f24', '6408ef207', 'db3fb67e0', '2b64bdc73', '73a88aa06', '42fc980eb', 'ec2f48912', '6bb972583', '55d3c9630', '9a7c603c8', '3a768367e', '9d66eab43', '4d83ebbc3', '2eece9a80', 'a6615f7a4', '94425d341', 'e02f7aa97', '53645c56d', 'e0ea524b6', 'cfeff5f1a', '4aabfb21e', '4edaf381f', 'b5a55233c', '06d0c2908', '8e8e12f12', '639ee90ab', '6d7e717d5', '053121e0d', '215bbcef1', '23a0a8c28', '4ef743197', 'd756c94be', '592f52771', '680b129f9', '36fc09d07', '3f2e45929', '09b4f1e3d', '042fc1c9e', 'fe8b6c7cf', '46b472cdb', '2366a5760', 'ae92c1283', 'e9053a5b4', '03a15edf5', '652b7901e', 'a8f3477db', '5d29c3661', '78a8e2262', '64345481f', '22c04e2e9', '5fecdec13', '20463634f', '9fa4b5bb0', '091ee7b1d', 'a9f495f6f', '95fedefb9', 'f5cb50633', '051708b42', '3f7e590d2', '42b90842d', '880d4d69c', '6a2a884cd', 'cde33a85e', '0c824066d', 'f47ec05db', '5b9066908', 'aaf2a568a', '4abd6fdc5', '394b68eb6', 'da07a0d18', 'f3ebfb733', 'e6cef0374', 'a2963fcad', '357eac9e6', 'e3f893974', '1e9c49b27', 'b86622dba', '95595f6a4', '769203198', 'bd3d32ce8', '88f6aaaf2', 'a39d86d39', 'b064c7b68', '14868bec7', '3efda4260', '5a82b23c3', 'ff5bf79d4', 'e7a9b8cbd', '4ee192a9a', '9d0d5faaa', '98a80e234', '9e0d41ae1', '024fcd6eb', '13d43b533', '1a25c6368', 'abde83f58', '207420ee3', '483ca632f', '0fcdf3f13', 'f3bf14fae', '9b04e9bf4', '68eaedaac', 'bff66b115', '4bae1d73c', '2b16b66fe', '415139226', '2ab8303f8', 'e36c3a743', '940824f8f', '1767a1cc1', 'd741ab21d', '1496091af', 'fc53995e0', '9ab4b4f0d', '7be727c23', '450be1ce2', '395e89b6b', '384aeeadc', '1351a37e6', '21eb6d2fa', '8e56e4ca9', '304980d8a', '549d3ea14', 'a1eb9754b', '0068680a7', 'be9923e6f', 'f35da259a', '727b41107', '9ddf6efb0', 'd4342e7c1', '814f80997', 'c6c7a2e99', '12b59195a', '334a9615e', '1417ed6e3', 'b519d4850', '412859a59', '652d0284d', '287109623', '3912f007c', '1c8536f9d', '1bd78b290', '7b71918a6', 'f29f3503a', '7112503f3', '66e555faf', '002ca4583', 'f0cea9769', '7881cd22c', '34899a8ab', '171e51f8e', 'b531cc668', '24621d0ba', '5d721b510', '798ca594e', '9e545f11b', 'ad9bc2189', 'f152f5b8a', 'cdbe80d91', '6eaead87a', 'e4c384af1', 'dd517217f', '1ccae1002', 'c98774fd1', 'aa4ec2d8e', '9f8e28d99', 'd608ebad3', 'f8022bb5d', 'f9c9ec3ba', 'd0c6a3c7b', '35526166c', '51e52d0f3', 'b1a65c9ed', 'c7a346fcc', '1137277ad', 'a1d7f7274', '55020cc17', '5c72e0cfa', '8d4388150', '06412b98f', '8b426325a', '125503d28', '785efd431', '423d0e690', 'fbeff1d29', '4cbb0050e', '9ee03cd1d', 'bdf8ba5a4', 'a4c8a744b', '7dc5955f5', '00bcf45f9', '5a13025d4', 'b2b8b377c', 'f09051fa9', '00c68a012', '124170850', 'f96a63a74', '767076a90', '8bd9ca204', 'f8833b27d', 'df7b1cfea', '0df0be5ef', '60e8f6524', '7540c23c3', 'c1bc05876', '861982486', '47ca2382a', '6ec4e7ceb', 'fcd26fc97', '4c1d87ca4', 'efff39fd9', '65ad345d7', 'ae825fafb', '0d5bccf44', '8493191e4', 'c06f26040', 'b06ec96c9', '79707a153', 'caf7544f2', '034b68e78', 'e1e4ea28c', '8dfcb0535', 'e6f8a1570', '4f11dbdc6', '23a02c9e0', '2414a04be', '28d293598', 'dfe8e0895', '14c459df1', 'fa3287349', '29875e692', '818228bae', '6343b5930', 'a86a52cd8', '8de664768', 'f97e90fc9', 'c45e0bd5a', 'adf5b5791', 'f7457bbe5', 'c704ae006', '4c88466d1', 'e6900cace', '765e5b19e', '1afb5e473', '1efb5b2d7', '6f5c532ba', '0f6c72450', '57e325c23', '087e91efc', 'b5c9b852c', '70daf5c61', '56a26027e', '14ba25a65', '11d4dd9f8', 'c6b1acd01', '7b1345b8e', 'a10a7734e', '7a1c979b2', '9d1f12146', 'f37815d1f', 'd33eaeefa', '5e4bf2a09', '1a37c6285', 'fe323e8b5', '90d18984d', 'cb7bb496b', 'b9ad601fd', 'c7cb54ecd', '4e5977e66', '83706fd63', 'a9fa59a32', '89ddc35f9', '5b8f102c3', 'f0a7281c2', '802b07582', '365061510', 'e440d8604', 'd6be68a5c', '4a759a249', 'bb1943750', 'd61b0c3be', '3295f7a17', '498a6ba3c', '6f2f1d970', '55bc7f2fd', 'dccd17eb3', 'af2e5efd8', '0a8a5162d', '17f640126', '2ea9c7ee6', '8114504d9', '5117fb5e7', '6e0efc8ae', 'a8a66a64c', '97648af26', '00294ac25', 'f0b876463', '3c21322a2', '6d89091fa', 'f3753bf18', 'd9a85d007', '81fc102fc', 'e10294dd0', 'b254ea323', '7a82ee853', 'e39a5f6fe', '99ba4711d', '6783484c0', '7707b535a', '12730274c', 'cd0e82092', '4218ddf89', '5b5801e08', 'a45a3489d', '10d331f0e', '5435b467f', '0f9b522fd', 'd543cd442', '107b47e6b', '2809ad73d', '32529dcd8', '9127e6eab', 'de15c7b84', '035d11741', 'e7cc33942', '106c02bae', '95f4f319d', 'dbab272dc', '52b4c61da', '910eaf69d', '107d801cb', '1562fa210', 'abf121e5b', '7517edbad', 'a88f1c55d', 'e588e7301', '0fadd9f3a', 'd33b22b52', '4d648b237', '6f0ea123e', '60ebc49f1', 'c32522398', '92a46698d', 'e9340b80f', 'fe266eaa4', 'f0dab9277', '25ab29047', 'f5bc8664b', 'd9e869c33', 'efa0d02d1', 'ce01ede64', 'a071122eb', 'ae0040cac', '5f4a1692d', '38bd25225', '54555072e', '35ab040ba', '268aa26bc', 'f65fb6a89', '5637aafe1', 'b0095b48f', '0720fd099', '94759054b', '44634b579', '24ce24cae', '94c0d1c74', '93f98d61a', '994d9c18d', '7e55484e8', 'ba3c48c08', 'd68c505a6', 'b2dbc599b', '78e69a68c', '5607588e8', '9e86fef78', '4465f6c38', '6e8f728c4', 'a1ae4586b', '067d86412', 'd2c5f9a0e', 'd12a513d6', '64ed6de71', 'ec0f41d43', 'c2fe2f63b', 'f263ade13', '46646bcf4', 'ac8b0692c', 'f904fc300', '1f6a831c4', 'a796bfc55', '163c185a9', 'ef74e4a40', '4414f01d2', 'dba2e2784', 'e6be57dab', '40bd20388', '137136061', 'be58d5b59', '006c8a9c6', 'd68db6c52', '16b891547', 'dfb59c793', '900e6dcf8', '2a915af6d', '9406beeeb', 'b8273bd27', '1655765fd', '8e00c9e95', 'd04909741', 'b24f6e16f', 'd5c5541a7', 'b3fc75f2c', '087db276a', '67df62d6b', '86a237c09', 'a44e7169d', 'dd8fcc152', '601b89688', '48e308537', '27d830d40', '2480ce2b2', 'aaa526d74', 'afe2945cd', '284a6ea9b', '05e4c9f31', '4c3d12442', '69714e653', 'ee3ef9a4c', '45d6ca1ed', '5aeca3acc', '0022453f5', '4bb018733', '8a7caa2f8', 'f95a4bf09', '0e2f9f6d5', '3bd7877b6', 'efb5ec0df', 'ff1cea430', '5a4a82532', 'ed1f64f6f', 'd89682698', 'deeecd2e1', '8a9004b75', '3cc24ab5d', '1903e8cdf', '118b609f6', '38470f7db', 'b5d58599d', '705fffb99', 'ee260c8cb', '9d3522a65', '3b66f59c3', '5e39e7b51', '72c36ae7b', 'da6929497', '4e907f165', '357131f4f', '91bdaf715', '49b06c91c', '6abf71fb4', '7d47a35c2', '4c2f31f87', 'a19157aa8', '3b0fcb47d', '45e898ebb', 'd3c11437d', '689dd6c14', 'c2df43d5e', '1adaaf85e', 'fe503418a', '2e810518b', '26da6f02b', 'bbd84d970', '1f6a5b560', 'e5755a9fc', 'e19c349fc', '21ccd97ef', 'e043422f0', '2f8d4077d', 'ed74c4ee0', '6098c7786', 'e4a3e63b5', 'ce73afd60', 'ac7ba5f96', 'b9de6f970', '7db752507', '589e5522c', '7e430957f', '68de72932', 'fe08d5fa8', '8c89a298a', '628bf4672', 'eaba8e275', '86e71abe7', 'f8a05bdb2', 'f882f0768', '9ea3057ec', 'd5ebfcf51', 'd752d39a0', '47879c1f4', '440c719e2', '4796a755e', '7d3236e30', '2ca9ec341', '8162b88bb', 'd4d9cd1e9', 'a20873426', '9b7aaef8b', 'fef66b7fd', 'ce565c120', 'b4413349e', '640bf4745', 'bada73e20', 'f2cfcce85', 'e3bd28393', '794580f94', '7d58c89ca', 'b8ac1dc05', '46b51a717', 'e4aa08bb8', 'c72aaba20', '91948a12e', '9d11655dd', '173d2d455', 'edea09f15', 'c58dec0d7', '334806524', 'f343a63ae', 'c433876e1', 'd4ccfce0d', '52d9062c6', 'ef6758bfc', 'fcfc7da6c', '71032056b', '17ddf0865', 'a444d152e', 'df6060768', '1bc403a42', 'ff794dacf', 'ec3116ee6', '2d794ad55', 'e52a21b36', 'bd1d58982', '1d2f5dbc0', '3176b5b7e', '25410866b', 'f8e8cc6d7', 'f556c9f7f', '3a4b200e1', '07c7679d7', 'c8cd20a3d', '3777c3baf', '4d87700f6', '81fb39910', '11da202aa', '7bc855ef3', '254361222', 'c5d4f951b', 'a963812ae', '7a7cbf071', 'db9867ceb', '075da7d28', 'd729497b2', 'c62416585', '5f7c7d8aa', '8dfcdd041', '87bbba1d2', 'f70d99c6e', 'bedcacb4e', '27aaab9cc', 'e2c2183a0', '4daffc8ee', '595649b77', 'ea8f3319e', '03dae55ac', 'e4004b572', '79966aa96', 'cb13d961b', '9fafdb3b6', '7c2f9c1e6', 'cbfc9b62b', 'ac4a5b5a0', '950d558e7', '5c201f5db', '39ff8b9aa', '049bd5a1f', 'd9c51eada', '24bf7ceb3', '5dc8f6a7c', '8cbf2e118', 'e1b66f5f2', 'e2ad8f28c', '375e17607', '9ba89ecf5', '163cc60fa', '6fe2fd209', '98f35a619', '503a79f50', 'd793032b8', '5d583bd48', '2d46b8020', '8ccd2082c', '758285902', '673eb31b3', '387386589', '78abe4d68', 'ae37593d6', '207880a93', 'baf2a87dd', 'cab058c87', 'e6004d4dd', '91d52f5b4', '2a79258d0', '9a30cee7c', 'faa9f347f', '2d53a379a', 'f525713fb', '22f0dba69', '2ed224c63', '10645a782', 'e2b6de12d', '72e513887', 'a2726b7d8', 'a86a2bbd0', '72f7acdfc', 'f289f8f04', 'fa7720d6e', '18e7d8974', 'cdbb54206', '2a716f52d', 'f64cf06e5', 'd4975a176', '6fc110833', 'e5a660cf3', 'f8255edf8', 'a9e3951c3', '12c27b23d', 'f4d58e660', 'bd35140e4', '7ecc6f4a1', '62f1c5010', '2b20d3dcc', '0e326a150', 'dda56ebca', 'f4b1a540b', 'af74a658b', 'cfff60f79', '396afd636', 'b11664ae6', 'dc226cb58', 'd14263d54', '505303c1d', 'da17c0110', '59b1d1b02', '5be416b14', '1787b1b2d', 'ec28a4647', 'e68904b1f', '31d4ca91d', 'd661d44d2', 'a0a3a0f18', 'fd1280e61', 'cb874b315', '469008f90', '59b70f7c0', '33a109258', 'cb4897439', '2bc0ffb54', 'b8891b598', '978c809d0', '7bcf44282', '1d29f6d06', '91de75d4d', 'e686614cf', 'bcf8e3d42', 'd86fd981e', '0b3397e07', '4d21ba102', '2eedd2784', 'fd323d34a', '9c689240f', '1d76e2ae8', 'f41865213', 'b1708ce64', '67b29842a', '4e1537351', 'ba1df3397', '14f4e5222', 'ae8d8b006', '10d37b010', 'b4ccf03f3', 'fc81c62ea', 'd9ba4f163', '6d820ac62', 'c1c07b00d', '34489f674', '2fcf376cc', 'd18db4d66', 'eb7ea57ea', '66289fd08', 'a12505b67', '682c7c7db', '3783095dc', 'aaf9cf0fd', 'a1922a68c', '7268ec9cf', '3b4a7402f', '02f33db89', '3e23f2503', '7aea9e9d3', '8806a6e69', '5e01a81eb', 'ca8d7826b', '7e3243a79', 'feb4e00af', '7f73c2a50', '7e2423ae5', 'a701a98e7', '726e81b0f', 'd0accd12f', 'f3a6f013b', '9a02934f9', 'f174f52eb', '4169647bd', '69c30102c', '5bd121800', '88c8cef25', '420fe49dc', '658466bd8', '2e6ca3c35', 'fd14c6e8a', '8604a3579', '00e4aa5c5', 'd56c7acad', '1df3b8cbd', '518573ad2', '2fa60384e', '20891ffbd', 'fd22babc1', '39661f41c', '3ab18acb6', 'a7e08edbb', 'b3b5ef78c', '6496d6cad', 'bf341f531', '3996e35b1', 'fca1a58db', '38ff77909', '47eae8707', 'e7d5f5297', '8b0d8ccba', '1221895b4', '043a03805', '1d33ac1ec', 'f68277a8b', 'e325dee80', 'ee4aa56ae', 'e6fabe34b', 'c37176a01', '1c8416679', '58739dabf', 'd59fed41f', 'e054efec7', '005825677', 'e822144a7', '634cae17c', 'c8b3be06f', 'c582dec6d', 'd021d7035', '56722d736', 'd40a42c77', 'd5f47deee', '534470789', '7d5a4a95f', 'dc9ed22fa', '7a57918a5', '683755ec0', '4ecdb3658', '79226e99f', '0bb3dbcce', '6a8af3c16', '93de3847a', '18e372a4d', '3dc6ed8dd', '891300ab8', '55f093b65', '19af43da7', '5ff6a6ac4', 'b8a3b6895', '5e7412595', '2af9cd822', 'b5e4adbbc', '6a28a5f28', 'aca374e03', '3f7e083bd', '7f9bf2e55', 'b32578b93', 'c3b3eb0d6', '95db371aa', 'e9f235ad2', '2fdf08bc1', '4c1eb1e3f', 'e39db0923', 'c4ebd340d', 'b26da88b0', '1fd319ac3', 'e4bde0f34', '844732c24', '0eb3b944c', 'be81fe64f', '6751a9d1d', 'c22e0f963', '084858ee8', 'b1abdb814', '77c62fc3c', '116388232', '937c9edb5', '4ff8c5ad6', '82a0a9cb5', '4c4d08522', '13a31c68d', '89161d0d5', '5ddf5dd12', 'f9d25658e', '13672bbe4', '52070e68c', 'e08599325', '59c4839fa', '4bd6aad2a', '94997f2a6', '0883d83a1', '287aecbaf', 'c50401860', 'af5c81262', 'acccab5bf', '36e621c45', 'dc643eacb', '96d00c912', 'a5a364b40', '97c84cf25', '8ec616354', 'c604969a2', '26b0fe39c', '1f63e2131', 'da0a892d2', '1d669bc4e', '110fb5f9e', 'ae12111a1', '405e6992f', '9a599396e', 'd34ca058b', '5024c4263', '69f0e365a', 'e686d9b99', '39758d7f9', 'e206e3a0a', '2870d90b9', 'd637c0b08', 'f9ca57eb0', '198920a13', 'aed7a4b60', '1e38b3e53', 'ec5a77e19', '4513a881e', 'c6e8ca9b8', '6e1b61679', '8ff5eec43', 'b231da167', '882252fcf', '0ef390a1d', '349fadfe4', '785c04d6a', '157316998', '295036b6a', '182300a46', 'e6afeae1f', '4f53c630f', '43500b15c', 'c10ffc332', '8a3895386', 'e0ed406db', '0bb457e90', '433ddf917', 'c6302f8d5', '907dd70ab', 'b4c09fb14', 'e0ce4131c', 'ea37f9765', '55cbdab2d', '15292d3d7', '3013ced9b', 'c01cff4a2', 'f48bdbfbe', 'd377d83bb', 'a96bbf78b', 'da3106119', '4e661120c', '84735dafa', '78dc73205', 'c2b03a3b4', '55127545c', '87997bc44', 'aa38470e2', '870fb462f', '501c1b975', '7759db288', 'f05223734', '9d5260719', 'c66c8e177', '32ac7e710', 'b32eafb61', '685ebf693', '80910b39d', '6026a79cc', '56fee6808', '79d21edb1', '8568fc94b', '1d1e637d7', '1f67f23f7', '428bafb77', '96d8b1901', '522a98b1a', '60d3e0bda', '19d78d4c4', '5299597bb', '7862f74a9', '89634cec0', '49cf10892', '8e6834928', 'e80469823', '5b1dd055a', '1a43929f3', '4a19bf303', '3bd0aac3d', '70977b5a4', 'f58e10946', 'ed78ece08', '37faaf21c', 'a3a1e9d42', '3b7de762a', '0f3f023ca', '187aa5d31', '9b0e00572', '79b560493', '5b6e4a084', 'd3dd80b06', 'edd6d0af0', 'ad19fea5c', 'ae6e09fcc', '4a895d563', 'dcac4f8b5', 'b45391f72', 'bd7547b4a', 'b8424cc0f', 'e916131f5', '73ece7b0e', '4ec96012e', 'a3d7e2a59', '2a6ea0113', '3dec4b476', '6bbad5f8c', '23cf1ae66', '8a9e5313c', 'b0cc03b01', 'f895d1e02', '8485fed2e', '6949871a9', 'b60cc8e4f', '11a85c8a8', '9d91e6549', 'e1ffe32f0', '5d3370b4d', 'b8f381fdc', 'a26022b6a', '0de5a27c0', '1a59095b0', '6fb42d8ee', 'dfe48d72e', '40ca51b51', 'f3191aab0', '7a27d04d0', '316fbea4a', 'e2ad66c9f', '425f3fb84', 'b5c306e32', '6b1405ebc', '74a91555f', '381ec1bb3', '102da8ca3', '79ad328c8', '437b64140', 'aed6113fe', 'f75ae8bbe', 'bca106500', '739d0303d', 'f43b5400a', 'b47dae4e5', '081596f83', '43ff3249f', '33cda2f10', '5bf027d6e', '437fb0e31', '8d6e0221e', '8b847c89d', 'a77e71932', 'df5d48e1f', 'f8e2db182', '8a5d45e8b', 'e76c62365', 'd965b03b5', 'fe7e32fbb', '463485009', 'cac02ad0d', '00bf2c893', '7026a18ea', 'd8528bca7', 'dbf114987', 'bbe9dce97', 'cfb603af3', 'a15a99e4a', '2d5e1a033', '44ffe2764', 'db50ace58', 'a2f73ff75', 'f7a71fb32', '3cc8a7aca', '432b05f42', '9a565dd5e', 'aa12aabfd', '9d6daf5c2', '5f4b81fce', '3d1ab3226', '886be40df', '1b4c0419d', '9f9937561', 'b3cd6055c', '12f3aea46', '1d51767c7', 'fbaf92586', '08cc3612a', 'b4508ddba', 'cb53b5551', '96c0eee4e', '0d3b2fe9b', 'd6120bdb7', 'a16b767d0', 'ca4ce4ceb', '9c224f8f8', '2e241bfc9', 'f26d7ddbd', '69371411d', 'd51b3260a', '133e12386', '77de9a7d1', 'a1a1b1f28', '0345a1c1c', 'bd1c2871a', '7d9691062', '1a2282c46', '2c3d78b0d', 'a22a38a22', '00b1d16c2', 'b4f52961c', 'c19a114b5', 'e0a5b915c', '34668cacd', 'b5cc58447', '443af4354', 'c0b71d6ef', '9f6a34c80', 'eb967fa5c', '992310e5e', '849a3fafc', '977a67955', 'edc51e9ad', '154a61c60', 'b4b6276cc', '368f28e0e', '66841ce14', 'f6c7a623d', '882926e91', 'afd8fdc69', '5b0bd274f', 'c170f9a40', '7496abd37', '62c2bb004', '1c6f00738', '688534c4f', '05c4a9b47', '37b254aa6', '4e4ef694b', '9b317992d', '5561ba893', 'e92025985', '19daf9dd0', '3e84c7283', 'c0f8befb7', '277ba30e0', '9f6f40260', '172924208', 'b4e18f25e', '8e9c6dd63', 'd5f38689f', '735eb53c3', '9ae826168', 'd947148dd', 'd0812cb13', '3eaf8e80c', '187a03337', '78ff410ad', '8d9e5af93', '4ee3d52cf', '838f98784', '975cc5bf1', '63b769e35', '946db7c1d', 'ac7c48999', '343df227e', '6feed0b21', '3fe4ec6f7', '83c914801', 'a1b52416b', 'c86af9a1e', '73e8ef557', '80619a7dd', 'f524c2b11', '2846bb420', '0fe07afb2', 'ac4f98ec4', 'eda47fff2', 'ff1275360', 'd1a119dd4', '41a2a4ca1', 'd200cb827', '0ad168bf5', '674d36243', 'e648c77b4', '61f90b691', '3878ed87b', '746d1e60e', '0052ec1a8', '9589de9c1', '8ccc063f3', '188c2c6b3', 'd02e31f5a', '4fb3facba', '3f715098d', '04b2b84ee', 'f9d56ab07', '0e2c463ed', 'b735b8547', 'd9e3c3fed', '7130c09a6', '393ad6d08', '6ce913453', '647ce1262', 'cdcb7d8c0', 'f1b242884', 'de4a45a22', '3197a3e41', '82e8fd509', '7d2265932', '4e296f5c3', '57b843920', '825022c42', 'db589e851', '996787db9', '7f502a4b8', '6d3667bda', '05a501fab', '7a813c4b9', 'c41fcbaf2', '6e41413b7', 'a03dedfda', '6a222b51f', '817e2c7b5', '621e554d4', '0ad8dd693', '5c0d76462', 'ce51a424b', '64cf02e18', '0fefb5c82', '3f52b2470', '9f0bed26c', '6a109062f', '16033bfa2', '201faa447', 'c43552b1a', 'e1117e0b7', '37d96971f', 'b25b539a7', '0dfe505ff', 'a72d663a7', '9a4a19b22', 'bd7d39e52', '7e1bf58db', '242096d7e', '3a9b30f63', 'd08fc49d3', '973b489bf', '55ea800bc', 'e252d6452', '87e7a76f0', 'b2e726a01', '41bc8d168', '03c7cd4d4', '5b0bc4419', '205786be1', 'd9cf082b4', 'fe6f73aaa', '09cc0b790', '1cfbe853c', 'd15d9b260', 'd854b869f', 'a1494cdf4', 'a8eddb707', 'dbc49a5ff', '34f2a8f55', 'b04c62345', 'fc9482738', '7747eac5f', '0a2b17947', '53ad415f9', '541ec5d65', '1604d787a', '8453f3b7c', '2de111b4b', 'feeb8f72e', '43bb321c6', 'e97893797', '85c3cb3d2', 'c8e24ae03', '506378fc8', 'f447b30d3', 'd6005835d', '04c172eb5', '2b2c84db8', 'e5a239028', '32b6433a0', 'f40a46d0b', '17edd8fac', '89d7dc1cf', '12d093e4e', 'c0502b5dd', '9e19f60b6', '984bed033', '9fc935d57', '99cf4c03b', '5ab731372', '6d4382bfd', '410143e5c', 'a3051b778', 'b6e819490', 'dbbc422d8', 'f10f6e4b8', 'b3affb307', '8ad37d779', '52bc52ec0', 'ecca69759', 'a0ffcd091', 'bd20fc111', '02215de10', '224171db6', '679e461f4', '629987b1b', '09f165444', 'd9902e072', '9e3d355c4', '1f1961f92', '0bc2b7ce4', 'c0cbfcc73', '7f21426f4', '82d05e609', '5dedcc2a3', 'd19a0b96d', '56014e108', 'b3f1c0b60', '0ef512e33', '25852d3a9', 'b4c9bece6', '3427798f8', '483650733', '278219ab4', '65cd96c2e', '94a84512f', '83f839f9b', '824af1e61', 'de513b48b', '53eec277e', 'b293d0ff7', '6769ed045', '8e438c810', '031912fef', '2c3156ce6', '3de874598', '7d5087c72', 'cd56eeda0', '100d82fa4', 'c31c67153', '7ce4d22d0', 'f78814ef1', '6b4cffef2', 'c00e6639d', '81dc5cb55', '95e318a22', 'd38b42683', 'b828d22dd', '871a664ad', '662e50dc7', '31452dcd8', 'dde29e1c1', '5f4320e05', '0a40ebee2', 'fd2ceb2c3', 'dff094c1f', 'bd654c2c0', '0fbc05f0c', '07cba68da', 'd129c35e8', '0984ab978', '09f44bb42', '444b83946', '093f5df0e', '2cd593221', 'd657c0749', 'ea52d99fd', 'dfc77a2fe', '331cdd840', 'ae709c39d', '9c9761bda', '1d194b5c8', 'd03a9887f', '1dfdf7907', '7bc1e3774', '8c88cc4b7', '669b86867', '119f5c476', '1b96d907c', '72ba37ca9', '37aea9cb5', '12702fc71', 'd75e2aa98', '0e83be8b7', '098689d4e', 'ee51f3b03', '742bb37d8', '75bb335d2', '988d61401', '1057ed513', 'a187ef6e1', 'a54da74c0', '86c140ea6', 'f78df1a94', '72fd9e578', '28e6d0043', 'fe4b07b79', '0bcec7bb7', '4df00d026', '3cabcaee4', '31da7c687', '57596ab9b', '195b28ca1', '09cb2d084', 'fffb01c38', '2709d5e3e', '83022687a', '21501dcdf', 'f5d70c294', '7f420468a', '5d34c707d', '0b963d746', '7dddecb14', '205573786', '2dd17ed11', 'c4e68e513', '976436247', '10af4bab0', '8a5291194', 'e13eece8a', 'f12f038cc', 'ce5a415e5', 'ea0e8f360', 'bbd3f2395', '70062aa6b', '1a88fe9ec', 'af8a565e9', '0386529bc', 'e596eac8f', '70559a277', 'a3239454d', '9ca3a8410', '00e27488b', '5da6ac6c7', '967cfa9c9', 'f12c093b2', '56f93f15e', 'dcd2217d6', 'e4b094ac6', '6d839b98f', '792015936', 'ffb07126f', '2fa668675', '4414406a8', 'cce3304ab', '3a9d1928d', '02d810154', 'f1ad05197', 'e0d4e657c', '04a891877', '825facafc', '0a648cb73', 'd93a24c67', 'e9d406439', 'b9f1c332c', 'bcfe2dde1', 'cf611cd16', '631f045f1', 'a8f93c898', 'ad5eaed76', '6d90971f8', '71ec8c39d', 'd0e33af70', 'fd0d0678e', 'f41854aac', '4702e587d', 'a373b6f81', '6cc94f5f9', '7d7942464', '2a38052ec', '98e547050', '1e72e2b5d', 'a931cd56c', '00f508ed5', '3430fbd6d', 'f9b263057', '7711f53a2', '096b36da0', 'b504d0306', 'fbfb40f44', '1b5860b96', 'd4d0d6100', 'd03141383', '019a86de1', 'a592faad4', '7045356bc', '2d183dbb9', 'afb707a52', '11dc344c3', 'c0318301f', '2a67d0375', 'f0da5eaeb', '66e26dd27', 'fd07b45f1', '8fde242d6', 'f2deeca56', 'd45567849', '31aea1cb5', '068712dec', 'a4b12f57e', 'be0e02bac', '6dad6a9b2', 'e98bbf65f', '5d86cf8a6', 'cf840c757', 'a21238386', 'fc4a43fda', '2c1fc84fe', '21f7bbb4d', 'dcb88834c', 'd590a3ccd', '766bc2384', '96a4ddc1e', '0df689570', '225b08906', 'e90f15353', '7eae1b713', '602bf5e9d', '2b340644f', '7e6402f81', 'c74d456dd', '7e523f3fb', '98517f2a2', 'a614c6963', '484c667fb', '11d17af63', 'c198544fb', '62436478a', '89940f86e', '49936e962', '5928baf68', 'd109bc92d', '991412604', '0b0561da6', 'f4ab9e92d', 'ae55cf4ff', 'e2d5239f9', 'dec5b1d04', '5e2518c9b', '648ca86aa', '891914499', '31a856faa', 'f4c012c00', '8a12b7128', '5a5a7d3b9', '7b3ed243b', '14d4d280c', '78b39e77a', '344bbbd10', '27d882d78', '13e7f67a6', '52b22a868', 'e544aa757', 'c847aeda9', '76ca40f7f', '556ceeaca', '6f0151545', '3ea990ea5', 'be4851154', '54719c517', '9ebeb6609', 'babfbfb38', '5ced5ae35', 'f2c8ac231', 'e4ae1c0f9', '4cecb8726', 'f4315737e', '6913c19f8', '537878315', '801775384', 'ae44395f6', '8caadfb04', '2c9910305', 'abaa5bd35', '3fe4790ad', 'aaee338d3', '57d3598f2', 'eeaf55dc2', 'b64c73d16', '4791b8730', '5a13de245', 'd7b11703c', 'c54a4d273', '1ac825bef', '46285355f', '1d28cd2ae', '2397160d9', '153c87183', 'f675c0cd9', '115681aef', 'e00f27f7a', '18e9bdba4', '509989596', '31dd383a9', '33a87f003', 'ebf114950', 'cff2bca56', '920c3f46e', '9fda80b78', 'de3a04748', 'e063e06cb', '50bbf6a13', 'dcfe4ef96', 'f185e65bc', '14a8497c2', '1f72facdd', '2efa65ad0', '695058af0', 'dfa170a8c', '5d9ab516c', 'd0e681522', '05dcbe1c3', 'dbbdeacdb', '508105ac5', '28278d68f', 'a92c41029', 'cafbf9566', 'bd8265e5e', '02ad941b3', 'a0ad903c0', '049c10c56', '56887f7c3', 'a6ad58571', 'bd14ae94a', '870b29dff', '6dffef3ae', '9892d8237', '21cc1d92d', '186128a79', '04863aa8c', '087ebd7e7', 'c533ba800', '6b1ea252d', 'bfe761f42', '03e01b921', 'a1ea14ce8', '3552f08ae', 'a9eb93128', '89ba668ea', '84cf4982b', 'a49bde079', '12fadf8cf', 'c72a1372f', '0ce0ffade', '0dad6a5cf', 'eae3446d0', 'fde7cebb9', '356938755', '517c6b43a', '86fca0316', '9e7a02a99', '47baf6f70', 'a918aaa90', '5c7ef9cac', 'a43e1fbca', '328bd107a', '864e81287', '3f9eb2e74', '43c657c83', '9ddce3152', '53b149a2e', '8dd0e2c24', '17e9454c5', '7ea5e0b11', '530888640', '6fa4e2756', '8768ae3c9', 'a25f77c1e', '612df8cb0', 'fe8df9e7e', '0a480b3a7', 'bbd9440eb', 'df0070880', '70b28bfb2', 'bce571b11', '6c7282293', '0fd36eb2b', 'c6dadd4f8', '6760bce63', '8904df3e9', 'fab3693cf', 'c84d0d68b', 'a6e94443d', '5b787a902', '53fd56c32', 'f1a1ff24c', '3b967a668', '7f2880344', '4eddc1fb4', '71b95058b', 'aba61f0b1', '6f73d5a24', '0e97458a1', '6febfb52d', '2f019b67a', '8efd46297', 'd652c68e6', 'fb939db7a', '086c1d744', 'c726f3132', '8795e7424', '44ff5d9a8', 'dedf23dec', '339cf462f', '54ef03d57', '45ed1cfc8', 'c24984f97', '82ef0f1eb', 'bad44964c', '410de24e1', '6c73c25a8', '30f9fa5d1', '74e0c93d1', '910ef732b', '5db0209e4', '875514342', 'de97be1c0', '645400799', 'cbf900a5a', '046a3d517', 'ec1976278', '6c1fe1c84', '36c83a38c', 'ff26ddc5f', '8e40862cb', '5e2746730', 'c955dd1b3', '39d7eff45', 'f88007f6e', 'a9861856a', '856af867a', '7902e2739', '3cd44636b', '4fcb3fcd8', '3908b8f28', 'b257edcb5', '1f96789a2', '553ec6bed', '2de250039', '9c669b4bb', '34d1400ca', '66409bde9', 'b5bbc8860', '762bc77c5', '0608f6bda', 'aa16f00d5', 'b6686b850', 'a32a719f2', '685dbe70c', '64f86b12b', '8bd697054', '831cb021c', 'd38cb646d', 'c0bb419e0', 'c94eea7a4', '8959c37e7', '4b454c12c', 'aa1477b3e', '95f52f987', '134287f78', '25e6c6b68', '5e47c5d32', 'bed2b6c77', '0f9340129', '8931f3216', '794209708', 'a29c0449c', '5e246ad4d', '0e74dd54a', '94fd9fd58', 'bf78a0de0', '80f3b66ff', '2e9f3687f', 'a63a793c4', 'de4262e20', 'd3175ec56', '86a37fe58', '9ef8531ab', '508fd7e0b', '2572e1483', '6cc935724', 'cdd34ed38', '82b9b46fc', '9d6520a62', '1ff21a372', '27eaec55a', '832fcc7bd', '5af927658', '06c3c5c41', '842c9d3a2', 'e338cee92', '150e1ab2e', '8857e6e34', 'de2540b1c', 'f4dec448d', '4ef405b94', '90f214c13', '8fd04de19', '6f3debb02', 'b55e8dc1e', '68590ad22', 'f37e85a60', 'ee01115f9', 'e4ef22f23', '6bf152be5', '74d03e6c6', '9ceeff82e', 'bcc61fb1f', '519ccf634', '629e63e06', '8962f37d0', '03aa7b6ca', '6cd75677e', '5ef230029', '803ff8d03', '8af0ca2b0', '193cefb9d', '404a40ab9', 'a5492d7e5', '6cf28e55c', '247ecf382', '5e7e9c42f', 'aad04bd2e', '79fe1c94c', '8c8f1d2de', '249cf8513', '941cb9729', '44129f54e', 'fc5c642c3', '1c22c439e', 'df540edd0', '5932e1ea2', '867d631e7', 'b792cd9fe', '2d8e55f72', 'b45ebb391', 'f35082a07', 'f2b6ca3d8', '1ceb4fcd8', 'e16b6a8b1', '316797284', '920f172f9', 'b5291af2d', '525190cbe', '5be479c03', 'ae543d563', '21116774e', 'e7f0c931c', 'f5d2ac0f2', 'd21132e04', '33d284932', '5b9caae6c', '6a073f38d', 'cde499f8b', 'b951652da', '9d148934b', '9aeb09ed9', '3eac34f5f', 'b915b5f1f', '391fc8a34', '571a6e3cb', '51d1db3e4', '3254574d1', 'eb32bd229', 'dbb795f09', '67fe1445f', 'fcdd14d72', 'dd94baed7', '0c15f2d05', '874e10fc5', '598783ec9', '82b64e089', 'fe9e2eb9c', '01ef402da', '5b93b4c1d', '9e36a57fc', '76549a8f1', '8ada0d6ff', '4f36ed41e', '795f40836', '5f77c6f8f', '9b4c31d70', '056a137e4', 'a71e3c9e9', '42814865d', 'f5b1308b3', 'fca65e431', '317e905e7', 'c11f1722e', '315102c0c', '89b1c68c7', 'b912de090', '7df320da4', 'f56acee02', '77906e562', '84738763b', '0463d326d', '1408beed2', '6de7ae85f', '312c72ae8', '637db5812', '72696ddfa', '70e7570b6', '6be4248c7', 'bc7095f64', '9fe90da91', '355afc645', '4b9f4d905', '084d25c53', '7dbf62b0e', '2419f75df', 'cd0874b67', '2d750471f', 'e45515385', 'f6c9aff53', 'fed29d244', 'fac198f52', '5ebde9dc9', '1bbbb9474', '7b1a3941d', '018cbe944', '949b893e4', 'ebb8fb55c', 'c08c3582a', '5c72d5e92', 'cbfa7b3ed', '406599fef', '7b14fb73e', '7fb5515b6', 'dca698ecd', 'ce1b484b2', '58561961e', '53fc3c549', 'fec37312c', '2df77836b', 'bc20a4884', '7aba02778', '9f17c420a', 'd7c66410c', 'c40d30c72', '417038367', '8def79305', '61c941cb4', '7abe00c10', '67dc17d75', 'c7656c628', 'd06dd7860', 'af3c39440', 'd462db96a', '9a121af53', '6d2469284', 'd69c03ae5', 'df7ebb5d6', 'cabf17ab2', '19cf6bd9b', 'faf5a4408', '879317507', 'f18f0d7d2', '71eaa0be3', 'eba11416b', '114e1ef3b', 'cc64d364b', 'a28989ee9', 'b0ce9c29a', '67ed193ac', 'cda9ceeed', '874e91589', '3ac3bcc30', '131738da9', '8b4b851e4', '4de023804', 'd6d8db802', '2f6df7158', '96b291dcf', '8faf07c59', 'b288f451c', '49ee7aef2', 'cf5a708e7', '347e19804', 'b743fa753', '09c779d45', 'b64177da6', '103df4960', 'ac507224c', 'b2886fe1c', '7f00a9e22', '3eaea33e5', '06fed64e8', '6dcd7e557', 'b2ba374ac', '0d222792e', '71f930abe', '57a9f74d7', '5fd2c61b5', '22020e658', '2e0c2032c', '91ec7c844', '061c14300', '2e289f741', '26a8e5a29', 'a1af4cf1d', '112e0e696', 'fc7b31928', 'ebf2138cd', 'f7ee67d9e', '327348154', '6a49d3828', '415ba90fa', '518ea78ae', 'ebd72a551', 'ba0fe5062', '514b2ae36', 'c9cea5192', 'df5b2e52d', 'a357a88d1', 'bc9b57fbe', 'caaaa7905', '030b64a1a', 'ae16d207a', '7af9d0ebc', 'f471e3a2a', 'ef367e995', 'a2633a7ac', 'dac16eb65', 'e1526400a', '80aa5cb48', '5af26c887', '1d0b27398', 'b61e25489', '68402f573', '371b27023', '6e7bb79f3', '4d29bf293', 'dd70da729', 'ce8fd65a1', 'b8874fae2', '06523e0a0', '42d0006b6', 'd034727c2', '6b28aa483', 'cd06a15d0', 'bb3164263', 'b4e5814bf', 'bfe433c7f', '596eb207a', '0941670fa', '36e0b9e43', 'bd497354d', '412ca1566', '96863dea9', 'cf6ac9d38', 'd8833bf6b', 'bb6cb0791', '00202246b', '95b85c849', '179128359', 'cca99cfde', '4d20a7724', 'e1929a55e', 'd32fd1dfc', '45c818e6f', '9ee1f6239', '20bdaf6e8', 'bec032c5a', '09dac82e2', '2f1b0d4ae', '19045f445', 'eae866826', '7e3136a87', '8d5a2a07f', '9267c58a1', '16d27efd5', 'cb4d6873e', 'c7291cfbd', '30271f4a7', '531f60880', 'c9cbd0772', '0653533ab', '84f7e800c', 'a249a5bcc', '81a95dac9', '838f38733', '818871dc8', '5f8705821', '05c3a6866', '2694b812e', 'c9b8ef85d', '7b3989afc', '4c1ac3ce1', '9d2140d3c', 'deca71e1f', 'd19520e23', '0ab98db42', 'f20a51ba3', '3a5b9bbd7', 'fcff7a7a5', '7d6ad1176', '8f4f9dfb9', '284f5c321', '6edce9fe4', '807586d66', 'b36b0c8ea', 'c6df1b713', '21938e4e7', 'cb00cbe99', '456031bec', '24a309978', '6bc15e92a', '4cd4ec004', '96e244ecf', '766076c8f', 'cc8199cf3', '29e3ce34e', 'ba73907c7', '1bd48574d', '44c14a63c', 'f330db06d', '66a6e7f65', 'd5e41c0a7', '22867e5c2', 'e171c00ac', '904a34482', '52f948b93', '932e74b86', '184c18d48', '7b4ca1307', '318cf92a9', '2ce508fc6', '59aad915a', 'a50e05459', '81329e4df', '4541daa35', '9909caf2a', '3656b2aee', 'fe331b3c3', '34a510b1c', 'f8e5ecdc5', '4198b05d5', '30eb31338', 'a2365f5ac', 'b35714849', '5d6ab0ddf', 'bb6296c2c', '1210f7cfa', 'e305893f7', '343e79267', 'cd9160731', '1345d015e', 'dedce70cd', 'a3af6c11e', '4ac70f076', '35a9655be', '69258440e', 'a72777173', 'c6048d4f4', '5d7f77896', 'f00159f26', 'a6e82c659', '53c3932bd', '4d2752dfb', '1ecf036f8', 'b497c4871', '66fa12b40', '6d1a3a157', '5bbfebbd6', '03cee213d', '646f80fd7', 'f735e85ab', '9e16fbdf9', 'f0e5d7b1c', 'd56993d32', '39ead5e86', 'd8902c5b8', 'da2ff2e61', 'fb89119e6', 'd0a8cdfbb', '89d373755', '29224dd39', 'd5a7356a6', 'ba4d757a3', 'fc2976024', 'e9d83ae6a', '8881e7933', '062f5b23d', '5ce8c748d', '35a9ee7ef', '4e915d493', '0ac07d0c0', 'f89c2cc79', '91a37fbc3', 'abc461ea4', 'aec12d1d1', '52f9f79d6', 'dc449e944', 'bcca5d51b', '2045842d6', '42dadb180', '665fc7840', '2666819b5', 'f5bbd24af', '1e429d485', '01d331fac', '7e8965fb4', '71e5b2166', '771f337bc', 'ef2b6ad86', 'c3bb53e8d', '26703bdd9', 'c88b060ae', '495e7f681', '72314357b', '157a0304e', 'f43396604', '9bfcdfc9e', '89ee8dd54', '71b70c36e', '7a6437957', 'bd88a5060', '6f05462d8', '3a4603372', '869cd3a4b', '3a33631e2', '60eea5c54', 'ec94cad1f', '62dc20ab1', '52f54d545', '161490de0', '53509cf75', '8641c23f9', '64491846b', '372bf4d06', '2739795da', '84d24b10c', 'd307d2351', 'af2aa15d0', '92c9e8ae7', 'fd1422942', 'e1f000928', 'b5fc81539', '399dab91c', 'ecf3f01c4', '8fc5627fe', '55eecf652', '364f539d4', 'cc5db6e13', 'e05b9fd26', 'd5ce2dcca', 'c850240da', '1c39e302b', '7957cb0e4', '4a23457fc', '0c2159ed0', '9d77edd12', 'e0663db91', '91e0d26d0', 'fe6a554af', '8071bfe80', 'a6b2880ed', 'd66fbc14a', 'decb53ae9', '05849ff93', '5877110d4', '5224a5a24', 'cda2d2bcd', '884ead549', 'eb8ed0632', '0c5cd8980', '8c0cda4c2', 'c8ed87a40', 'fe320c885', '0f9c0a5cc', 'cd1129404', '3de1a4fa1', '6264b1ad8', 'ce0310319', 'c441c4c05', 'fe59d0e92', '23161b7b3', '941a63f5e', '88ff22230', 'e5de393cc', '0777bc7c3', '03f6bb514', '0abc0a0cb', 'bc80dec9a', '392c9f997', '134da4e1a', '0dba18401', '2ab23de22', '9332ff270', 'ee8ddd850', '8aa88ca0d', 'c6c0e8a2b', '9f8a5bc9c', '9c564513c', '6fd23823b', 'ce6696886', 'c4a8f86ff', '038853515', '7394fd4cd', '137eb10dd', 'fbe68ae42', 'fe8b0d4d8', '5de9bba38', '72556e71b', '00559eb44', 'cefa8140e', '0755ec00c', '692262042', '49dd3cf6b', '5256b62c3', '25e13de80', '992aa544c', '3fdc4459b', '3742db788', '65d54e094', '5f4ebc6f5', 'b51cb1773', 'a9ce3334c', '3631dbcaf', '5848f9ac4', '0effe609c', '4760b40fe', 'd1835e76b', 'e60579800', '1ec8e23cc', 'b4ed86251', '02ec4654d', 'b053948a3', '95c2bda7e', '525608e08', '2faa8f67c', 'fafe649df', '245007a3b', '5bdd94d9b', 'd4d004ee5', '43fe49fd2', 'f18854563', 'f1f400644', '078fbf6e3', 'ad6942679', '9fd7919c4', '744a31ac5', '074c0a9cb', 'c10b332b8', '95af1dcf2', '9f1958d21', 'c58d43125', '067843290', '8eb38f3ab', '55306df03', '8171416d6', '39a5382b0', 'a23af3720', '1ab585df5', 'da2584f35', '992311ee0', 'cb3f7d7fd', '64f89328c', '5eb2cf7a7', '88df47aad', 'efe13bfb1', '0a6f3cd3a', 'c52bca283', '6845740e8', '7bd0f14ac', 'b91f058fd', '2f3491809', '705ad0b1c', 'a7569de3a', '3d3109a50', '6bfe039bc', '4a39e9050', 'd173d5602', '378a735f5', '04f075bd8', '94365d610', '00c840a2d', '2ea8810fa', '86f1560f0', 'fb4aea77c', '804cc6df9', 'd11cbc55b', '99cf2829f', '68fe71329', 'd12ef6354', '55d7dcbf7', '738c57c3b', 'e2a31d886', '24d91cc25', '17d17f7f8', '1078e2a24', '70be060a0', '517df6e01', 'f0c4ebbc2', '3308479bf', '9d22e8f25', '875228954', '88061a42d', 'c41ea8c6e', '1f5796ed1', 'bceb7ed71', '86c3f4f17', '339645e33', '42981a766', '3e1fd1687', '9c7dea737', 'e7a598245', '60985f035', '66270c30b', 'efd236dba', '1ec5fcfc1', '53f7c9369', 'efe414fcc', 'e7575efec', 'bf43000dd', '630e0da24', 'f9b209aa3', '430ed645f', '72e504539', 'a71d78679', 'bec5dbe52', '994c96751', 'dd6976a05', '57cda5459', '20aa11937', '22f56fdc9', '3a0a4f10b', 'ba514beb6', '9d356988b', 'b340382ee', '3c2601744', '9d996741f', '6e9346b0e', '7e5a41f0a', '57240a360', '8035fe068', '1e2fad041', '06747f7d2', 'd84ec4a66', 'b7735fb52', '942fe1525', 'd509f7491', '90b581b8e', '0c068c2ab', '6c4606b54', 'dc3a0f101', '0286fee46', '51d281ceb', '4ee387755', 'ad874e496', 'a42b80c1d', '9dc653c31', '44ea6a04a', '39274f6ab', 'ad34ef3da', '1674b11ae', 'e6354e1ea', '306d47883', '9e8bf8e95', '58168fdd9', '55e10bf3b', '027e757fe', '661bcb872', 'e135e700c', '04d7db72a', 'ef92251d7', 'd641e8b10', 'dce32a1b0', 'f6c29aea5', '011db0734', 'efa8954f7', '578148276', '256332f23', 'ae2fe0e32', '6318de1a8', 'dfd160fee', '0f254ec54', '5c8855ad6', 'af52986d3', '325fb847d', '48039a325', 'faf8cadb3', 'df177f006', '0911fa22f', '05d8bb07f', '50679484e', 'a91a4d80f', '5d98cdeee', '913ad498c', '5b5a707a5', '6a2fd0099', '02d4294d4', '9c9195c6a', '6a2092954', '19d145f71', 'b0bcbe0e9', '4198e8b58', '93b688790', 'ce613023c', '1e939ba20', 'a5d1ddd75', 'd02fe1257', '38d68065f', '70f4775a9', '92b7fb144', '1f0bde8d4', 'dbe5918e3', 'b65c0a25a', '8e8e1a096', '959c476ef', '8df585f10', '3a064f6aa', '281c19219', '55e1eb727', '57a8df1af', 'f6417cb46', '820214db7', 'f6b6f495e', '88039379e', '38dd5d85d', 'a2740319d', 'edd29bd8d', '613c33c11', 'e7ffba72e', '9a5fcb968', 'bb4fcc64b', 'dca9f9370', 'bd8c5255d', '6352a14e1', '07b9e8a91', '516bebe7c', '852f0a1b3', '8a34e794f', 'a649a5631', '0522165ad', '6e591f32a', '2d317653a', 'e6a5cbca6', '6dda33574', '2f40a1a71', 'b595f8f0e', '452bbfbe9', 'a8c1c8057', '2b930f922', 'e29005c3a', '3d2b13c83', '178321f60', 'd5cfeb3a1', '25280c2ee', '429239951', '8e636318e', '7c66d8089', 'b1a2f7da7', '0f077b8e3', '0f2eda6a2', '68951e596', 'b772950d2', '9dd375c81', 'a1643d4d4', '1709da990', '956109338', '1310c35dd', 'a1d8df637', '6a13bcd52', '2f7f95214', '6fb639b61', '22de6e18e', '1afa54926', '574f8ff4c', '49a805285', 'c78d7df34', '6ec4932ec', 'e2bfd0c80', 'd8422cb7e', 'bb3b97c78', '50bb90329', '70c84a61a', '14e3cb36f', 'fb34986bb', '8e184392b', 'f7433b9b8', '499c34e6d', '7d797be3a', '8ee3dd0b7', 'fb0bd407c', 'd5259ddbd', '212ecfa8d', 'ea2f5defe', '28b8d7c34', '46f77fe56', '7eb710430', '84ba3fad3', '27fe0bd65', '94d652b25', '37ed108a4', 'f5fe2e0cc', '12e99547f', '3660da2f6', '56485b230', '5c56ad42e', 'aea353342', 'aab530a24', '95f7720a3', '526bccf74', '5776f0353', 'fe129a48f', '489d6817e', '639bf241b', '39d328853', '51e3f15af', '8a9f1421f', 'ecba66bab', '2e7a9c2b6', '5f21092d4', '794c1b947', '23352375c', '3036c9b91', '7f4982c01', 'a8b86cbb7', 'f9ace7fa9', 'eb69cc526', '70a2c64c4', '4c612fddb', 'ae2d4009e', 'a98bf62b6', '2b17e60b6', '09e07c2af', '9e437948a', 'ab5b5dec3', 'ae87eafff', '3dc891d92', '3cb234b29', 'eb0edaa1a', '2327169e3', '753a9dda6', '4b7a614ad', 'c41b0ca91', 'e2727fc19', '17e9b1025', '381e541af', '05b098230', 'eb0c70cc2', '1b4de10ae', '4e34afc69', '0c0568554', '24708272a', '6795b1a69', '84c27ee7d', '67337ded9', '635410fdc', 'd9afb49d3', '6f682e9c7', '559f4fb0c', 'f106759a1', 'bc799c893', 'c8a1cc47e', 'e0babeaf6', '541bd1537', '4956d25e4', 'c003b8fba', '8ae9d30e8', '4f8099005', '9fae99034', 'ec74c138a', 'd5e5c3f12', 'efdd4e727', '971c72d33', '1da2f04d1', '2eafaa3df', '0219d13a9', '133d2331b', '1a350f9c9', '3d3fcfac4', '1d086922b', 'ff37346ce', '47417ba14', '540e93431', '000c3148c', 'd1d49f370', 'e8dc93294', 'ae4aea38c', 'dfb5a5e19', '739117304', 'b82e3348e', '864f390ec', '6204da179', 'ca727194b', 'd82bc2c77', 'c0ed68836', '08cd593ad', '9003823a6', 'd2f222bdb', '07c8d093a', '3d8904a7b', 'a383c93be', 'e9113117b', '39837699e', '225293eaa', 'a3ba6dd45', '6dfd57187', '39ddfea2c', '0f7e27d1d', '477669ead', '112e545cc', 'a85e6f592', '3b6853687', '426603075', '32a243d97', '0f3bde299', 'b447422a5', '6e852c18f', 'a5c696134', '3be7eec3b', '2b797987d', '0bc63b9f9', 'cb7b83fb5', 'f653dd914', '2db74d1fa', 'af6ad4519', 'f4855c2d0', '76b40d84e', '0c26c5bdf', '5ce617592', 'b3c220c05', '842d60bc0', 'd97ddd36f', '329abfa18', '84c645ca4', 'efa23070a', '6f29bc469', 'b2743af13', '1068705ec', '135a656ca', '99199ad59', '0c4af5e71', '9707f40d4', 'aafa6ab5e', '240f71883', '43ccd2f67', 'a03340746', 'c2fc673dc', '8f54c4571', '4c0f35fd7', '4635b8310', '83c87a2cd', '3cff35820', '3fa0ef960', '66e59c9f7', '7fbda28a7', '094d6d6a2', '4e9877904', '463bb923e', 'c49baff89', 'b5cd6e5a0', '5d2aeb7ae', '3bbf48037', 'aed85c235', '41311a04d', '4c9538f20', 'a840c394b', '40a41802c', 'd2ab02740', '2b780b992', 'a8132291d', '3de8398ab', '1edc65cb2', '165baf15a', 'd174c9335', '242460243', 'a6071abab', '9d122488c', '9a204dc95', 'ff4039502', '5692e277b', '48847122b', '3f1aba292', '53681d32f', 'eba480e5b', '645b0a17a', '2686aaffc', '4b732aa3f', '8896eda47', 'e5cfd5974', '628443cca', 'ff7809d76', '1dc37103c', '870618113', '6d63869ea', 'c9d709c11', '190d5948e', 'a86474f82', '314dcc15b', '8bf3a5f3c', '88fd58502', '568bd7a3a', 'a26409255', 'b3771663a', '0a05c6cdf', '6b827766e', 'ba55ca486', '569ecb558', 'd74d0d402', '3e05d5dda', 'ad74f0b5c', 'f7af47d01', '4cbc1c1d1', '394fd3c35', 'ea216b077', '09cd21cf7', '6d3498b0b', 'a8dc6a20d', '314c75259', 'c3243a62a', 'bc8ee1501', 'b19c8a15e', 'da1f39185', 'd7ae43706', '37a54d662', '50be14240', '109cc0e4a', '22e653071', '4f836160a', 'b5a8ba01a', 'aaaee8c49', 'ec572caf4', '13452503a', '4e46ae55e', '6dbc16b39', '698878032', '5c3f13449', '00ab95668', '015c7a7e5', 'edb389887', '69be6c639', '176896408', '514c22f0e', 'f3c4b30eb', '5214c4503', '090fa95bf', '90a20bd90', '2d10b5ae7', 'f12f38143', '37132b5f0', '9202a6f9b', 'd8c4063b2', '3a3f84d57', '59810f317', 'e33348a46', '193a0cce7', '3be8d9670', '36bb704cc', 'be90a50b6', '435ba7bfa', 'f7999a345', '637631c25', 'c530e099c', '851a12ac0', 'ffae88db8', '4154feb7b', '658258f8f', '09ee9ce29', 'a86ce3657', '7361fcc2b', '1319ee7b8', '032481184', '4bc1a18a8', '997b2bef3', '1ae40ea8b', '83b6ffeab', '2e9813674', '7cc470b7c', '643244533', '741e9903d', 'bc42a21b0', '638fa439e', '1b3e48a2c', '7a34b160a', 'd87bedba7', '88a3cb592', '8e92b9215', '112422329', '5f6db8d33', 'ff0deb8c5', '8bb870cea', 'af49a2f49', 'e51081bf6', 'b31495b1c', '35345465a', '33f0a51ac', '027ea8cef', 'c3d6213f9', '565bada5c', '04e1420c1', 'afb0edf55', '3ebf64b56', '0fe95661b', '3a00f0cb0', '9477c21c4', 'a89944c3b', 'dff7da8c5', '56854c8a3', '74829315d', '07ac62fd7', '431ba8c6c', '0220e2e6c', '17ee6d2d6', 'b3ea5b1a1', '11902b618', '3c3f29d4d', '839e6b3d6', 'e027decef', '8a26e1fa9', '5d8d2584f', 'ef306e5b7', '078ed952a', '383d8a64b', '00802f44d', '126987d4c', '418e44154', '1ba27ed77', 'b098e6312', 'f58cae0f5', '78c165857', '7334cd26f', 'b0dc56894', '557564404', '3bacc7ef0', '0b7705692', 'ca51d42c5', '66f0134f1', '64b9466d4', 'b1d340ea7', '70158854a', '0cb29224e', 'a26460932', '5ecfe0e27', 'af3d31c67', 'cdd80b205', '82eb16ddc', '2169e52e8', 'af10045a7', 'bf3170471', '199dcb997', '16a6d0ef0', 'd7d4cbb65', '9b9076c53', 'd8623d900', 'a6ed22f64', '74e241e50', '8c1983479', '982b377ff', '54a4237fc', '02614c060', '418eddb34', '53f703b8c', '443e28d3a', 'cae4ee24e', 'a52495a7b', '62eefefc6', 'ca40c7110', '63cea6ada', '81b6bfebc', 'c4ccdcb6b', '09d4ddd51', 'f644e8d1b', 'e799a168a', '5672be315', '212976a05', '1e55d71ac', '5e697b80e', '080a449e7', '0362532ce', '828289263', 'a1badc9c5', 'ef968c387', '15719752a', '12954a7ab', 'c02f1e371', 'f9b5ec495', '19cc58e0c', 'fa32680ca', '588be2e5c', '1a564a190', '04b7c50d7', '8f23e3c55', '2cb4666f7', 'c1213165f', '55b36406b', '439b441b2', 'ebc481d7d', 'a813a1d7f', '8b1f75d90', '9d9dbdc26', 'ad631732e', '781164869', 'd4a72183a', '37f280e33', '9ca7ba537', 'bd538e17d', '648b01f5d', 'bc0a25757', 'bf91ad95c', 'b97a29ea8', 'c9ceec6e9', 'e03317044', '7218985b5', '3f1596ca9', '4fc301835', 'b2beb29d9', 'fc46e9ee5', '643c3f24a', '85c8bc4f7', '50f0277a4', 'eebdb979f', '02d2f75bd', '2432486b5', '0e3a06c27', '6cde7f710', '239352b00', 'd6ef29331', '3f3bda136', 'e5604e588', '1bd6c94aa', '7584e6e2b', '90e14909d', 'e76089033', 'd04e7a922', 'c7f56bf01', 'd0945346e', '357e340f8', '03c866ea6', '9994f748e', 'fb9ad27f9', '3dc06b288', 'beb2030c4', 'bb041cbbf', 'c190681d2', '7c440a7ea', 'fe7aa1794', '1629104a7', '6154dd2c9', '064e4ca7e', 'ec30c88ca', '813dfcb74', '6a672a3c8', '1fa422c7c', '66604890c', '73d94e737', '057b88cf5', '5fe1e7708', 'e5fe3ab8a', 'd51f60296', 'aa8324519', '10a3ec856', '13cf12a13', 'a9b4d34b6', 'da25549fc', '3e2352970', 'dd68ab6a1', 'fe2ddfb91', '54b094fab', '4699f3d31', '05ada08b4', 'c02929816', 'b1c057e25', '34c8c9e45', '0ff0b84a9', 'd7ac74d3b', '93729f684', 'ebce0c015', '04a804aa8', '3b3794565', 'e9e56a3f8', '9adca20e2', '8e7982640', '1f739acea', '516db8cf8', 'd66859001', '375dafba0', '68424dab8', '8e495b33c', '480f94084', '429cd329e', 'd42bf21f6', 'd63a90b44', 'ddeef965a', '037f7c378', '2b303634c', '50a6c96ff', '85bdab35e', '6f72d2ca9', '15d42f1b1', '21fdc2588', '5bfce8de5', '0c2648b65', 'cae3a2eb4', 'c1bc6a819', 'f822a81a0', '136e7d829', 'a9f2f87b8', '8ad51bd72', '523bd6bbf', '76af63c0e', 'fa25d82cc', '335b67fc9', '275044863', 'e33a43c8e', '21513a866', '31f87c4f4', '4299f8580', '31b70c441', '24279374c', '68507684c', 'baed2541e', '320ee8f59', '81fa53f07', '32db2966b', '2ad2e47d8', '337de6c55', '31d46a787', '5da6d2f97', 'bc4beb968', '95a651cf2', 'ffc086cfa', 'df5345d25', '6e68a02c8', 'c89f95d45', 'bd9a01327', '970f89cbb', '74aff2dde', '78196975e', '335deff4c', '4b4658720', 'c15202cac', '47d38e9d3', '0dc2d6a91', 'f190d6914', 'de9dd442b', 'fe556fd50', '4065a77b9', '488c82a9c', '838aff19c', '8f2dacc0e', '6a06f0cbe', '79439e292', '447c2fbd0', '9a34eda5e', '0270f38fd', '1eb6ed0cb', 'd4d743b12', '40f2aaabf', 'e00738e54', '24e5e1eec', '4f3faa790', 'd2d61763f', '682e0eaf2', '1257c0a4d', '0b6a1ef1b', '8fa439fb1', '49ff85428', '7976037e5', '7c6d0d652', 'a284ff9c2', '84163d0c6', 'e52a02a30', '6ef7989ff', 'e90f025fd', 'ade63f0c7', '80002b8e2', 'a6d049db5', '81c9115a9', '57c04aff3', 'b90bfbd66', 'bae876fdc', '7a6993a2b', '66f4a275e', 'a67d22f37', '00a9e9fd2', '4c729b853', '22af9e8d6', 'b24464205', '9a22cba51', '01f13b1b9', '141e405ed', 'b123534bd', 'a80b24767', 'badc201f6', '6fa03b445', '971737ca9', '05958b9a2', '250111ccb', 'ab7bf81aa', '3af4192ec', '28bad1f4d', 'fd402e0f6', 'eb656f6aa', '5a0cd77ea', '53e65ade5', '2435bd4f6', '2041aef21', 'fa05bcff7', '75f661f36', '603fca6b7', '514f74d01', 'e559865d9', 'd05b17e80', '8a298f187', '3055a191d', 'e0ed63c01', '2dd4f7fc8', '3faa3aa07', 'a6e3d7d09', 'd18da778c', 'c9ec2c14b', 'c44e15cdf', 'eb156f4bc', '03867e161', '5be299a64', '1c93f22c7', '6d70e8b27', 'fa1cb417d', 'ee4ac2fcf', '6febec320', 'bc1c79102', '512e252c1', 'bfcafc3b9', 'fc62aeec5', 'e4f06cbde', '8a6167845', '492d00b94', '04eb3280f', '3f46bec5a', '955551ee3', 'c7e106a50', '5f1d21b69', '94b473dfd', '89e3e6806', '89451cdbf', 'b73dd855c', 'e6d70f1df', 'c984d5ff4', '8c49d55ef', 'd042babdf', 'f6ce11d10', '5d9a1ab55', '206aed34f', '9e7ec03c1', '9751d4038', '7bf7e37d5', '5192bca70', 'c19d91105', '5118488c5', 'cdfa38aae', 'c6ca13f9c', '1399865b2', '130161d9a', 'b9c456565', '8a5c8505e', 'ce6a7e9f3', '50be2116e', 'd63043d77', 'fcbaba19f', 'cc6dd400a', '6938527c6', '6289781a0', '989bae1c9', '6070b6160', 'dd62cb909', 'f3d4e7c21', 'ce28afdec', 'ed326b121', '2069f0297', 'e12d39f0a', '739f25742', '10a54bd13', '1217f7f6c', '683ac50cb', 'd9e41d85d', 'e3b3ebfc5', '512d2fc56', 'cb33c9994', '28db700b1', '4687bffb6', 'bc28b44e5', 'd5c377e9b', 'fa78dd553', '128a09aa1', 'f14bcdeb1', '1245bbc5b', '88f0dc505', 'f8841e9e0', 'd412b27be', '243d66fd9', '7857fe60c', '02e6c31e0', 'a94581ada', 'c90ed8f1e', '13ef51e93', 'c48dc2eb3', '3f4c9a599', 'a08985321', '0c73812fb', '9b81d4507', 'e3c4badd0', '343650ddf', 'fee97cc59', '8ea963a58', '76aa40cf9', '6a20b2ab8', '4eb70b332', 'd3f6af645', 'd6e47792f', 'd61dd01cd', 'f3e08138d', 'ee9570747', '70a28ba4d', '06c676f1f', '88d29ebd1', '996864a4f', '70c0bfb28', '3bc8741c1', 'c82e2fab2', 'c3f7bd15c', '4b3156ec9', 'd4c1eb9c3', '11207d355', 'd8be4cc81', 'ceae7a9f0', '1596f09d7', '2484dd61a', '7cdc1f3e3', 'b9458f656', '18d1cc8de', 'c96dd0f52', 'a03ab14f9', '02a70154c', '4281cf5b9', '4787f880b', '7639dad0d', '681d3df1b', '984f7dbf7', '7f6539005', '8cbb90651', 'd61262ef7', 'b5674b247', '04932eab8', '816bc8f47', 'b725b19d7', '5b97231f7', 'e0943cca0', 'fd5c8ec80', 'c3e7c4c3e', '6ffc05735', 'db30f62a3', 'ea63fad6c', 'a480fda21', 'b6f2dd21b', 'ed73433a2', 'b0a5e948b', 'b277545d6', 'c15b9aff6', '406c59a36', 'c1ee53fe7', '04f648e94', '27c01d16b', 'a4411c5ab', 'db14b15e6', 'bb089c737', '75e233410', '94ab6be82', 'ca13016af', '2fb9f753d', '2dbda5cf3', 'a7cabaa08', 'b4a9d1c26', '1523dac0d', 'a29b64e6a', '83e7be766', 'd3f39af57', '6aa6fb39e', '4c356ac78', '2937068a0', 'e722f6cb4', '637363fb5', 'a5590f67e', '82e48f1bd', '75554aea1', 'ef4253b82', 'd74218492', 'd602e1ac3', 'a106fdac6', 'b6cf87006', '3c60fd2f5', '27351cef0', '1d57a05d2', '3b998117d', '7d448d26e', 'cf6807048', '74f691b20', 'e05c35bc3', '0418c4b18', '2883f1fde', 'b83b48479', '68e311115', 'b8851a862', 'e78184d75', '4d92290c4', 'd2754d701', 'eef885a7d', '9a1c36181', '613e92595', '94abba910', '0761b8b8e', '6bd6ab9ab', '8e90ec087', '6e323403e', '18e880443', 'a1f033ca4', '94f784127', '47569aa73', '342996478', '309986181', '04c172b11', '322663c6a', '85dd824b4', '430dafb35', '14904115d', '01fa4b222', '97a9a8451', 'f8a20f00b', '73c19a2c0', '68082c4e8', '2b08acc20', '4a1dc5715', '7e4cfa140', '0838311eb', 'bafd850ca', 'f8e8be2ef', 'a3ab6d700', 'a81577221', '59d894ce4', '5552bb105', '0befdebba', '7f0d0fb57', '1e8f31015', '9eee46b83', 'e9ffb960e', 'e7abf3acb', '38cd3ce56', 'a2b7534bf', '0845855dc', '22e16cb92', '6c0a63379', '0a7d91566', 'b0d0e8fdd', '2212476ab', '8fef6fdff', 'dd8a1d998', 'ee90398d6', '11549437a', '656186eb9', 'ce3699aec', 'b1e502cb8', '86f55762c', '00052050d', '90185192e', '775f1184b', 'ebb8b6a14', '04b802e27', '915c41861', '37bf5cdfb', '1cad04516', '49b3be9a8', 'f3fe833d9', 'b766bc2ae', 'a4d6d8f1e', '7a90d1890', 'd177af19a', 'd570371d0', 'f8e5bb04b', '5afca9ea8', '724214461', 'fd27cf5f9', '9f05e17af', '4fe9206fc', '947266d29', '4b64bf63a', 'e939599df', 'c3f8e8f22', '7a8193ae1', '7970a067e', 'daec4d799', 'ab32fb6d9', '544c28919', '8defee9b8', '46ce8acaf', '50ed2c354', '95d4d7db6', 'f6110771e', 'ea87c8d9f', '4a3fe89b6', '07e955f7c', '018d0b0a6', '42946cd3b', 'e94015f35', '60c4488ba', '43eb45e20', 'e9aa87a4e', 'd2444e51b', '0e4f15505', '1e420caae', '70e15098f', 'e52aeffaa', 'f7d761c1f', 'e8998b1c9', '1dae93ac6', '05830a650', '7f4255a65', '45311d436', '8f3ad63fe', '5553171e5', '500ed200f', 'cf8eb8a33', 'fe7cde623', '3328e4410', 'b7d944336', '804fc9d96', 'd4110470e', '5ecdf8481', '318a767ad', '10aed4b9a', '7b6f4568b', '7896f0899', 'f9ecfd6a4', '4f698df5a', 'f92b9211e', 'db670d1cb', 'ff7b5c805', 'df5a66652', 'c354fa3fa', '921639f4a', '75c30adc6', '217363a79', '01309b99a', '87267d020', '1cec8f537', '531010b31', '39849b89b', '421d42654', 'a77e30212', 'a232004fa', 'dcc3ca019', 'b36a83b91', '883888016', '91dab1511', '32c103da9', '12b3005dc', '4014c7b4c', '6f4adcca6', '3bff7dd7a', '49714f139', 'dcc6020e4', '969c8b7dc', 'e0b95e0f5', '813b501f4', '5aad27d8b', '45a818b44', 'd3523ae14', 'fb39429d9', '3fd3e5405', '7b531e3c9', '0de2ed0f8', '6175eff7d', 'a19b63da5', 'e660cd8ae', '663c8a201', '5e9a4197a', 'f35364981', '74e5a3d3f', 'f87aa90ac', 'd3bd4f93a', '428f741ce', 'a6c937d64', '8a4f82378', 'eabcb6e2a', '52c9433b6', '34167c3f1', 'd99ad9537', 'd65aeae3b', 'a10514d2e', 'ddaa7abdf', '2bf5b6577', '842e33440', '611bbce04', '9457cac94', '608cae947', 'd8413d70a', 'af65bfd48', 'd14c45ff6', '95554d71a', '011a256ed', '506b8e5dd', '1dff55cc1', '0bd73e841', '25ea71a09', '73066aa24', '390d689f5', '1110e7e8e', 'c4e7912a7', '73729936a', '31adff5bb', 'a3cea6bc2', '9dbc8471e', '2005b83b6', '528036bfe', 'd980da2e8', 'e68ba0944', '18d6692c1', 'f5e0c54d9', 'de5f5e2b0', 'c0b5391fa', '763d29df9', '0cfc4acbd', 'aa55ff386', 'f5cdc03d0', 'fd51b2ce6', '4dd7ba951', 'a77d73fab', '50d7bb8f6', '1fba7bcfe', '90704bef1', '09c47ace7', '02851e3ce', '5ebc99b30', 'be25b31e1', 'a26332629', '191679858', '50852cdec', 'cf406822a', '1b6f1333e', '847ef726a', '8db4eb4e8', 'e157536a9', 'b3a1ae8ab', 'cab084e92', '984424476', '18cb62431', '97c4fc9a2', 'd31fdb570', '6ca90f9a2', '86908ac8b', '9c2221957', 'ca97b27dc', 'facb02537', 'dd7bcdfa4', 'e32f9eaf9', '0a90e64ab', '944001192', 'dcd21fb3f', '7e1bbe511', '79ada15c2', '98a175e4b', 'eae90b171', '748064460', 'c4e452e63', '2a0574582', 'b3858c5d8', '09c252d8b', '530d465bb', '68d73b7dd', 'b5b82024a', 'bea44ba74', '92d8760c8', '3dc10bcdb', 'e870526bd', 'cfcfea6db', 'f6aa01c1a', '9d64ea773', '483a0f640', '667b8da69', 'd87e9ca56', '6c96ba04c', '8a4d3f47c', 'eeae49068', '49abb069e', '344796232', '426b5301d', '158cd82f0', '5e4f851bc', '4c73bfba9', '85ad2082a', '993b54dac', '75eff217a', 'd74118f8a', '760f0e17f', 'cef738904', 'd051d165c', '355b044a0', '9f666ec5d', 'd887638e0', 'dc3c49063', '264e54c06', '28c347c9d', '2de209544', '423029b5d', 'cf4d7678b', '45399c9ad', 'e347e7842', '45a3e5f6a', 'ed9bc5d8c', '07417eab9', 'd301a1890', '73bbe3398', '2949737a9', '56cdaf7f2', '7a9ce4a04', '268ca1645', 'd17d980c9', 'aed55d886', 'f8b9db12e', '6710d6d2d', 'd0adef90c', 'f9b8f4101', 'b712c2b79', 'e27e86b81', '13be3cc34', '647bcb28e', '45affc10b', '37ba401ce', '2d3aa0e86', '5782fd032', 'ea2582bc5', '2dd322ff0', 'f036857c3', '995ed45fd', 'ac17bd593', 'eaacb7cff', 'ed2b6bb6c', '08ca61eea', '50b598622', '428e60b19', '740c4524e', '7dedf7142', '2cf68844c', '598386caa', '9c5190350', 'b85440919', '9fec32759', 'f3fbb2daa', 'dc48d467d', 'da0cefaaa', '1c7e91a1f', '2fcdfbfd5', '7af2c83dd', '3cfe8875e', 'de5f5ddc1', '2de3641e3', 'e47e2d98c', '4e0c21d41', 'b18070556', 'f73acd9cb', 'e7203596f', '1cd20136d', '3c08d6d3f', '3785bb6de', '138df6bc6', 'e460cce22', '8d0346548', 'c36f1406c', '0d1e2fb9e', 'f9ec6c5d3', '1232bfa9c', '894d04063', '2f51fe15f', '51991dcc7', '978cb82bc', '124030717', 'a4a478d94', 'b5cf09b45', '9a82f5236', 'd1c06ec58', '8cf50ebf3', '75a22b1fa', '4231a4ed1', 'f1e4d5285', '38039d3a8', '3c73bfa9e', '733b12b62', '670622bb9', '99ba7880b', '041f7310a', '317f88f3a', 'f34781de3', 'f859d4eba', 'dd6fb6b30', 'd406114ff', '5ed68b67e', 'e33b74676', 'd2130d27b', 'c1cc17244', '54e697161', '301cceaf6', '827b3cb04', '5e94dd2e7', 'd7a838cec', 'f440377fd', '5e660e4dd', '1ceb8fd45', 'b1b8d395f', '0ff6679d7', 'f3eaba4ad', '0f4e4883a', '3071bf497', 'affeda826', '2db6ec809', 'acb1c7600', '194761294', 'f5dc0aec1', 'b82e15aa2', '88160acee', 'b43b9e9f8', '7ab3667ff', '8a7ea2a6a', 'a9281035e', '9dfe16047', '054ba4e17', '0418cf469', 'fe5c638a1', 'e6c1d36e9', '67b91ff97', 'cb987cd3f', '6c25b3bbe', '1b3126c04', '19a88cd41', 'd5451f59d', 'b958e2812', '67420a557', '6fe53c528', 'b2465e0e2', '7a92967b4', 'd7422ffbd', 'ba55be03b', '7bd06ae2f', '434047bc2', '19e378239', 'f0154d05c', 'c732a8342', 'f5cb73b1c', '1ff73de69', 'da013a5ad', '43a33ce4d', 'a7f3512f4', 'd0daa9a8d', '5494e43e7', 'a5e334fce', '4b5ede9d4', 'e6bf4709d', 'e206d3dea', 'eab4cbf2c', 'e2023fb82', '00b5710c2', '8c6754ef7', '0b73ce7fa', '086012e6a', '34dceca48', '10487be9d', '8b81af6e4', '0c42080a6', '35dd3211c', '61ef75d23', '357ae0338', 'e140eeb90', 'c00bfa0e7', '0b1f1b301', '120c90343', '0de86f45a', '4b4548ae7', '06d738ea5', 'e242313e7', '1cf9dfa35', '4f6e2febd', '670fbecb5', 'c19730162', '05fbcebcb', '965358c76', 'db19d21f6', '7285420d7', 'fa8ec4170', '8718583fa', '04e0c4d58', 'fb647d69f', '6a586546d', '5b6980eeb', '662287a23', 'fb7820bad', '4ab428bd2', '8af7a8859', '82f912575', '069b3715f', '7c4d6f73d', '70a970428', '1b34db11c', '0649d8cd1', '9489669eb', 'c659d4c55', 'f93f7cb6a', '4cbba1b88', '4691f847d', '6e8428530', 'bc2cc93d2', 'baba01f69', '34daa43fc', 'e62abd2a5', 'e0fbc538d', '5f62401e3', '4593818c9', '2fbd4adbc', '8036de9b5', '5e49095a2', '4fc541223', 'a57513e46', '04d5dca14', 'ebd88e944', 'e5a786809', '37bf7f6bf', 'f875b5ada', '06f692c86', '414a3f332', '05857f342', 'cf32d66a6', '8d04f799b', 'ccd9b1eba', 'e33612d06', 'e93c2e4cb', 'fd0871f51', 'e109b5c3b', '38a3b1fa7', '0292f777c', 'b387b2754', 'dad135032', '74a53ee8b', 'c9a347c38', 'b77e45b71', '27a74fd20', 'c831e68c9', '6088155d8', '6a7e126fe', '0050bebb8', 'c728f29cc', 'fdfe39d4c', 'dd3ef356c', '629ee33ae', 'e71435d55', '1752c9fef', '7a3530d7d', '1c3a4a3c1', '625a427b2', '60f4019be', 'aee66af34', 'c68b9ab4f', '0afc87050', 'c96372e83', 'df7a9fa15', '2e839288c', '3f1ad8437', '529989397', '9e3c2b070', '5ec2a5ff5', 'aec8523d8', '9ebd870ea', 'da640dc7c', '4a62c8dd8', 'd71a7ced5', 'a8fbc3122', '50352e461', '923ad3958', 'a25e2c4a6', '6a2de3db6', '652aafdf7', '5a8f3b40a', '06a4d58b2', '86c547c52', '78e70bcbb', 'e8d7953b3', '83ef0e99f', '60f27e6b6', '5187ae4f4', '52026db15', '20f642a12', '5182368b9', 'bc93c2614', 'cfb22de71', '8ab8ae735', '71ade5b84', 'f39515db8', '83e6209a3', '0cc9659d3', '66cc5a64d', '3ff5614d5', 'cd502c7fb', 'cf0518836', '8e388eb38', 'fbaa9b5a5', 'b53608e04', '36bf5e5e2', '8c7fbef7e', '2e22dbe82', '1cc4f74e4', '817b8dca6', 'f9ec13f93', '4e0d3842b', 'af417feb8', '3a06c0730', '2edd18d12', 'ea48ead71', 'a98a8f91a', '5175ac2ac', '41284eba2', '1a7fe410b', '226fce1bd', '794bd4086', '547c8b513', '22847efba', 'a269d5e52', 'c1e0109e6', 'a3ef0b932', 'd33875d25', 'dcc8bd86a', '5426bb003', '0d3e3e42d', '7f2bc861f', 'cf01dc68b', '77bd4118a', '3b9d54208', '815874deb', '5dcd32592', 'b664ad637', 'de02e05a3', '06d28b9ee', '9c376bf93', 'dcfe49a17', 'edbbbc9dd', '1f31c5cc1', '6d9876599', 'ea90cd2e3', '230c24e4e', 'fec46d317', '5ecde336f', '4bf40a3e8', '1ab740191', '1aeb3a3d3', '1e59122c4', 'b035c5926', 'cba43e907', 'a62de141e', '002056e51', '2587ae392', '11a2383e0', 'e95678273', '4f08af58c', 'bb17f58bc', '3181578a6', '99f43a1fd', '4df3e8ba1', '62c9d50f0', 'd21d26537', '1e252c518', '0f526aa70', 'ac8f76b2b', '241c3c18f', '9cdfbf106', '263c264d9', '17cb84550', '6989c760f', '418a20eaf', 'd52c6a3e6', 'd95d56fb4', '83bbd48ec', 'ef3812a94', '71bda5e88', '3b768a3dc', '94856eb3c', 'ee681b252', '1ba7eca1a', 'e76cef399', '74d13fa93', '829f95a21', '33dd7fc1f', '7dd9a3d07', '90c4b0b1b', 'e45aea767', '6093ac2ab', 'df0040a79', '1b9b1f79f', 'ee5057a98', 'd937b78d1', '32480d084', '589a39395', '90dc973cf', 'be1069b85', '96581c23b', 'ea52ac622', 'c821c7c16', '44d91f10c', '8aa7f0eee', 'b0ffc8232', '0ee58aec7', '29c646311', '78148bf97', '19abe68e1', '7ed19a968', 'afbf04625', '04c67be19', '10f649126', '2e86a26fd', 'a06716225', 'ab150bee6', '0811ee359', '9fb6f1e11', '9251d6933', 'bc0f02bcd', '770664efa', '3aca81ddc', '3e0a7714e', '3f7e4acd4', '7212182bb', '6c1127e38', '62eed3169', 'cd0e4f6c4', '7c0de870d', '6d5494a48', '1b194060a', 'c8067b466', '06e14528a', 'c5955465a', '1596c8c25', '4f291579c', '4d3f06f4b', 'a5551df92', '4b4daa170', 'bef2bc731', 'bd2c56d7d', '1366d47de', 'a6dd7414a', 'dcdf805bd', '0cac62b20', '8bcfa0c30', 'd8ee4c05e', '1a4a2af4d', 'cb505d5d6', '426d9551e', 'f09b0c8ae', '62e71483b', '2ee8897c6', '1acb2a656', 'ce971d235', '4eaffab16', 'c492577a1', '38dd8cbc6', '00e4829a5', '0b29c5ad9', '9228c87b4', '1e6ecf3b2', 'c5084be1a', '6d7bafbdd', '76674a450', '7f2b18fc3', '2fa5db145', 'bb2acdfc9', '6f0e7e665', '791abd3ab', 'ef63f86e1', '2e91661be', '8827c5f98', '303adef79', 'bf6297d4b', 'b5f911b60', '3fb0f9155', 'ba810d056', '023966cc9', 'e3d6f23b5', '94af3c1a7', '25be46671', '36d54fb3e', '1c4154538', '31e607baf', '38b693fbf', '501b68954', 'a30787d44', '4224a071a', '59f40e09b', 'c072d3025', '9d7b42846', '89f9f0690', '96e49fac5', '7b022e604', '9b9ad19ba', '10a8768fc', '2073ad84c', '1ca45f5e9', '90bb0a412', '3dd1bb7c6', '44442f13c', '505fc216c', 'f8cf7185f', '99110e5f4', '6797c9cd1', 'a82af753f', '966a5de57', '873fa7363', '92fd449ed', '0e7593219', '69e5475c2', '3f37ca5f0', '6e9491509', 'b9c65a2c1', '09e24566f', '171cf00f5', '944a27b57', 'd9b9b6b62', 'a4c2401e4', 'f7958dbd2', '269eab8dd', '58ccffd44', 'edcac67d6', 'bd3ebede0', '4dd7705d2', 'f40e15a7a', '1fc67f53c', '265e333b7', '24cfc9ea3', 'c7d94e2c0', 'eed8943f2', '933ff6ad8', 'd47ccdb00', '8bb9258e1', '2b41c4073', '92a403491', '39f0dbabd', '6d06dea2b', 'c4991470a', '70c6598cb', '6dde6d687', '72490099e', '392a6fe1a', 'ee07e8802', '5a2955eca', 'a6ab9c316', '2ab355f6c', 'fc4a7ded3', '9cb00e907', '5122ffb33', '726f70e71', 'a710b62f8', 'd291fcb38', '8b08ec6f5', 'a8306dfb4', '19365f93b', 'cd098955a', '4ad4a1794', '7c9cac70a', '36c939379', '251ae297b', '4f2f07062', 'edbe0d3aa', 'da476cf42', 'd8bf694ad', '6e0ae5478', '2d2eaca33', '0200d3169', 'bed44f785', '294a9a226', 'e1b7388a9', 'a13ca95ca', 'e5fd2f648', '0bbcb44c8', '401f8d76f', '186cc06d2', '95ed349de', '682790fd8', 'e8be2364b', '7158ab0f7', '19d99cd08', 'a3ad33fe9', '2ccbe0a27', 'f37752276', '7a5f14f3b', 'b90d5a4fa', '64748c001', 'e8b5d7701', 'a47518a03', 'f33325359', '808c2b084', '88b7a948d', '8c705be80', '2322eaf2a', 'b97e3a146', '6db622133', 'c28feeb65', 'bc5ac5cde', 'b18356db4', '87e124365', '2e851709b', 'df3b24c3c', 'e8b921583', '9b15aa5f0', 'f3b8e1c08', 'a9b1b9add', 'c84805fe6', 'f8ee2ad09', '17843e3e0', 'bf323412d', '7d5a25bfc', '84cfc92fb', '815c8040e', '6460d0dc2', 'a54fc5913', '0c00367d9', 'c465f7b64', '0080bb69a', '00400f226', '265a0ffd3', 'a2cb3d08e', '26a922278', 'ac4fbf7cc', 'b22095f5d', '3c6ff8e35', 'ecbc288a5', 'd0a09475b', '8f30872cc', 'c2ed35cbb', 'd495848d5', '79295c820', '6b9b96b6e', '20bbe0a50', '2fa6e12f9', 'dc9b94aa9', '431645ec8', '3690edf48', 'e6cabd1b6', 'd51ea7e35', '4e0c9b120', 'bf46522b8', 'adba175af', '9870f74c2', '7fdc992ce', '8747f058a', 'fc329fe77', '72af29ff2', 'b6e91c9ed', '13a21ba15', '1dcfa21a5', 'abc470d08', '8c6ed61cc', 'da18c492b', 'b438e9725', '2850297d8', '1fa071b0b', 'e834421a0', '56d0db57b', 'fb352896f', '373421fe5', '177f4513f', 'c78ce84bb', '4f1a0fff8', 'eb28c3b55', '61713ed0c', '682445a0a', 'b4321b75b', 'f86850721', '46ebf483e', 'fd3165bab', 'efcd4e389', '1a95de2e2', '74e9eb0a0', '70b69328e', 'b10a262d1', 'fce79242a', '1a248dff9', '3040b4dce', 'b2f54a4dd', '647a63d87', '7d5850a66', '68deb9b59', '835106e0d', '25479dd18', '7632a6422', 'b1e9505da', '730495c07', '72980609c', '7157a1120', '794677f3d', '95c14d513', 'b2dc8e308', 'f79a895ac', '740f81755', '02ea88539', 'e83821b8d', '6d1de5468', 'b3b7731dd', '072e2584d', '49e53fe1e', '10b0a1c68', '9a196d946', '70d5396ce', '3ff17f074', 'e90e8d084', 'b72dd6006', '72f78da5e', '608f2982b', '2a61f0054', 'f09696d4d', '612483ae5', 'f93af0724', 'fc0596a1b', 'e0bf40ead', '184cfc782', '14cfb9928', 'f918bd8e6', '51da7ea30', '1b1f2e675', '6445ec618', '523f52fc0', 'c63edf709', '3c10ec261', 'ed68ced34', 'c6c1aa34a', '4f79bc75f', '9751943b9', 'e49888d48', '2a9b9e3d8', 'fe5220394', '414a16f1a', '9ec93034f', '9f107aa88', '9bc26680e', '3407c699c', '5b3ea0702', 'dda94abdf', '5985945e1', 'd7e141de4', '15f30bae3', '4913d543d', '1ba26a7fd', 'ae464e7f5', '42ab1504f', '5f180a863', '13b01c814', 'b6fdde95f', '52f2ca34e', '0ea818904', 'd1d3e849b', '3a0814a4c', '50a081c64', '2744e07e6', 'de30683ec', 'aebe4e815', '3ae8a791a', '563fbbc15', '85c6a6998', '31f136e15', 'f9cc5fa0d', 'fd6c35039', '488795af2', '73bbc4dd6', '3aa0ba033', '4035d1e53', '7afe5c5a0', '479444082', '5c51be7c4', '404ad3101', '4cf965b42', 'c2bb60a05', 'a26dbe1a3', '2851d5972', '3b4e39519', 'b695f951a', '064484ac9', '45e6e6410', '80e72097b', 'd8232c76c', 'e0c541356', 'acf2d02d0', 'b5479c757', '7b0d3d2f5', '61f32b54c', '446517558', 'dd9f0676f', '666ccd310', '8c285b4e3', 'b57b0a355', '7641429c1', 'a50d4a697', '813583a2a', '64018d8d9', '2ecb72388', '8337e8c1a', '087ccf730', '3c30313e4', '776aadae4', '0c91a5a9c', 'f330ab269', '4ec69b7bd', '4e1aab6a0', '2831e2219', '3c079ef50', '8a014ddd8', 'cb19ac46b', '3e017b647', '1b745155c', '12d93f26f', '947bfa36a', 'ca2479953', '5c111a874', 'ecdd982d4', '401dcfda1', '9b87b3177', '22f01da25', '97b39ccbe', '31f33d73f', 'bfd6f1a89', '1daaf5d1b', '9249f1e2d', 'fca8b2e1e', '8eb662b8a', '8605b9c1b', '07d6bf5e5', '1fd75270d', 'd832a0679', '1a85a38d3', '8501d87ab', 'adc408e10', '4ab07f10e', 'c836f533b', '5873f2a2a', '60346c363', '2833d2686', '65e868377', '5e3b024bb', 'e67b4b3ae', 'ef2683602', '55321604d', 'da06338e0', '47fc00e2a', 'a2aab8197', '5de37dd5d', '258abc186', '94e53bd9d', '85b164bf0', 'a4d4d2d09', '60a96170f', 'd05493251', '56ab4d5c6', '8ec60e4ea', 'c496bfcd1', 'cd481b0a4', '9eb327a9a', 'f795f88ce', 'dd94f38b5', '61d6aa578', '5811fc230', '715aece12', '7f221f44a', 'eec253dc9', '0a51ffa00', '265bbac35', '9d606e500', '2bcdfeceb', '415fa4c0c', '31a6d0f65', '63c154b69', 'f56cd369d', '621fb0f46', '410714e3e', 'e750e2bac', 'f08eeca35', 'dbfd9248d', 'f00ce72ea', '177da058d', '757fbd50e', '16e6dfb96', 'acffe5007', '535a73af6', '2be42caf1', '1a9c3e8cc', 'ccdc191b8', '37008bc7a', 'b1453a196', '5346f2227', 'd930744b7', '387f99ecb', '7c5dd289a', '0bb8445bd', '6877f33fc', 'b10368f84', '1719b6967', '74e6880b7', '07fdc7172', '44510096e', '434958bd4', '594e01153', '89780d4b2', 'ecba31a0c', 'bd6ac956f', '69da4dd7e', '1f241e250', 'bbabab387', '1749a2cd9', 'f60fa7b28', '74f2cb626', '2788482f6', '23692a9c2', '0fac76d03', 'd7c3115b3', '42edfa4eb', 'fb46f1e6d', '06eb4ca11', '7582c157b', 'e65e3caff', '114c90276', '13d5e4b37', '87c3ba470', 'd7043e9df', 'a5ad15b13', 'abcc8ae20', '41bb9033e', '3df5a8fd9', 'e83d0d4d3', '678951234', 'c01e58af6', 'efe509721', 'f59dae4fe', '5fb0f0189', '95b2cc2bd', 'c1b23ff43', 'bc8c26565', 'a63870d5b', 'bc67f3a0a', 'e9f8d8b08', '4917d3e75', '80acc1853', 'c6d3cf033', '9f4a6b314', '742de40d9', 'aacdc2b46', '25fec866c', '70e958c23', 'dea285f41', '20bb84b09', 'be72e96ca', '18c4abf91', '731596bba', 'b5dcd414f', 'bdf53d5d0', 'f3759747c', '08f310d61', 'e9031f274', 'b6af2480d', '96ad8a101', '3ab064d89', '1313954b3', '069243563', 'a6e972ca0', 'a8bf52b22', 'cdf7e45d7', '7160bdaf3', '15585db79', '62a790ac6', '001ab65ce', '7240e3c71', 'f42aca87e', '02704abc1', '233941114', '628d93e2f', 'eea3fee36', '060b11d2b', 'd9fdc1cb8', '881a71ac1', 'd33ac83ef', '9fcc70762', '0e85ebce3', '21bd3be37', 'fa6157c64', 'c4af64bc8', '6ace21a0c', '21578b358', 'a0fc4d249', '078b95e6b', 'c50aa26e1', '16e400afa', 'd11f99d5a', '621842234', '1fda3ab1e', '6263c7985', '29e39adc1', 'c26349388', 'b9d27ad0c', 'fce48d952', 'cf0746e09', '56056b836', 'be907d88a', 'fe8203c93', 'a00801e78', 'aa7d99de5', 'b0186ffa4', '4f92d0df3', '37015bcb0', 'a75b03e06', '1d27d7d14', 'f02699f10', 'b295adc0e', 'df8c11c7d', 'a990a6954', '75a1767d9', '3d5ff4fe0', 'c0fa98ac1', '4a9854d71', '5f334964c', '5d9a6b320', 'f3c28aa7f', '81c302f4f', '9fdaa0973', '0c2c102af', 'accce009e', '88c62c2a2', 'f401a58d5', 'dcf51b6f6', '5ca9d582a', 'f7ca1cff3', '0cabcacf7', '2c1650be1', '5393a2e1b', '93f032b52', 'f24515308', '163cb5d26', 'e0ee74dc9', '76e6f94d2', 'fda196cf1', '13134aab6', '7749a52a5', 'c890927fb', '2df5a3bec', '8b01501e2', 'f105cdc51', 'f07a25378', '779e43415', '7eadffe5b', 'f89afe6f6', '2efcfee5b', '82f0284bd', '130908251', '3a1fea205', '565da8330', 'dc5491311', '1e42fbf53', '7e9900759', '169f3d8af', '3c49b42b8', 'f36f3a740', 'ff683e4d6', 'a938706b2', 'fcaa986ba', 'e95c9a217', 'ee2ea84ff', 'b23943ef4', '8928fe2d2', 'dc4d32667', '2d82bfd6a', 'f31d0e044', '55778fad0', '48c25e936', 'a442b7ab6', 'f04207e6b', '38f2f165c', '8aeadc0f4', '05d18b22a', '6cede31b7', 'c094fbb37', '8a04ce841', '6c0b0a2d7', 'ecdcaf4cf', '1608fd7e3', '3e7285e7f', '58458e573', 'bca6de383', '22fd01546', '4e7f75aa4', '707f98215', '7192a1219', '5864e5f52', 'fcb52c6fa', 'aeb5895d3', 'aff0f71f7', 'd81c7b2ee', '94b6ca6e6', 'c59144997', '347318500', '64d054c35', '398664aa6', 'fd1bca231', '718d2045d', '304e14210', '2f3c84403', '58095ff59', '74e60599e', '5b086e741', 'e0861add3', 'f400c5bad', 'b8cbe355d', '66f21f607', '5d798cc01', 'abc0e1a98', '285771075', '6ad938a2f', '17061cc45', 'aac5b5b21', 'a9e25a1a8', '1c37b78a6', '97a74c04c', 'e6d286176', '6cfac22f5', '024ea12ab', '4dc47a7c1', '8cf9880fb', '7ac3047e8', 'de0c50780', '24fa8c96b', 'bcfdea19c', '4e2822f98', 'ad423fdc8', 'b0452728c', 'd4522f8a3', '303658335', '1eec63df5', '21ddbac33', 'e39524fcb', '0b3e67e6a', '93bffcf08', 'dd3189682', 'b83329eac', '2f8a07f0a', '26519801f', '1284401d6', 'dbcde78de', '4228af8e2', 'a9642b5ac', '5633938f8', '17338bf46', '1142f4506', 'cf75a612d', 'e1efdb6ef', 'ee9e22d2c', '3c6f526ed', '009c4964a', '361b02421', '78efe0e02', 'b1cd8ba05', '791abd98e', '172b6be8a', '25ae122df', 'c0182c7d5', '0bdc0684a', '48cd521de', '9fddc642c', '45cf19d01', 'cc689dc8d', '7753db6d2', '525f0c680', 'f03f3e66e', '68d9249b3', 'ea3a9a2a7', '645de9c78', '1a1ff92ce', '7ecb2c2d2', '3edc95ab8', '081c66b6f', '5d33cabb7', 'cdafe2310', 'f16547e58', '748a83281', '143022478', 'e5d58998d', '23174cd7d', '83e552ddf', '7199a1f63', 'edaa082bc', 'b259d756d', '9c626b57c', '65780fa20', '76964f5c4', 'db4222183', 'b80e7e924', '7beb9e33f', '61bb2a1ba', 'd0602f8ea', 'f15aeaf6e', '1bda4f342', 'ac2ddc466', '7bb806aca', '79510aadc', 'b6634f4ad', '6dc6296b5', '6cf1215c0', 'a1f66284b', '147443465', 'dbbf473c0', 'b9b8c568f', '75edea7c7', '91cbfbfdb', '483c9e4f2', '209a1e6b5', 'a6fb9d55e', '7adff30d4', '015eef008', 'afb744db1', 'a56653831', '57d176ee2', '44cc714a9', 'f2fd2161b', 'e72ede380', '36dae1796', '38cc53d15', '38ff1f21c', '2b7212b50', '3acccc051', '082bce619', '6f8342200', 'a638b0fb2', '790aa0e4c', '93730d426', '90ee870cd', '0c0bf2144', 'afa3296e7', '5c41d2b79', '89abb7fd2', '6bab912ef', '307c727c9', '29a738267', '1277406e1', '8bd8ba896', 'b09abe4e1', 'aa08ec1bc', 'cfea4ce6e', '524b4d4b1', '23fda8301', '49f950ced', '9761518a3', '0e27e5cc4', '0784e2654', 'b506039f3', 'f2d8eaa42', 'ef1ab467e', '23420401b', 'b10b16967', '6d06d4ee6', '519626a13', 'af6cbd9fb', '7fdfc63b9', 'dac4f66a4', 'a98d7389b', 'ccf7d03e1', 'd94bede9d', 'b78909064', 'df90f92f6', '1fa21c7a1', '5b7777289', 'eec579d42', 'd8a4eb625', 'da0a669a6', 'e73d29ada', '4239869fa', '527fa77c2', '74f2174a3', '5f9364236', 'e9693cc1d', 'b81e426f9', 'cb0226297', '6c18960e3', 'e11cd0804', '52c85b74a', '08d386939', '730594d7c', 'c4b2cdb49', 'a2ee0d4d8', '839f6f71f', '6f16df982', '344da5a42', 'fe41e1417', '4e6868d5b', '8f8203f34', '23deb52c3', '1053d7851', 'eaed14a9f', '6fd0d4653', 'a39fa137a', '56b6b1341', 'c8c315374', 'a70d9d519', 'ee0c42124', 'a60f3c4af', '7bbfc0655', '9e2a36241', '3332bf676', 'f524e2a5a', '03835b798', '08f72f714', '7af631474', 'f77431c6f', '3fbbdd78c', 'ea7330462', '4778a8ffc', '2888ffbcc', '089b64855', '00b9de622', '40c71e317', '2c4c65257', 'b3c80f599', '7a36042ab', 'c5272a622', 'c43d5b876', '656fefc36', 'cd5ad2510', 'f2daed296', '3ed883464', '600a84e76', '2d88acb2d', '8f6c70e58', '0e1adf01d', 'f4096fd3a', 'c17a5ced3', 'be212e796', '946d97d1c', '1ebece8ae', '46a066959', '5c51f1eab', '9e269f63a', '16056a3a9', '4bcc9907e', 'fb79a6b3a', '4338d77d3', 'f88695eff', 'be84a621a', '4ef13e388', 'edbf3ef3d', '004691495', '91181012b', '9999ef46f', '986657baf', 'f1e4e269e', '3afbec47c', 'fbae54765', '91edc79d9', 'be2eef4f7', '21e51e45e', '628ee1823', '740892719', '11adfe1c6', 'df6ba725c', 'e7013a649', '3609df9c9', '07f02f371', '21396ff07', 'a663a096a', 'ff534b1a4', 'e02eda5e8', 'c6b14f13d', 'a928ae914', 'a56c3592b', '63e0ea77c', 'ccfa3ee51', '5056be7f7', '3e7e25805', 'ce753e34a', '3bbb602f5', '102472d43', 'd97e5ab50', '741ed64cf', '1f237c4ff', '959f1c871', 'dacc7d79a', '8edae7a32', '01f24e6e0', '87bb8be12', '36ff1c818', 'd933993b5', '508c9de37', 'f0ca54728', 'c5b9d43bd', '5dece1091', '41076ba1f', '163c5ff83', 'e1ae1b583', 'd08ff8eab', 'e0bbdb74a', '1b8f2b7de', '1d4f4ec1b', '67b5c9a22', '0e533f469', '8d56316db', 'a2fc32801', '7e987c76f', 'd17da3e06', '083eae496', '279015d77', '8795f0959', 'a82abf8f1', '087598954', 'c82c2672a', 'e46891dff', '14b6937a1', 'd4abaa61e', '2e143fa1e', 'ea552cdca', 'a11fd38fe', '63d0b0668', '35e5e0629', '0168d1867', '8399d0f86', 'c62fece22', '5506f0fdf', '923e83c0b', 'cf5ac6d29', '2bd264012', 'ca8e0bfc1', 'bd811b570', '03c389a25', '985dd5319', 'd198c2972', 'b709311d9', '91730a8c9', '439bb0d59', 'de4416f20', 'c05991a24', '2ac29ce83', 'c9e2cc5fe', '5e8851725', 'd5ef6e0fa', 'c0b1cbb3c', '94b7c22dd', '4019faa35', '87e195b3a', 'ac4325a89', '83811775b', '2ffa8645e', '9aacce3b4', '161418303', 'fa4f0b47d', 'f7ad24c53', '716408e81', 'edd0fd1b1', 'dd9c02b15', '82084b5e4', '57b72c831', 'b368ece39', '7dde4b1e6', '6d64cf828', 'ecf451934', '1b2461062', '55e6497ab', '8a537ebd5', '01b77e0a7', '3497ec01c', 'ec63001f2', '220ada385', '109b2f305', 'cbb2e2721', 'd24d8e0e1', '87b8e6b65', 'dd0521b3b', '389fc6a63', '5c2ab529f', '59861ae2d', 'b92bebfb6', '7e47c459d', 'bd8c6d13d', '985277e91', 'cdc54db25', '9eb081a81', 'e07a3eb84', '6fe9e122e', 'e439d525e', '9ef92ab4c', 'd09349d27', '41ca666b6', '9f6a22957', 'cc75a7063', 'ab634b9f6', '558b51f4a', '72b82a608', 'bc1e9bb2d', '29a9ab66e', 'ab6506257', '79a812390', 'dd44bb35d', '889cb5dd0', 'be2a1c253', 'ba50220c7', 'b0ff8e580', 'e39b958ea', '058a74c5f', '040877213', 'c8eba3d61', 'a4bbe8aad', '890359722', 'ace629272', '1da19a191', '6b551fc8a', 'dd97de50d', 'aefdd6fd7', 'a4b4a06a4', '4b9762152', '8125151e8', 'dce34f31b', '88b685664', 'b10f612bc', 'fc48d7b84', 'f08e0c4a9', '6ecaaddfb', '6ca63ac21', '2c8e2af32', 'b5ce653e7', 'cd38ba7bd', '217588dba', '223251ffb', '67b8882c2', '1b7d8db1f', '9dd6ad2d3', '518b8240e', '5509e0444', 'e2fa4e22f', '7fe5ee983', '635b48305', 'ef104da3a', '5d859611d', 'dbbfb03c3', 'c7f87f38b', 'ded653e06', '9fe85fde5', 'be399a824', '194a3c59c', 'b33be9184', 'bb57caf6b', 'e7a092844', 'a926db748', '67ad9b27e', '22ef4920c', '5966d4e2f', 'd8e1f3217', '23d0e5e21', 'fe72db5f9', '822185a73', '0d4b35bd8', '52c04ff0a', '80360431c', '80f1411c8', 'a86aae46a', 'dfb6dba60', '4c07f9560', '8dfb56d84', 'bf523b1e5', '99782c66b', 'b5b440c4f', '3e67d10e6', '7bbf813ef', 'b27cbe1c9', '8fdecd7a7', '39f6935c8', 'abf51c64d', '6a627f8fb', '5004d59ca', '32424e943', '153e91279', '4a1d971b2', 'a3409a0da', '95f9ba619', '30db25ed7', 'db122876d', 'df39b2c27', '5457e547f', 'fbdd260e0', '38e127e10', '12d88b57a', '4e9995669', 'f8ce73bd4', 'f6a53222b', '2c9433f72', '5a9edab0c', '1d3b6ac99', '47b20440d', 'a52eda91d', '74c8af153', 'df6bb3167', '6a6d1f0e6', '744d8add7', 'b6bb41dcd', 'bcd2d41c7', '525eacd27', '5df1f28e0', '0c9db6b07', 'c4fd386fd', 'ce5f79dd3', '5e16b0d23', 'a7b0611a6', '0294910e2', '7d6793d3c', '8b569eb86', '41e6a3da0', '48930516b', '3f64a2bb4', 'dd4a7533a', '1d4559a20', 'f2e35168e', '54078faf2', '6b6d8ea85', 'eb653068f', 'fada6f0b6', 'aa7acf75a', 'ee64836ce', '542f49643', '5015330fd', '242c22a63', 'fef9697da', 'c63d01adb', '82f321693', '411c0c339', 'b66588678', 'f577a855d', 'aaab46f42', 'fb64e3cfe', '98c7a2beb', 'e53561dbf', '198ddbb08', '60d61efc7', 'acccc43ca', 'eb37bdd57', 'ea9f3fc38', '69df1d269', 'cd95e41e1', '3d5aebac0', '695512b7f', 'f8b717067', 'df9c03986', '4d9422344', '19e2f5474', 'c263032a9', 'e5c46f1dd', '6bd2f1753', 'b1578570b', '29f15aae9', '6e4441098', '7b0a9ecdc', '0496c2132', '98847f818', 'a13d3105c', '84627bdcf', '356203f9f', 'a265878f5', '68f7aa308', 'ca297a4ab', 'cd31b0b98', 'c93580934', '4a4b7a6fc', 'd34cea59a', '8a5fb75ef', 'f3984d6e5', '4905954ac', '33fa02c89', '7953ca3d6', 'a5203a5fe', '3c5f0f24e', 'e1b4dc267', 'ed2dc8757', '923b11246', '229d6263d', 'a82d67bbf', 'cc1e68fec', '34058a17c', 'aaf0b0e3d', 'ca7a88644', '6621910a4', 'e4822a55a', '5c87ffc45', '64ab48c11', '7e67f2c32', '2506fd640', '98051c689', 'a4322313e', '321ad1bd2', '9c2aa4c2b', 'b25ae2739', '37618b5a3', 'ad3451886', '3a03309f8', '2ddbf387e', 'e39b01d4c', '16bccba21', '8e39db185', 'f45cce889', '9ce0ae1fc', '11e6d1139', '1b9b386a0', 'c18567bad', '5d3e1bd86', 'a22c85f21', '0d248404d', '7aca7bc71', '132f249d8', 'bf53f0f7b', 'a400e392b', '6002a30d1', '8e9851a87', 'e9e3aa598', '8b5f2adce', '2cad5f2e7', '03499eb78', '12a005152', '2e23d749c', '172968f29', 'f71dba8ad', 'e27881a3c', 'ee16bdb63', '53bd4ba9f', 'e4257a5bb', 'eac079792', '5afcd4c71', 'f3d690397', 'fa27425c6', 'f197616cb', '294e156dc', 'd96c6f9e2', '552d6d831', 'd164a98e8', 'c48134bb6', '023af4abf', 'a679ccbff', 'fb473ef89', 'b0da93130', '2ed7deaee', '1df808a93', '2a1f83216', '46bb151c5', '61c39507e', '9fe51d587', '23a0524e4', 'ff2c54c2b', '6e6e8f8b8', '038980568', 'ed0378f7d', '5a9f9587d', '5bd720821', 'c773a9523', '53769bdd7', '6fa469bfb', '9da72939b', '998a2cc73', '63e204071', '77e1e55a8', '345193f10', '3ea01f7bb', 'afd2e58f2', '08713b715', '1643e1c14', '18187a6fd', '0ed2294ed', '9e2b7b9f7', 'e73fb7b52', 'f87d1551a', '8de7868ab', 'd424fbfa2', '2f64630cf', '0dc8be062', 'ac359f899', '98419a827', '637983da2', 'ee2255615', 'd8a956789', '4510d1b09', '6d80afed3', 'b617aacb1', '9e33d5bd7', 'e34d37714', 'c0ba77fa1', 'c11acbad4', 'ee9eaeb3c', 'f26edb856', 'a4dc03730', '0669299aa', '9a7cc3894', '7bca15fcf', 'bfbe75a7b', '0265d8813', '20b2ffe59', '8ecb710e6', 'e7f21b273', '1658c6564', '611f89b97', 'f64d4c04e', '6e12254cb', '516eac33e', '211353d2e', 'c317aeaee', '3307f8bae', '62e988ac4', '294477098', 'be253681b', 'e9045425f', 'ea2aae04c', '12c374a4b', 'dd0873abb', '40729cc55', '568af6a3c', 'de2b395b1', 'd91cb5008', '76355c73b', 'e6bc87da9', '5f946b42a', '208dbda1d', '474fa48c6', 'dc50235e4', '077593161', 'a3667c807', '6cd7c285c', '9b93f569b', 'bacb0712d', '1f25e0b12', 'ab235c867', 'e3e57ec52', 'aedd69d68', 'c1899b915', '691ab9569', '2ab04ed9f', '973aba869', 'c2b9c1fea', '7421873cd', '06247e1f9', '050a290e9', '2852de2d5', 'ca854a42d', '1b76ef103', '5f82976df', '915cde402', '0a967262c', '8affb9ea6', '2fd8f5b15', 'a6b590e88', '02be599f4', '0d25a8be9', 'eb4e8a7df', '092f773bc', '70d9df987', 'f247c620a', 'f47f0cff5', '6a9f5cc23', '07f4df44c', '66b26fe81', '6edafd465', 'ac14fc6c7', '7f4808d96', '80bc4e0c7', '5f6735d3f', '64d25334f', '9477be32b', '52eba1511', 'd784e04f5', 'f90ea0d78', '2d475ef0c', '2ecba0f2b', 'b0fe4c49f', 'bc5809dd0', '3945ce65c', 'af7ee8845', 'fc3f0d2d1', 'e17158c1a', '566024a4e', 'd6a410303', 'c7f35bac7', '34d55f146', 'c524d716c', 'ebf0b296c', '528e0701b', '61a776f09', 'ca8c2e63c', 'd6735256d', '91fe5c544', 'cc8881a2a', '19066e63a', '6c7b112d2', '657909dea', 'cdd4ac500', '4f4b216b6', '6b76038de', '36b66804c', '8a52f0d1a', 'cc6de18bb', 'fb941f11f', 'cf4ac123e', '62b9b7e4f', '545c8ac83', '28ff2ec97', '2b7da409d', '76034aca5', 'e17bc470d', 'f1b8e92ff', '1921d8b8c', '549b31521', 'b43a700e4', 'ebc386311', 'd68f599f2', '7a9442914', 'f619f2f38', 'fa5430220', 'b9316c2a7', '7360f9ec1', '07db4d22e', 'a79ca1e11', 'b28ab7c7a', '5f42756f8', 'ead5af7f7', '33d1eb182', '54126fb57', 'd81989421', '587cb395a', '350467a4f', 'db21113fb', '4d4136224', '4c0749a12', '56226db82', 'd1c682bcf', 'e518b5367', '4d204525b', '4ca3eed28', '953ef530b', '984a0e274', 'a08d2742c', '193cc5fad', '901c8ac5a', 'e32b87b84', 'dde3b1f8b', '41b3342b6', '0f27d62e5', 'bcd72a1a9', '0d78fe699', 'c4044c33a', 'c21faf0bd', 'ab539bd3c', 'a8d983de8', '9451c06f7', 'c37f9312b', 'a65d29149', '602bcc56f', '2fd2493ba', '30fea1919', 'beb82cf15', 'daf54d0a4', '3e0919ae9', 'd797626e2', '3f56481d8', '6ac3ccd15', '7b3391ec1', '06900a603', '0e3989d17', 'ae4d27083', '4a0e747c8', 'bd1e00f67', '993a893af', 'd41d3f5b8', 'eda42a4ab', '98bf5bdc1', '93ea8e3f9', 'c2e8b4385', '30bb2b1d6', 'b72d83b25', 'a9c6ca37b', '4bdc53788', 'ea6538885', '9f78b1d34', '3c6276bd5', 'e8c844327', 'd2f822daf', 'f09ada053', 'c5e6aa127', '6c17a4707', '24a695e6f', '140da9ed4', '4a7abddeb', 'd8ab48abb', 'ad68fa76a', '42e05b3de', '8996629e2', '8a461c3c4', '9b85b85c9', '777f26883', '72406443f', '77d1a3bd1', '184a4d2d2', 'aaf4b8b6e', '3536621a6', '0111cc5d2', '7772937be', '55d76178f', 'ad07ff272', '5b3e5513f', 'f5a93161a', 'fc0d42d7f', '221ac5a93', '92a57bb87', '03fa7cc7e', 'b4ef4769c', 'a9dbaf01e', '70251641f', '814087366', 'a122cf517', '37addfb58', 'bc3714ffe', '73d2cd599', '839dedc15', '18b86d83a', 'ecc71342b', '78b611aa0', '9694eb755', 'a4dcdea3b', '4a7061045', '8f9214511', '8692d5792', 'a869c62d9', 'd51ff0c69', '95125bdef', 'c19f364d1', 'cc1d63b50', 'fb3e75486', '91b9f66ba', 'c3c1946ea', '016f5db0f', '21959406b', 'dde8fdf04', '817e5ed12', '9af72c332', '8f8c0cece', 'af4327d6f', '41d831884', 'd12deb437', '9fb43781d', 'e551570b2', 'a09b429a4', 'a6cf87931', 'ef9fc8e77', '926688376', '2f9fa7301', '0bab97515', '0316434ce', 'b86d799a3', '01bc9821e', 'e994b742d', '311506eb6', '62117d070', 'c7bd307ab', '0934fadaa', '610af0498', 'ea242317d', 'cdc842529', 'dec2418a7', 'f14a95480', '0970e26d6', '5d8c58a83', '651c9048e', '175b191a1', '140749808', 'a9211d345', 'bf0fd54fa', 'fe3db5700', 'e810f6d6e', '50efdc437', '33857f866', 'fee5e1c29', '689b9a1b2', '4fdbe0d92', '94911e23c', '7f6672118', 'd84868a14', '2a1e3b7cf', 'a604506a5', '6a9fc8a8c', '5f06157bb', '16bc82aae', 'bd30eb8c4', '025b2525d', '030289b52', '14da36744', 'f1278ae5c', 'b141514ef', '40db7671e', 'dc741f909', '81ef0fc8f', '275f9bcad', '43b9f3770', '9dd26ab26', 'cdb84249a', '6ba0753fc', '847049f60', '8807a42ab', 'd947be2c9', '4e61e8919', 'a16bcc750', '34297f5e6', '411b39272', 'c7e062c59', 'c484056ad', 'd77225e0e', '29f37a06f', '4a9f6e8be', '6faa3d164', '693434e70', '4cfa87653', '3f36154c1', 'c2d90181f', 'b7b92ad9d', '371fa9a31', '4b9962af0', 'fc7590d0b', '8ca356ba9', 'b4eccdde4', '75417fb14', 'f4e009a5e', '19c1db1bf', 'f3f7aabc8', '0b1b3c534', 'ef76f86d9', 'b2c0ab271', 'c38119748', '90757a6bb', 'f5e9c73cd', '44484cae0', 'afd236b7d', '80c03b270', '8ea6d108f', '666574e23', '92310933e', '2ac936852', '251fb24f2', 'f5d8c110b', 'eb531c345', '875a563ef', '29aa36e2a', '85a1a7c18', 'b8fc16ebc', '8b1de9904', 'e85a45f91', 'd76460ded', '09b1e3836', 'e41ae05a7', '0d3a354f5', 'bce448181', '8e5f1b05f', '9b2e22bf2', 'eb77a5a4f', '3b66c66e4', 'a490d8cfa', 'd21683368', 'acdbd2f26', 'd8cef9cf6', 'd7c4e8e11', 'd037d18f3', '18aef6328', 'a7e9d03d9', '24b90dbc9', '600201907', '8b8439f73', 'd695f8eb2', 'f5cb4e907', 'e6114fbcb', '5c547a8bd', '95cb8580a', '462d18334', '5c4118116', 'fae80ddec', '624d06476', '042accfa9', 'af7202bff', 'eec9b9ba3', '7fc99a139', '36028e582', '878ac790d', '09139b935', '05d08b5ac', '2f472dd40', 'd0cb71dc2', '3e2b49d08', '8e8c28577', '34d7fc917', '9bafd82ed', '721c745ac', '71e534704', '9bbf75daa', '893de2f26', 'e7d57f476', 'eca3146f1', 'b036fc29d', 'ae46297c2', 'cfe4f69ed', '72aaab505', 'aa0ccc4a4', '3419a5d4e', 'b549e90c7', '15c958aa1', '74b0da9a2', '2d002b925', '25df949ae', '72b9b8077', 'dfb8a7d27', 'f32c6d2d5', '21c11cdbc', '5f2910d99', 'dc2a7e13e', '93daaa09b', '87bf3a556', '97acc56cd', '675b3dcd9', 'c363e9a8b', 'b0094fa71', '63cb4f989', '338914174', 'c5c827fb6', '68f20a590', '953e0a91b', '4a98d9fc1', '0059c8591', '8f740cdde', '153fd4d2e', '116944fcd', 'aaf1b7329', '3b8b246da', '8a3865fe2', '3a385e945', 'aa8caef11', 'a446077e9', '4d9e73028', 'e65af5336', 'e596e1716', 'fb25bdcfd', '96f32d812', '07d7de108', '764022cce', '525ce8ae1', '92a4e902c', '298dd4849', '05eb01ac7', '7ce6247e6', '3d8640e6f', 'e39f008e8', '3701b06e9', '74389144a', '4cb766b33', 'cab9553f7', 'a1482b02e', 'be187ada0', '6a52b94d5', '105d262c6', 'e46446f28', '21414a4f1', 'adc2cac85', '04307aa3f', '8f200efd0', '844f1de50', 'bb678c9f1', 'e6f0487ae', 'b7978580f', '088ab935e', 'ae9a095a4', 'f4945d903', 'c0ba70402', '458e8682a', '8e1b6c299', '264f31edc', '195e322e9', '80a146cd9', 'd0a02688b', '63307fb09', '279ea7e28', 'd34a4e1f9', '36f53c7f9', 'b364e1af2', '02a74a666', '056e67424', '956af531d', 'b7d9f5547', '857132fc1', 'd44803123', 'e1288f65c', 'c6d6931ae', 'a1f87257d', 'af85e1c67', '2842f795e', '327c6ce97', '9cbe60451', 'a448950b7', '75629b1bc', '8badbfe3c', '4ce50c79b', 'eb8e8bee9', '3146be763', '7b9175d8b', '8305d6304', '40dc421ae', '8ae0091cd', '8d4012800', '93edc86de', '9f383bc69', 'c7ff9a89c', '82e37bfca', '22cf66761', '2b4a106b7', '6346df2ae', 'caad4d090', '489d99cc5', 'a6bd908f0', '0f1e94201', 'e55097aaa', '16864fc71', '820a59acb', 'e47310340', '29cc51609', 'ba3565456', 'e84d54bef', '33056891c', 'd05b8b8e6', 'e43f74979', 'a61b60701', '24bac03c9', 'b91d04610', 'f767bcaef', '4845d4dc3', '625c056fc', 'ef8e96532', 'cca10898b', '4832b51cd', '30cdac589', 'cdea59ade', '53affb344', '9196d7a2c', 'a1c369472', '33a081789', '18a73431a', '4eccdf152', '270f2b817', 'd2acfcdd3', 'cd2d9133a', '322e5a5a6', '1c67afe7d', 'e7a045747', '22c00693a', '395e9cc94', '214f1753d', 'fa14e4589', '00cc1478e', '03d9e4e0e', 'aeda4395b', '7af128cff', 'd249eed8f', 'a69c99a9f', '6ca8d0541', 'ff4922d4e', 'e112aaa2a', 'd69953cfb', 'd8af326ec', 'cfef6d87a', '089d44238', '18da81bec', '743229f32', '26b62a9e3', 'a39d56c78', 'ca3cc21bf', 'd0b22cc23', '2559acac4', 'a6d30be54', '3824e084d', 'af313bcbd', '37d24e651', '7c3612adf', '07cb0e793', '3ebd0a385', '5946f979c', 'a229e06b4', '6a1215d2b', '95840d756', 'f581a622c', '9ad71159b', 'f246b9f16', 'cd58a65f2', '8147fdc9f', '372ede455', '4baa5c678', '82c2d710e', 'adaabde41', 'd66ac9311', '3d319ca1a', 'cbac09a67', 'd6a92f871', '75e1a6cc6', '2f98a197a', 'fc978f9f2', 'f2abeaa5b', '1e4546c9a', '6655c2a03', '5a1f61c38', '345f9a78c', 'f73a4ff62', '151181567', '3cc46448a', '0a57243df', '906894421', '932325f9f', 'ff050f19d', '1c7f97d46', 'de3e75f6c', 'aa72880b0', 'a1c83bcd3', '41234c146', '01f9ea3c6', '140f7f776', '4cd606b51', 'eade42133', '2d5d2e7df', 'e75ddc2b8', '7dd7da878', '3e7930b6a', 'ae328212a', 'cef582d86', 'acd97abe6', '8b9fa4bc1', 'e76c935a9', 'fcb1ae1bf', 'a6c703712', '211249818', '9fbd214f0', 'af9f0d79a', 'c2429c982', 'b3e2de87b', '9b5a2a638', 'cf3d513d4', 'b7da1c0e3', '98435f293', '0adf86322', 'b47fe3dfc', '83292c3be', '1406dff6d', '70ac99c31', '4765cb5ed', 'd0a39b665', '6696a3262', 'c7d74fbe3', '3670c4b0f', 'd669306bf', '97a44f2ba', '39373458d', '74ffbe31a', '65b49bf78', 'c2637ab4c', '6fb92f854', '4d63a29d5', '39bb4f59a', '3a1641984', '5125d4118', 'f40eff525', 'bb0fb2303', '416ba5bb5', '56c6fdb7b', 'e5281f05b', 'e027134e8', '7f0c6e935', '656306559', 'b36a6a1f4', '98076a1a8', '8eddfc68a', 'a8f761fed', '5b721c41f', '06bbc1915', 'bdb71f60b', '60d50d361', '9e2f17f89', 'c41ceaa04', 'cac4298b8', 'b8a3a76b3', 'cc9084857', 'f0c14f203', '895424f14', 'e00f8cd37', 'adfa6de8c', '96bdf37d5', 'd87e3d2bf', 'd9963240b', 'df04208bc', '143c129a5', '93ca462b0', '0a42d117d', '4a47b29fc', '940900ec4', '94d3e503a', '381afb28d', '3fc26e3ba', '14cf6b6a9', '1eb8db8b2', '89190ef1c', 'dc20aa045', '66439689a', 'cfec683a9', '50fdd973a', '360a1ebdf', '02d287fe4', '403db0d8a', '8e3a5967c', '567b41532', 'e407977c4', '5669accf7', 'ad783c402', '931eae947', '42f4801b2', 'e61add46c', '3950ad563', 'bd6cccd56', '8095dbb75', '6ce1ec3f0', 'b76d63275', '480cd4a60', 'edade7475', '6a145752b', '618a82801', '9decf7bd6', '0e15d1e90', 'e472a5c30', 'a956a02ba', '3eae6b3ec', '87307972a', '2171424dc', '62f3d45ad', '215fcdb27', '3d8812d69', '3b0badfae', '98dd537b2', '73101453b', '6d32ef34a', 'e6379d126', '5a1a7700f', 'a28111637', 'cfd273ca8', '5336995b3', '104baaac1', '234fd76a7', 'e3b6630e4', '241ede9c1', '15b9d16ba', '3d5c25b4a', '9ac6bb6a1', '728df26bd', '37be2738a', '0fd2c08ad', '78daef08e', '1e8baf00c', 'c5fffe71f', 'c23f3fe74', '994a64bc8', 'e2d487484', 'bb2cab59c', 'e649ed634', 'cafd73ce7', '19a492678', '586016d43', 'befba6830', '13f32af3b', '48cbf1785', '33cf2b818', 'f40205660', '8fce6c13e', 'd074b1d6a', 'e0f50dbfe', '828f257ca', '34b345fe4', '963d47197', '0b418b464', '25e81c11f', 'cfb8aace4', '75c936035', 'eb9b836d1', 'ebacfc734', 'addc6f2d4', '24594ad9d', '1341fa6e3', '4779e1a8b', '301021025', '8ebd1bb7c', '97e5b506b', '459795e18', '23a1dcdcb', '2d4aeefbb', 'c1575808b', '973983691', '5a254c956', 'b196d6aad', '09d0eb44e', 'b0a6024f7', '6cd4df1d4', '138ddeb0f', 'f1f8e906c', 'd2ac26824', 'c9db67339', 'de5771851', '09cf07ff1', '517cc0805', '3c05a2a3f', 'd5cd115f5', 'b854a03c2', '069c52431', 'b72b8458e', 'c9ff5e6a9', 'f483b235d', '57c050d05', 'e6c9cf9f4', '495634f46', '37afba0f9', '0e0854c98', 'ee8090328', '12c25d486', '23c611c01', 'beb12ca55', 'd9eb07ac7', 'ceae265a5', 'b576110b4', '641a40c6f', 'ff4c9a31f', 'b70636c42', '9df253904', '8b604dd30', '961a0597a', '4cc372561', 'ad56acb62', 'ff56952ea', '1bd43a14c', '2f806ca4b', '460d61b1b', '86938cf5d', 'd69c996d4', '51030c6d7', '129117c8c', '27218c8bf', '076591460', '71215ed9a', '9d52ffe85', '9185016cf', 'ad9151823', 'c2420591d', '4a91d94a8', '4642126a2', '67543f5a6', 'd8fe8b269', '0839ed70e', '509678728', 'b5792fee0', '6af47fcb3', '8fc295fff', '15a2512c4', '2b4e3e927', '8b6eed279', '7340aaa02', '1d966f94c', 'c843f99f6', '0eb4f3202', 'd10620ca0', 'e3ea9294a', '3e535d84e', '6ba6aa1ec', '945a57ced', '852c029ad', '2c838ef71', '615c38a83', 'ada98f193', 'd98bdfa47', 'aee640eb1', 'c547b3466', '054da5597', '64a3a7e78', 'e5a743249', '2bf99e5c8', '7428bfbc3', 'dc82b83af', 'b728ecb2c', '0a76fafa5', 'e4e370879', '57abe99ae', '25cd21374', '9c702a65d', '95eb51be1', 'd0385cab3', 'a057874df', 'aad80d230', '1e43c30af', '9a81e9f07', '17a8790d3', '8ec21efcd', '11af30f14', 'fadd9c48f', '7bc1248e6', 'ead3d24b9', 'ee87a2caa', '41af7efcd', 'ecd28c5b6', 'f50f45402', '8947eec63', '4078272e7', 'e67ab2d53', '5518b98e9', 'e9975b24a', '93093cd26', 'c62942b74', '079afe9b6', 'fdc6fc05d', '17ee20aee', 'ddd4b5283', 'e8b63cbc9', 'fb07fc135', '8493423ad', '9c8867b11', 'a2a83b793', '02f06c0e6', '0d0788acd', '1b4a16ea1', '4d6becc60', '95784ddcf', '49699f09b', '783d7bec3', 'b06add9dc', 'd378eac93', '3029a123c', 'eee8cc6ac', '13914a8ad', 'b9b4bc8c7', 'ac092b73b', 'c9409b240', '5013794ac', '64b7d1088', 'bf60864b6', '151dbb3c9', '75e760bfc', 'b1b3fea44', 'a2b8b85ac', 'e6e04f2f2', '3b90fdd79', '2b1df14aa', 'b2436459a', 'f2b367502', 'add170035', 'b66b185aa', 'e85ecf7a3', 'aada5db52', '0b0d4ea7f', 'bcba122c6', 'ffccfc611', 'd27dafc7b', '0bd56f3f2', '27bbd2822', '44f9824e5', '835dcf7f6', 'ffc668c22', '480798d50', '8477bf8c4', '980b20150', 'a557709bc', '56963f939', '4159610ef', 'd7185621a', 'f5baafba7', 'c6952cd05', '6fc6201f2', '9ce363e9b', 'b690f9295', 'c7e5e4b9d', '312398d90', '8abf0c424', '6f6190a7a', '7d70ffd93', '01a5f2577', '16e3d7e4d', '809b43e9b', '154d76ff2', 'b47065a63', 'a0c9b6f0f', 'bb201fc01', '152590a1f', 'd6dcb61f5', '376d38af6', '1525de423', '4d0c6fdfd', 'cc89f82a7', 'f5f551bd1', '397c9eb1b', 'b5363f8c0', '963ae1a1f', 'a075209be', '1bcc8dcc3', '96505346d', 'dd7a4cb6e', '2b9698958', 'f0cb05953', 'b677d44c4', 'd12725b2d', 'e156098fc', '218d434a6', 'b43f55b2e', 'b25f4411c', '21400a9be', '25493f6d8', '0c0e48245', 'e3a8aaf5f', '17285d2b3', 'cad5be10d', '92891527d', 'da2348b26', '0d4779f98', '82c5c14bf', '25457f698', '6e1e262b5', '01cf8a8a1', '493b62229', 'e1d8b307d', 'fbaae9e1f', '928fd094c', '5fc39ba58', 'bc12a34ec', 'f6d1c8d66', '4481a10ea', '86b5cf7b1', 'ac1fe16c8', '586030e5a', '30171dbca', 'ed4f6510c', '3d7683f4c', '9e8229531', '14ca3b253', '27845c7e7', 'fc034a97a', 'b892af05b', '2249f0142', '957b59e09', '6858aa9fe', '46097db73', '595fb8687', '13163b51a', 'f3d43065f', '45dab63fa', '8751241b2', '9baf9fa58', 'e7ed54f0f', '381c9c6b7', '2b9ec6cae', '7411d34dc', '1be436e3f', '7374644f1', '87b0f4cd4', '7baf03fde', '07e544684', '248857e80', 'e624ed83a', 'c991123e8', 'd5f0fd659', '31001c0c9', 'e4e1d3da0', '9443022c3', '45dcfa20c', '3a70d82e5', '4c77ea9c5', 'a6ac328e8', '283fdf6b4', 'b2168686c', 'c05c591d1', '0bf076228', '0fc6acae3', 'aad4133ea', 'aab3fb822', 'a1ebb8194', 'dcfcb9835', 'c5d1d64b5', '8452a9adf', '180135193', 'f6adce90a', '93d38d8fd', '998b19ecf', 'c084699dd', 'bf2c8b8a4', 'c7fc31102', 'f354aa31e', 'bf578c520', '98dd97c71', 'e897cdee5', '6d8487577', 'ac6b43f24', 'a459654c5', 'd288000d1', '35b5d80d2', 'd27250839', 'aea9a5990', '539c22ab6', '8bffd0765', '8cd53d1fc', '351c4abf9', 'ff680c901', 'd69aef490', '8d6df457e', '7469bfa5a', '10b9ff6d1', '3c6b8da7a', '2338eec0a', '6adebcea2', '610705ba6', '888f56625', '309f0151e', '76c326112', 'e9bcd0948', '1ed29a77d', 'c76fc5a78', '631b424ff', 'bbd8c7ca6', '7ca6e195e', 'd053f5239', 'c640a3131', 'e2a1ab525', '77691f45c', '90a38fe31', '6c7819951', 'a1132c729', 'ffd347754', '2edb4c067', '254ea0f09', '4025d6d4f', '277141f55', '035cbb0ff', '3a70cfe93', '314af31ce', 'b2f1ff1e1', 'a1fec8984', '967503518', 'f33fadb86', 'b32a3372e', 'f0cd29e89', '8b3192051', '4f9fe6b90', '4ea40a404', 'c73a0eb2a', '244d94206', '2f51954ff', 'd743875ec', '4b2d74526', '5fb975e06', '7178a5cba', 'a84c486f8', '9b8b27e9c', 'f4b74af77', '6fe953929', '22db129fe', '476b0d24f', 'ebe476e55', '0ca33891e', 'a123aac8c', 'ca7e3ed1c', 'e01ecac84', 'ae3af5bfc', '207efd506', '525e03d7a', 'd44ae5a94', 'df27b7096', 'f82ccd6aa', 'ae34b32c6', '7ab42a280', '58bee0721', '15a3201e9', 'df2179e62', '2f7f80aa3', '9810db07b', 'ee5e9e589', '505f5ce4d', 'e89d7f4ae', '87cd2a906', 'de945000c', '0b4a4f3f1', 'b54d6ff0c', '38d369e78', 'f83ff9493', '4fdf1b4be', '5c82c9b94', '0a74e31da', '9339a366f', '855615499', 'c18d537db', '5b92499d9', '6ad28cd62', '0cef322f9', 'e92142903', 'debbf32bb', '44ef0de50', 'faeb7b55e', '8e4daa3a2', '4fda7cd7a', '5c06a9ef7', '437f0a790', 'd599c4afd', 'a6abf3116', 'e164e43de', '640e4c635', 'eb19f6885', '022f9fc61', '20472ec8e', '1afd5436e', 'ba28e71be', 'f5424984a', '365596e3e', 'bca3330ca', 'b242a587d', '0b3c82c43', '9a705a3bf', 'fb44b6b33', 'c1dc485c6', 'e60f823dc', '4d885fa88', '801b5eb7f', 'fbee0326f', '24c214114', 'e27add645', '2578e1ae5', 'f95ec8f50', 'bb526790c', '4592e1455', '16f9d53b9', '6b18802c0', '5a9eb15ec', 'ae686a6bf', '42a7b1cfa', '4f55f9e6d', '01c649ad2', '08473723b', '1a9fcef9c', '130481d28', 'ae32b58db', '35f304329', '82268c205', '3e7abfcde', 'c934db5c8', 'b7f451fc7', 'dea0af608', '4f0a4138d', '30019e950', 'aea1209f2', 'c94cfbf60', '86231ca5b', 'ed1ede79a', 'cfe2e8ed7', 'e0980ae4a', '455af555a', '0066fa336', '081b8be18', '677eeb96b', 'aee319236', 'e7d16c7d6', 'b0bbd229e', 'b05fb863f', '2a1fc8eaa', 'f12e3bfb5', '3118b1e0e', 'ef7b4b927', '830f0d2ec', '26bc9bd6a', '2cc5cceeb', '98ee82a0d', '3cfe91770', '2a13a01ea', '9a918c134', '05373ec69', 'abb37c343', '808c757a0', 'af2d173f4', 'b654a164a', '9b50161f2', 'a7fa7fc41', 'ba948db8d', '3fa5105a3', '690ec380a', '5e07f718f', 'cf5a966af', '383274739', '308a63a5a', 'af0c42131', 'cb2f7607a', '9774c55fc', '90773a484', '2590efc39', 'b88dc22d1', '09b9271d0', '5bd96d6f5', 'be2e034a7', '6c840a096', '063934c4c', '0d88e14ec', '64b7fea15', 'b0f64f702', '3261ff038', 'bca5e4155', 'cb7a0f5c2', 'bcf087855', '767d40367', 'ef72b25b7', '18c899966', '5b10a12b4', '338baaae9', '65937f3c2', '34cd0a830', 'ecb32ad91', '5bf6e0758', '052a0236d', '77d540779', '85fe502f8', 'c9710725b', '99f8ba45d', '0fe1e0e78', '0f6d37a47', 'b504979a0', 'd7072e0fa', '03a4c69c2', 'f3b398223', 'ad4081e19', 'b492ee3c2', '6c8971efc', 'bd0c8d6ee', 'ac345a409', 'bb1f61c00', '7f9dc3b8b', '29a286917', 'e3e59f1fb', '0ee5ddcbf', 'f82dd1776', '5e104e10b', '6bb0774ba', '11c6c8329', '6ae91a0e4', '22c0bc3dd', 'b2c0cc21c', 'c03639170', '86cec98ec', '499b25423', 'c5f15ea3d', '3253c1122', 'e5fc130aa', 'd28aa313c', '6b3c04a8d', 'b62fdf2fb', 'a125fa858', '26000c57f', '137608373', '72f74e251', 'c307a2484', '5e6b675d1', 'a7b2f9d97', '9affdfed5', '9b72b75e7', '0178f8333', 'e3b67c8be', '13c32e042', 'cf5e88a3d', '21e46454e', 'a224142d1', '91b22eb19', 'c310347aa', 'a842be772', '75bd7aa3a', '72337c3a7', '2ca464663', '4f62c2445', 'e314d1bbd', '98c24a69a', '9480491dc', '8bdc13572', 'b55f0ce49', '4366e4ae5', 'c979a5555', '5e9c78726', 'fc02bbf6f', 'dad48803e', '5dd25ca48', '96020d47a', 'af615b827', '3bc18f12b', '9fe7bc820', 'cba02a3ec', '31fdec7a4', 'ec32f6f6c', 'bd4c4ee08', 'fefe9378b', '356707061', 'bf7ac6293', '45b1aec17', '3ba730568', '5ce677cb7', 'dba593ed7', 'dc91df9e5', 'efcc4ae5d', '6e6fec343', '30027b312', 'b5b5ae8fc', '0ef05755e', '0f0b6abef', 'c7cb845d9', '600a89f04', '2dbb2b661', '0af1a84b2', '835f33229', 'cdf32bec9', 'f6e012a9a', 'cd5aee847', 'd4cb05545', '02a354a85', 'f73e82ed7', '3a11ceee0', 'db57aa485', 'b17198074', '07d59457d', '1c544d8fd', 'fe124170f', 'b9a36c529', '3f2446f39', '5c887a871', '019d87fb2', 'f7d724ad0', '0d05b0cb4', 'cba717381', '864b48920', 'e0fe804f6', 'a5e761079', 'c5b96181b', '9cf1ae905', 'e6697216b', '87c8f5388', 'ce7a85070', 'a5dfb79de', '86acae20c', '67c1fcb1c', 'd1591a06e', '08c088c9f', '9f7d00049', 'd4c845dc9', '11db139be', '315e4978b', 'b245a18ee', '6592b5c21', 'ff1ffdb6c', 'bac7bbca0', '4f7a92d3e', '98b6382d5', '8fb1272d3', '04ab30d94', '1131c0d77', '5bcdf3ba0', '478623b84', 'f85cf0986', '8c5c3d440', '1603c2ce7', '21dd8f659', 'f202100f4', '59982e5d0', 'e49b83889', '3528fdd7c', 'e06e7ea4f', '93eae3923', 'c279697b1', 'c6b249b39', '4adbc705d', 'ee9314569', '781d9978d', '737e4988b', 'f200f565d', 'addfd7e38', 'ea32b9032', 'cc95a80d5', '8e9502d31', 'b3a5170cd', '40cc5e2ff', '67a30c9b7', '9cd9ff85f', '417d53105', 'ef0cd8b8b', 'd15958ca9', 'd1a837d06', '89ec477b5', 'ded294a5f', '05874cfb5', 'e512f849b', '82cf6fc2c', '65c3d264e', 'aeb8220f7', '422e08aa2', '889f717ef', '4bfcb110f', 'd592f4e23', '51151ca49', '52496e8e7', 'cd1d78004', '5af9928ad', '023705750', 'ca7e9095e', 'dcba197d7', '5de51ac73', '3043bd39e', '915ca1168', '0fbeffd05', '8eeec81ee', 'dfafe8dde', '3d0569876', '06a464138', '9fb9757cd', '5982ceb3b', '937e298ae', '1cc9cc58d', 'a356dd526', 'fa168e2ba', 'fff1ce319', '544d3a31c', 'd7539c157', '502ad3d0e', 'eed471ae3', 'bed490306', 'c28098aaf', 'e036dc7f4', 'd558d03f6', '5178e3594', '1b4e0e503', 'f392ed837', '33c956aa6', '7ae8f061b', '2f6fdc7a2', 'fea0d1a42', '9ad2af48a', '3cd0b7e01', '1d9359862', 'ca5cf0477', '458822463', '0147bbfdc', 'eef556f28', '5f6c60386', 'b7557aea2', 'ea0b51e8d', '66f8ade0e', '0b525577c', 'd58c3618d', 'a4e4f70c9', 'cedce78e2', '0bfbe025b', 'fae47fd97', '46690fde6', 'b2fda0402', 'ac991c0da', '3b69af85b', 'c961c6998', '136bab484', 'e9689f011', 'e9c50a166', 'b3a4dcef4', '7d092027e', '4d8fab389', '6065504c5', '116920871', 'f33219e09', 'fb101096a', '8f6a85c16', 'ae289a051', '76aef0b06', 'bb7d6db41', '3b2231d1a', 'fd7d3d6bb', '8ef8f106c', '208234848', '35f93de30', 'f63dc0f3d', '437b8ec56', '856d3c589', '32698ed84', 'b6a44d42d', 'f696e7b76', 'c0339523a', 'dada0baee', '4e58752c9', 'e1d4ffb89', '151bee6ed', 'c7393332f', '354ce3046', '275f3e219', '92de0c93b', 'a761e9d9a', '1c68b4536', '689cef455', '963548d2d', 'd838d2b0e', 'c57ff1c91', '74ae2e617', '2861428b5', 'c212d340f', 'c8bd5607e', 'c9f3feb38', '651003409', '47805adc7', '8c9eaf173', '4d8991d40', '073db9420', 'b2b7af979', 'd19365c98', 'a5cb24580', 'd4cf587dd', '167a433e1', '9076ad4f6', '41d1c1733', 'acd055651', '158740964', '052050c58', '732f35e00', '2c1bd0c09', 'b18273261', '5f4a14013', '9e1b56a06', 'add68232b', '80fe0a1ae', '41248d036', '06f894c7d', '9bf767d66', '12bbb1715', '8fbeb1e89', '634f4af8e', '34037a62f', 'e29e14f51', 'ad84e9cd5', 'fc38581a6', 'f4eb50171', 'f3cd5e22f', '707f3d7b7', '73f000ff3', '065e18e4d', '12e5e1445', '95daf98e0', '0ec0b49f3', 'd8393da40', '77695cc31', 'da5ba10bc', '9342e145e', 'e771c4e24', '61b07fe8e', 'bb16768b6', '90a5357f6', 'd46b6ab74', '6484261fd', '9ecf5cb67', 'ebbdeda97', '509998e11', '4d6ec42f1', 'd5ac2222e', '352da06d5', 'befc4e68c', '30537d57e', '02a5926e4', 'c698713ca', '78be58abb', 'd209a05fd', 'fc736244d', '6fcda5f19', 'b99958ae2', '5774c5faa', 'ac4cade80', '9ba29c7f6', 'c391d01f4', '03ad074d1', '4e2217a90', '5004e3db8', 'fafa80752', '5a4b940e1', '68ddaa29a', 'ff7dd1073', '60ccd9f9a', '8bc57c083', '19e482a8e', '13459c4f6', 'a12935e1b', 'abfdb0ce6', '036e49ad4', '0b68e7675', '04bbde70c', 'd47b14ee4', '389e323e8', '69ce35dcb', '290a64fd9', '3d6528a23', 'dc8f3a7ea', '98d6fcd91', 'df6dc0078', 'a4ade88b6', '3a9f06260', '5051001c0', '61c8d8792', '8d72ba741', 'ab9b63710', '9d448f648', 'a4b6df577', 'd2d6425b9', '61c630ff9', '2218f31c6', '727c9eb48', 'a7a28bc7b', '400935cc6', '88c72f886', '83865a241', '7b4ffbf1f', 'f2744e92c', '2776cf8cc', '0e82e89f9', '80989fb88', '757e86f03', 'ab0ce192b', 'ea2647385', '9d49470e5', 'fdb238e71', '130912af0', 'cfa507134', 'e04e3e346', 'e75ae3ed1', '043fa2a75', 'b9f793358', 'c0062ac77', 'abf0c6a5a', 'ed61c8e7f', '55d39c2b8', '4dc7a6d28', 'bdfb8a602', '42f5648a3', 'ead8adfce', '35899a2c6', 'fc8044ef1', 'd3a416493', '78e8b828b', '0417dbfee', 'fb4090a39', '4d2995411', 'd042ccc94', 'fe5b354ad', '5fda25a1a', '8f130cb68', 'e94ef6213', '7f1ce6724', 'f66cad627', '06eee4b34', '6fcede2da', '81b3bc032', 'a899ce61c', 'c8d80e081', 'fef010d47', '27d292925', 'c8f1c3456', '987f073fa', '11981470f', 'c4d43d4cf', '61b1d40ce', '7c21b39b8', '59a2d5a2f', '827d852d0', 'd5ccf348e', 'd26a6ae91', 'a407bc4f5', '8ba17a3e9', '5164cfb84', 'a49e2805b', '9227ba71c', '847d41708', '8bbb2568a', '4b10cbc52', '0075253ec', '47f3905f5', '4bbde826e', '3bfe39a63', '6a86dc078', 'f2643b3d7', '65bae3836', 'f46977be6', 'c01380456', '50f375e4b', '1b6903253', '353c174dc', '014fae23a', '137f10489', '39c9c5633', 'bdb2c2ac3', '69f88d1cd', 'de2b43bc7', 'f38837f5e', '7c08e04c7', '20855fee9', 'e59639dab', 'fa4159369', '209a76e14', '88d1272e8', '41c1277c8', '96dbce6f5', 'e49293c55', 'ed8a0b9fd', '934e8a416', 'ad9c22f57', 'ff4ccc205', 'f27970f59', '5df2415c4', 'a1425588b', '3124f909b', 'c9ed894c6', '86b94a196', '691ff6949', '34edc48cc', '735a79542', '92f8dfe85', '392551dd3', '710981905', 'ecf351be8', 'dac2bfc2b', 'f35306ca6', '4f8e2f5f9', '7f88f1df0', '56d30dee3', 'cf2458c5e', '75211ce0b', '19710203e', '505106fec', 'd2a00d1e5', '39b825b9b', '3d4a9041c', '682a405a2', 'e30d09dd2', 'd032bdf72', 'cffaeca2e', '4e87ff60a', '782d94619', '02da97832', '9e31893fa', '0b89e4cfb', '2ba4822aa', '5494462e4', 'd176f09d5', '8b86d2e29', 'b6f2e177f', 'c9e40d7eb', '24aaff389', '0915552a5', '1acc1cf42', '8472eb239', '455eb5842', 'f059ff271', 'be17877e3', 'b1d6921c3', '8217afc56', '4d66103b2', '09f7a5a58', 'f61e5fe5a', 'ac5f20326', 'e7bd40f5f', '34894f229', 'cb7c5aef0', '0f45e3727', 'cd80a9647', 'b96e5b328', '2ad7329c2', 'cb882ed55', '1ef39fc34', 'b556940dc', 'fca251021', '677bc9ab7', '3626c38e6', '828ab6fa1', 'eb169cb65', '406be08bf', '03b394cbc', '37069902e', '31ad333d0', 'f07af6e23', '7caea8682', 'cb137c30a', 'b680db035', 'c74b639d6', 'bc3125b95', '0e5b572f6', '37b863a53', '3d5d64145', '96de3fe2d', 'c1bff2db0', 'c9b9a9e8f', 'a49283885', 'd8eb9abf2', '46ac4abd5', '1ea20413b', 'dd059c052', '7fcdd32d8', '4d7c1147e', 'c120f1c27', '2443e319c', '6edceffe8', '380bd5f74', '5bd6df196', '25b93b092', '35435bf4a', '8f91de5f4', '36bdd37aa', 'f71057b0e', '8dac3c02c', 'c8b22df93', '15a905cab', '809888e70', '41a291c12', 'f4f7beabe', '3f6370e54', 'cd91a5993', '12fcb210b', 'e98aa159f', '99641a53c', '7dbbdf71c', '07687c296', '5112ac1c0', '37f3aa7a6', 'e8f9187b2', 'a782ea31e', '675809ef1', '3b21a12bb', 'd501d0ed9', '5aeb2118f', '5b9fc2549', 'b43be2574', 'a91e27bf2', '9857c7370', '2baa27545', 'b1edf23a4', '43cca6dec', '0748a7f0c', '8932f3044', '9d3fdeba4', 'f0e0222f3', '8e3a664d3', 'c4b3f0533', '96715070f', '7787e143e', '3c71bb205', '85ed5317a', '278a10faf', '554c7dea5', '33dd3cf4b', 'dfd1d02f7', 'bca345eea', 'a09953990', 'aaa15821b', '402f224f3', '1aeb357fe', 'ff55fea3b', '62d85a8e0', '05969f494', '30c6c6c2c', '84a4650dd', 'afbd3c34d', '597623eb6', 'aab66d355', '639f18c33', '671b7dc00', 'e415b36ec', '4ee2ab717', '704332cf6', 'c064af4d5', '7b215b373', '74bac1848', 'd95863d82', '81ed160a6', '6a4daa92e', '333c42276', 'b95eda786', '568fb32bb', '90ccc3c70', 'fc887d99c', 'ede51ee9b', '72428dd72', 'f8e34187d', 'f7dac0dbc', '52fda03d9', 'e7f1a9ade', '34baf0344', '75cddcde6', '94d802a11', 'f7f52b2bb', '666c9e519', '173fc116c', '942e6a6da', 'd2689e5eb', 'dd2b2a4dc', '1888cc82b', '96404f4b9', 'becb0af8c', 'ade6e0cf3', '1f063c9cc', 'cc217c722', 'a9b2ae1d8', '3d3d7cec0', 'c2a84fff1', '5ef1adb86', '5cd28903c', 'db1298b26', '7b2eb2d88', 'e50483121', '858acbbff', 'baaac11ab', 'd7c6bcd88', 'd902dde14', 'e0c53bd79', 'ca3344658', 'ac75f6c82', '641d1b3ea', '69d330b17', '1716d6fbe', '5b2b7a6cd', '19668e90e', 'bd70dabc3', '72d033676', '5f0a0bdcd', 'f27484ad8', '21a664f31', '4c9c47b24', '9b04df18e', '70ef9e3d9', 'a25c408a1', '566d13487', 'e7b921aca', 'ce3f4f219', '1bf1ae113', '520540092', 'aeb2ba907', '49ce42a45', '4f2efb494', '6d1d351bf', 'c9bc86d2d', '63b8215e9', 'f7995d12f', '9b7ac0ff8', 'b97ce9a01', 'be3dd0431', 'b4d18bd01', 'd153ec218', '800f0ff19', '7171349c0', 'e9a8b5638', 'abe290c03', '1562ffc8d', '8589b291e', 'bf484d60e', '14c8e0d12', '1fb95aba0', 'aea8fe184', 'ebc51b2a3', '7637d82c0', 'ea47913fc', '5c59c4d64', '2720cf342', 'c21b668d8', 'c46f8c1bc', '6e5860c0c', '7d33cce89', '339d54137', '217595935', 'db41d0263', 'd8c72ab57', '39e69cdd9', '7de41b110', '875ee3904', '34652bd97', '1689015a8', '9a9f99de7', '44fff581a', '4ec7a3d07', '7e084ec78', 'cb033a754', 'ed78f989e', '7c7cc2bd4', '2f0560edb', '88e86e728', '8043184f4', '16767a088', '821fb2e51', 'adb70e8de', '6fed08347', '345076f4c', 'a1b41f993', 'acc5f3959', 'd31ffc0e4', '0635d4719', '6440d2a75', '003115d5b', 'e8b16cc5a', '3d0859d6c', 'a5e0eb916', 'cd657c9e5', 'a3e041b20', 'a01ef2cef', 'ae043a257', '24e2a85d6', '8df0bdc33', '02445f2fa', '6c7d19b2e', 'ed9718e7a', '047aea303', 'd22e3ecb8', '56df77fb4', 'ac37218ad', '94b07572b', 'ef0e58150', 'c48ed0c19', 'cb937385d', '72dcf4424', '8692bfaca', 'd28fecc75', '68f3b4483', '2b61d20e7', 'c62d29488', '0261d34b1', '7d334c2f9', 'fdfbd76cf', '674de9787', '96eb7f741', 'bb9e6d525', 'e4f14530f', 'e7a39a488', 'efdfef16e', '556c4308c', '4e645d4b5', '87adc9b1f', '36b692390', 'f5c92ae3a', 'd504b3cf8', '4f347d2fb', 'd917648a4', '63788f8fd', '0416820d1', '803ead821', '2e2074b05', 'c93d101d0', 'c1fab5889', '7c2b94bf9', 'f024392e5', '3d1dcd13b', '7c022a318', 'a4a6d4fab', 'dde6ed7b2', 'fff13b60a', '3f7591cfa', '32b24ee74', '794a2c5e9', '8f6d4a583', 'cd1446599', 'ae7726e78', '0384904b6', '0efdb16c0', '789d62da6', '32b95db8f', '26f56d2a9', '0f60cf50c', 'f8461da7a', '2603544bf', '2ff729edf', '3cda0a027', 'dd0f2848a', '6f9a36bf5', '0bc920d44', 'cf82344e2', '8fb13d313', '4fca42dfc', 'e134e2a61', 'e933127f4', '21f903291', 'b975b0d2a', '48e13c746', '0811eb504', 'e26a81f17', '85951c012', 'be0bbd9b1', '993141c19', 'd0c72ecfb', 'b5d86130b', '8c6182ca8', '282521897', '07875e460', 'f10b35697', '1b6ccf34b', 'a562c01e2', '2f51cf430', '6757ec7a9', '8f98d859b', '5b06b5713', '639eb9217', '403af285c', 'adfb075f0', '2b1330c3e', '055db8e02', '89faf3a8b', '5960e0a99', 'c32ed341b', '26742abe4', 'f6300400c', '1c55f20d8', 'fa8d0e5be', '20a3c01b9', 'dfe50dee7', 'e3ecc3e8b', '1160fef54', '7fb707e56', '626099be6', '50caeb28c', '52864e36c', '22d06fa72', '1586b39a2', 'e9297e693', 'f4a30febc', 'd04f68193', '00a9bb85a', 'e3872ec09', 'ce63d314e', 'ee4ad3459', '60c7a5a2a', 'cd80a7bc6', 'fbeee2164', '332ea8a81', 'ca062fb35', '36614815b', '52ff77b31', '4deb2ce41', '9d3ac8bca', 'e6ef8612b', 'fb99fa2eb', 'f2fa4df66', 'be77a26ab', '963efd29c', '31d5c7f1b', 'be326d1a8', 'f1c2fd742', '290776f73', 'efad9a264', 'd9ef4b7c1', '53419e190', '56c459638', '7726e88aa', '5115226c7', 'cb10af3c0', '60d6f7c30', 'fe6b19b03', 'c503fe80e', '6b6640e4b', '160e47e8e', 'a1b87d416', '5540e615a', '88c64ca92', '406e89a5a', '7638c9d27', 'f0549f839', '3cd3c9434', '310ec456e', '468c8e925', 'd6fe43027', '74da146b4', '215c429e7', '8f23f28ff', '1e603df4f', 'f92b6946a', '8a906c3c8', '894c554f9', 'def645b7a', '9b0772642', 'd769e4c9a', 'c007da1a4', 'f010038ac', '4e36b47ec', 'e57166308', '34760ea8a', 'f24e13d9e', '79db025b1', '2ac0719a2', '299478ece', 'a8342a437', '192f7b51a', 'bc22956f5', '52c5c3733', '5dee497f8', 'ab7e858b4', '0398278d5', '9b9fb67c3', '491298588', 'ddc5c0323', '19855338c', '64546705e', '38c67dcea', '6325e01a2', '1e61274b5', '01e041b09', '3cfc1493c', '3fad6db7e', '2a6f7ac91', 'b15364c1d', '72a1c1355', '1dc155ead', '93abbf932', '9da79ddd8', 'd5a4581c1', '133946196', '48b820543', '3a4ae8d0d', '11f39ea62', '6ed4e0308', '713b3162e', '156069242', '8e4d72e12', 'e8af8ed0e', 'ba91452a4', '5f1f35e21', '4a3a6f8c5', 'b33b48406', '52d354760', 'e37cd596a', 'c10936afa', 'e0472edbc', '1e3d4b4d1', '820169051', 'd8c5d08af', '9612cf328', 'a5b8da072', '617b6badf', '2370c8dde', 'cf3d8ce60', '8d44269fb', '01d30bef3', '3c2dc8d97', 'ebc8946c4', '8c95a4d1a', 'fc3aaa402', '0c6f57880', '85584e50a', 'bd09f1c0d', '353042f7f', '6133e61ee', '0da332bef', 'ea6e59fc5', 'b93218b0d', '58f1663bd', '9b841aa7e', '96ac6d593', 'e874ecd8f', '776040c9a', 'bca5b2c48', 'bd829faa2', 'fcd3c5344', 'ac61f5d41', 'cd883c010', '33de73368', 'a1a24c168', 'e1a578d28', '5c4775eb0', '444c9fded', '856396679', '80b04c0ab', 'acaea5c74', '74ec27c4e', '438a44dd8', '16cc146d4', '3077ec7a0', '2e7194705', 'be206435c', '0acc0fc28', '83c810426', '38dbaf20b', '18825ea68', '23b32e47f', '5eb9bf06b', '974256b5e', '970fb150f', 'beb3bb2e0', '8bfb9d814', '56770359e', 'af96548a8', 'c420fcc91', '356e7ed92', 'c8d6d2428', 'e63632d9b', 'fbc9a2178', '6f323c53f', '2fc3c2fde', '73a113feb', '819a54e7c', '7d7ca50e8', '32b1e5377', '3bba381f4', 'd32cc30f6', '87ba8176b', 'ce270fb4b', 'f72391233', '29fb11a3c', 'f18386d66', 'c3441250f', 'c8d73d93d', '4094c7c4e', '42fc3bc6b', '28da5f873', 'd060e7d1f', 'b1b415218', '836553e90', 'd992a24ba', 'e320b926f', 'f2716a451', '18b61c8df', 'e15ce4e64', 'b9c541a27', 'bf2310ba9', 'ccba85471', 'dc2c74fae', '9f7e8c5b6', 'd87bfe818', 'a497e7f7f', 'ce06e3cce', 'a7d380fce', '00afddb62', 'bdc20a92e', '0811bf117', '999f4b661', 'dac0c3185', 'c66ed48cb', '5fd83faa1', '50fa21519', 'b83124e51', 'bf018280a', '24a36dc7b', '1e427c604', '16933a6ac', '8c4274997', 'a9b38b618', '1e1fd2919', '610b8632e', 'b05eacb32', 'c6bc9cd5c', '1e208e9fe', '378e34b74', '391715e50', 'ff4e4f5b5', 'fee289084', '3e0676fab', '74f4e8de2', '95a1cb6fe', '3bfdbb0a9', 'bc69f5239', 'd20eb9f4b', '010e75aa4', 'c20bc11c2', '310232c22', '42c926603', 'd0a66a9ba', '164241231', '3a0281806', 'ce0b52296', 'a2b30612e', '7f083c63e', '033708ad7', '871644d15', 'fcf899e6b', 'd2141143a', '509f880c2', '31fe239eb', '9331ce7dc', '7406fda3a', '3252e3c39', 'ea92292bf', '86d6703b3', '77c6ceea5', 'd88df546b', '79823f642', 'f2fa8b694', '04c26a12e', '52a88a588', '621df8ee8', 'ec4bc33d4', '71fe58126', '82ee95475', 'dac9618ea', '425033fa2', 'a15d3acda', '97f2a4586', 'bdff7576f', '60456cd9d', 'dcd8abfe1', 'eba94c090', '9af5aca6d', '6f814add0', 'bb7ad6369', 'd99a7b31f', '34816bed2', '3bfcb4913', '6182fbb5e', '30690e6a1', 'a678f2d5d', 'ea182abc9', '98b9d4cf3', 'd4789b850', '16cc14779', '88276f514', 'daca36a8b', 'dc457c0b7', '4c23f5569', '2e06ee962', 'ce47f347c', 'aacf26656', '9b1f38033', '87cd1e2b7', 'b0cf0ddfa', 'e4262ec2a', 'ddc22a77b', '6e1abd31a', 'fce29c4a6', '7ae3ab5ad', '467ba09b5', 'da5bf8da3', 'd6906487f', '1dfda887c', '69639a5b8', 'b74ac4f17', '121048f49', 'aef01d6f9', '21571f68e', '9cfc3d704', '075b8e680', '038eee7d3', 'c40084723', '31d810f1b', '37775e3eb', 'c8eac4ad6', 'e398d7894', '52d7dadb1', 'ac6871cae', '5d74d02bf', 'e5df5b55a', '7551a52c4', 'b7127cea1', '55a02ef66', 'b1fb3d5f9', '0b243e09e', 'd6145309c', 'ca567c89e', 'd9162c28e', 'a3a4772c7', 'c338bd335', 'e22adeb55', '9147110b3', '0aaab9506', 'dc08f4918', '2de3f378f', '4e683bf81', '5890f9d5e', 'd74470948', '1abf20ba7', 'f59ca9c98', '3f9427d4c', '306e8def6', 'b6c410698', '30e3443d5', 'bb2e53f62', 'b933358c6', 'd49604cab', '9963454fc', '3017ffa43', 'e087e223b', '2a01efeb6', '1bc0a0456', '8455a07ab', '0129e6b4e', 'bd590f572', 'd9c5ace69', 'f0a8febca', 'cf077f209', 'aeb5c1fda', 'e8fc08540', 'f0709e146', '2922b0e3b', 'e1a53db5f', '9445ca735', '394a634c4', '7d969ca75', 'fccbdbfd9', '5dc61ff9e', 'b235c8bc7', '6c8f825c0', 'ce92a3001', '9b58f6d6f', '624b321be', 'b93faf143', 'd549cf780', 'cf93998bc', '14cb9c02d', '059516e21', '189a77091', '4367f5631', '0a12d89de', '4ea20d144', '234f89316', '5aba9672e', '1da41eb36', '532c294a4', '3cd869447', '58d999cd9', '800bee4e8', '8c9830001', 'eda98169d', 'c5cec7fdf', 'eac6dcd58', '051c973b9', '939da21f7', 'c1c2f47bc', '816ca49ad', 'b63e84b33', 'c588733fa', '91433f446', 'fb5ae822b', '6db2749af', '99a15db20', 'e5528674b', '9f4c62a84', '99a54d271', 'd6578d938', 'b55fa8fe5', '18fa8ebde', '7b4091217', '1757f15f1', '2e84d1d9d', 'ac40035de', '192692296', '19b53db48', 'e18c4915b', 'c4b6205e9', '5a07a3e1a', '4424f90f1', 'a2471fd44', '4f6933576', '1864b38b7', '6df2c6f60', 'c5fbecc9e', 'b5542ddda', 'eee773af3', '041c754a4', '656ba142e', '373e7f5e8', '87db5e205', '87efc01bc', '9373d9458', '0356598d0', '1d5fe376e', 'f6173a051', '583793bb6', 'fd8d1065f', '2560a68c9', 'f60864b01', 'c8f27c799', '4e85fe05e', '2b48ecaa7', '418c648dc', '93006722f', 'e62c2a3cf', 'd9e2bfa23', '55823d0e4', 'e7cef88a5', '6d214d9ee', 'f812a4075', '8e9d7e6cb', '559c63493', '7494e3607', 'c38e0b1af', '3495a3d9c', '925745580', '4674a56f2', '65eae547e', '46aabff73', '09814e809', 'c637b4cf0', '75d33e7ae', '39de955fe', 'ec88db584', '28cfb1c7b', '759495521', 'ea447ff7e', '2dd1ec031', '0d19d3282', '572c3ca71', 'cd2019887', '167bbfac0', '2060fb1bd', '86caec48e', '196aa0d18', 'd210fddfc', '5b99ab145', '994987083', '9c33a318c', '6fec807d3', 'deaebe065', 'ee61caaf5', '9fbae6191', 'c0e383874', '36ab60fba', '731eb0adf', '9c1d95f3d', 'c7539404b', '945b8c7f1', '4460c4548', 'd9a404694', 'd53360bfc', 'c23cbecd3', '5cf3568a8', '17d5104dc', '8b18fca1a', '66d940f76', 'c6eb09902', '9cf6aab66', '4266d66d8', 'd6cd52b13', '251285d30', '4169817e0', '08da9897b', '285e3d706', 'fc6fe23b6', '46af894c6', 'c892e804d', 'ec32613c0', '89147ab3c', 'ddf03206c', 'c96cec679', '5cb33f1ac', '07a079954', 'a0b386aeb', '481d2e6c0', '67a98aef6', '16b1878a8', '34e53291a', 'e900af1bf', 'e87563886', '50a52295c', '04083a1da', '5ce912aa5', '0ee2ecfd6', 'f97b4890d', 'adb6c4865', '736e736cd', 'ef866e039', '3141e09ca', 'bb3c39c05', '2ca16a193', 'ec1edddbf', '5144e08b4', '66c8f1966', 'd03dbd55e', 'a3eb1f0b8', '4ea73bd34', 'e1b95e9c8', '1a3b91fec', '78bcf1ae0', '16db65637', 'a790e9c56', 'b4d60f2b1', '692ab6090', '037e89a4e', '545f8e286', '0928dc6f1', '107d0311d', '99f747c71', 'c52048d59', 'e18c7a159', '9ff13800a', '1547b1843', 'acaafbfa7', '4a8b38778', 'f4e8c8239', 'ba2a0509a', 'f8b81c6b4', '12d7483ff', '6bd80068b', '11f1e8348', '66bb77312', 'e203d99bb', 'ff43e5d26', '5156c4278', '30a1f90bd', '0d793626c', '9467095c8', 'bb9d10adf', '91c3492c6', '9c4213a50', '78d98f25c', 'be709cfc7', '7e8a1783b', '8c6f8fcad', '732da86d4', '819d952ae', 'c6c849cea', '789519f68', '7f7133012', 'a4fb6b3c9', '297ed40fa', '4b4be03a2', 'cb72cbafe', 'efea41c47', 'cdb49c91b', 'c6b3ecc34', '9dba93fae', 'e8163030d', '637678ed2', '81d52db8c', '5a45f0631', '5d208c780', '6fd89a77c', 'a2dc013dd', 'd0a3c67ff', '4ab48ebd6', 'd4c8cb621', '76cfae0c6', '2decf333d', '7a8adbea8', '825c129b0', '5ece45c72', '87b490e55', 'a8e1c572b', '8be64c238', '9e9225850', '13c8c0274', '107fb3107', 'cdeefad7e', '371360b69', 'e5f9bf033', 'f99e22563', '60446b054', '0598a93b6', '889548a8a', '9bbdbd867', '59e50cceb', '8aa18a963', '02f7adec6', '3719a4abf', 'b036afc42', '1e2a457e4', '51c54ddc1', '23968533d', '4ca201fb5', 'f91b6637b', 'c52702800', '08238389a', 'bcf7e24af', '82d12a4bf', '4dcb7a740', 'cf5cbf0c6', 'fdd6954b2', 'c61e71c92', '8001019c9', 'b237e992b', 'fba4a5b97', 'e44fe2d64', 'dbc6f23d1', 'a12bdd9c8', '23b7272de', '16d58d852', '751a88f89', '467ff7263', 'd97e99417', 'c57b300f1', 'cc9a32f11', '028208178', '150f16fb5', '496ec15cf', '945b9c0da', '2a8894bb8', '2707bfaa1', '3ecabe926', '22cf6d09c', '00e08b626', '824d425ac', '722903e12', '69e135a36', '642c9e74d', 'e6ac183cf', '9a34978fd', '4abfc71d4', '441bc1eba', '825b28dcf', '7f4d4ee95', '9295e4e66', '8d33baa76', '362c3ab3e', '623d828b9', 'b2ec9e6ed', '25e47a294', '9cd56b510', '99c5f8a87', '22c9a1e1f', 'db8935d6b', '13a8bd609', '6bb9a29ed', 'a266712f2', '57574f00d', '7f6a8cce6', '855211bc3', '701b7d7fd', 'bacb935ef', 'c3d595820', '25b2bf89a', 'cbd4ab902', 'd3c25e150', '0815ddebe', '2bb0f1947', '78e07a8b3', 'ff0acdc51', 'ef4f0f085', '0ef52346d', '49c48c739', 'c0fb801d9', '20327bfb2', '88e0b1119', '03289c74c', 'e7511b096', '10f570eea', '8d9f56f7e', '19bddfa52', 'cd0dd3073', 'a996a9557', '541cdf1ed', '251c49904', '3391f094d', 'a37ea5d0c', 'aa3f5255d', 'bbe1bd0b4', '32d59b280', '76cb30e86', '92a0bba4c', '4328dec27', '4264eca5b', '1b4c6c65c', 'fd2a83042', '73193fb01', '351f7a2d3', '68c648c2f', '5b7252147', 'd87de961c', 'e28d67ee9', '394849927', 'a69b29db7', 'ba1ed3da9', '1cbc9ed37', '2e1e504d9', '76ef36a83', 'd4d960f0f', 'ae5d2278e', 'b2daa3467', '891428694', 'b91b5a8ad', 'fbacfc0e2', '999d8a836', '1b57e3ac0', '9e0d9650e', 'b705b8cdc', 'c1258639c', '3b03b660f', 'cc65a250a', '1d91fab68', 'dff5fb0f1', '6575573d5', '3c9a512d3', 'd4812cead', 'f9365df27', '7dbdfa278', 'f13d55f84', '2ceca3267', 'b9e77018b', 'cd3c4de1f', '685147147', '3f61f5ec0', '1655aafcc', '088638854', '1cdce0790', 'bb3fcd9b9', '2284d3f06', '8404ff477', '835a68b21', 'b9ebfe76a', '734d11e72', 'e44849acc', '6fd549d27', 'f82a92e8f', '0411ee4ef', '45d51b0f2', 'f5362732f', 'e098ad5f5', 'a0b75e727', '19b0f9fec', '1a87d0aa1', '4952bc209', '9ee0887b0', '244650795', '302a99430', '618bee284', '0f35ae04a', 'f3d0d2710', 'b9bf9ff10', '53395846f', '50978296a', '3016aaecd', '2a6a74fa9', 'bedb0a52c', 'a52b31d1a', '0a1939dff', 'd3b067aa7', '99954638d', '7bc62e134', 'e6ed1cc21', '56c7b0e9e', 'f71c37b42', '9b1570ce2', '1415f4b88', 'a7a415853', 'd287d4e07', 'fe41d8e10', '12b876417', '64c41c2f4', '67ce7a6b6', '5dda13326', 'c484f2484', 'ddc9b813f', '5f14b46cc', '4d7d106a5', 'bedab8574', 'f17a8b0e0', '5492b3394', '6002a00a8', '68be67ef4', '59d3140fe', 'f675edf15', '6123020dd', '221a983e9', '7b6d81d06', '3f69e641d', 'ccf007e96', 'cd498b590', 'b327beaa0', '76d77818f', 'dd79af375', '3ae27a2c6', '643f126c2', '016e77e0e', 'b3700dd31', '3a67835f1', '594655f5e', '2a51bfcd4', '4d6ba3994', '78a859414', '1fe9b3f49', '9bb792d2c', 'ec85d03c2', '0d1e694f7', '96b90e3d4', '5f7278854', 'b7677bab8', '38c04f763', '86117cb15', '0bd63776b', 'b1ab56ba1', '782017d6a', '5d9de0f8b', '67a728fc3', '1f95801af', 'a1884a1b9', '21c321035', '148e4f2ca', '5e9e31520', 'd174729a9', '5f6f23fa7', '32dd0ec55', '0c124f538', '985eabf13', '27e1d13a9', 'e486a7732', '52e20f256', 'a7e372a60', '0b1137ae3', 'dc08116c2', 'a88ff7a60', '676db4ae1', 'a6560bac2', '439d8e6c9', '4d86f511f', '4015a0a50', 'd2aaa1190', '770c99636', 'd41d13764', '109fa9f16', 'ac091bd4e', 'b4a52ec69', 'ca3177a1c', 'cf2301a7f', 'efab204d5', '7fd283801', '84640650c', '0dd763976', 'cf96f0be7', '4d323b393', 'ef57d3b32', '7840594c4', 'bea88c18a', 'e0f2b42a3', '703967a3b', '5327d5530', 'f95f49f8f', 'f49e8f321', 'ee884c8f8', 'b4087b4fa', '491b1f17a', 'f8b98aa95', '958b5718b', 'f046f9f8f', 'fc4175529', '96b80b5d0', 'b445144f4', '21dee6fd4', '00593bcf9', 'd81d42cb8', 'e13a9ac65', 'af1c1642b', 'b66551d10', '11f08c438', '1b75105bf', 'e7bc0ed82', '54fe9443b', 'bc10d0880', '7b3ec7349', '7e292c3d1', 'c916150b3', 'd9d96f8bb', '01a7c69ad', '32078926a', 'e166efcf7', 'ebac0a233', 'c330546ed', '0632b9756', '7011e1008', '6099126a8', '907cbda35', '40b44b790', 'ea056e50d', 'fbf27309d', '82747d757', '37355e728', 'e7e96f7a3', '5e1a3d356', 'f10f6acd9', '795699058', '34a66fc7a', 'b01951b33', '2778e9fb4', '76f20d438', '28acd7d63', '920cb6ee3', '680aa0ca9', '9b357b911', '3c0cbfef5', '922216bbe', '46e2de4b9', '6d2cfd345', 'e098565a4', 'e3587d308', 'c2aefd43c', '4eb2ebbed', '20538f541', '0d835248b', 'ae8dc8921', '814bcc16a', 'cab420803', '99657f622', '9f97d706a', '1403bdf11', '468b54425', '688457c95', '7b5e3cb04', 'afc90e1fe', '1beb4a777', 'cb5d77cd1', 'b33bca026', '8676b5ae0', 'bc8ce58d1', '872f00205', '39fde287b', '5b4104da8', '81ab46a57', '4894815c2', 'a59d68c87', 'ec1c698a0', 'c83ecca6c', '67891d3e6', 'f02dfd101', 'e37686fa9', 'e1e99ca07', 'e6528b35e', 'e9ebed402', '33cf5c159', '71298ae90', '4c044a7e1', 'cee8a81e1', '8ea54d5da', 'c3899751a', 'fb7cac4c1', '05b148284', 'a0efb7424', 'baaf13ecf', '3e94a36d3', '3d468fb66', 'add294f09', '1253f9028', '444982355', '9de97a261', '7c1bcf823', '5efa1aec5', 'f652d7967', '7be6f4206', '63405c690', 'fb6cee6fe', 'e958ca8d6', 'd41f319ed', 'f89a89a9f', '910273bb8', '6ba2e47fb', '3092da624', 'bce6b96fd', 'e4ca00442', 'c8c042122', 'd22f0565a', '0d8b094bd', 'e0a161822', '809aefe45', '8442955ee', '708533cfc', '31919077f', '8bf9c9578', 'e7702b708', '63b9b6660', '62aac70f1', '6eb1ba1c4', '8328c0054', 'da903526a', '7e0557b15', 'a99b4ea31', 'df1ffb76a', '4abbb58c2', '8024c1c42', '50622e7a1', '12de40499', 'f172b1cbc', 'f0dda8746', '39322584a', '97e6a07f2', '38e7db22d', '9ec8771ec', 'd8e69fc28', '13fef0cf5', '9fb292402', 'f6b1b0732', 'e54024a1b', '3bba62591', '7faa4c366', 'd32c449fa', '50ce8691f', '1d66c42e0', '1e98ab493', 'f9bf01d21', '31f429917', '7806c72c7', '40670a376', 'eac47277d', 'f157c6eef', 'd0856c9c6', '4dba1f915', 'f1057964b', '8bff08eff', '274e00caa', 'dc101c825', '72204b300', 'cd3214187', '7af8a1bab', 'f3a1b0296', '86ad7d574', 'ddca1a178', '14d56c88e', '1fa0ac923', '26fabafee', 'b3362801e', '4d81b4f23', 'b89647ed8', 'b69c6d05f', '8b24bad88', 'da77bf3bc', '6c12f69e7', '0b4359be2', '57f1df9c2', '48c11a62d', '88deac2ba', '82454e4f6', '96b5dc566', '9e728fbed', 'a8873c602', '6a2ca3aad', '20fed59fc', 'cbe32c1c1', 'efde67cde', 'f278f66ac', 'd3786e58d', 'df8323cee', '0c699ace8', '88c7dd945', '7bf7adf8e', '3ab2b94db', '3ea8a70d5', '29f09c508', '78e19ada0', '669a16867', 'dc6c6e961', 'f342096aa', '65579a717', 'a09bcc901', 'f141376c6', '252a513c1', '36787852d', '79928ec2e', '34018922b', '3984bcd80', 'bfa41733a', 'd5739dc12', 'feb52b7c5', 'eea70b4a7', '4ece40686', 'd1b57cee3', 'a4614d544', '68f1fcf47', '873764191', 'ce9c81cf6', 'f9f8865ee', '49652e383', '05b462481', '40ba84f03', '729a1402f', '9e071dbf9', '2232c2d2a', '60ae844df', '7ed3fe1c6', '8494f306b', 'bc97fe974', '45f8053ed', '42968a059', '283a4e24a', 'cfa97a8a9', 'f23b101e2', '432918cfd', '7e9e56ff5', '456971f87', 'ef4f5fca2', 'b0d67f003', '92f8a2e6e', 'a11e40db0', '2003d1bcb', '5651044d5', 'bf8d69238', 'ed6fb6436', '224216231', '991a24e96', '4ab009882', '84c6505ed', 'afcbfa52c', 'c4bcc3fa5', '96177a79d', '1c2487c11', 'dde292e10', '0d6e4bf6b', '155fbae33', '28d62b5bb', 'dbb989a40', '1984f92bf', '668126eec', 'de53b6185', '0a262a51d', '4e1ef47cc', '819358867', '30d8f70f8', '5d860a391', '065c99bb8', 'd7e87b8f5', '6406c9f8a', '3bc773ad0', '6d9e34ac7', 'ec43940ad', '5756ad66e', 'd108a0030', 'e94e92041', 'b001b4985', '84af6ee8b', 'd025c5664', 'bc6e73ef1', '593b01b8e', '479b83f59', 'a66bfb35a', '7f18b76dc', '6da4ebf07', '9d28c2b7d', 'cb644dfa5', '54671a051', '2bab4948e', '3719f0f5e', '2ac04ae80', '0aae8e794', '222d467f0', '184bf7726', 'c08f7d3be', 'aa71bb9ae', '43fdd568f', 'c896e7f45', 'd0c781a97', '55508ed11', '0026bc166', '067dfcc5b', 'fc968cc94', '92bddfe75', '5e74f6cef', '6b73b9fa8', 'a49e41d63', '4ff9de69f', 'cd07897e8', 'e4aeb3caf', 'c5b37c934', '8b8360b8b', 'f6b9a8bd7', '2f986ef59', 'de76421ea', '61843bfce', '8b4bd75d6', 'de6f17cb9', 'a4d83dcfb', '3f0494a11', '539436555', '867303e4a', '4e60d2ab5', '6db5e23d4', '0a97b1c9f', '5588097b7', '13264c74d', 'a446266d3', '110416852', '8a3592b8c', 'ca723e285', '631df072e', '6bcb9db0f', '462f5087b', '22d6caa4b', 'a93316b87', '8670c7ee0', 'fd2f81ab8', '81bba4819', '5a67da7c1', '87865458c', '74a17cd4f', '822ea3048', '54a3f6b2b', '67c848320', '66de15e39', '367011eab', 'f84849788', '305945640', '129d33186', 'bf11c3045', 'ffd966e07', '1bfc8df7e', '10fe5b960', '6b37f5bd1', 'e2ea16d89', '14aa19071', 'fc17424af', '2593be44c', '563bfcf4d', 'cd8bcbd36', 'b693ed430', '3d0b1f93a', 'a8dff915c', '25ffbf0c4', '841202213', '0aa290a8c', '8f5ad16f1', 'ad40dd81f', '0c2b962c0', '6108dc1a9', '8aa6e6863', '58d5f02cc', '0008e7054', 'a59b9df74', '49401bf74', '8e38db818', 'cf83a78bc', '8641641fa', '6ec38266d', '10e5c0cd5', '146fde688', '549bf1d17', 'df85f32a1', '58ce5d310', 'f65a92518', '057c717bc', '853032c5d', 'aab8c082a', '1cbb53760', '9e6b0d16e', 'aa70d5075', 'e563a7a53', '7f48f8f17', 'db09eff68', '4a8c0ed2a', 'bf3a2429a', '13e16f4e5', '8e8d5bf64', 'f0485700e', 'fff4abc0b', '625786afd', 'fc5faa04a', '312d44fd7', 'a828c6905', 'dfc6ac8db', '248bc2b6f', 'e6532fcdb', '2ef79d9c0', '3091bb06b', '7a45df221', '002834a2e', '0b565d5ef', 'b0406edeb', '570a2e8a5', '899c902df', '42b7a0ebd', 'dfca25ab0', '2ce7706df', '80ca040fc', '40bb8c0c4', 'a685ff4ca', '1504151a2', '72c2965ea', '897a4620f', '86dc93951', 'c35823557', '80d423992', 'a9cb48b28', '4d83fcd33', '3cbc9dc44', 'd64c8909a', '1f57793f0', 'cc80ef686', 'a7a84c080', '2471b81c9', '328f282a6', '62b068d81', '3ff518600', '902f240da', 'd8857091f', 'ed7f6834f', 'd84950254', '7d9d17630', '9460cba95', '77773a70f', '78906f80a', '00a4b0c9a', '1fa393721', 'e62293c9a', '06804b375', '1e0a75a2f', '638b7da8d', '3f68d0059', '48e541d55', '75bb47ed3', '93c1c8d3f', '3bb68af4a', '35c745696', 'dd349da04', 'c975567f6', '598815230', 'e3804fead', '98041af8e', '403f98af1', 'f5a54a10e', 'a71fe57f4', '8646d1645', 'bb112902e', '48ef9057c', '248a210cd', 'f3eed0bbd', '9995e0e70', '22a5aedfa', '4f538493c', '12344ea13', '0a4dfe1fc', '75931e1ae', 'a4011e9a0', '41aded992', '21bdd5501', '40930f265', '6f0f6296b', '9f8d0b6e6', '40dfbce2e', 'b4d711c05', '04958770f', '5ab30a0c7', '3b09f17c7', 'a0ef97e39', '9f76e1626', '352e1994c', '8f2c65ff6', '256e90cda', '9d4cfcaa5', '62223940c', '8070d873e', '7bd96cdba', 'ca26a12dd', '056ce3179', 'f1afb9211', 'b120cf241', '7a01d240e', '9a43e4f89', '6104b80a5', 'f2337070a', 'd700e0cb6', '85d4956c8', '46a9885ac', 'd8a900663', '28b7e2cd3', '3a5b19d24', 'd6dd625ac', '13949b363', '000bd3e3d', '1522f40a8', '926c36895', '7fd53d845', '59e2dadf7', '63edb59fe', '7c678f3a7', '203e6611e', '2a902328f', '5c3bb1df6', '0119cc6d7', '9a9240481', '4af34160d', '8e6fa420d', '5187ba786', 'f1f92a85e', 'd97cbda31', '95b954b21', 'ea17fbdc6', 'cc2a843a2', '5a2e8608d', 'ef68f585e', '0b893e6f5', 'aba486106', '285f847d6', '31e3dae10', 'b4e2bc2f1', 'cc7ba3635', '6e0b81afd', 'd988fa28c', '0905c556c', '24012a0da', '6e6f113f8', '0c1b04457', 'd82200d57', '43de1b642', 'd6711481a', 'fdc1365f7', 'd11089ead', 'a0e629dad', '609cdefad', 'f6d1ce364', '76a430956', '713447af2', '178e5ecc0', '0f48b44d0', '0a37a7f53', '93b785134', '67fb883c5', '4dfae9605', 'ce5bf459e', 'e5866bb6c', 'ba9f1b6f2', '10886a54f', 'b3d56c0ec', '626ec782f', '6d9347e8f', '563ad2c72', '65b4e6dff', '0e96cbac0', 'f80ae505c', '101ba5800', '3eedf9190', '06730ace5', 'b0faf93d2', '4fc52258f', '13a38b951', 'd6a10d3ca', 'b44044db5', 'f43f73011', 'ac17ddf19', 'aa6143ad5', 'eac28c10e', 'e007edb63', '1140acb34', 'dc3207905', '13aa64095', '6d00946f0', 'fb005bfdd', 'a8eaab3af', '845a0eb86', '2907d629d', '32bbe0386', '66ed98e41', '66d8d8805', '9ca26b6f2', '00a076048', '924b73789', 'e364ff647', 'e6a3b7609', 'c92b78dfd', '91add780f', 'b540145ee', '75a1e1061', 'b4248f061', 'fccaa9c21', '17b1aa6d8', '1efbcb255', 'e73d4c559', 'be938e689', 'f6a17e527', '1dd2ee3c8', '939196abf', 'a54cbc782', '635e5c530', 'df438bc93', 'd7c3c727b', 'ccdbca93a', '4e71b68f9', 'ddecf8885', 'bab157e32', 'c72fcf404', '613e5f6f5', '2d545925e', 'e72c3de22', '7c5ae6ba8', 'f0f0778ef', '94c73153e', '14a1fb02e', 'ec28986e7', 'cd661804f', '366278f40', '07884162a', 'f0e333021', '7c93bb327', 'd88ef1e5c', '2d1a17b6d', '97797a1d9', '8dbfd67fe', 'ccd78d9cf', '5ec505b95', '50ceeb647', 'bcd82b6ac', '72f95dfd7', '9a924c48a', '2d57b9da7', '02e8653bd', '295134864', '6cb6c9728', 'b0fd12e89', 'd25a25f65', '58f550c21', '613af3c13', '284b92eea', '9e251ab16', '7fe01ec1c', '3347bbd9b', 'ecffa2ee3', '95f73f7b1', 'f4705bf3c', 'e49aa5848', '2948daa33', '91d1db0bc', '08b0256d8', 'b4c293af0', 'a64477a61', '32537375c', '855874e06', '7f0665e1e', '31d58e578', 'b57773b40', '698b6b7ab', 'b6d1907e0', 'ec5562eaa', '7be1b076d', '0f1e96294', 'f4e22a80e', '01c5fa472', '4d3633336', 'd89fcaeca', '1e99908c4', 'deabe6af3', 'bf8aa000e', 'e283fe502', '01e51f4e1', 'd229ebc59', '1aad274c3', '42930083b', '5ea44af16', 'a9a332dc7', '8baad2054', '28bc3c503', '2eac07bdf', '7bbb2527f', 'f2acf2911', '9a20a6893', '994629a21', '329a3f42b', 'b0d4c6404', 'a5777c54b', '8eb46af7e', '56c4cb0bd', '9b736bf38', 'e5d178cae', '79197fbd9', '4f3d1f98a', 'c1642238d', 'db8bacb11', '3f19c3d8a', '946c05985', 'cbf76bec5', '76daad1ce', '4bc0be4a3', '326ba0aa0', '8122c23e1', '38b7a9b25', '29378cb05', 'aed509d65', '33fedd56a', 'fd41d2f1a', '66213efaf', '0c6760961', 'a0c7f06f1', 'dc26b8505', '5ef517d9a', 'b3ec4d91f', 'a7ded9a8a', 'e15c7b678', '7f1279ded', '6ad275d9e', 'c4223aa7f', '47334fb8e', '3c1b20c8a', '600c3dffb', 'c7cfed209', '9a996a8e7', 'b1d478247', '96cec6999', '9429e41d2', 'af85f8fc6', 'b0d19100d', '7099dfe59', '3ea725cf2', '4cf5dde81', '12634b6fd', '2483f1766', '5fac6d29a', '5f8a5cc65', '8ad3e6d38', 'a56698b84', '466f0fe93', '4a7d5cdfb', '117c4504b', '70fa14da8', '3ba7aae3d', '74360ff12', 'b54a6187f', '34be5c172', 'edf0e5332', 'fa13d91da', 'b68dfbb05', '4d787da4e', 'd14b9e374', 'f6919e06e', '8fc11271a', 'dddf59810', '1b59c98a1', '3e60d45bd', '74bc22d8b', '3889c105a', '8bbe8b31f', '05c4ea3d4', 'a9500432b', '0a51a5952', 'c49a36482', 'b698ba803', '8d6aba4ea', '94b256065', '9776f9efd', '7614263b6', '8d8362d80', '38596ae44', 'c5d1955ef', '353f29921', '7b3a0105c', '8efb9c42c', '370d4eab1', '63d63d2cf', '827d1034c', 'a849560f9', '4bc7856cc', '31938926b', '6dc45ea62', '2dcaf711f', '59d47d9fb', 'f2ff92a02', '10c2549d3', '58ab840fc', 'a7c3348cd', '8f1ed3417', 'acc8b9caa', '8581095a3', '08c88f89a', '03eed85b1', '7eaf16a23', 'f0868e800', '8329ab638', '468762b60', '7c39c7876', '048256d2a', '5b7bfe68b', 'fb10421f9', '9a93bd265', '5972dd4d3', 'd551e05c0', '9fef9ed75', '2fa38c324', 'e44d70990', 'c843b3b71', 'ddddafb95', '0eeab6aa2', '55cadaf7d', '8a919d8d5', '405871c33', 'f689ecbea', 'e982d4be7', '443944829', 'b4733fc6a', 'cd65d220a', 'fda25e6c6', '848f3a74d', 'b370e6c97', '06a6bf03c', '7192e46fe', 'a0e5f75f1', '19b17c680', '53ad3f8bf', 'bb56c372b', '83abfcdb2', '72eb209fd', 'dd31bfa46', 'a316557bb', '952668e80', 'db329e104', 'f46c876b3', 'a15668e7a', '18782472d', '924c9c9f4', 'ef3881c43', '0c95ef6d9', '40a1c4a52', '76ca7c72b', '5f99cd5c5', '9859d2867', '291add992', 'd7c54f240', '24ff7f077', '6605988fa', 'ebce5333e', 'b310b8bb6', '4df8136f6', 'c6b20f9dd', '55cdb547a', '7935130d9', 'a59d136a3', '7abcb598b', '304ae663d', 'e79b87256', 'd80ce33b1', '4726e69a6', 'cb70f14a4', 'a79ca05cc', '8709cdce6', '3a113016e', '43bcb9892', '493f93a34', '3bd085a7c', '0367416af', '4046c3eae', '5a3e9b31c', '386b29a58', 'a6e3b2e55', 'be4689cdf', '3a720888f', '075f72528', '19b58c6a9', '4d303f961', 'cb98888a6', '9461ccebd', 'a2292fca0', 'd3a2a79f5', '5b43b2d0a', '77ef5c7e2', 'c58d9f791', '1bd608ab3', '107d79e21', 'd9e135e85', '0f76b2114', '0dda1c639', '936717977', 'a37d95ec8', 'ba5b74354', 'c126e56fe', '11055db18', '8f51ecfce', '35022c4bd', 'c0ad22453', 'f5bd7d4e7', '19fb66f88', '541b4de4b', '47b2ecfee', '85d5719ec', 'b83ed879e', 'b86f09724', '3a9a5c1a9', '521dc0f41', '0b366a2ca', '95d144ac2', 'c84ca1c13', 'de760c385', 'da9400591', '6e3747aa5', '64cb6f5d1', '516b7ecaa', '31feefd65', 'f30bf2307', '2ff49e0c6', 'd12977dc1', '03728ab88', '82318ef56', 'd14f1f8dc', 'd98243119', 'd87e8f156', '2a82fd361', '639d8ad53', 'd712f1dd7', 'f3aab4943', 'fd9ec2dc5', 'c4b6f55f8', 'dfb3b5d65', '7eeb253e7', 'e07b91a4a', '1bfd63589', 'f6c737e95', '8057ad80a', '0a86a8c3f', '3c0aab332', '9f7a9d14b', '9b89f196e', 'e16fbccb6', '341a024c6', 'ab56fccc3', '5a0e82b91', '1c8e35a19', 'beb59adbe', 'b0cafa8f0', 'e0df428b0', 'a44b2f07b', '1cfbb3907', 'd8af7552c', '57f42bd0f', '25ccbcbbb', '6b2aae704', '3f1b404b0', '96419fe5b', '2f16ac495', '6154b95c2', 'd0c2cd24c', '9fde24fd9', '3cd993e94', 'a8c0bfeb0', '773cc7adc', '576ab2c7c', '667cdb6ef', '45949a69e', 'b92175329', 'e070dd3a0', '667ca5c3d', '51565b7cf', 'a8363744b', '17e419c31', 'de2e790b8', '5ccaed6bb', '584b0b40d', '8e4cf2973', '3b61f6efb', '5c851a4c2', 'd507e12d8', 'cc3737162', 'cd9e4aa67', '696a756c2', '456633874', '06b155819', 'aa0f30abd', '1d1305117', 'c954ba04e', '6bde0920f', '3c312d586', 'f99750a63', 'e4d384ff8', '67a7ea26a', '378b87bbb', '6a9e34bd1', 'c4f72cc54', '7eb39a088', '98b783709', '5ca78ea2f', '9980bdfe3', 'b203add9e', 'c4f05ecaf', '4e1a8e824', '59aed66ca', 'deac33a23', '819a8e985', '1d9183b77', 'c67607e5e', '6f061f2e5', '59b3e393c', 'c7ef598b7', '71cf85bda', '61651dcfa', 'ad8b6e30a', '5a0e3fa37', 'b01f1a559', 'd149ec75c', '08369131e', '118e5fe71', '846672036', '6f2181b2b', '5f0c259a8', '278c99c4b', '3b1e03c2d', 'fd0f97917', 'aec56161a', '31d4b6b54', '65a7816b3', '87e7625bc', 'ea85df7d5', '3d2e1a50b', '4c38300d6', '715d06fd2', '4a449ebfb', '6ffd1a9f2', 'e480e66d9', 'ac60b4dad', 'a2ba1b7ce', 'df5d1267c', '49ebf582d', 'eada92f23', '0b63ff6bc', 'b575b092e', '364249a60', '1a3612f25', '5c66c71b0', 'c1c5d17cf', '78eb7a754', '537664379', 'a9db43530', '6a0ef45d6', 'db28dca34', '055c648e2', '98a14ca21', '95c676f37', 'da9eae540', 'e1000a578', '91732f9de', '0511cf7c0', '6dbbd928c', '879cbc354', '3e7f89533', 'e450a708a', '28b295de8', '10d8724f6', '9e9b392a8', 'f55b2b36a', '0a2069b5f', 'd652cc9c2', 'cfd070eaa', 'c6614488e', '56ac6ecfc', 'c26c794b2', '41cc561ab', '3d2c46e12', 'a838059c7', '58bb6e15d', 'd2dd1651e', 'eac459235', 'b1d8d7e14', '1ea30896e', '9e05f2967', 'f39223cf1', 'f735259c9', '9ba4f4a5d', 'b85b03cb2', '67bba2b07', 'efa04891c', 'df6ee70ea', '28c61ad29', 'd98f15043', '4705a9cb7', '6167b570a', '3aefb8175', '1cad86ad7', '49ab4886d', 'e3f361230', '499046316', '625abcbdc', '9cce06270', '4a17017b6', 'a6513fd0a', 'a83cfb969', 'c642df048', '93dc2395f', '24a9d28cd', '771ee5c6e', '0705cecdd', 'a6a30c730', '6f73cec6c', 'bb5b3d10a', 'ccdbed0be', 'b7a4b8053', '056251a6d', 'b0b3e7a55', 'cee1a4bb4', '60f4cc80c', '75790c065', '99b9d5e33', 'b7e757904', '16a2770de', 'f46ccbfde', '408d874ff', 'c3e155f00', '5e00b25a3', '2aa7edf98', 'd7a7311ad', '2ec776ab0', '7f33d956a', '9bd51c0ff', '0cbcbc080', 'f9d956b54', 'cc0c6082c', 'a9b3f0e62', '48a38b7dd', '68ffa561d', '40a9af86f', '8ce217c23', '3ee76fdcd', '30dabd96d', '03df49ad7', 'e4cb254c8', '8219dd8e2', '04f4e3d8e', 'a18d2aa19', '805170c67', '3ce6b0a07', 'c19854c53', 'e37022420', '1bfe37e92', 'aab557eb2', 'cfa80b83e', '5c23b2bb1', '72b8c6255', '75cb53a13', 'bfe92cd28', '7cea7c04e', 'bcb5fad1a', '23cd65412', '844175942', '4947f5b1c', '20b87131d', 'de2dc341c', 'cdab6add7', 'cc6af7428', 'abedd9b2d', '49175cab1', '9bfe58cef', '291d33eed', '9a8ace193', '306ddd1cf', 'c753e1ff5', 'ba38e53a6', '9ee06effc', '11fa2494e', 'b08218af1', 'c0d98dc85', 'c9751f01d', '3b51e3e0d', 'e05e4c676']\n",
      "ord_1 ['Grandmaster', 'Expert', 'Novice', 'Contributor', 'Master']\n",
      "ord_2 ['Cold', 'Hot', 'Lava Hot', 'Boiling Hot', 'Freezing', 'Warm']\n",
      "ord_3 ['h', 'a', 'i', 'j', 'g', 'e', 'd', 'b', 'k', 'f', 'l', 'n', 'o', 'c', 'm']\n",
      "ord_4 ['D', 'A', 'R', 'E', 'P', 'K', 'V', 'Q', 'Z', 'L', 'F', 'T', 'U', 'S', 'Y', 'B', 'H', 'J', 'N', 'G', 'W', 'I', 'O', 'C', 'X', 'M']\n",
      "ord_5 ['kr', 'bF', 'Jc', 'kW', 'qP', 'PZ', 'wy', 'Ed', 'qo', 'CZ', 'qX', 'su', 'dP', 'aP', 'MV', 'oC', 'RL', 'fh', 'gJ', 'Hj', 'TR', 'CL', 'Sc', 'eQ', 'kC', 'qK', 'dh', 'gM', 'Jf', 'fO', 'Eg', 'KZ', 'Vx', 'Fo', 'sV', 'eb', 'YC', 'RG', 'Ye', 'qA', 'lL', 'Qh', 'Bd', 'be', 'hT', 'lF', 'nX', 'kK', 'av', 'uS', 'Jt', 'PA', 'Er', 'Qb', 'od', 'ut', 'Dx', 'Xi', 'on', 'Dc', 'sD', 'rZ', 'Uu', 'sn', 'yc', 'Gb', 'Kq', 'dQ', 'hp', 'kL', 'je', 'CU', 'Fd', 'PQ', 'Bn', 'ex', 'hh', 'ac', 'rp', 'dE', 'oG', 'oK', 'cp', 'mm', 'vK', 'ek', 'dO', 'XI', 'CM', 'Vf', 'aO', 'qv', 'jp', 'Zq', 'Qo', 'DN', 'TZ', 'ke', 'cG', 'tP', 'ud', 'tv', 'aM', 'xy', 'lx', 'To', 'uy', 'ZS', 'vy', 'ZR', 'AP', 'GJ', 'Wv', 'ri', 'qw', 'Xh', 'FI', 'nh', 'KR', 'dB', 'BE', 'Bb', 'mc', 'MC', 'tM', 'NV', 'ih', 'IK', 'Ob', 'RP', 'dN', 'us', 'dZ', 'yN', 'Nf', 'QM', 'jV', 'sY', 'wu', 'SB', 'UO', 'Mx', 'JX', 'Ry', 'Uk', 'uJ', 'LE', 'ps', 'kE', 'MO', 'kw', 'yY', 'zU', 'bJ', 'Kf', 'ck', 'mb', 'Os', 'Ps', 'Ml', 'Ai', 'Wc', 'GD', 'll', 'aF', 'iT', 'cA', 'WE', 'Gx', 'Nk', 'OR', 'Rm', 'BA', 'eG', 'cW', 'jS', 'DH', 'hL', 'Mf', 'Yb', 'Aj', 'oH', 'Zc', 'qJ', 'eg', 'xP', 'vq', 'Id', 'pa', 'ux', 'kU', 'Cl']\n"
     ]
    }
   ],
   "source": [
    "for i in train.select_dtypes(\"object\").columns:\n",
    "    print (i , train[i].unique().tolist())"
   ]
  },
  {
   "cell_type": "code",
   "execution_count": 5,
   "metadata": {},
   "outputs": [
    {
     "name": "stdout",
     "output_type": "stream",
     "text": [
      "bin_3 2\n",
      "bin_4 2\n",
      "nom_0 3\n",
      "nom_1 6\n",
      "nom_2 6\n",
      "nom_3 6\n",
      "nom_4 4\n",
      "nom_5 222\n",
      "nom_6 522\n",
      "nom_7 1220\n",
      "nom_8 2215\n",
      "nom_9 11981\n",
      "ord_1 5\n",
      "ord_2 6\n",
      "ord_3 15\n",
      "ord_4 26\n",
      "ord_5 192\n"
     ]
    }
   ],
   "source": [
    "for i in train.select_dtypes(\"object\").columns:\n",
    "    print (i , len(train[i].unique().tolist()))"
   ]
  },
  {
   "cell_type": "code",
   "execution_count": 6,
   "metadata": {},
   "outputs": [
    {
     "name": "stdout",
     "output_type": "stream",
     "text": [
      "bin_3 2\n",
      "bin_4 2\n",
      "nom_0 3\n",
      "nom_1 6\n",
      "nom_2 6\n",
      "nom_3 6\n",
      "nom_4 4\n",
      "nom_5 222\n",
      "nom_6 522\n",
      "nom_7 1219\n",
      "nom_8 2214\n",
      "nom_9 11839\n",
      "ord_1 5\n",
      "ord_2 6\n",
      "ord_3 15\n",
      "ord_4 26\n",
      "ord_5 192\n"
     ]
    }
   ],
   "source": [
    "for i in test.select_dtypes(\"object\").columns:\n",
    "    print (i , len(test[i].unique().tolist()))"
   ]
  },
  {
   "cell_type": "code",
   "execution_count": 7,
   "metadata": {},
   "outputs": [
    {
     "data": {
      "text/plain": [
       "<AxesSubplot: >"
      ]
     },
     "execution_count": 7,
     "metadata": {},
     "output_type": "execute_result"
    },
    {
     "data": {
      "image/png": "[encoded data removed]",
      "text/plain": [
       "<Figure size 640x480 with 1 Axes>"
      ]
     },
     "metadata": {},
     "output_type": "display_data"
    }
   ],
   "source": [
    "train['bin_0'].value_counts().plot.bar()"
   ]
  },
  {
   "cell_type": "code",
   "execution_count": 8,
   "metadata": {},
   "outputs": [
    {
     "data": {
      "text/plain": [
       "<AxesSubplot: >"
      ]
     },
     "execution_count": 8,
     "metadata": {},
     "output_type": "execute_result"
    },
    {
     "data": {
      "image/png": "[encoded data removed]",
      "text/plain": [
       "<Figure size 640x480 with 1 Axes>"
      ]
     },
     "metadata": {},
     "output_type": "display_data"
    }
   ],
   "source": [
    "train['bin_1'].value_counts().plot.bar()"
   ]
  },
  {
   "cell_type": "code",
   "execution_count": 9,
   "metadata": {},
   "outputs": [
    {
     "data": {
      "text/plain": [
       "<AxesSubplot: >"
      ]
     },
     "execution_count": 9,
     "metadata": {},
     "output_type": "execute_result"
    },
    {
     "data": {
      "image/png": "[encoded data removed]",
      "text/plain": [
       "<Figure size 640x480 with 1 Axes>"
      ]
     },
     "metadata": {},
     "output_type": "display_data"
    }
   ],
   "source": [
    "train['bin_2'].value_counts().plot.bar()"
   ]
  },
  {
   "cell_type": "code",
   "execution_count": 10,
   "metadata": {},
   "outputs": [
    {
     "data": {
      "text/plain": [
       "<AxesSubplot: >"
      ]
     },
     "execution_count": 10,
     "metadata": {},
     "output_type": "execute_result"
    },
    {
     "data": {
      "image/png": "[encoded data removed]",
      "text/plain": [
       "<Figure size 640x480 with 1 Axes>"
      ]
     },
     "metadata": {},
     "output_type": "display_data"
    }
   ],
   "source": [
    "train['bin_3'].value_counts().plot.bar()"
   ]
  },
  {
   "cell_type": "code",
   "execution_count": 11,
   "metadata": {},
   "outputs": [
    {
     "data": {
      "text/plain": [
       "<AxesSubplot: >"
      ]
     },
     "execution_count": 11,
     "metadata": {},
     "output_type": "execute_result"
    },
    {
     "data": {
      "image/png": "[encoded data removed]",
      "text/plain": [
       "<Figure size 640x480 with 1 Axes>"
      ]
     },
     "metadata": {},
     "output_type": "display_data"
    }
   ],
   "source": [
    "train['bin_4'].value_counts().plot.bar()"
   ]
  },
  {
   "cell_type": "code",
   "execution_count": 12,
   "metadata": {},
   "outputs": [
    {
     "data": {
      "text/plain": [
       "<AxesSubplot: >"
      ]
     },
     "execution_count": 12,
     "metadata": {},
     "output_type": "execute_result"
    },
    {
     "data": {
      "image/png": "[encoded data removed]",
      "text/plain": [
       "<Figure size 640x480 with 1 Axes>"
      ]
     },
     "metadata": {},
     "output_type": "display_data"
    }
   ],
   "source": [
    "train['nom_0'].value_counts().plot.bar()"
   ]
  },
  {
   "cell_type": "code",
   "execution_count": 13,
   "metadata": {},
   "outputs": [
    {
     "data": {
      "text/plain": [
       "<AxesSubplot: >"
      ]
     },
     "execution_count": 13,
     "metadata": {},
     "output_type": "execute_result"
    },
    {
     "data": {
      "image/png": "[encoded data removed]",
      "text/plain": [
       "<Figure size 640x480 with 1 Axes>"
      ]
     },
     "metadata": {},
     "output_type": "display_data"
    }
   ],
   "source": [
    "train['nom_1'].value_counts().plot.bar()"
   ]
  },
  {
   "cell_type": "code",
   "execution_count": 14,
   "metadata": {},
   "outputs": [
    {
     "data": {
      "text/plain": [
       "<AxesSubplot: >"
      ]
     },
     "execution_count": 14,
     "metadata": {},
     "output_type": "execute_result"
    },
    {
     "data": {
      "image/png": "[encoded data removed]",
      "text/plain": [
       "<Figure size 640x480 with 1 Axes>"
      ]
     },
     "metadata": {},
     "output_type": "display_data"
    }
   ],
   "source": [
    "train['nom_2'].value_counts().plot.bar()"
   ]
  },
  {
   "cell_type": "code",
   "execution_count": 15,
   "metadata": {},
   "outputs": [
    {
     "data": {
      "text/plain": [
       "<AxesSubplot: >"
      ]
     },
     "execution_count": 15,
     "metadata": {},
     "output_type": "execute_result"
    },
    {
     "data": {
      "image/png": "[encoded data removed]",
      "text/plain": [
       "<Figure size 640x480 with 1 Axes>"
      ]
     },
     "metadata": {},
     "output_type": "display_data"
    }
   ],
   "source": [
    "train['nom_3'].value_counts().plot.bar()"
   ]
  },
  {
   "cell_type": "code",
   "execution_count": 16,
   "metadata": {},
   "outputs": [
    {
     "data": {
      "text/plain": [
       "<AxesSubplot: >"
      ]
     },
     "execution_count": 16,
     "metadata": {},
     "output_type": "execute_result"
    },
    {
     "data": {
      "image/png": "[encoded data removed]",
      "text/plain": [
       "<Figure size 640x480 with 1 Axes>"
      ]
     },
     "metadata": {},
     "output_type": "display_data"
    }
   ],
   "source": [
    "train['nom_4'].value_counts().plot.bar()"
   ]
  },
  {
   "cell_type": "code",
   "execution_count": 19,
   "metadata": {},
   "outputs": [],
   "source": [
    "vc = train['nom_9'].value_counts()"
   ]
  },
  {
   "cell_type": "code",
   "execution_count": 20,
   "metadata": {},
   "outputs": [
    {
     "data": {
      "text/plain": [
       "36"
      ]
     },
     "execution_count": 20,
     "metadata": {},
     "output_type": "execute_result"
    }
   ],
   "source": [
    "len(vc[vc > 60].index.tolist())"
   ]
  },
  {
   "cell_type": "code",
   "execution_count": 21,
   "metadata": {},
   "outputs": [
    {
     "data": {
      "text/plain": [
       "239"
      ]
     },
     "execution_count": 21,
     "metadata": {},
     "output_type": "execute_result"
    }
   ],
   "source": [
    "len(vc[vc < 2].index.tolist())"
   ]
  },
  {
   "cell_type": "code",
   "execution_count": 22,
   "metadata": {},
   "outputs": [
    {
     "data": {
      "text/plain": [
       "0         19\n",
       "1         13\n",
       "2         29\n",
       "3         44\n",
       "4         35\n",
       "          ..\n",
       "299995    44\n",
       "299996    36\n",
       "299997    30\n",
       "299998    25\n",
       "299999    23\n",
       "Name: nom_9, Length: 300000, dtype: int64"
      ]
     },
     "execution_count": 22,
     "metadata": {},
     "output_type": "execute_result"
    }
   ],
   "source": [
    "train.nom_9.map(train.nom_9.value_counts())"
   ]
  },
  {
   "cell_type": "code",
   "execution_count": 23,
   "metadata": {},
   "outputs": [
    {
     "data": {
      "text/plain": [
       "<AxesSubplot: >"
      ]
     },
     "execution_count": 23,
     "metadata": {},
     "output_type": "execute_result"
    },
    {
     "data": {
      "image/png": "[encoded data removed]",
      "text/plain": [
       "<Figure size 640x480 with 1 Axes>"
      ]
     },
     "metadata": {},
     "output_type": "display_data"
    }
   ],
   "source": [
    "train['ord_0'].value_counts().plot.bar()"
   ]
  },
  {
   "cell_type": "code",
   "execution_count": 24,
   "metadata": {},
   "outputs": [
    {
     "data": {
      "text/plain": [
       "<AxesSubplot: >"
      ]
     },
     "execution_count": 24,
     "metadata": {},
     "output_type": "execute_result"
    },
    {
     "data": {
      "image/png": "[encoded data removed]",
      "text/plain": [
       "<Figure size 640x480 with 1 Axes>"
      ]
     },
     "metadata": {},
     "output_type": "display_data"
    }
   ],
   "source": [
    "train['ord_1'].value_counts().plot.bar()"
   ]
  },
  {
   "cell_type": "code",
   "execution_count": 25,
   "metadata": {},
   "outputs": [
    {
     "data": {
      "text/plain": [
       "<AxesSubplot: >"
      ]
     },
     "execution_count": 25,
     "metadata": {},
     "output_type": "execute_result"
    },
    {
     "data": {
      "image/png": "[encoded data removed]",
      "text/plain": [
       "<Figure size 640x480 with 1 Axes>"
      ]
     },
     "metadata": {},
     "output_type": "display_data"
    }
   ],
   "source": [
    "train['ord_2'].value_counts().plot.bar()"
   ]
  },
  {
   "cell_type": "code",
   "execution_count": 26,
   "metadata": {},
   "outputs": [
    {
     "data": {
      "text/plain": [
       "<AxesSubplot: >"
      ]
     },
     "execution_count": 26,
     "metadata": {},
     "output_type": "execute_result"
    },
    {
     "data": {
      "image/png": "[encoded data removed]",
      "text/plain": [
       "<Figure size 640x480 with 1 Axes>"
      ]
     },
     "metadata": {},
     "output_type": "display_data"
    }
   ],
   "source": [
    "train['ord_3'].value_counts().plot.bar()"
   ]
  },
  {
   "cell_type": "code",
   "execution_count": 27,
   "metadata": {},
   "outputs": [
    {
     "data": {
      "text/plain": [
       "<AxesSubplot: >"
      ]
     },
     "execution_count": 27,
     "metadata": {},
     "output_type": "execute_result"
    },
    {
     "data": {
      "image/png": "[encoded data removed]",
      "text/plain": [
       "<Figure size 640x480 with 1 Axes>"
      ]
     },
     "metadata": {},
     "output_type": "display_data"
    }
   ],
   "source": [
    "train['ord_4'].value_counts().plot.bar()"
   ]
  },
  {
   "cell_type": "code",
   "execution_count": 28,
   "metadata": {},
   "outputs": [
    {
     "data": {
      "text/plain": [
       "<AxesSubplot: >"
      ]
     },
     "execution_count": 28,
     "metadata": {},
     "output_type": "execute_result"
    },
    {
     "data": {
      "image/png": "[encoded data removed]",
      "text/plain": [
       "<Figure size 640x480 with 1 Axes>"
      ]
     },
     "metadata": {},
     "output_type": "display_data"
    }
   ],
   "source": [
    "train['ord_5'].value_counts().plot.bar()"
   ]
  },
  {
   "cell_type": "code",
   "execution_count": 29,
   "metadata": {},
   "outputs": [
    {
     "data": {
      "text/plain": [
       "<AxesSubplot: >"
      ]
     },
     "execution_count": 29,
     "metadata": {},
     "output_type": "execute_result"
    },
    {
     "data": {
      "image/png": "[encoded data removed]",
      "text/plain": [
       "<Figure size 640x480 with 1 Axes>"
      ]
     },
     "metadata": {},
     "output_type": "display_data"
    }
   ],
   "source": [
    "train['day'].value_counts().plot.bar()"
   ]
  },
  {
   "cell_type": "code",
   "execution_count": 30,
   "metadata": {},
   "outputs": [
    {
     "data": {
      "text/plain": [
       "<AxesSubplot: >"
      ]
     },
     "execution_count": 30,
     "metadata": {},
     "output_type": "execute_result"
    },
    {
     "data": {
      "image/png": "[encoded data removed]",
      "text/plain": [
       "<Figure size 640x480 with 1 Axes>"
      ]
     },
     "metadata": {},
     "output_type": "display_data"
    }
   ],
   "source": [
    "train['month'].value_counts().plot.bar()"
   ]
  },
  {
   "cell_type": "code",
   "execution_count": 31,
   "metadata": {},
   "outputs": [
    {
     "data": {
      "text/plain": [
       "['Green', 'Blue', 'Red']"
      ]
     },
     "execution_count": 31,
     "metadata": {},
     "output_type": "execute_result"
    }
   ],
   "source": [
    "train.nom_0.unique().tolist()"
   ]
  },
  {
   "cell_type": "code",
   "execution_count": 32,
   "metadata": {},
   "outputs": [
    {
     "data": {
      "text/plain": [
       "['Triangle', 'Trapezoid', 'Polygon', 'Square', 'Star', 'Circle']"
      ]
     },
     "execution_count": 32,
     "metadata": {},
     "output_type": "execute_result"
    }
   ],
   "source": [
    "train.nom_1.unique().tolist()"
   ]
  },
  {
   "cell_type": "code",
   "execution_count": 33,
   "metadata": {},
   "outputs": [
    {
     "data": {
      "text/plain": [
       "['Snake', 'Hamster', 'Lion', 'Cat', 'Dog', 'Axolotl']"
      ]
     },
     "execution_count": 33,
     "metadata": {},
     "output_type": "execute_result"
    }
   ],
   "source": [
    "train.nom_2.unique().tolist()"
   ]
  },
  {
   "cell_type": "code",
   "execution_count": 34,
   "metadata": {},
   "outputs": [
    {
     "data": {
      "text/plain": [
       "['Finland', 'Russia', 'Canada', 'Costa Rica', 'China', 'India']"
      ]
     },
     "execution_count": 34,
     "metadata": {},
     "output_type": "execute_result"
    }
   ],
   "source": [
    "train.nom_3.unique().tolist()"
   ]
  },
  {
   "cell_type": "code",
   "execution_count": 35,
   "metadata": {},
   "outputs": [
    {
     "data": {
      "text/plain": [
       "['Bassoon', 'Piano', 'Theremin', 'Oboe']"
      ]
     },
     "execution_count": 35,
     "metadata": {},
     "output_type": "execute_result"
    }
   ],
   "source": [
    "train.nom_4.unique().tolist()"
   ]
  },
  {
   "cell_type": "code",
   "execution_count": 36,
   "metadata": {},
   "outputs": [
    {
     "data": {
      "text/plain": [
       "222"
      ]
     },
     "execution_count": 36,
     "metadata": {},
     "output_type": "execute_result"
    }
   ],
   "source": [
    "len(train.nom_5.unique())"
   ]
  },
  {
   "cell_type": "code",
   "execution_count": 37,
   "metadata": {},
   "outputs": [
    {
     "data": {
      "text/plain": [
       "522"
      ]
     },
     "execution_count": 37,
     "metadata": {},
     "output_type": "execute_result"
    }
   ],
   "source": [
    "train.nom_6.unique()\n",
    "\n",
    "len(train.nom_6.unique())"
   ]
  },
  {
   "cell_type": "code",
   "execution_count": 38,
   "metadata": {},
   "outputs": [
    {
     "data": {
      "text/plain": [
       "522"
      ]
     },
     "execution_count": 38,
     "metadata": {},
     "output_type": "execute_result"
    }
   ],
   "source": [
    "len(test.nom_6.unique())"
   ]
  },
  {
   "cell_type": "code",
   "execution_count": 65,
   "metadata": {},
   "outputs": [],
   "source": [
    "train.nom_6 = train.nom_6.map(train.nom_6.value_counts())\n",
    "test.nom_6 = test.nom_6.map(test.nom_6.value_counts())"
   ]
  },
  {
   "cell_type": "code",
   "execution_count": 39,
   "metadata": {},
   "outputs": [
    {
     "data": {
      "text/plain": [
       "1220"
      ]
     },
     "execution_count": 39,
     "metadata": {},
     "output_type": "execute_result"
    }
   ],
   "source": [
    "train.nom_7.unique()\n",
    "\n",
    "len(train.nom_7.unique())"
   ]
  },
  {
   "cell_type": "code",
   "execution_count": 40,
   "metadata": {},
   "outputs": [
    {
     "data": {
      "text/plain": [
       "1219"
      ]
     },
     "execution_count": 40,
     "metadata": {},
     "output_type": "execute_result"
    }
   ],
   "source": [
    "len(test.nom_7.unique())"
   ]
  },
  {
   "cell_type": "code",
   "execution_count": 41,
   "metadata": {},
   "outputs": [],
   "source": [
    "train.nom_7 = train.nom_7.map(train.nom_7.value_counts())"
   ]
  },
  {
   "cell_type": "code",
   "execution_count": 42,
   "metadata": {},
   "outputs": [],
   "source": [
    "test.nom_7 = test.nom_7.map(test.nom_7.value_counts())"
   ]
  },
  {
   "cell_type": "code",
   "execution_count": 43,
   "metadata": {},
   "outputs": [
    {
     "data": {
      "text/plain": [
       "2215"
      ]
     },
     "execution_count": 43,
     "metadata": {},
     "output_type": "execute_result"
    }
   ],
   "source": [
    "train.nom_8.unique()\n",
    "\n",
    "len(train.nom_8.unique())"
   ]
  },
  {
   "cell_type": "code",
   "execution_count": 44,
   "metadata": {},
   "outputs": [
    {
     "data": {
      "text/plain": [
       "2214"
      ]
     },
     "execution_count": 44,
     "metadata": {},
     "output_type": "execute_result"
    }
   ],
   "source": [
    "len(test.nom_8.unique())"
   ]
  },
  {
   "cell_type": "code",
   "execution_count": 45,
   "metadata": {},
   "outputs": [],
   "source": [
    "train.nom_8 = train.nom_8.map(train.nom_8.value_counts())"
   ]
  },
  {
   "cell_type": "code",
   "execution_count": 46,
   "metadata": {},
   "outputs": [],
   "source": [
    "test.nom_8 = test.nom_8.map(test.nom_8.value_counts())"
   ]
  },
  {
   "cell_type": "code",
   "execution_count": 47,
   "metadata": {},
   "outputs": [
    {
     "data": {
      "text/plain": [
       "11981"
      ]
     },
     "execution_count": 47,
     "metadata": {},
     "output_type": "execute_result"
    }
   ],
   "source": [
    "train.nom_9.unique()\n",
    "\n",
    "len(train.nom_9.unique())"
   ]
  },
  {
   "cell_type": "code",
   "execution_count": 48,
   "metadata": {},
   "outputs": [],
   "source": [
    "train.nom_9 = train.nom_9.map(train.nom_9.value_counts())"
   ]
  },
  {
   "cell_type": "code",
   "execution_count": 49,
   "metadata": {},
   "outputs": [],
   "source": [
    "test.nom_9 = test.nom_9.map(test.nom_9.value_counts())"
   ]
  },
  {
   "cell_type": "code",
   "execution_count": 50,
   "metadata": {},
   "outputs": [
    {
     "data": {
      "text/plain": [
       "[2, 1, 3]"
      ]
     },
     "execution_count": 50,
     "metadata": {},
     "output_type": "execute_result"
    }
   ],
   "source": [
    "train.ord_0.unique().tolist()"
   ]
  },
  {
   "cell_type": "code",
   "execution_count": 51,
   "metadata": {},
   "outputs": [
    {
     "data": {
      "text/plain": [
       "['Grandmaster', 'Expert', 'Novice', 'Contributor', 'Master']"
      ]
     },
     "execution_count": 51,
     "metadata": {},
     "output_type": "execute_result"
    }
   ],
   "source": [
    "train.ord_1.unique().tolist()"
   ]
  },
  {
   "cell_type": "code",
   "execution_count": 52,
   "metadata": {},
   "outputs": [
    {
     "data": {
      "text/plain": [
       "['Cold', 'Hot', 'Lava Hot', 'Boiling Hot', 'Freezing', 'Warm']"
      ]
     },
     "execution_count": 52,
     "metadata": {},
     "output_type": "execute_result"
    }
   ],
   "source": [
    "train.ord_2.unique().tolist()"
   ]
  },
  {
   "cell_type": "code",
   "execution_count": 53,
   "metadata": {},
   "outputs": [
    {
     "data": {
      "text/plain": [
       "['h', 'a', 'i', 'j', 'g', 'e', 'd', 'b', 'k', 'f', 'l', 'n', 'o', 'c', 'm']"
      ]
     },
     "execution_count": 53,
     "metadata": {},
     "output_type": "execute_result"
    }
   ],
   "source": [
    "train.ord_3.unique().tolist()"
   ]
  },
  {
   "cell_type": "code",
   "execution_count": 54,
   "metadata": {},
   "outputs": [
    {
     "data": {
      "text/plain": [
       "['D',\n",
       " 'A',\n",
       " 'R',\n",
       " 'E',\n",
       " 'P',\n",
       " 'K',\n",
       " 'V',\n",
       " 'Q',\n",
       " 'Z',\n",
       " 'L',\n",
       " 'F',\n",
       " 'T',\n",
       " 'U',\n",
       " 'S',\n",
       " 'Y',\n",
       " 'B',\n",
       " 'H',\n",
       " 'J',\n",
       " 'N',\n",
       " 'G',\n",
       " 'W',\n",
       " 'I',\n",
       " 'O',\n",
       " 'C',\n",
       " 'X',\n",
       " 'M']"
      ]
     },
     "execution_count": 54,
     "metadata": {},
     "output_type": "execute_result"
    }
   ],
   "source": [
    "train.ord_4.unique().tolist()"
   ]
  },
  {
   "cell_type": "code",
   "execution_count": 55,
   "metadata": {},
   "outputs": [
    {
     "data": {
      "text/plain": [
       "['kr',\n",
       " 'bF',\n",
       " 'Jc',\n",
       " 'kW',\n",
       " 'qP',\n",
       " 'PZ',\n",
       " 'wy',\n",
       " 'Ed',\n",
       " 'qo',\n",
       " 'CZ',\n",
       " 'qX',\n",
       " 'su',\n",
       " 'dP',\n",
       " 'aP',\n",
       " 'MV',\n",
       " 'oC',\n",
       " 'RL',\n",
       " 'fh',\n",
       " 'gJ',\n",
       " 'Hj',\n",
       " 'TR',\n",
       " 'CL',\n",
       " 'Sc',\n",
       " 'eQ',\n",
       " 'kC',\n",
       " 'qK',\n",
       " 'dh',\n",
       " 'gM',\n",
       " 'Jf',\n",
       " 'fO',\n",
       " 'Eg',\n",
       " 'KZ',\n",
       " 'Vx',\n",
       " 'Fo',\n",
       " 'sV',\n",
       " 'eb',\n",
       " 'YC',\n",
       " 'RG',\n",
       " 'Ye',\n",
       " 'qA',\n",
       " 'lL',\n",
       " 'Qh',\n",
       " 'Bd',\n",
       " 'be',\n",
       " 'hT',\n",
       " 'lF',\n",
       " 'nX',\n",
       " 'kK',\n",
       " 'av',\n",
       " 'uS',\n",
       " 'Jt',\n",
       " 'PA',\n",
       " 'Er',\n",
       " 'Qb',\n",
       " 'od',\n",
       " 'ut',\n",
       " 'Dx',\n",
       " 'Xi',\n",
       " 'on',\n",
       " 'Dc',\n",
       " 'sD',\n",
       " 'rZ',\n",
       " 'Uu',\n",
       " 'sn',\n",
       " 'yc',\n",
       " 'Gb',\n",
       " 'Kq',\n",
       " 'dQ',\n",
       " 'hp',\n",
       " 'kL',\n",
       " 'je',\n",
       " 'CU',\n",
       " 'Fd',\n",
       " 'PQ',\n",
       " 'Bn',\n",
       " 'ex',\n",
       " 'hh',\n",
       " 'ac',\n",
       " 'rp',\n",
       " 'dE',\n",
       " 'oG',\n",
       " 'oK',\n",
       " 'cp',\n",
       " 'mm',\n",
       " 'vK',\n",
       " 'ek',\n",
       " 'dO',\n",
       " 'XI',\n",
       " 'CM',\n",
       " 'Vf',\n",
       " 'aO',\n",
       " 'qv',\n",
       " 'jp',\n",
       " 'Zq',\n",
       " 'Qo',\n",
       " 'DN',\n",
       " 'TZ',\n",
       " 'ke',\n",
       " 'cG',\n",
       " 'tP',\n",
       " 'ud',\n",
       " 'tv',\n",
       " 'aM',\n",
       " 'xy',\n",
       " 'lx',\n",
       " 'To',\n",
       " 'uy',\n",
       " 'ZS',\n",
       " 'vy',\n",
       " 'ZR',\n",
       " 'AP',\n",
       " 'GJ',\n",
       " 'Wv',\n",
       " 'ri',\n",
       " 'qw',\n",
       " 'Xh',\n",
       " 'FI',\n",
       " 'nh',\n",
       " 'KR',\n",
       " 'dB',\n",
       " 'BE',\n",
       " 'Bb',\n",
       " 'mc',\n",
       " 'MC',\n",
       " 'tM',\n",
       " 'NV',\n",
       " 'ih',\n",
       " 'IK',\n",
       " 'Ob',\n",
       " 'RP',\n",
       " 'dN',\n",
       " 'us',\n",
       " 'dZ',\n",
       " 'yN',\n",
       " 'Nf',\n",
       " 'QM',\n",
       " 'jV',\n",
       " 'sY',\n",
       " 'wu',\n",
       " 'SB',\n",
       " 'UO',\n",
       " 'Mx',\n",
       " 'JX',\n",
       " 'Ry',\n",
       " 'Uk',\n",
       " 'uJ',\n",
       " 'LE',\n",
       " 'ps',\n",
       " 'kE',\n",
       " 'MO',\n",
       " 'kw',\n",
       " 'yY',\n",
       " 'zU',\n",
       " 'bJ',\n",
       " 'Kf',\n",
       " 'ck',\n",
       " 'mb',\n",
       " 'Os',\n",
       " 'Ps',\n",
       " 'Ml',\n",
       " 'Ai',\n",
       " 'Wc',\n",
       " 'GD',\n",
       " 'll',\n",
       " 'aF',\n",
       " 'iT',\n",
       " 'cA',\n",
       " 'WE',\n",
       " 'Gx',\n",
       " 'Nk',\n",
       " 'OR',\n",
       " 'Rm',\n",
       " 'BA',\n",
       " 'eG',\n",
       " 'cW',\n",
       " 'jS',\n",
       " 'DH',\n",
       " 'hL',\n",
       " 'Mf',\n",
       " 'Yb',\n",
       " 'Aj',\n",
       " 'oH',\n",
       " 'Zc',\n",
       " 'qJ',\n",
       " 'eg',\n",
       " 'xP',\n",
       " 'vq',\n",
       " 'Id',\n",
       " 'pa',\n",
       " 'ux',\n",
       " 'kU',\n",
       " 'Cl']"
      ]
     },
     "execution_count": 55,
     "metadata": {},
     "output_type": "execute_result"
    }
   ],
   "source": [
    "train.ord_5.unique().tolist()"
   ]
  },
  {
   "attachments": {},
   "cell_type": "markdown",
   "metadata": {},
   "source": [
    "# Corrections to the data"
   ]
  },
  {
   "cell_type": "code",
   "execution_count": 56,
   "metadata": {},
   "outputs": [],
   "source": [
    "train.bin_3.replace({'T':1 , 'F': 0}, inplace=True)"
   ]
  },
  {
   "cell_type": "code",
   "execution_count": 57,
   "metadata": {},
   "outputs": [],
   "source": [
    "test.bin_3.replace({'T':1 , 'F': 0}, inplace=True)"
   ]
  },
  {
   "cell_type": "code",
   "execution_count": 58,
   "metadata": {},
   "outputs": [],
   "source": [
    "train.bin_4.replace({'Y':1 , 'N': 0}, inplace=True)"
   ]
  },
  {
   "cell_type": "code",
   "execution_count": 59,
   "metadata": {},
   "outputs": [],
   "source": [
    "test.bin_4.replace({'Y':1 , 'N': 0}, inplace=True)"
   ]
  },
  {
   "cell_type": "code",
   "execution_count": 60,
   "metadata": {},
   "outputs": [
    {
     "name": "stdout",
     "output_type": "stream",
     "text": [
      "<class 'pandas.core.frame.DataFrame'>\n",
      "RangeIndex: 300000 entries, 0 to 299999\n",
      "Data columns (total 25 columns):\n",
      " #   Column  Non-Null Count   Dtype \n",
      "---  ------  --------------   ----- \n",
      " 0   id      300000 non-null  int64 \n",
      " 1   bin_0   300000 non-null  int64 \n",
      " 2   bin_1   300000 non-null  int64 \n",
      " 3   bin_2   300000 non-null  int64 \n",
      " 4   bin_3   300000 non-null  int64 \n",
      " 5   bin_4   300000 non-null  int64 \n",
      " 6   nom_0   300000 non-null  object\n",
      " 7   nom_1   300000 non-null  object\n",
      " 8   nom_2   300000 non-null  object\n",
      " 9   nom_3   300000 non-null  object\n",
      " 10  nom_4   300000 non-null  object\n",
      " 11  nom_5   300000 non-null  object\n",
      " 12  nom_6   300000 non-null  object\n",
      " 13  nom_7   300000 non-null  int64 \n",
      " 14  nom_8   300000 non-null  int64 \n",
      " 15  nom_9   300000 non-null  int64 \n",
      " 16  ord_0   300000 non-null  int64 \n",
      " 17  ord_1   300000 non-null  object\n",
      " 18  ord_2   300000 non-null  object\n",
      " 19  ord_3   300000 non-null  object\n",
      " 20  ord_4   300000 non-null  object\n",
      " 21  ord_5   300000 non-null  object\n",
      " 22  day     300000 non-null  int64 \n",
      " 23  month   300000 non-null  int64 \n",
      " 24  target  300000 non-null  int64 \n",
      "dtypes: int64(13), object(12)\n",
      "memory usage: 57.2+ MB\n"
     ]
    }
   ],
   "source": [
    "train.info()"
   ]
  },
  {
   "cell_type": "code",
   "execution_count": 61,
   "metadata": {},
   "outputs": [
    {
     "name": "stdout",
     "output_type": "stream",
     "text": [
      "<class 'pandas.core.frame.DataFrame'>\n",
      "RangeIndex: 200000 entries, 0 to 199999\n",
      "Data columns (total 24 columns):\n",
      " #   Column  Non-Null Count   Dtype \n",
      "---  ------  --------------   ----- \n",
      " 0   id      200000 non-null  int64 \n",
      " 1   bin_0   200000 non-null  int64 \n",
      " 2   bin_1   200000 non-null  int64 \n",
      " 3   bin_2   200000 non-null  int64 \n",
      " 4   bin_3   200000 non-null  int64 \n",
      " 5   bin_4   200000 non-null  int64 \n",
      " 6   nom_0   200000 non-null  object\n",
      " 7   nom_1   200000 non-null  object\n",
      " 8   nom_2   200000 non-null  object\n",
      " 9   nom_3   200000 non-null  object\n",
      " 10  nom_4   200000 non-null  object\n",
      " 11  nom_5   200000 non-null  object\n",
      " 12  nom_6   200000 non-null  object\n",
      " 13  nom_7   200000 non-null  int64 \n",
      " 14  nom_8   200000 non-null  int64 \n",
      " 15  nom_9   200000 non-null  int64 \n",
      " 16  ord_0   200000 non-null  int64 \n",
      " 17  ord_1   200000 non-null  object\n",
      " 18  ord_2   200000 non-null  object\n",
      " 19  ord_3   200000 non-null  object\n",
      " 20  ord_4   200000 non-null  object\n",
      " 21  ord_5   200000 non-null  object\n",
      " 22  day     200000 non-null  int64 \n",
      " 23  month   200000 non-null  int64 \n",
      "dtypes: int64(12), object(12)\n",
      "memory usage: 36.6+ MB\n"
     ]
    }
   ],
   "source": [
    "test.info()"
   ]
  },
  {
   "cell_type": "code",
   "execution_count": 62,
   "metadata": {},
   "outputs": [
    {
     "data": {
      "text/plain": [
       "[2, 7, 5, 4, 3, 1, 6]"
      ]
     },
     "execution_count": 62,
     "metadata": {},
     "output_type": "execute_result"
    }
   ],
   "source": [
    "train.day.unique().tolist()"
   ]
  },
  {
   "cell_type": "code",
   "execution_count": 63,
   "metadata": {},
   "outputs": [
    {
     "data": {
      "text/plain": [
       "[2, 8, 1, 4, 10, 3, 7, 9, 12, 11, 5, 6]"
      ]
     },
     "execution_count": 63,
     "metadata": {},
     "output_type": "execute_result"
    }
   ],
   "source": [
    "train.month.unique().tolist()"
   ]
  },
  {
   "cell_type": "code",
   "execution_count": 41,
   "metadata": {},
   "outputs": [],
   "source": [
    "ord_train = train[[\"ord_0\", \"ord_1\" , \"ord_2\" , \"ord_3\" , \"ord_4\" , \"ord_5\"]]"
   ]
  },
  {
   "cell_type": "code",
   "execution_count": 42,
   "metadata": {},
   "outputs": [],
   "source": [
    "ord_test = test[[\"ord_0\", \"ord_1\" , \"ord_2\" , \"ord_3\" , \"ord_4\" , \"ord_5\"]]"
   ]
  },
  {
   "cell_type": "code",
   "execution_count": 66,
   "metadata": {},
   "outputs": [
    {
     "data": {
      "text/plain": [
       "['Grandmaster', 'Expert', 'Novice', 'Contributor', 'Master']"
      ]
     },
     "execution_count": 66,
     "metadata": {},
     "output_type": "execute_result"
    }
   ],
   "source": [
    "train.ord_1.unique().tolist()"
   ]
  },
  {
   "cell_type": "code",
   "execution_count": 67,
   "metadata": {},
   "outputs": [],
   "source": [
    "enc_ord1 = OrdinalEncoder(categories=[['Novice', 'Contributor' , 'Expert' , 'Master' , 'Grandmaster']])"
   ]
  },
  {
   "cell_type": "code",
   "execution_count": 68,
   "metadata": {},
   "outputs": [
    {
     "data": {
      "text/plain": [
       "OrdinalEncoder(categories=[['Novice', 'Contributor', 'Expert', 'Master',\n",
       "                            'Grandmaster']])"
      ]
     },
     "execution_count": 68,
     "metadata": {},
     "output_type": "execute_result"
    }
   ],
   "source": [
    "enc_ord1.fit(train[[\"ord_1\"]])"
   ]
  },
  {
   "cell_type": "code",
   "execution_count": 69,
   "metadata": {},
   "outputs": [],
   "source": [
    "train[\"ord_1\"] = enc_ord1.transform(train[['ord_1']])"
   ]
  },
  {
   "cell_type": "code",
   "execution_count": 70,
   "metadata": {},
   "outputs": [],
   "source": [
    "enc_ord1.fit(test[[\"ord_1\"]])\n",
    "test[\"ord_1\"] = enc_ord1.transform(test[['ord_1']])"
   ]
  },
  {
   "cell_type": "code",
   "execution_count": 71,
   "metadata": {},
   "outputs": [
    {
     "data": {
      "text/plain": [
       "['Cold', 'Hot', 'Lava Hot', 'Boiling Hot', 'Freezing', 'Warm']"
      ]
     },
     "execution_count": 71,
     "metadata": {},
     "output_type": "execute_result"
    }
   ],
   "source": [
    "train.ord_2.unique().tolist()"
   ]
  },
  {
   "cell_type": "code",
   "execution_count": 72,
   "metadata": {},
   "outputs": [],
   "source": [
    "enc_ord2 = OrdinalEncoder(categories=[['Freezing', 'Cold' , 'Warm' , 'Hot' , 'Boiling Hot' , 'Lava Hot']])"
   ]
  },
  {
   "cell_type": "code",
   "execution_count": 73,
   "metadata": {},
   "outputs": [
    {
     "data": {
      "text/plain": [
       "OrdinalEncoder(categories=[['Freezing', 'Cold', 'Warm', 'Hot', 'Boiling Hot',\n",
       "                            'Lava Hot']])"
      ]
     },
     "execution_count": 73,
     "metadata": {},
     "output_type": "execute_result"
    }
   ],
   "source": [
    "enc_ord2.fit(train[[\"ord_2\"]])"
   ]
  },
  {
   "cell_type": "code",
   "execution_count": 74,
   "metadata": {},
   "outputs": [],
   "source": [
    "train[\"ord_2\"] = enc_ord2.transform(train[['ord_2']])"
   ]
  },
  {
   "cell_type": "code",
   "execution_count": 75,
   "metadata": {},
   "outputs": [],
   "source": [
    "enc_ord2.fit(test[[\"ord_2\"]])\n",
    "test[\"ord_2\"] = enc_ord2.transform(test[['ord_2']])"
   ]
  },
  {
   "cell_type": "code",
   "execution_count": 76,
   "metadata": {},
   "outputs": [],
   "source": [
    "enc_ord3 = OrdinalEncoder()"
   ]
  },
  {
   "cell_type": "code",
   "execution_count": 77,
   "metadata": {},
   "outputs": [
    {
     "data": {
      "text/plain": [
       "OrdinalEncoder()"
      ]
     },
     "execution_count": 77,
     "metadata": {},
     "output_type": "execute_result"
    }
   ],
   "source": [
    "enc_ord3.fit(train[['ord_3']])"
   ]
  },
  {
   "cell_type": "code",
   "execution_count": 78,
   "metadata": {},
   "outputs": [],
   "source": [
    "train['ord_3'] = enc_ord3.transform(train[['ord_3']])"
   ]
  },
  {
   "cell_type": "code",
   "execution_count": 79,
   "metadata": {},
   "outputs": [],
   "source": [
    "enc_ord3.fit(test[['ord_3']])\n",
    "test['ord_3'] = enc_ord3.transform(test[['ord_3']])"
   ]
  },
  {
   "cell_type": "code",
   "execution_count": 80,
   "metadata": {},
   "outputs": [],
   "source": [
    "enc_ord4 = OrdinalEncoder()"
   ]
  },
  {
   "cell_type": "code",
   "execution_count": 81,
   "metadata": {},
   "outputs": [
    {
     "data": {
      "text/plain": [
       "OrdinalEncoder()"
      ]
     },
     "execution_count": 81,
     "metadata": {},
     "output_type": "execute_result"
    }
   ],
   "source": [
    "enc_ord4.fit(train[['ord_4']])"
   ]
  },
  {
   "cell_type": "code",
   "execution_count": 82,
   "metadata": {},
   "outputs": [],
   "source": [
    "train['ord_4'] = enc_ord4.transform(train[['ord_4']])"
   ]
  },
  {
   "cell_type": "code",
   "execution_count": 83,
   "metadata": {},
   "outputs": [],
   "source": [
    "enc_ord4.fit(test[['ord_4']])\n",
    "test['ord_4'] = enc_ord4.transform(test[['ord_4']])"
   ]
  },
  {
   "cell_type": "code",
   "execution_count": 84,
   "metadata": {},
   "outputs": [],
   "source": [
    "enc_ord5 = OrdinalEncoder()"
   ]
  },
  {
   "cell_type": "code",
   "execution_count": 85,
   "metadata": {},
   "outputs": [
    {
     "data": {
      "text/plain": [
       "OrdinalEncoder()"
      ]
     },
     "execution_count": 85,
     "metadata": {},
     "output_type": "execute_result"
    }
   ],
   "source": [
    "enc_ord5.fit(train[['ord_5']])"
   ]
  },
  {
   "cell_type": "code",
   "execution_count": 86,
   "metadata": {},
   "outputs": [],
   "source": [
    "train['ord_5'] = enc_ord5.transform(train[['ord_5']])"
   ]
  },
  {
   "cell_type": "code",
   "execution_count": 87,
   "metadata": {},
   "outputs": [],
   "source": [
    "enc_ord5.fit(test[['ord_5']])\n",
    "test['ord_5'] = enc_ord5.transform(test[['ord_5']])"
   ]
  },
  {
   "cell_type": "code",
   "execution_count": 64,
   "metadata": {},
   "outputs": [],
   "source": [
    "train_new = pd.merge(train , nom_train_dummies, left_index=True, right_index=True)"
   ]
  },
  {
   "cell_type": "code",
   "execution_count": 65,
   "metadata": {},
   "outputs": [],
   "source": [
    "test_new = pd.merge(test , nom_test_dummies, left_index=True, right_index=True)"
   ]
  },
  {
   "cell_type": "code",
   "execution_count": 66,
   "metadata": {},
   "outputs": [
    {
     "data": {
      "text/html": [
       "<div>\n",
       "<style scoped>\n",
       "    .dataframe tbody tr th:only-of-type {\n",
       "        vertical-align: middle;\n",
       "    }\n",
       "\n",
       "    .dataframe tbody tr th {\n",
       "        vertical-align: top;\n",
       "    }\n",
       "\n",
       "    .dataframe thead th {\n",
       "        text-align: right;\n",
       "    }\n",
       "</style>\n",
       "<table border=\"1\" class=\"dataframe\">\n",
       "  <thead>\n",
       "    <tr style=\"text-align: right;\">\n",
       "      <th></th>\n",
       "      <th>id</th>\n",
       "      <th>bin_0</th>\n",
       "      <th>bin_1</th>\n",
       "      <th>bin_2</th>\n",
       "      <th>bin_3</th>\n",
       "      <th>bin_4</th>\n",
       "      <th>ord_0</th>\n",
       "      <th>ord_1</th>\n",
       "      <th>ord_2</th>\n",
       "      <th>ord_3</th>\n",
       "      <th>...</th>\n",
       "      <th>nom_7_fe7e29ba1</th>\n",
       "      <th>nom_7_fef807a3e</th>\n",
       "      <th>nom_7_ff1165b7a</th>\n",
       "      <th>nom_7_ff5b35098</th>\n",
       "      <th>nom_7_ff5db7584</th>\n",
       "      <th>nom_7_ff6b6817e</th>\n",
       "      <th>nom_7_ff8d529ff</th>\n",
       "      <th>nom_7_ffa3210ac</th>\n",
       "      <th>nom_7_ffe76496e</th>\n",
       "      <th>nom_7_ffec80a6a</th>\n",
       "    </tr>\n",
       "  </thead>\n",
       "  <tbody>\n",
       "    <tr>\n",
       "      <th>count</th>\n",
       "      <td>300000.000000</td>\n",
       "      <td>300000.000000</td>\n",
       "      <td>300000.000000</td>\n",
       "      <td>300000.000000</td>\n",
       "      <td>300000.000000</td>\n",
       "      <td>300000.000000</td>\n",
       "      <td>300000.000000</td>\n",
       "      <td>300000.000000</td>\n",
       "      <td>300000.000000</td>\n",
       "      <td>300000.000000</td>\n",
       "      <td>...</td>\n",
       "      <td>300000.000000</td>\n",
       "      <td>300000.00000</td>\n",
       "      <td>300000.000000</td>\n",
       "      <td>300000.000000</td>\n",
       "      <td>300000.000000</td>\n",
       "      <td>300000.00000</td>\n",
       "      <td>300000.000000</td>\n",
       "      <td>300000.000000</td>\n",
       "      <td>300000.000000</td>\n",
       "      <td>300000.000000</td>\n",
       "    </tr>\n",
       "    <tr>\n",
       "      <th>mean</th>\n",
       "      <td>149999.500000</td>\n",
       "      <td>0.127503</td>\n",
       "      <td>0.256607</td>\n",
       "      <td>0.383223</td>\n",
       "      <td>0.511783</td>\n",
       "      <td>0.638777</td>\n",
       "      <td>1.479567</td>\n",
       "      <td>1.622907</td>\n",
       "      <td>2.339350</td>\n",
       "      <td>6.609097</td>\n",
       "      <td>...</td>\n",
       "      <td>0.001563</td>\n",
       "      <td>0.00140</td>\n",
       "      <td>0.000943</td>\n",
       "      <td>0.001273</td>\n",
       "      <td>0.001087</td>\n",
       "      <td>0.00042</td>\n",
       "      <td>0.001247</td>\n",
       "      <td>0.001523</td>\n",
       "      <td>0.000610</td>\n",
       "      <td>0.001093</td>\n",
       "    </tr>\n",
       "    <tr>\n",
       "      <th>std</th>\n",
       "      <td>86602.684716</td>\n",
       "      <td>0.333537</td>\n",
       "      <td>0.436761</td>\n",
       "      <td>0.486173</td>\n",
       "      <td>0.499862</td>\n",
       "      <td>0.480356</td>\n",
       "      <td>0.712524</td>\n",
       "      <td>1.677608</td>\n",
       "      <td>2.031744</td>\n",
       "      <td>3.829374</td>\n",
       "      <td>...</td>\n",
       "      <td>0.039508</td>\n",
       "      <td>0.03739</td>\n",
       "      <td>0.030699</td>\n",
       "      <td>0.035661</td>\n",
       "      <td>0.032947</td>\n",
       "      <td>0.02049</td>\n",
       "      <td>0.035286</td>\n",
       "      <td>0.039000</td>\n",
       "      <td>0.024691</td>\n",
       "      <td>0.033048</td>\n",
       "    </tr>\n",
       "    <tr>\n",
       "      <th>min</th>\n",
       "      <td>0.000000</td>\n",
       "      <td>0.000000</td>\n",
       "      <td>0.000000</td>\n",
       "      <td>0.000000</td>\n",
       "      <td>0.000000</td>\n",
       "      <td>0.000000</td>\n",
       "      <td>1.000000</td>\n",
       "      <td>0.000000</td>\n",
       "      <td>0.000000</td>\n",
       "      <td>0.000000</td>\n",
       "      <td>...</td>\n",
       "      <td>0.000000</td>\n",
       "      <td>0.00000</td>\n",
       "      <td>0.000000</td>\n",
       "      <td>0.000000</td>\n",
       "      <td>0.000000</td>\n",
       "      <td>0.00000</td>\n",
       "      <td>0.000000</td>\n",
       "      <td>0.000000</td>\n",
       "      <td>0.000000</td>\n",
       "      <td>0.000000</td>\n",
       "    </tr>\n",
       "    <tr>\n",
       "      <th>25%</th>\n",
       "      <td>74999.750000</td>\n",
       "      <td>0.000000</td>\n",
       "      <td>0.000000</td>\n",
       "      <td>0.000000</td>\n",
       "      <td>0.000000</td>\n",
       "      <td>0.000000</td>\n",
       "      <td>1.000000</td>\n",
       "      <td>0.000000</td>\n",
       "      <td>0.000000</td>\n",
       "      <td>4.000000</td>\n",
       "      <td>...</td>\n",
       "      <td>0.000000</td>\n",
       "      <td>0.00000</td>\n",
       "      <td>0.000000</td>\n",
       "      <td>0.000000</td>\n",
       "      <td>0.000000</td>\n",
       "      <td>0.00000</td>\n",
       "      <td>0.000000</td>\n",
       "      <td>0.000000</td>\n",
       "      <td>0.000000</td>\n",
       "      <td>0.000000</td>\n",
       "    </tr>\n",
       "    <tr>\n",
       "      <th>50%</th>\n",
       "      <td>149999.500000</td>\n",
       "      <td>0.000000</td>\n",
       "      <td>0.000000</td>\n",
       "      <td>0.000000</td>\n",
       "      <td>1.000000</td>\n",
       "      <td>1.000000</td>\n",
       "      <td>1.000000</td>\n",
       "      <td>1.000000</td>\n",
       "      <td>2.000000</td>\n",
       "      <td>7.000000</td>\n",
       "      <td>...</td>\n",
       "      <td>0.000000</td>\n",
       "      <td>0.00000</td>\n",
       "      <td>0.000000</td>\n",
       "      <td>0.000000</td>\n",
       "      <td>0.000000</td>\n",
       "      <td>0.00000</td>\n",
       "      <td>0.000000</td>\n",
       "      <td>0.000000</td>\n",
       "      <td>0.000000</td>\n",
       "      <td>0.000000</td>\n",
       "    </tr>\n",
       "    <tr>\n",
       "      <th>75%</th>\n",
       "      <td>224999.250000</td>\n",
       "      <td>0.000000</td>\n",
       "      <td>1.000000</td>\n",
       "      <td>1.000000</td>\n",
       "      <td>1.000000</td>\n",
       "      <td>1.000000</td>\n",
       "      <td>2.000000</td>\n",
       "      <td>4.000000</td>\n",
       "      <td>4.000000</td>\n",
       "      <td>10.000000</td>\n",
       "      <td>...</td>\n",
       "      <td>0.000000</td>\n",
       "      <td>0.00000</td>\n",
       "      <td>0.000000</td>\n",
       "      <td>0.000000</td>\n",
       "      <td>0.000000</td>\n",
       "      <td>0.00000</td>\n",
       "      <td>0.000000</td>\n",
       "      <td>0.000000</td>\n",
       "      <td>0.000000</td>\n",
       "      <td>0.000000</td>\n",
       "    </tr>\n",
       "    <tr>\n",
       "      <th>max</th>\n",
       "      <td>299999.000000</td>\n",
       "      <td>1.000000</td>\n",
       "      <td>1.000000</td>\n",
       "      <td>1.000000</td>\n",
       "      <td>1.000000</td>\n",
       "      <td>1.000000</td>\n",
       "      <td>3.000000</td>\n",
       "      <td>4.000000</td>\n",
       "      <td>5.000000</td>\n",
       "      <td>14.000000</td>\n",
       "      <td>...</td>\n",
       "      <td>1.000000</td>\n",
       "      <td>1.00000</td>\n",
       "      <td>1.000000</td>\n",
       "      <td>1.000000</td>\n",
       "      <td>1.000000</td>\n",
       "      <td>1.00000</td>\n",
       "      <td>1.000000</td>\n",
       "      <td>1.000000</td>\n",
       "      <td>1.000000</td>\n",
       "      <td>1.000000</td>\n",
       "    </tr>\n",
       "  </tbody>\n",
       "</table>\n",
       "<p>8 rows × 2004 columns</p>\n",
       "</div>"
      ],
      "text/plain": [
       "                  id          bin_0          bin_1          bin_2  \\\n",
       "count  300000.000000  300000.000000  300000.000000  300000.000000   \n",
       "mean   149999.500000       0.127503       0.256607       0.383223   \n",
       "std     86602.684716       0.333537       0.436761       0.486173   \n",
       "min         0.000000       0.000000       0.000000       0.000000   \n",
       "25%     74999.750000       0.000000       0.000000       0.000000   \n",
       "50%    149999.500000       0.000000       0.000000       0.000000   \n",
       "75%    224999.250000       0.000000       1.000000       1.000000   \n",
       "max    299999.000000       1.000000       1.000000       1.000000   \n",
       "\n",
       "               bin_3          bin_4          ord_0          ord_1  \\\n",
       "count  300000.000000  300000.000000  300000.000000  300000.000000   \n",
       "mean        0.511783       0.638777       1.479567       1.622907   \n",
       "std         0.499862       0.480356       0.712524       1.677608   \n",
       "min         0.000000       0.000000       1.000000       0.000000   \n",
       "25%         0.000000       0.000000       1.000000       0.000000   \n",
       "50%         1.000000       1.000000       1.000000       1.000000   \n",
       "75%         1.000000       1.000000       2.000000       4.000000   \n",
       "max         1.000000       1.000000       3.000000       4.000000   \n",
       "\n",
       "               ord_2          ord_3  ...  nom_7_fe7e29ba1  nom_7_fef807a3e  \\\n",
       "count  300000.000000  300000.000000  ...    300000.000000     300000.00000   \n",
       "mean        2.339350       6.609097  ...         0.001563          0.00140   \n",
       "std         2.031744       3.829374  ...         0.039508          0.03739   \n",
       "min         0.000000       0.000000  ...         0.000000          0.00000   \n",
       "25%         0.000000       4.000000  ...         0.000000          0.00000   \n",
       "50%         2.000000       7.000000  ...         0.000000          0.00000   \n",
       "75%         4.000000      10.000000  ...         0.000000          0.00000   \n",
       "max         5.000000      14.000000  ...         1.000000          1.00000   \n",
       "\n",
       "       nom_7_ff1165b7a  nom_7_ff5b35098  nom_7_ff5db7584  nom_7_ff6b6817e  \\\n",
       "count    300000.000000    300000.000000    300000.000000     300000.00000   \n",
       "mean          0.000943         0.001273         0.001087          0.00042   \n",
       "std           0.030699         0.035661         0.032947          0.02049   \n",
       "min           0.000000         0.000000         0.000000          0.00000   \n",
       "25%           0.000000         0.000000         0.000000          0.00000   \n",
       "50%           0.000000         0.000000         0.000000          0.00000   \n",
       "75%           0.000000         0.000000         0.000000          0.00000   \n",
       "max           1.000000         1.000000         1.000000          1.00000   \n",
       "\n",
       "       nom_7_ff8d529ff  nom_7_ffa3210ac  nom_7_ffe76496e  nom_7_ffec80a6a  \n",
       "count    300000.000000    300000.000000    300000.000000    300000.000000  \n",
       "mean          0.001247         0.001523         0.000610         0.001093  \n",
       "std           0.035286         0.039000         0.024691         0.033048  \n",
       "min           0.000000         0.000000         0.000000         0.000000  \n",
       "25%           0.000000         0.000000         0.000000         0.000000  \n",
       "50%           0.000000         0.000000         0.000000         0.000000  \n",
       "75%           0.000000         0.000000         0.000000         0.000000  \n",
       "max           1.000000         1.000000         1.000000         1.000000  \n",
       "\n",
       "[8 rows x 2004 columns]"
      ]
     },
     "execution_count": 66,
     "metadata": {},
     "output_type": "execute_result"
    }
   ],
   "source": [
    "train_new.describe()"
   ]
  },
  {
   "cell_type": "code",
   "execution_count": 88,
   "metadata": {},
   "outputs": [],
   "source": [
    "train_new = pd.get_dummies(train)"
   ]
  },
  {
   "cell_type": "code",
   "execution_count": 89,
   "metadata": {},
   "outputs": [],
   "source": [
    "test_new = pd.get_dummies(test)"
   ]
  },
  {
   "cell_type": "code",
   "execution_count": 91,
   "metadata": {},
   "outputs": [
    {
     "data": {
      "text/html": [
       "<div>\n",
       "<style scoped>\n",
       "    .dataframe tbody tr th:only-of-type {\n",
       "        vertical-align: middle;\n",
       "    }\n",
       "\n",
       "    .dataframe tbody tr th {\n",
       "        vertical-align: top;\n",
       "    }\n",
       "\n",
       "    .dataframe thead th {\n",
       "        text-align: right;\n",
       "    }\n",
       "</style>\n",
       "<table border=\"1\" class=\"dataframe\">\n",
       "  <thead>\n",
       "    <tr style=\"text-align: right;\">\n",
       "      <th></th>\n",
       "      <th>id</th>\n",
       "      <th>bin_0</th>\n",
       "      <th>bin_1</th>\n",
       "      <th>bin_2</th>\n",
       "      <th>bin_3</th>\n",
       "      <th>bin_4</th>\n",
       "      <th>nom_5</th>\n",
       "      <th>nom_6</th>\n",
       "      <th>nom_7</th>\n",
       "      <th>nom_8</th>\n",
       "      <th>...</th>\n",
       "      <th>nom_3_Canada</th>\n",
       "      <th>nom_3_China</th>\n",
       "      <th>nom_3_Costa Rica</th>\n",
       "      <th>nom_3_Finland</th>\n",
       "      <th>nom_3_India</th>\n",
       "      <th>nom_3_Russia</th>\n",
       "      <th>nom_4_Bassoon</th>\n",
       "      <th>nom_4_Oboe</th>\n",
       "      <th>nom_4_Piano</th>\n",
       "      <th>nom_4_Theremin</th>\n",
       "    </tr>\n",
       "  </thead>\n",
       "  <tbody>\n",
       "    <tr>\n",
       "      <th>count</th>\n",
       "      <td>300000.000000</td>\n",
       "      <td>300000.000000</td>\n",
       "      <td>300000.000000</td>\n",
       "      <td>300000.000000</td>\n",
       "      <td>300000.000000</td>\n",
       "      <td>300000.000000</td>\n",
       "      <td>300000.000000</td>\n",
       "      <td>300000.000000</td>\n",
       "      <td>300000.000000</td>\n",
       "      <td>300000.000000</td>\n",
       "      <td>...</td>\n",
       "      <td>300000.000000</td>\n",
       "      <td>300000.00000</td>\n",
       "      <td>300000.000000</td>\n",
       "      <td>300000.000000</td>\n",
       "      <td>300000.000000</td>\n",
       "      <td>300000.000000</td>\n",
       "      <td>300000.000000</td>\n",
       "      <td>300000.000000</td>\n",
       "      <td>300000.000000</td>\n",
       "      <td>300000.000000</td>\n",
       "    </tr>\n",
       "    <tr>\n",
       "      <th>mean</th>\n",
       "      <td>149999.500000</td>\n",
       "      <td>0.127503</td>\n",
       "      <td>0.256607</td>\n",
       "      <td>0.383223</td>\n",
       "      <td>0.511783</td>\n",
       "      <td>0.638777</td>\n",
       "      <td>1855.179467</td>\n",
       "      <td>774.759680</td>\n",
       "      <td>327.896940</td>\n",
       "      <td>180.698707</td>\n",
       "      <td>...</td>\n",
       "      <td>0.166503</td>\n",
       "      <td>0.15348</td>\n",
       "      <td>0.119960</td>\n",
       "      <td>0.123140</td>\n",
       "      <td>0.099840</td>\n",
       "      <td>0.337077</td>\n",
       "      <td>0.228160</td>\n",
       "      <td>0.307643</td>\n",
       "      <td>0.281723</td>\n",
       "      <td>0.182473</td>\n",
       "    </tr>\n",
       "    <tr>\n",
       "      <th>std</th>\n",
       "      <td>86602.684716</td>\n",
       "      <td>0.333537</td>\n",
       "      <td>0.436761</td>\n",
       "      <td>0.486173</td>\n",
       "      <td>0.499862</td>\n",
       "      <td>0.480356</td>\n",
       "      <td>695.026777</td>\n",
       "      <td>280.681191</td>\n",
       "      <td>116.381587</td>\n",
       "      <td>64.628926</td>\n",
       "      <td>...</td>\n",
       "      <td>0.372532</td>\n",
       "      <td>0.36045</td>\n",
       "      <td>0.324915</td>\n",
       "      <td>0.328598</td>\n",
       "      <td>0.299787</td>\n",
       "      <td>0.472712</td>\n",
       "      <td>0.419647</td>\n",
       "      <td>0.461519</td>\n",
       "      <td>0.449840</td>\n",
       "      <td>0.386235</td>\n",
       "    </tr>\n",
       "    <tr>\n",
       "      <th>min</th>\n",
       "      <td>0.000000</td>\n",
       "      <td>0.000000</td>\n",
       "      <td>0.000000</td>\n",
       "      <td>0.000000</td>\n",
       "      <td>0.000000</td>\n",
       "      <td>0.000000</td>\n",
       "      <td>26.000000</td>\n",
       "      <td>5.000000</td>\n",
       "      <td>1.000000</td>\n",
       "      <td>1.000000</td>\n",
       "      <td>...</td>\n",
       "      <td>0.000000</td>\n",
       "      <td>0.00000</td>\n",
       "      <td>0.000000</td>\n",
       "      <td>0.000000</td>\n",
       "      <td>0.000000</td>\n",
       "      <td>0.000000</td>\n",
       "      <td>0.000000</td>\n",
       "      <td>0.000000</td>\n",
       "      <td>0.000000</td>\n",
       "      <td>0.000000</td>\n",
       "    </tr>\n",
       "    <tr>\n",
       "      <th>25%</th>\n",
       "      <td>74999.750000</td>\n",
       "      <td>0.000000</td>\n",
       "      <td>0.000000</td>\n",
       "      <td>0.000000</td>\n",
       "      <td>0.000000</td>\n",
       "      <td>0.000000</td>\n",
       "      <td>1358.000000</td>\n",
       "      <td>567.000000</td>\n",
       "      <td>242.000000</td>\n",
       "      <td>134.000000</td>\n",
       "      <td>...</td>\n",
       "      <td>0.000000</td>\n",
       "      <td>0.00000</td>\n",
       "      <td>0.000000</td>\n",
       "      <td>0.000000</td>\n",
       "      <td>0.000000</td>\n",
       "      <td>0.000000</td>\n",
       "      <td>0.000000</td>\n",
       "      <td>0.000000</td>\n",
       "      <td>0.000000</td>\n",
       "      <td>0.000000</td>\n",
       "    </tr>\n",
       "    <tr>\n",
       "      <th>50%</th>\n",
       "      <td>149999.500000</td>\n",
       "      <td>0.000000</td>\n",
       "      <td>0.000000</td>\n",
       "      <td>0.000000</td>\n",
       "      <td>1.000000</td>\n",
       "      <td>1.000000</td>\n",
       "      <td>1986.000000</td>\n",
       "      <td>825.000000</td>\n",
       "      <td>346.000000</td>\n",
       "      <td>191.000000</td>\n",
       "      <td>...</td>\n",
       "      <td>0.000000</td>\n",
       "      <td>0.00000</td>\n",
       "      <td>0.000000</td>\n",
       "      <td>0.000000</td>\n",
       "      <td>0.000000</td>\n",
       "      <td>0.000000</td>\n",
       "      <td>0.000000</td>\n",
       "      <td>0.000000</td>\n",
       "      <td>0.000000</td>\n",
       "      <td>0.000000</td>\n",
       "    </tr>\n",
       "    <tr>\n",
       "      <th>75%</th>\n",
       "      <td>224999.250000</td>\n",
       "      <td>0.000000</td>\n",
       "      <td>1.000000</td>\n",
       "      <td>1.000000</td>\n",
       "      <td>1.000000</td>\n",
       "      <td>1.000000</td>\n",
       "      <td>2477.000000</td>\n",
       "      <td>1009.000000</td>\n",
       "      <td>422.000000</td>\n",
       "      <td>233.000000</td>\n",
       "      <td>...</td>\n",
       "      <td>0.000000</td>\n",
       "      <td>0.00000</td>\n",
       "      <td>0.000000</td>\n",
       "      <td>0.000000</td>\n",
       "      <td>0.000000</td>\n",
       "      <td>1.000000</td>\n",
       "      <td>0.000000</td>\n",
       "      <td>1.000000</td>\n",
       "      <td>1.000000</td>\n",
       "      <td>0.000000</td>\n",
       "    </tr>\n",
       "    <tr>\n",
       "      <th>max</th>\n",
       "      <td>299999.000000</td>\n",
       "      <td>1.000000</td>\n",
       "      <td>1.000000</td>\n",
       "      <td>1.000000</td>\n",
       "      <td>1.000000</td>\n",
       "      <td>1.000000</td>\n",
       "      <td>2801.000000</td>\n",
       "      <td>1218.000000</td>\n",
       "      <td>534.000000</td>\n",
       "      <td>299.000000</td>\n",
       "      <td>...</td>\n",
       "      <td>1.000000</td>\n",
       "      <td>1.00000</td>\n",
       "      <td>1.000000</td>\n",
       "      <td>1.000000</td>\n",
       "      <td>1.000000</td>\n",
       "      <td>1.000000</td>\n",
       "      <td>1.000000</td>\n",
       "      <td>1.000000</td>\n",
       "      <td>1.000000</td>\n",
       "      <td>1.000000</td>\n",
       "    </tr>\n",
       "  </tbody>\n",
       "</table>\n",
       "<p>8 rows × 45 columns</p>\n",
       "</div>"
      ],
      "text/plain": [
       "                  id          bin_0          bin_1          bin_2  \\\n",
       "count  300000.000000  300000.000000  300000.000000  300000.000000   \n",
       "mean   149999.500000       0.127503       0.256607       0.383223   \n",
       "std     86602.684716       0.333537       0.436761       0.486173   \n",
       "min         0.000000       0.000000       0.000000       0.000000   \n",
       "25%     74999.750000       0.000000       0.000000       0.000000   \n",
       "50%    149999.500000       0.000000       0.000000       0.000000   \n",
       "75%    224999.250000       0.000000       1.000000       1.000000   \n",
       "max    299999.000000       1.000000       1.000000       1.000000   \n",
       "\n",
       "               bin_3          bin_4          nom_5          nom_6  \\\n",
       "count  300000.000000  300000.000000  300000.000000  300000.000000   \n",
       "mean        0.511783       0.638777    1855.179467     774.759680   \n",
       "std         0.499862       0.480356     695.026777     280.681191   \n",
       "min         0.000000       0.000000      26.000000       5.000000   \n",
       "25%         0.000000       0.000000    1358.000000     567.000000   \n",
       "50%         1.000000       1.000000    1986.000000     825.000000   \n",
       "75%         1.000000       1.000000    2477.000000    1009.000000   \n",
       "max         1.000000       1.000000    2801.000000    1218.000000   \n",
       "\n",
       "               nom_7          nom_8  ...   nom_3_Canada   nom_3_China  \\\n",
       "count  300000.000000  300000.000000  ...  300000.000000  300000.00000   \n",
       "mean      327.896940     180.698707  ...       0.166503       0.15348   \n",
       "std       116.381587      64.628926  ...       0.372532       0.36045   \n",
       "min         1.000000       1.000000  ...       0.000000       0.00000   \n",
       "25%       242.000000     134.000000  ...       0.000000       0.00000   \n",
       "50%       346.000000     191.000000  ...       0.000000       0.00000   \n",
       "75%       422.000000     233.000000  ...       0.000000       0.00000   \n",
       "max       534.000000     299.000000  ...       1.000000       1.00000   \n",
       "\n",
       "       nom_3_Costa Rica  nom_3_Finland    nom_3_India   nom_3_Russia  \\\n",
       "count     300000.000000  300000.000000  300000.000000  300000.000000   \n",
       "mean           0.119960       0.123140       0.099840       0.337077   \n",
       "std            0.324915       0.328598       0.299787       0.472712   \n",
       "min            0.000000       0.000000       0.000000       0.000000   \n",
       "25%            0.000000       0.000000       0.000000       0.000000   \n",
       "50%            0.000000       0.000000       0.000000       0.000000   \n",
       "75%            0.000000       0.000000       0.000000       1.000000   \n",
       "max            1.000000       1.000000       1.000000       1.000000   \n",
       "\n",
       "       nom_4_Bassoon     nom_4_Oboe    nom_4_Piano  nom_4_Theremin  \n",
       "count  300000.000000  300000.000000  300000.000000   300000.000000  \n",
       "mean        0.228160       0.307643       0.281723        0.182473  \n",
       "std         0.419647       0.461519       0.449840        0.386235  \n",
       "min         0.000000       0.000000       0.000000        0.000000  \n",
       "25%         0.000000       0.000000       0.000000        0.000000  \n",
       "50%         0.000000       0.000000       0.000000        0.000000  \n",
       "75%         0.000000       1.000000       1.000000        0.000000  \n",
       "max         1.000000       1.000000       1.000000        1.000000  \n",
       "\n",
       "[8 rows x 45 columns]"
      ]
     },
     "execution_count": 91,
     "metadata": {},
     "output_type": "execute_result"
    }
   ],
   "source": [
    "train_new.describe()"
   ]
  },
  {
   "cell_type": "code",
   "execution_count": 92,
   "metadata": {},
   "outputs": [],
   "source": [
    "x = train_new.drop(['id' , 'target'], axis = 'columns')"
   ]
  },
  {
   "cell_type": "code",
   "execution_count": 93,
   "metadata": {},
   "outputs": [],
   "source": [
    "y = train_new['target']"
   ]
  },
  {
   "cell_type": "code",
   "execution_count": 94,
   "metadata": {},
   "outputs": [
    {
     "data": {
      "text/plain": [
       "0    0\n",
       "1    0\n",
       "2    0\n",
       "3    1\n",
       "4    0\n",
       "Name: target, dtype: int64"
      ]
     },
     "execution_count": 94,
     "metadata": {},
     "output_type": "execute_result"
    }
   ],
   "source": [
    "y.head()"
   ]
  },
  {
   "cell_type": "code",
   "execution_count": 95,
   "metadata": {},
   "outputs": [
    {
     "data": {
      "text/html": [
       "<div>\n",
       "<style scoped>\n",
       "    .dataframe tbody tr th:only-of-type {\n",
       "        vertical-align: middle;\n",
       "    }\n",
       "\n",
       "    .dataframe tbody tr th {\n",
       "        vertical-align: top;\n",
       "    }\n",
       "\n",
       "    .dataframe thead th {\n",
       "        text-align: right;\n",
       "    }\n",
       "</style>\n",
       "<table border=\"1\" class=\"dataframe\">\n",
       "  <thead>\n",
       "    <tr style=\"text-align: right;\">\n",
       "      <th></th>\n",
       "      <th>bin_0</th>\n",
       "      <th>bin_1</th>\n",
       "      <th>bin_2</th>\n",
       "      <th>bin_3</th>\n",
       "      <th>bin_4</th>\n",
       "      <th>nom_5</th>\n",
       "      <th>nom_6</th>\n",
       "      <th>nom_7</th>\n",
       "      <th>nom_8</th>\n",
       "      <th>nom_9</th>\n",
       "      <th>...</th>\n",
       "      <th>nom_3_Canada</th>\n",
       "      <th>nom_3_China</th>\n",
       "      <th>nom_3_Costa Rica</th>\n",
       "      <th>nom_3_Finland</th>\n",
       "      <th>nom_3_India</th>\n",
       "      <th>nom_3_Russia</th>\n",
       "      <th>nom_4_Bassoon</th>\n",
       "      <th>nom_4_Oboe</th>\n",
       "      <th>nom_4_Piano</th>\n",
       "      <th>nom_4_Theremin</th>\n",
       "    </tr>\n",
       "  </thead>\n",
       "  <tbody>\n",
       "    <tr>\n",
       "      <th>0</th>\n",
       "      <td>0</td>\n",
       "      <td>0</td>\n",
       "      <td>0</td>\n",
       "      <td>1</td>\n",
       "      <td>1</td>\n",
       "      <td>2594</td>\n",
       "      <td>1148</td>\n",
       "      <td>241</td>\n",
       "      <td>271</td>\n",
       "      <td>19</td>\n",
       "      <td>...</td>\n",
       "      <td>0</td>\n",
       "      <td>0</td>\n",
       "      <td>0</td>\n",
       "      <td>1</td>\n",
       "      <td>0</td>\n",
       "      <td>0</td>\n",
       "      <td>1</td>\n",
       "      <td>0</td>\n",
       "      <td>0</td>\n",
       "      <td>0</td>\n",
       "    </tr>\n",
       "    <tr>\n",
       "      <th>1</th>\n",
       "      <td>0</td>\n",
       "      <td>1</td>\n",
       "      <td>0</td>\n",
       "      <td>1</td>\n",
       "      <td>1</td>\n",
       "      <td>792</td>\n",
       "      <td>842</td>\n",
       "      <td>287</td>\n",
       "      <td>111</td>\n",
       "      <td>13</td>\n",
       "      <td>...</td>\n",
       "      <td>0</td>\n",
       "      <td>0</td>\n",
       "      <td>0</td>\n",
       "      <td>0</td>\n",
       "      <td>0</td>\n",
       "      <td>1</td>\n",
       "      <td>0</td>\n",
       "      <td>0</td>\n",
       "      <td>1</td>\n",
       "      <td>0</td>\n",
       "    </tr>\n",
       "    <tr>\n",
       "      <th>2</th>\n",
       "      <td>0</td>\n",
       "      <td>0</td>\n",
       "      <td>0</td>\n",
       "      <td>0</td>\n",
       "      <td>1</td>\n",
       "      <td>2524</td>\n",
       "      <td>1169</td>\n",
       "      <td>475</td>\n",
       "      <td>278</td>\n",
       "      <td>29</td>\n",
       "      <td>...</td>\n",
       "      <td>0</td>\n",
       "      <td>0</td>\n",
       "      <td>0</td>\n",
       "      <td>0</td>\n",
       "      <td>0</td>\n",
       "      <td>1</td>\n",
       "      <td>0</td>\n",
       "      <td>0</td>\n",
       "      <td>0</td>\n",
       "      <td>1</td>\n",
       "    </tr>\n",
       "    <tr>\n",
       "      <th>3</th>\n",
       "      <td>0</td>\n",
       "      <td>1</td>\n",
       "      <td>0</td>\n",
       "      <td>0</td>\n",
       "      <td>1</td>\n",
       "      <td>975</td>\n",
       "      <td>1175</td>\n",
       "      <td>442</td>\n",
       "      <td>203</td>\n",
       "      <td>44</td>\n",
       "      <td>...</td>\n",
       "      <td>1</td>\n",
       "      <td>0</td>\n",
       "      <td>0</td>\n",
       "      <td>0</td>\n",
       "      <td>0</td>\n",
       "      <td>0</td>\n",
       "      <td>0</td>\n",
       "      <td>1</td>\n",
       "      <td>0</td>\n",
       "      <td>0</td>\n",
       "    </tr>\n",
       "    <tr>\n",
       "      <th>4</th>\n",
       "      <td>0</td>\n",
       "      <td>0</td>\n",
       "      <td>0</td>\n",
       "      <td>0</td>\n",
       "      <td>0</td>\n",
       "      <td>2010</td>\n",
       "      <td>1157</td>\n",
       "      <td>436</td>\n",
       "      <td>207</td>\n",
       "      <td>35</td>\n",
       "      <td>...</td>\n",
       "      <td>1</td>\n",
       "      <td>0</td>\n",
       "      <td>0</td>\n",
       "      <td>0</td>\n",
       "      <td>0</td>\n",
       "      <td>0</td>\n",
       "      <td>0</td>\n",
       "      <td>1</td>\n",
       "      <td>0</td>\n",
       "      <td>0</td>\n",
       "    </tr>\n",
       "  </tbody>\n",
       "</table>\n",
       "<p>5 rows × 43 columns</p>\n",
       "</div>"
      ],
      "text/plain": [
       "   bin_0  bin_1  bin_2  bin_3  bin_4  nom_5  nom_6  nom_7  nom_8  nom_9  ...  \\\n",
       "0      0      0      0      1      1   2594   1148    241    271     19  ...   \n",
       "1      0      1      0      1      1    792    842    287    111     13  ...   \n",
       "2      0      0      0      0      1   2524   1169    475    278     29  ...   \n",
       "3      0      1      0      0      1    975   1175    442    203     44  ...   \n",
       "4      0      0      0      0      0   2010   1157    436    207     35  ...   \n",
       "\n",
       "   nom_3_Canada  nom_3_China  nom_3_Costa Rica  nom_3_Finland  nom_3_India  \\\n",
       "0             0            0                 0              1            0   \n",
       "1             0            0                 0              0            0   \n",
       "2             0            0                 0              0            0   \n",
       "3             1            0                 0              0            0   \n",
       "4             1            0                 0              0            0   \n",
       "\n",
       "   nom_3_Russia  nom_4_Bassoon  nom_4_Oboe  nom_4_Piano  nom_4_Theremin  \n",
       "0             0              1           0            0               0  \n",
       "1             1              0           0            1               0  \n",
       "2             1              0           0            0               1  \n",
       "3             0              0           1            0               0  \n",
       "4             0              0           1            0               0  \n",
       "\n",
       "[5 rows x 43 columns]"
      ]
     },
     "execution_count": 95,
     "metadata": {},
     "output_type": "execute_result"
    }
   ],
   "source": [
    "x.head()"
   ]
  },
  {
   "cell_type": "code",
   "execution_count": 96,
   "metadata": {},
   "outputs": [],
   "source": [
    "model = LogisticRegression(solver='lbfgs',random_state=0 , max_iter=5000)"
   ]
  },
  {
   "cell_type": "code",
   "execution_count": 97,
   "metadata": {},
   "outputs": [
    {
     "data": {
      "text/plain": [
       "LogisticRegression(max_iter=5000, random_state=0)"
      ]
     },
     "execution_count": 97,
     "metadata": {},
     "output_type": "execute_result"
    }
   ],
   "source": [
    "model.fit(x,y)"
   ]
  },
  {
   "cell_type": "code",
   "execution_count": 75,
   "metadata": {},
   "outputs": [
    {
     "data": {
      "text/plain": [
       "array([0, 0, 0, ..., 0, 1, 0], dtype=int64)"
      ]
     },
     "execution_count": 75,
     "metadata": {},
     "output_type": "execute_result"
    }
   ],
   "source": [
    "model.predict(x)"
   ]
  },
  {
   "cell_type": "code",
   "execution_count": 98,
   "metadata": {},
   "outputs": [
    {
     "data": {
      "text/plain": [
       "0.74265"
      ]
     },
     "execution_count": 98,
     "metadata": {},
     "output_type": "execute_result"
    }
   ],
   "source": [
    "model.score(x,y)"
   ]
  },
  {
   "cell_type": "code",
   "execution_count": 99,
   "metadata": {},
   "outputs": [],
   "source": [
    "test_x = test_new.drop(['id'], axis = 'columns')\n",
    "ids = test_new['id']"
   ]
  },
  {
   "cell_type": "code",
   "execution_count": 100,
   "metadata": {},
   "outputs": [],
   "source": [
    "result = model.predict(test_x)"
   ]
  },
  {
   "cell_type": "code",
   "execution_count": 101,
   "metadata": {},
   "outputs": [],
   "source": [
    "result = pd.DataFrame(result, columns=['target'])"
   ]
  },
  {
   "cell_type": "code",
   "execution_count": 102,
   "metadata": {},
   "outputs": [
    {
     "data": {
      "text/html": [
       "<div>\n",
       "<style scoped>\n",
       "    .dataframe tbody tr th:only-of-type {\n",
       "        vertical-align: middle;\n",
       "    }\n",
       "\n",
       "    .dataframe tbody tr th {\n",
       "        vertical-align: top;\n",
       "    }\n",
       "\n",
       "    .dataframe thead th {\n",
       "        text-align: right;\n",
       "    }\n",
       "</style>\n",
       "<table border=\"1\" class=\"dataframe\">\n",
       "  <thead>\n",
       "    <tr style=\"text-align: right;\">\n",
       "      <th></th>\n",
       "      <th>id</th>\n",
       "      <th>target</th>\n",
       "    </tr>\n",
       "  </thead>\n",
       "  <tbody>\n",
       "    <tr>\n",
       "      <th>0</th>\n",
       "      <td>300000</td>\n",
       "      <td>0</td>\n",
       "    </tr>\n",
       "    <tr>\n",
       "      <th>1</th>\n",
       "      <td>300001</td>\n",
       "      <td>0</td>\n",
       "    </tr>\n",
       "    <tr>\n",
       "      <th>2</th>\n",
       "      <td>300002</td>\n",
       "      <td>0</td>\n",
       "    </tr>\n",
       "    <tr>\n",
       "      <th>3</th>\n",
       "      <td>300003</td>\n",
       "      <td>0</td>\n",
       "    </tr>\n",
       "    <tr>\n",
       "      <th>4</th>\n",
       "      <td>300004</td>\n",
       "      <td>1</td>\n",
       "    </tr>\n",
       "    <tr>\n",
       "      <th>...</th>\n",
       "      <td>...</td>\n",
       "      <td>...</td>\n",
       "    </tr>\n",
       "    <tr>\n",
       "      <th>199995</th>\n",
       "      <td>499995</td>\n",
       "      <td>0</td>\n",
       "    </tr>\n",
       "    <tr>\n",
       "      <th>199996</th>\n",
       "      <td>499996</td>\n",
       "      <td>0</td>\n",
       "    </tr>\n",
       "    <tr>\n",
       "      <th>199997</th>\n",
       "      <td>499997</td>\n",
       "      <td>0</td>\n",
       "    </tr>\n",
       "    <tr>\n",
       "      <th>199998</th>\n",
       "      <td>499998</td>\n",
       "      <td>0</td>\n",
       "    </tr>\n",
       "    <tr>\n",
       "      <th>199999</th>\n",
       "      <td>499999</td>\n",
       "      <td>0</td>\n",
       "    </tr>\n",
       "  </tbody>\n",
       "</table>\n",
       "<p>200000 rows × 2 columns</p>\n",
       "</div>"
      ],
      "text/plain": [
       "            id  target\n",
       "0       300000       0\n",
       "1       300001       0\n",
       "2       300002       0\n",
       "3       300003       0\n",
       "4       300004       1\n",
       "...        ...     ...\n",
       "199995  499995       0\n",
       "199996  499996       0\n",
       "199997  499997       0\n",
       "199998  499998       0\n",
       "199999  499999       0\n",
       "\n",
       "[200000 rows x 2 columns]"
      ]
     },
     "execution_count": 102,
     "metadata": {},
     "output_type": "execute_result"
    }
   ],
   "source": [
    "result1 = pd.merge(ids, result, left_index=True, right_index=True)\n",
    "result1"
   ]
  },
  {
   "cell_type": "code",
   "execution_count": 103,
   "metadata": {},
   "outputs": [],
   "source": [
    "result1.to_csv('./data/submission.csv', index=False)"
   ]
  },
  {
   "attachments": {},
   "cell_type": "markdown",
   "metadata": {},
   "source": [
    "#RandomForrestClassifier"
   ]
  },
  {
   "cell_type": "code",
   "execution_count": 104,
   "metadata": {},
   "outputs": [],
   "source": [
    "mod1 = RandomForestClassifier(n_estimators=1000,\n",
    " criterion = \"gini\",random_state=42, n_jobs = -1 )"
   ]
  },
  {
   "cell_type": "code",
   "execution_count": 105,
   "metadata": {},
   "outputs": [
    {
     "data": {
      "text/plain": [
       "RandomForestClassifier(n_estimators=1000, n_jobs=-1, random_state=42)"
      ]
     },
     "execution_count": 105,
     "metadata": {},
     "output_type": "execute_result"
    }
   ],
   "source": [
    "mod1.fit(x,y)"
   ]
  },
  {
   "cell_type": "code",
   "execution_count": 107,
   "metadata": {},
   "outputs": [],
   "source": [
    "result = mod1.predict(test_x)"
   ]
  },
  {
   "cell_type": "code",
   "execution_count": 106,
   "metadata": {},
   "outputs": [
    {
     "data": {
      "text/plain": [
       "1.0"
      ]
     },
     "execution_count": 106,
     "metadata": {},
     "output_type": "execute_result"
    }
   ],
   "source": [
    "mod1.score(x,y)"
   ]
  },
  {
   "cell_type": "code",
   "execution_count": 108,
   "metadata": {},
   "outputs": [],
   "source": [
    "result = pd.DataFrame(result, columns=['target'])"
   ]
  },
  {
   "cell_type": "code",
   "execution_count": 109,
   "metadata": {},
   "outputs": [
    {
     "data": {
      "text/html": [
       "<div>\n",
       "<style scoped>\n",
       "    .dataframe tbody tr th:only-of-type {\n",
       "        vertical-align: middle;\n",
       "    }\n",
       "\n",
       "    .dataframe tbody tr th {\n",
       "        vertical-align: top;\n",
       "    }\n",
       "\n",
       "    .dataframe thead th {\n",
       "        text-align: right;\n",
       "    }\n",
       "</style>\n",
       "<table border=\"1\" class=\"dataframe\">\n",
       "  <thead>\n",
       "    <tr style=\"text-align: right;\">\n",
       "      <th></th>\n",
       "      <th>id</th>\n",
       "      <th>target</th>\n",
       "    </tr>\n",
       "  </thead>\n",
       "  <tbody>\n",
       "    <tr>\n",
       "      <th>0</th>\n",
       "      <td>300000</td>\n",
       "      <td>0</td>\n",
       "    </tr>\n",
       "    <tr>\n",
       "      <th>1</th>\n",
       "      <td>300001</td>\n",
       "      <td>0</td>\n",
       "    </tr>\n",
       "    <tr>\n",
       "      <th>2</th>\n",
       "      <td>300002</td>\n",
       "      <td>0</td>\n",
       "    </tr>\n",
       "    <tr>\n",
       "      <th>3</th>\n",
       "      <td>300003</td>\n",
       "      <td>0</td>\n",
       "    </tr>\n",
       "    <tr>\n",
       "      <th>4</th>\n",
       "      <td>300004</td>\n",
       "      <td>1</td>\n",
       "    </tr>\n",
       "    <tr>\n",
       "      <th>...</th>\n",
       "      <td>...</td>\n",
       "      <td>...</td>\n",
       "    </tr>\n",
       "    <tr>\n",
       "      <th>199995</th>\n",
       "      <td>499995</td>\n",
       "      <td>0</td>\n",
       "    </tr>\n",
       "    <tr>\n",
       "      <th>199996</th>\n",
       "      <td>499996</td>\n",
       "      <td>0</td>\n",
       "    </tr>\n",
       "    <tr>\n",
       "      <th>199997</th>\n",
       "      <td>499997</td>\n",
       "      <td>0</td>\n",
       "    </tr>\n",
       "    <tr>\n",
       "      <th>199998</th>\n",
       "      <td>499998</td>\n",
       "      <td>0</td>\n",
       "    </tr>\n",
       "    <tr>\n",
       "      <th>199999</th>\n",
       "      <td>499999</td>\n",
       "      <td>0</td>\n",
       "    </tr>\n",
       "  </tbody>\n",
       "</table>\n",
       "<p>200000 rows × 2 columns</p>\n",
       "</div>"
      ],
      "text/plain": [
       "            id  target\n",
       "0       300000       0\n",
       "1       300001       0\n",
       "2       300002       0\n",
       "3       300003       0\n",
       "4       300004       1\n",
       "...        ...     ...\n",
       "199995  499995       0\n",
       "199996  499996       0\n",
       "199997  499997       0\n",
       "199998  499998       0\n",
       "199999  499999       0\n",
       "\n",
       "[200000 rows x 2 columns]"
      ]
     },
     "execution_count": 109,
     "metadata": {},
     "output_type": "execute_result"
    }
   ],
   "source": [
    "result1 = pd.merge(ids, result, left_index=True, right_index=True)\n",
    "result1"
   ]
  },
  {
   "cell_type": "code",
   "execution_count": 110,
   "metadata": {},
   "outputs": [],
   "source": [
    "\n",
    "result1.to_csv('./data/submission_RF.csv', index=False)"
   ]
  }
 ],
 "metadata": {
  "kernelspec": {
   "display_name": "base",
   "language": "python",
   "name": "python3"
  },
  "language_info": {
   "codemirror_mode": {
    "name": "ipython",
    "version": 3
   },
   "file_extension": ".py",
   "mimetype": "text/x-python",
   "name": "python",
   "nbconvert_exporter": "python",
   "pygments_lexer": "ipython3",
   "version": "3.9.15 (main, Nov 24 2022, 14:39:17) [MSC v.1916 64 bit (AMD64)]"
  },
  "orig_nbformat": 4,
  "vscode": {
   "interpreter": {
    "hash": "7497a13003811730c0c84960e2001d2d4749441de9d551a5070987f9a6bc4334"
   }
  }
 },
 "nbformat": 4,
 "nbformat_minor": 2
}
